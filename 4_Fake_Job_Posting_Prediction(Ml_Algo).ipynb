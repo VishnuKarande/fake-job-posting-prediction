{
  "nbformat": 4,
  "nbformat_minor": 0,
  "metadata": {
    "colab": {
      "provenance": [],
      "collapsed_sections": []
    },
    "kernelspec": {
      "name": "python3",
      "display_name": "Python 3"
    },
    "language_info": {
      "name": "python"
    }
  },
  "cells": [
    {
      "cell_type": "markdown",
      "source": [
        "\n",
        "## Import the necessary libraries"
      ],
      "metadata": {
        "id": "dBnOYzJwYfuU"
      }
    },
    {
      "cell_type": "code",
      "source": [
        "import pandas as pd\n",
        "import os\n",
        "import matplotlib.pyplot as plt\n",
        "import numpy as np\n",
        "import seaborn as sns\n",
        "import nltk\n",
        "from nltk.corpus import stopwords\n",
        "from sklearn.metrics import *\n",
        "from sklearn import preprocessing\n",
        "from sklearn import metrics\n",
        "from sklearn.linear_model import LogisticRegression\n",
        "from sklearn.svm import SVC\n",
        "from sklearn.neighbors import KNeighborsClassifier\n",
        "from sklearn.tree import DecisionTreeClassifier\n",
        "from sklearn.naive_bayes import GaussianNB\n",
        "from sklearn.ensemble import RandomForestClassifier \n",
        "from sklearn.model_selection import train_test_split\n",
        "import re #do regex operations\n",
        "from wordcloud import WordCloud,STOPWORDS \n",
        "from sklearn.preprocessing import LabelEncoder\n",
        "\n",
        "#Visualize\n",
        "import seaborn as sns\n",
        "import matplotlib.pyplot as plt\n",
        "from wordcloud import WordCloud,STOPWORDS\n",
        "#\n",
        "# metrics\n",
        "from sklearn.metrics import accuracy_score, confusion_matrix, classification_report\n",
        "from sklearn.metrics import f1_score, precision_score, recall_score\n",
        "\n",
        "# models\n",
        "from sklearn.svm import SVC\n",
        "import time"
      ],
      "metadata": {
        "id": "eGtzZ8hX75Qw"
      },
      "execution_count": null,
      "outputs": []
    },
    {
      "cell_type": "markdown",
      "source": [
        "### loading The Dataset"
      ],
      "metadata": {
        "id": "Mw4ALngrYpWr"
      }
    },
    {
      "cell_type": "code",
      "source": [
        "#LOADING THE DATASET\n",
        "df1 = pd.read_csv(\"/content/fake_job_postings.csv\")\n",
        "df1.head()"
      ],
      "metadata": {
        "colab": {
          "base_uri": "https://localhost:8080/",
          "height": 600
        },
        "id": "Vflwi_gb9o6h",
        "outputId": "8c199deb-fdb9-4495-a904-823d69b1cd13"
      },
      "execution_count": null,
      "outputs": [
        {
          "output_type": "execute_result",
          "data": {
            "text/plain": [
              "   job_id                                      title            location  \\\n",
              "0       1                           Marketing Intern    US, NY, New York   \n",
              "1       2  Customer Service - Cloud Video Production      NZ, , Auckland   \n",
              "2       3    Commissioning Machinery Assistant (CMA)       US, IA, Wever   \n",
              "3       4          Account Executive - Washington DC  US, DC, Washington   \n",
              "4       5                        Bill Review Manager  US, FL, Fort Worth   \n",
              "\n",
              "  department salary_range                                    company_profile  \\\n",
              "0  Marketing          NaN  We're Food52, and we've created a groundbreaki...   \n",
              "1    Success          NaN  90 Seconds, the worlds Cloud Video Production ...   \n",
              "2        NaN          NaN  Valor Services provides Workforce Solutions th...   \n",
              "3      Sales          NaN  Our passion for improving quality of life thro...   \n",
              "4        NaN          NaN  SpotSource Solutions LLC is a Global Human Cap...   \n",
              "\n",
              "                                         description  \\\n",
              "0  Food52, a fast-growing, James Beard Award-winn...   \n",
              "1  Organised - Focused - Vibrant - Awesome!Do you...   \n",
              "2  Our client, located in Houston, is actively se...   \n",
              "3  THE COMPANY: ESRI – Environmental Systems Rese...   \n",
              "4  JOB TITLE: Itemization Review ManagerLOCATION:...   \n",
              "\n",
              "                                        requirements  \\\n",
              "0  Experience with content management systems a m...   \n",
              "1  What we expect from you:Your key responsibilit...   \n",
              "2  Implement pre-commissioning and commissioning ...   \n",
              "3  EDUCATION: Bachelor’s or Master’s in GIS, busi...   \n",
              "4  QUALIFICATIONS:RN license in the State of Texa...   \n",
              "\n",
              "                                            benefits  telecommuting  \\\n",
              "0                                                NaN              0   \n",
              "1  What you will get from usThrough being part of...              0   \n",
              "2                                                NaN              0   \n",
              "3  Our culture is anything but corporate—we have ...              0   \n",
              "4                              Full Benefits Offered              0   \n",
              "\n",
              "   has_company_logo  has_questions employment_type required_experience  \\\n",
              "0                 1              0           Other          Internship   \n",
              "1                 1              0       Full-time      Not Applicable   \n",
              "2                 1              0             NaN                 NaN   \n",
              "3                 1              0       Full-time    Mid-Senior level   \n",
              "4                 1              1       Full-time    Mid-Senior level   \n",
              "\n",
              "  required_education                   industry              function  \\\n",
              "0                NaN                        NaN             Marketing   \n",
              "1                NaN  Marketing and Advertising      Customer Service   \n",
              "2                NaN                        NaN                   NaN   \n",
              "3  Bachelor's Degree          Computer Software                 Sales   \n",
              "4  Bachelor's Degree     Hospital & Health Care  Health Care Provider   \n",
              "\n",
              "   fraudulent  \n",
              "0           0  \n",
              "1           0  \n",
              "2           0  \n",
              "3           0  \n",
              "4           0  "
            ],
            "text/html": [
              "\n",
              "  <div id=\"df-60365a4b-8d10-4090-8e92-ae1bb7ff13a7\">\n",
              "    <div class=\"colab-df-container\">\n",
              "      <div>\n",
              "<style scoped>\n",
              "    .dataframe tbody tr th:only-of-type {\n",
              "        vertical-align: middle;\n",
              "    }\n",
              "\n",
              "    .dataframe tbody tr th {\n",
              "        vertical-align: top;\n",
              "    }\n",
              "\n",
              "    .dataframe thead th {\n",
              "        text-align: right;\n",
              "    }\n",
              "</style>\n",
              "<table border=\"1\" class=\"dataframe\">\n",
              "  <thead>\n",
              "    <tr style=\"text-align: right;\">\n",
              "      <th></th>\n",
              "      <th>job_id</th>\n",
              "      <th>title</th>\n",
              "      <th>location</th>\n",
              "      <th>department</th>\n",
              "      <th>salary_range</th>\n",
              "      <th>company_profile</th>\n",
              "      <th>description</th>\n",
              "      <th>requirements</th>\n",
              "      <th>benefits</th>\n",
              "      <th>telecommuting</th>\n",
              "      <th>has_company_logo</th>\n",
              "      <th>has_questions</th>\n",
              "      <th>employment_type</th>\n",
              "      <th>required_experience</th>\n",
              "      <th>required_education</th>\n",
              "      <th>industry</th>\n",
              "      <th>function</th>\n",
              "      <th>fraudulent</th>\n",
              "    </tr>\n",
              "  </thead>\n",
              "  <tbody>\n",
              "    <tr>\n",
              "      <th>0</th>\n",
              "      <td>1</td>\n",
              "      <td>Marketing Intern</td>\n",
              "      <td>US, NY, New York</td>\n",
              "      <td>Marketing</td>\n",
              "      <td>NaN</td>\n",
              "      <td>We're Food52, and we've created a groundbreaki...</td>\n",
              "      <td>Food52, a fast-growing, James Beard Award-winn...</td>\n",
              "      <td>Experience with content management systems a m...</td>\n",
              "      <td>NaN</td>\n",
              "      <td>0</td>\n",
              "      <td>1</td>\n",
              "      <td>0</td>\n",
              "      <td>Other</td>\n",
              "      <td>Internship</td>\n",
              "      <td>NaN</td>\n",
              "      <td>NaN</td>\n",
              "      <td>Marketing</td>\n",
              "      <td>0</td>\n",
              "    </tr>\n",
              "    <tr>\n",
              "      <th>1</th>\n",
              "      <td>2</td>\n",
              "      <td>Customer Service - Cloud Video Production</td>\n",
              "      <td>NZ, , Auckland</td>\n",
              "      <td>Success</td>\n",
              "      <td>NaN</td>\n",
              "      <td>90 Seconds, the worlds Cloud Video Production ...</td>\n",
              "      <td>Organised - Focused - Vibrant - Awesome!Do you...</td>\n",
              "      <td>What we expect from you:Your key responsibilit...</td>\n",
              "      <td>What you will get from usThrough being part of...</td>\n",
              "      <td>0</td>\n",
              "      <td>1</td>\n",
              "      <td>0</td>\n",
              "      <td>Full-time</td>\n",
              "      <td>Not Applicable</td>\n",
              "      <td>NaN</td>\n",
              "      <td>Marketing and Advertising</td>\n",
              "      <td>Customer Service</td>\n",
              "      <td>0</td>\n",
              "    </tr>\n",
              "    <tr>\n",
              "      <th>2</th>\n",
              "      <td>3</td>\n",
              "      <td>Commissioning Machinery Assistant (CMA)</td>\n",
              "      <td>US, IA, Wever</td>\n",
              "      <td>NaN</td>\n",
              "      <td>NaN</td>\n",
              "      <td>Valor Services provides Workforce Solutions th...</td>\n",
              "      <td>Our client, located in Houston, is actively se...</td>\n",
              "      <td>Implement pre-commissioning and commissioning ...</td>\n",
              "      <td>NaN</td>\n",
              "      <td>0</td>\n",
              "      <td>1</td>\n",
              "      <td>0</td>\n",
              "      <td>NaN</td>\n",
              "      <td>NaN</td>\n",
              "      <td>NaN</td>\n",
              "      <td>NaN</td>\n",
              "      <td>NaN</td>\n",
              "      <td>0</td>\n",
              "    </tr>\n",
              "    <tr>\n",
              "      <th>3</th>\n",
              "      <td>4</td>\n",
              "      <td>Account Executive - Washington DC</td>\n",
              "      <td>US, DC, Washington</td>\n",
              "      <td>Sales</td>\n",
              "      <td>NaN</td>\n",
              "      <td>Our passion for improving quality of life thro...</td>\n",
              "      <td>THE COMPANY: ESRI – Environmental Systems Rese...</td>\n",
              "      <td>EDUCATION: Bachelor’s or Master’s in GIS, busi...</td>\n",
              "      <td>Our culture is anything but corporate—we have ...</td>\n",
              "      <td>0</td>\n",
              "      <td>1</td>\n",
              "      <td>0</td>\n",
              "      <td>Full-time</td>\n",
              "      <td>Mid-Senior level</td>\n",
              "      <td>Bachelor's Degree</td>\n",
              "      <td>Computer Software</td>\n",
              "      <td>Sales</td>\n",
              "      <td>0</td>\n",
              "    </tr>\n",
              "    <tr>\n",
              "      <th>4</th>\n",
              "      <td>5</td>\n",
              "      <td>Bill Review Manager</td>\n",
              "      <td>US, FL, Fort Worth</td>\n",
              "      <td>NaN</td>\n",
              "      <td>NaN</td>\n",
              "      <td>SpotSource Solutions LLC is a Global Human Cap...</td>\n",
              "      <td>JOB TITLE: Itemization Review ManagerLOCATION:...</td>\n",
              "      <td>QUALIFICATIONS:RN license in the State of Texa...</td>\n",
              "      <td>Full Benefits Offered</td>\n",
              "      <td>0</td>\n",
              "      <td>1</td>\n",
              "      <td>1</td>\n",
              "      <td>Full-time</td>\n",
              "      <td>Mid-Senior level</td>\n",
              "      <td>Bachelor's Degree</td>\n",
              "      <td>Hospital &amp; Health Care</td>\n",
              "      <td>Health Care Provider</td>\n",
              "      <td>0</td>\n",
              "    </tr>\n",
              "  </tbody>\n",
              "</table>\n",
              "</div>\n",
              "      <button class=\"colab-df-convert\" onclick=\"convertToInteractive('df-60365a4b-8d10-4090-8e92-ae1bb7ff13a7')\"\n",
              "              title=\"Convert this dataframe to an interactive table.\"\n",
              "              style=\"display:none;\">\n",
              "        \n",
              "  <svg xmlns=\"http://www.w3.org/2000/svg\" height=\"24px\"viewBox=\"0 0 24 24\"\n",
              "       width=\"24px\">\n",
              "    <path d=\"M0 0h24v24H0V0z\" fill=\"none\"/>\n",
              "    <path d=\"M18.56 5.44l.94 2.06.94-2.06 2.06-.94-2.06-.94-.94-2.06-.94 2.06-2.06.94zm-11 1L8.5 8.5l.94-2.06 2.06-.94-2.06-.94L8.5 2.5l-.94 2.06-2.06.94zm10 10l.94 2.06.94-2.06 2.06-.94-2.06-.94-.94-2.06-.94 2.06-2.06.94z\"/><path d=\"M17.41 7.96l-1.37-1.37c-.4-.4-.92-.59-1.43-.59-.52 0-1.04.2-1.43.59L10.3 9.45l-7.72 7.72c-.78.78-.78 2.05 0 2.83L4 21.41c.39.39.9.59 1.41.59.51 0 1.02-.2 1.41-.59l7.78-7.78 2.81-2.81c.8-.78.8-2.07 0-2.86zM5.41 20L4 18.59l7.72-7.72 1.47 1.35L5.41 20z\"/>\n",
              "  </svg>\n",
              "      </button>\n",
              "      \n",
              "  <style>\n",
              "    .colab-df-container {\n",
              "      display:flex;\n",
              "      flex-wrap:wrap;\n",
              "      gap: 12px;\n",
              "    }\n",
              "\n",
              "    .colab-df-convert {\n",
              "      background-color: #E8F0FE;\n",
              "      border: none;\n",
              "      border-radius: 50%;\n",
              "      cursor: pointer;\n",
              "      display: none;\n",
              "      fill: #1967D2;\n",
              "      height: 32px;\n",
              "      padding: 0 0 0 0;\n",
              "      width: 32px;\n",
              "    }\n",
              "\n",
              "    .colab-df-convert:hover {\n",
              "      background-color: #E2EBFA;\n",
              "      box-shadow: 0px 1px 2px rgba(60, 64, 67, 0.3), 0px 1px 3px 1px rgba(60, 64, 67, 0.15);\n",
              "      fill: #174EA6;\n",
              "    }\n",
              "\n",
              "    [theme=dark] .colab-df-convert {\n",
              "      background-color: #3B4455;\n",
              "      fill: #D2E3FC;\n",
              "    }\n",
              "\n",
              "    [theme=dark] .colab-df-convert:hover {\n",
              "      background-color: #434B5C;\n",
              "      box-shadow: 0px 1px 3px 1px rgba(0, 0, 0, 0.15);\n",
              "      filter: drop-shadow(0px 1px 2px rgba(0, 0, 0, 0.3));\n",
              "      fill: #FFFFFF;\n",
              "    }\n",
              "  </style>\n",
              "\n",
              "      <script>\n",
              "        const buttonEl =\n",
              "          document.querySelector('#df-60365a4b-8d10-4090-8e92-ae1bb7ff13a7 button.colab-df-convert');\n",
              "        buttonEl.style.display =\n",
              "          google.colab.kernel.accessAllowed ? 'block' : 'none';\n",
              "\n",
              "        async function convertToInteractive(key) {\n",
              "          const element = document.querySelector('#df-60365a4b-8d10-4090-8e92-ae1bb7ff13a7');\n",
              "          const dataTable =\n",
              "            await google.colab.kernel.invokeFunction('convertToInteractive',\n",
              "                                                     [key], {});\n",
              "          if (!dataTable) return;\n",
              "\n",
              "          const docLinkHtml = 'Like what you see? Visit the ' +\n",
              "            '<a target=\"_blank\" href=https://colab.research.google.com/notebooks/data_table.ipynb>data table notebook</a>'\n",
              "            + ' to learn more about interactive tables.';\n",
              "          element.innerHTML = '';\n",
              "          dataTable['output_type'] = 'display_data';\n",
              "          await google.colab.output.renderOutput(dataTable, element);\n",
              "          const docLink = document.createElement('div');\n",
              "          docLink.innerHTML = docLinkHtml;\n",
              "          element.appendChild(docLink);\n",
              "        }\n",
              "      </script>\n",
              "    </div>\n",
              "  </div>\n",
              "  "
            ]
          },
          "metadata": {},
          "execution_count": 17
        }
      ]
    },
    {
      "cell_type": "markdown",
      "source": [
        "##Check All informetion about Dataset"
      ],
      "metadata": {
        "id": "0H4hZEsgY2P7"
      }
    },
    {
      "cell_type": "code",
      "source": [
        "df1.dtypes"
      ],
      "metadata": {
        "colab": {
          "base_uri": "https://localhost:8080/"
        },
        "id": "I7o_kguQAvzE",
        "outputId": "978bb789-72ff-4070-ccf2-9210eedf012d"
      },
      "execution_count": null,
      "outputs": [
        {
          "output_type": "execute_result",
          "data": {
            "text/plain": [
              "job_id                  int64\n",
              "title                  object\n",
              "location               object\n",
              "department             object\n",
              "salary_range           object\n",
              "company_profile        object\n",
              "description            object\n",
              "requirements           object\n",
              "benefits               object\n",
              "telecommuting           int64\n",
              "has_company_logo        int64\n",
              "has_questions           int64\n",
              "employment_type        object\n",
              "required_experience    object\n",
              "required_education     object\n",
              "industry               object\n",
              "function               object\n",
              "fraudulent              int64\n",
              "dtype: object"
            ]
          },
          "metadata": {},
          "execution_count": 21
        }
      ]
    },
    {
      "cell_type": "code",
      "source": [
        "df1.shape"
      ],
      "metadata": {
        "colab": {
          "base_uri": "https://localhost:8080/"
        },
        "id": "osNAOcKuITxc",
        "outputId": "fa260ec5-2274-4b0e-f629-14f1e9bd6be0"
      },
      "execution_count": null,
      "outputs": [
        {
          "output_type": "execute_result",
          "data": {
            "text/plain": [
              "(17880, 18)"
            ]
          },
          "metadata": {},
          "execution_count": 24
        }
      ]
    },
    {
      "cell_type": "code",
      "source": [
        "# Check for NaN values in the data\n",
        "df1.isnull().sum().sort_values(ascending = False).loc[df1.dtypes == 'object']\n"
      ],
      "metadata": {
        "colab": {
          "base_uri": "https://localhost:8080/"
        },
        "id": "bMbIlzWwIZ3P",
        "outputId": "6f17bc11-98ea-4bc1-d9db-b746b65c16f8"
      },
      "execution_count": null,
      "outputs": [
        {
          "output_type": "execute_result",
          "data": {
            "text/plain": [
              "salary_range           15012\n",
              "department             11547\n",
              "required_education      8105\n",
              "benefits                7210\n",
              "required_experience     7050\n",
              "function                6455\n",
              "industry                4903\n",
              "employment_type         3471\n",
              "company_profile         3308\n",
              "requirements            2695\n",
              "location                 346\n",
              "description                1\n",
              "title                      0\n",
              "dtype: int64"
            ]
          },
          "metadata": {},
          "execution_count": 26
        }
      ]
    },
    {
      "cell_type": "code",
      "source": [
        "# Replace NaN values with a blank entry\n",
        "df1.fillna('', inplace = True)"
      ],
      "metadata": {
        "id": "_COu-guWIhaM"
      },
      "execution_count": null,
      "outputs": []
    },
    {
      "cell_type": "markdown",
      "source": [
        "# Check null Values"
      ],
      "metadata": {
        "id": "JUoW_rrqZA2A"
      }
    },
    {
      "cell_type": "code",
      "source": [
        "# Check for NaN values in the data\n",
        "df1.isnull().sum().sort_values(ascending = False).loc[df1.dtypes == 'object']\n"
      ],
      "metadata": {
        "colab": {
          "base_uri": "https://localhost:8080/"
        },
        "id": "RCpYsyTwIp9u",
        "outputId": "75663e7f-dd56-446a-a015-77df8fce3b92"
      },
      "execution_count": null,
      "outputs": [
        {
          "output_type": "execute_result",
          "data": {
            "text/plain": [
              "title                  0\n",
              "function               0\n",
              "industry               0\n",
              "required_education     0\n",
              "required_experience    0\n",
              "employment_type        0\n",
              "benefits               0\n",
              "requirements           0\n",
              "description            0\n",
              "company_profile        0\n",
              "salary_range           0\n",
              "department             0\n",
              "location               0\n",
              "dtype: int64"
            ]
          },
          "metadata": {},
          "execution_count": 29
        }
      ]
    },
    {
      "cell_type": "markdown",
      "source": [
        "##### Demo"
      ],
      "metadata": {
        "id": "ogvGO75LZJSc"
      }
    },
    {
      "cell_type": "code",
      "source": [
        "A=df1['description'][0]"
      ],
      "metadata": {
        "id": "IC6UBzIcIveH"
      },
      "execution_count": null,
      "outputs": []
    },
    {
      "cell_type": "code",
      "source": [
        "B=df1['requirements'][0]"
      ],
      "metadata": {
        "id": "JPgT3XfFJL9i"
      },
      "execution_count": null,
      "outputs": []
    },
    {
      "cell_type": "code",
      "source": [
        "A+''+str(print(\"---\"))+B"
      ],
      "metadata": {
        "colab": {
          "base_uri": "https://localhost:8080/",
          "height": 209
        },
        "id": "z3sIZUrnJRqk",
        "outputId": "1aff3a3c-74a3-488f-905b-790fe57d1eac"
      },
      "execution_count": null,
      "outputs": [
        {
          "output_type": "stream",
          "name": "stdout",
          "text": [
            "---\n"
          ]
        },
        {
          "output_type": "execute_result",
          "data": {
            "text/plain": [
              "'Food52, a fast-growing, James Beard Award-winning online food community and crowd-sourced and curated recipe hub, is currently interviewing full- and part-time unpaid interns to work in a small team of editors, executives, and developers in its New York City headquarters.Reproducing and/or repackaging existing Food52 content for a number of partner sites, such as Huffington Post, Yahoo, Buzzfeed, and more in their various content management systemsResearching blogs and websites for the Provisions by Food52 Affiliate ProgramAssisting in day-to-day affiliate program support, such as screening affiliates and assisting in any affiliate inquiriesSupporting with PR &amp; Events when neededHelping with office administrative work, such as filing, mailing, and preparing for meetingsWorking with developers to document bugs and suggest improvements to the siteSupporting the marketing and executive staffNoneExperience with content management systems a major plus (any blogging counts!)Familiar with the Food52 editorial voice and aestheticLoves food, appreciates the importance of home cooking and cooking with the seasonsMeticulous editor, perfectionist, obsessive attention to detail, maddened by typos and broken links, delighted by finding and fixing themCheerful under pressureExcellent communication skillsA+ multi-tasker and juggler of responsibilities big and smallInterested in and engaged with social media like Twitter, Facebook, and PinterestLoves problem-solving and collaborating to drive Food52 forwardThinks big picture but pitches in on the nitty gritty of running a small company (dishes, shopping, administrative support)Comfortable with the realities of working for a startup: being on call on evenings and weekends, and working long hours'"
            ],
            "application/vnd.google.colaboratory.intrinsic+json": {
              "type": "string"
            }
          },
          "metadata": {},
          "execution_count": 44
        }
      ]
    },
    {
      "cell_type": "code",
      "source": [
        "JobPostDF_Final = df1.copy()\n",
        "JobPostDF_Final.head()"
      ],
      "metadata": {
        "colab": {
          "base_uri": "https://localhost:8080/",
          "height": 600
        },
        "id": "GAdJY-TRJguG",
        "outputId": "c551dae1-0869-4285-ca0a-405cbd2900f1"
      },
      "execution_count": null,
      "outputs": [
        {
          "output_type": "execute_result",
          "data": {
            "text/plain": [
              "   job_id                                      title            location  \\\n",
              "0       1                           Marketing Intern    US, NY, New York   \n",
              "1       2  Customer Service - Cloud Video Production      NZ, , Auckland   \n",
              "2       3    Commissioning Machinery Assistant (CMA)       US, IA, Wever   \n",
              "3       4          Account Executive - Washington DC  US, DC, Washington   \n",
              "4       5                        Bill Review Manager  US, FL, Fort Worth   \n",
              "\n",
              "  department salary_range                                    company_profile  \\\n",
              "0  Marketing               We're Food52, and we've created a groundbreaki...   \n",
              "1    Success               90 Seconds, the worlds Cloud Video Production ...   \n",
              "2                          Valor Services provides Workforce Solutions th...   \n",
              "3      Sales               Our passion for improving quality of life thro...   \n",
              "4                          SpotSource Solutions LLC is a Global Human Cap...   \n",
              "\n",
              "                                         description  \\\n",
              "0  Food52, a fast-growing, James Beard Award-winn...   \n",
              "1  Organised - Focused - Vibrant - Awesome!Do you...   \n",
              "2  Our client, located in Houston, is actively se...   \n",
              "3  THE COMPANY: ESRI – Environmental Systems Rese...   \n",
              "4  JOB TITLE: Itemization Review ManagerLOCATION:...   \n",
              "\n",
              "                                        requirements  \\\n",
              "0  Experience with content management systems a m...   \n",
              "1  What we expect from you:Your key responsibilit...   \n",
              "2  Implement pre-commissioning and commissioning ...   \n",
              "3  EDUCATION: Bachelor’s or Master’s in GIS, busi...   \n",
              "4  QUALIFICATIONS:RN license in the State of Texa...   \n",
              "\n",
              "                                            benefits  telecommuting  \\\n",
              "0                                                                 0   \n",
              "1  What you will get from usThrough being part of...              0   \n",
              "2                                                                 0   \n",
              "3  Our culture is anything but corporate—we have ...              0   \n",
              "4                              Full Benefits Offered              0   \n",
              "\n",
              "   has_company_logo  has_questions employment_type required_experience  \\\n",
              "0                 1              0           Other          Internship   \n",
              "1                 1              0       Full-time      Not Applicable   \n",
              "2                 1              0                                       \n",
              "3                 1              0       Full-time    Mid-Senior level   \n",
              "4                 1              1       Full-time    Mid-Senior level   \n",
              "\n",
              "  required_education                   industry              function  \\\n",
              "0                                                           Marketing   \n",
              "1                     Marketing and Advertising      Customer Service   \n",
              "2                                                                       \n",
              "3  Bachelor's Degree          Computer Software                 Sales   \n",
              "4  Bachelor's Degree     Hospital & Health Care  Health Care Provider   \n",
              "\n",
              "   fraudulent  \n",
              "0           0  \n",
              "1           0  \n",
              "2           0  \n",
              "3           0  \n",
              "4           0  "
            ],
            "text/html": [
              "\n",
              "  <div id=\"df-5686d741-e839-41e0-81e1-5e1da050e677\">\n",
              "    <div class=\"colab-df-container\">\n",
              "      <div>\n",
              "<style scoped>\n",
              "    .dataframe tbody tr th:only-of-type {\n",
              "        vertical-align: middle;\n",
              "    }\n",
              "\n",
              "    .dataframe tbody tr th {\n",
              "        vertical-align: top;\n",
              "    }\n",
              "\n",
              "    .dataframe thead th {\n",
              "        text-align: right;\n",
              "    }\n",
              "</style>\n",
              "<table border=\"1\" class=\"dataframe\">\n",
              "  <thead>\n",
              "    <tr style=\"text-align: right;\">\n",
              "      <th></th>\n",
              "      <th>job_id</th>\n",
              "      <th>title</th>\n",
              "      <th>location</th>\n",
              "      <th>department</th>\n",
              "      <th>salary_range</th>\n",
              "      <th>company_profile</th>\n",
              "      <th>description</th>\n",
              "      <th>requirements</th>\n",
              "      <th>benefits</th>\n",
              "      <th>telecommuting</th>\n",
              "      <th>has_company_logo</th>\n",
              "      <th>has_questions</th>\n",
              "      <th>employment_type</th>\n",
              "      <th>required_experience</th>\n",
              "      <th>required_education</th>\n",
              "      <th>industry</th>\n",
              "      <th>function</th>\n",
              "      <th>fraudulent</th>\n",
              "    </tr>\n",
              "  </thead>\n",
              "  <tbody>\n",
              "    <tr>\n",
              "      <th>0</th>\n",
              "      <td>1</td>\n",
              "      <td>Marketing Intern</td>\n",
              "      <td>US, NY, New York</td>\n",
              "      <td>Marketing</td>\n",
              "      <td></td>\n",
              "      <td>We're Food52, and we've created a groundbreaki...</td>\n",
              "      <td>Food52, a fast-growing, James Beard Award-winn...</td>\n",
              "      <td>Experience with content management systems a m...</td>\n",
              "      <td></td>\n",
              "      <td>0</td>\n",
              "      <td>1</td>\n",
              "      <td>0</td>\n",
              "      <td>Other</td>\n",
              "      <td>Internship</td>\n",
              "      <td></td>\n",
              "      <td></td>\n",
              "      <td>Marketing</td>\n",
              "      <td>0</td>\n",
              "    </tr>\n",
              "    <tr>\n",
              "      <th>1</th>\n",
              "      <td>2</td>\n",
              "      <td>Customer Service - Cloud Video Production</td>\n",
              "      <td>NZ, , Auckland</td>\n",
              "      <td>Success</td>\n",
              "      <td></td>\n",
              "      <td>90 Seconds, the worlds Cloud Video Production ...</td>\n",
              "      <td>Organised - Focused - Vibrant - Awesome!Do you...</td>\n",
              "      <td>What we expect from you:Your key responsibilit...</td>\n",
              "      <td>What you will get from usThrough being part of...</td>\n",
              "      <td>0</td>\n",
              "      <td>1</td>\n",
              "      <td>0</td>\n",
              "      <td>Full-time</td>\n",
              "      <td>Not Applicable</td>\n",
              "      <td></td>\n",
              "      <td>Marketing and Advertising</td>\n",
              "      <td>Customer Service</td>\n",
              "      <td>0</td>\n",
              "    </tr>\n",
              "    <tr>\n",
              "      <th>2</th>\n",
              "      <td>3</td>\n",
              "      <td>Commissioning Machinery Assistant (CMA)</td>\n",
              "      <td>US, IA, Wever</td>\n",
              "      <td></td>\n",
              "      <td></td>\n",
              "      <td>Valor Services provides Workforce Solutions th...</td>\n",
              "      <td>Our client, located in Houston, is actively se...</td>\n",
              "      <td>Implement pre-commissioning and commissioning ...</td>\n",
              "      <td></td>\n",
              "      <td>0</td>\n",
              "      <td>1</td>\n",
              "      <td>0</td>\n",
              "      <td></td>\n",
              "      <td></td>\n",
              "      <td></td>\n",
              "      <td></td>\n",
              "      <td></td>\n",
              "      <td>0</td>\n",
              "    </tr>\n",
              "    <tr>\n",
              "      <th>3</th>\n",
              "      <td>4</td>\n",
              "      <td>Account Executive - Washington DC</td>\n",
              "      <td>US, DC, Washington</td>\n",
              "      <td>Sales</td>\n",
              "      <td></td>\n",
              "      <td>Our passion for improving quality of life thro...</td>\n",
              "      <td>THE COMPANY: ESRI – Environmental Systems Rese...</td>\n",
              "      <td>EDUCATION: Bachelor’s or Master’s in GIS, busi...</td>\n",
              "      <td>Our culture is anything but corporate—we have ...</td>\n",
              "      <td>0</td>\n",
              "      <td>1</td>\n",
              "      <td>0</td>\n",
              "      <td>Full-time</td>\n",
              "      <td>Mid-Senior level</td>\n",
              "      <td>Bachelor's Degree</td>\n",
              "      <td>Computer Software</td>\n",
              "      <td>Sales</td>\n",
              "      <td>0</td>\n",
              "    </tr>\n",
              "    <tr>\n",
              "      <th>4</th>\n",
              "      <td>5</td>\n",
              "      <td>Bill Review Manager</td>\n",
              "      <td>US, FL, Fort Worth</td>\n",
              "      <td></td>\n",
              "      <td></td>\n",
              "      <td>SpotSource Solutions LLC is a Global Human Cap...</td>\n",
              "      <td>JOB TITLE: Itemization Review ManagerLOCATION:...</td>\n",
              "      <td>QUALIFICATIONS:RN license in the State of Texa...</td>\n",
              "      <td>Full Benefits Offered</td>\n",
              "      <td>0</td>\n",
              "      <td>1</td>\n",
              "      <td>1</td>\n",
              "      <td>Full-time</td>\n",
              "      <td>Mid-Senior level</td>\n",
              "      <td>Bachelor's Degree</td>\n",
              "      <td>Hospital &amp; Health Care</td>\n",
              "      <td>Health Care Provider</td>\n",
              "      <td>0</td>\n",
              "    </tr>\n",
              "  </tbody>\n",
              "</table>\n",
              "</div>\n",
              "      <button class=\"colab-df-convert\" onclick=\"convertToInteractive('df-5686d741-e839-41e0-81e1-5e1da050e677')\"\n",
              "              title=\"Convert this dataframe to an interactive table.\"\n",
              "              style=\"display:none;\">\n",
              "        \n",
              "  <svg xmlns=\"http://www.w3.org/2000/svg\" height=\"24px\"viewBox=\"0 0 24 24\"\n",
              "       width=\"24px\">\n",
              "    <path d=\"M0 0h24v24H0V0z\" fill=\"none\"/>\n",
              "    <path d=\"M18.56 5.44l.94 2.06.94-2.06 2.06-.94-2.06-.94-.94-2.06-.94 2.06-2.06.94zm-11 1L8.5 8.5l.94-2.06 2.06-.94-2.06-.94L8.5 2.5l-.94 2.06-2.06.94zm10 10l.94 2.06.94-2.06 2.06-.94-2.06-.94-.94-2.06-.94 2.06-2.06.94z\"/><path d=\"M17.41 7.96l-1.37-1.37c-.4-.4-.92-.59-1.43-.59-.52 0-1.04.2-1.43.59L10.3 9.45l-7.72 7.72c-.78.78-.78 2.05 0 2.83L4 21.41c.39.39.9.59 1.41.59.51 0 1.02-.2 1.41-.59l7.78-7.78 2.81-2.81c.8-.78.8-2.07 0-2.86zM5.41 20L4 18.59l7.72-7.72 1.47 1.35L5.41 20z\"/>\n",
              "  </svg>\n",
              "      </button>\n",
              "      \n",
              "  <style>\n",
              "    .colab-df-container {\n",
              "      display:flex;\n",
              "      flex-wrap:wrap;\n",
              "      gap: 12px;\n",
              "    }\n",
              "\n",
              "    .colab-df-convert {\n",
              "      background-color: #E8F0FE;\n",
              "      border: none;\n",
              "      border-radius: 50%;\n",
              "      cursor: pointer;\n",
              "      display: none;\n",
              "      fill: #1967D2;\n",
              "      height: 32px;\n",
              "      padding: 0 0 0 0;\n",
              "      width: 32px;\n",
              "    }\n",
              "\n",
              "    .colab-df-convert:hover {\n",
              "      background-color: #E2EBFA;\n",
              "      box-shadow: 0px 1px 2px rgba(60, 64, 67, 0.3), 0px 1px 3px 1px rgba(60, 64, 67, 0.15);\n",
              "      fill: #174EA6;\n",
              "    }\n",
              "\n",
              "    [theme=dark] .colab-df-convert {\n",
              "      background-color: #3B4455;\n",
              "      fill: #D2E3FC;\n",
              "    }\n",
              "\n",
              "    [theme=dark] .colab-df-convert:hover {\n",
              "      background-color: #434B5C;\n",
              "      box-shadow: 0px 1px 3px 1px rgba(0, 0, 0, 0.15);\n",
              "      filter: drop-shadow(0px 1px 2px rgba(0, 0, 0, 0.3));\n",
              "      fill: #FFFFFF;\n",
              "    }\n",
              "  </style>\n",
              "\n",
              "      <script>\n",
              "        const buttonEl =\n",
              "          document.querySelector('#df-5686d741-e839-41e0-81e1-5e1da050e677 button.colab-df-convert');\n",
              "        buttonEl.style.display =\n",
              "          google.colab.kernel.accessAllowed ? 'block' : 'none';\n",
              "\n",
              "        async function convertToInteractive(key) {\n",
              "          const element = document.querySelector('#df-5686d741-e839-41e0-81e1-5e1da050e677');\n",
              "          const dataTable =\n",
              "            await google.colab.kernel.invokeFunction('convertToInteractive',\n",
              "                                                     [key], {});\n",
              "          if (!dataTable) return;\n",
              "\n",
              "          const docLinkHtml = 'Like what you see? Visit the ' +\n",
              "            '<a target=\"_blank\" href=https://colab.research.google.com/notebooks/data_table.ipynb>data table notebook</a>'\n",
              "            + ' to learn more about interactive tables.';\n",
              "          element.innerHTML = '';\n",
              "          dataTable['output_type'] = 'display_data';\n",
              "          await google.colab.output.renderOutput(dataTable, element);\n",
              "          const docLink = document.createElement('div');\n",
              "          docLink.innerHTML = docLinkHtml;\n",
              "          element.appendChild(docLink);\n",
              "        }\n",
              "      </script>\n",
              "    </div>\n",
              "  </div>\n",
              "  "
            ]
          },
          "metadata": {},
          "execution_count": 46
        }
      ]
    },
    {
      "cell_type": "code",
      "source": [
        "JobPostDF_Final['text-corpus'] = JobPostDF_Final['description'] + ' ' + JobPostDF_Final['requirements']\n",
        "JobPostDF_Final.head()"
      ],
      "metadata": {
        "colab": {
          "base_uri": "https://localhost:8080/",
          "height": 600
        },
        "id": "Ob9Lan-XKSbP",
        "outputId": "66daa49b-54d9-48c7-a63e-210bd63c24fe"
      },
      "execution_count": null,
      "outputs": [
        {
          "output_type": "execute_result",
          "data": {
            "text/plain": [
              "   job_id                                      title            location  \\\n",
              "0       1                           Marketing Intern    US, NY, New York   \n",
              "1       2  Customer Service - Cloud Video Production      NZ, , Auckland   \n",
              "2       3    Commissioning Machinery Assistant (CMA)       US, IA, Wever   \n",
              "3       4          Account Executive - Washington DC  US, DC, Washington   \n",
              "4       5                        Bill Review Manager  US, FL, Fort Worth   \n",
              "\n",
              "  department salary_range                                    company_profile  \\\n",
              "0  Marketing               We're Food52, and we've created a groundbreaki...   \n",
              "1    Success               90 Seconds, the worlds Cloud Video Production ...   \n",
              "2                          Valor Services provides Workforce Solutions th...   \n",
              "3      Sales               Our passion for improving quality of life thro...   \n",
              "4                          SpotSource Solutions LLC is a Global Human Cap...   \n",
              "\n",
              "                                         description  \\\n",
              "0  Food52, a fast-growing, James Beard Award-winn...   \n",
              "1  Organised - Focused - Vibrant - Awesome!Do you...   \n",
              "2  Our client, located in Houston, is actively se...   \n",
              "3  THE COMPANY: ESRI – Environmental Systems Rese...   \n",
              "4  JOB TITLE: Itemization Review ManagerLOCATION:...   \n",
              "\n",
              "                                        requirements  \\\n",
              "0  Experience with content management systems a m...   \n",
              "1  What we expect from you:Your key responsibilit...   \n",
              "2  Implement pre-commissioning and commissioning ...   \n",
              "3  EDUCATION: Bachelor’s or Master’s in GIS, busi...   \n",
              "4  QUALIFICATIONS:RN license in the State of Texa...   \n",
              "\n",
              "                                            benefits  telecommuting  \\\n",
              "0                                                                 0   \n",
              "1  What you will get from usThrough being part of...              0   \n",
              "2                                                                 0   \n",
              "3  Our culture is anything but corporate—we have ...              0   \n",
              "4                              Full Benefits Offered              0   \n",
              "\n",
              "   has_company_logo  has_questions employment_type required_experience  \\\n",
              "0                 1              0           Other          Internship   \n",
              "1                 1              0       Full-time      Not Applicable   \n",
              "2                 1              0                                       \n",
              "3                 1              0       Full-time    Mid-Senior level   \n",
              "4                 1              1       Full-time    Mid-Senior level   \n",
              "\n",
              "  required_education                   industry              function  \\\n",
              "0                                                           Marketing   \n",
              "1                     Marketing and Advertising      Customer Service   \n",
              "2                                                                       \n",
              "3  Bachelor's Degree          Computer Software                 Sales   \n",
              "4  Bachelor's Degree     Hospital & Health Care  Health Care Provider   \n",
              "\n",
              "   fraudulent                                        text-corpus  \n",
              "0           0  Food52, a fast-growing, James Beard Award-winn...  \n",
              "1           0  Organised - Focused - Vibrant - Awesome!Do you...  \n",
              "2           0  Our client, located in Houston, is actively se...  \n",
              "3           0  THE COMPANY: ESRI – Environmental Systems Rese...  \n",
              "4           0  JOB TITLE: Itemization Review ManagerLOCATION:...  "
            ],
            "text/html": [
              "\n",
              "  <div id=\"df-eecebe35-627a-4455-b095-0bb8135a3ddc\">\n",
              "    <div class=\"colab-df-container\">\n",
              "      <div>\n",
              "<style scoped>\n",
              "    .dataframe tbody tr th:only-of-type {\n",
              "        vertical-align: middle;\n",
              "    }\n",
              "\n",
              "    .dataframe tbody tr th {\n",
              "        vertical-align: top;\n",
              "    }\n",
              "\n",
              "    .dataframe thead th {\n",
              "        text-align: right;\n",
              "    }\n",
              "</style>\n",
              "<table border=\"1\" class=\"dataframe\">\n",
              "  <thead>\n",
              "    <tr style=\"text-align: right;\">\n",
              "      <th></th>\n",
              "      <th>job_id</th>\n",
              "      <th>title</th>\n",
              "      <th>location</th>\n",
              "      <th>department</th>\n",
              "      <th>salary_range</th>\n",
              "      <th>company_profile</th>\n",
              "      <th>description</th>\n",
              "      <th>requirements</th>\n",
              "      <th>benefits</th>\n",
              "      <th>telecommuting</th>\n",
              "      <th>has_company_logo</th>\n",
              "      <th>has_questions</th>\n",
              "      <th>employment_type</th>\n",
              "      <th>required_experience</th>\n",
              "      <th>required_education</th>\n",
              "      <th>industry</th>\n",
              "      <th>function</th>\n",
              "      <th>fraudulent</th>\n",
              "      <th>text-corpus</th>\n",
              "    </tr>\n",
              "  </thead>\n",
              "  <tbody>\n",
              "    <tr>\n",
              "      <th>0</th>\n",
              "      <td>1</td>\n",
              "      <td>Marketing Intern</td>\n",
              "      <td>US, NY, New York</td>\n",
              "      <td>Marketing</td>\n",
              "      <td></td>\n",
              "      <td>We're Food52, and we've created a groundbreaki...</td>\n",
              "      <td>Food52, a fast-growing, James Beard Award-winn...</td>\n",
              "      <td>Experience with content management systems a m...</td>\n",
              "      <td></td>\n",
              "      <td>0</td>\n",
              "      <td>1</td>\n",
              "      <td>0</td>\n",
              "      <td>Other</td>\n",
              "      <td>Internship</td>\n",
              "      <td></td>\n",
              "      <td></td>\n",
              "      <td>Marketing</td>\n",
              "      <td>0</td>\n",
              "      <td>Food52, a fast-growing, James Beard Award-winn...</td>\n",
              "    </tr>\n",
              "    <tr>\n",
              "      <th>1</th>\n",
              "      <td>2</td>\n",
              "      <td>Customer Service - Cloud Video Production</td>\n",
              "      <td>NZ, , Auckland</td>\n",
              "      <td>Success</td>\n",
              "      <td></td>\n",
              "      <td>90 Seconds, the worlds Cloud Video Production ...</td>\n",
              "      <td>Organised - Focused - Vibrant - Awesome!Do you...</td>\n",
              "      <td>What we expect from you:Your key responsibilit...</td>\n",
              "      <td>What you will get from usThrough being part of...</td>\n",
              "      <td>0</td>\n",
              "      <td>1</td>\n",
              "      <td>0</td>\n",
              "      <td>Full-time</td>\n",
              "      <td>Not Applicable</td>\n",
              "      <td></td>\n",
              "      <td>Marketing and Advertising</td>\n",
              "      <td>Customer Service</td>\n",
              "      <td>0</td>\n",
              "      <td>Organised - Focused - Vibrant - Awesome!Do you...</td>\n",
              "    </tr>\n",
              "    <tr>\n",
              "      <th>2</th>\n",
              "      <td>3</td>\n",
              "      <td>Commissioning Machinery Assistant (CMA)</td>\n",
              "      <td>US, IA, Wever</td>\n",
              "      <td></td>\n",
              "      <td></td>\n",
              "      <td>Valor Services provides Workforce Solutions th...</td>\n",
              "      <td>Our client, located in Houston, is actively se...</td>\n",
              "      <td>Implement pre-commissioning and commissioning ...</td>\n",
              "      <td></td>\n",
              "      <td>0</td>\n",
              "      <td>1</td>\n",
              "      <td>0</td>\n",
              "      <td></td>\n",
              "      <td></td>\n",
              "      <td></td>\n",
              "      <td></td>\n",
              "      <td></td>\n",
              "      <td>0</td>\n",
              "      <td>Our client, located in Houston, is actively se...</td>\n",
              "    </tr>\n",
              "    <tr>\n",
              "      <th>3</th>\n",
              "      <td>4</td>\n",
              "      <td>Account Executive - Washington DC</td>\n",
              "      <td>US, DC, Washington</td>\n",
              "      <td>Sales</td>\n",
              "      <td></td>\n",
              "      <td>Our passion for improving quality of life thro...</td>\n",
              "      <td>THE COMPANY: ESRI – Environmental Systems Rese...</td>\n",
              "      <td>EDUCATION: Bachelor’s or Master’s in GIS, busi...</td>\n",
              "      <td>Our culture is anything but corporate—we have ...</td>\n",
              "      <td>0</td>\n",
              "      <td>1</td>\n",
              "      <td>0</td>\n",
              "      <td>Full-time</td>\n",
              "      <td>Mid-Senior level</td>\n",
              "      <td>Bachelor's Degree</td>\n",
              "      <td>Computer Software</td>\n",
              "      <td>Sales</td>\n",
              "      <td>0</td>\n",
              "      <td>THE COMPANY: ESRI – Environmental Systems Rese...</td>\n",
              "    </tr>\n",
              "    <tr>\n",
              "      <th>4</th>\n",
              "      <td>5</td>\n",
              "      <td>Bill Review Manager</td>\n",
              "      <td>US, FL, Fort Worth</td>\n",
              "      <td></td>\n",
              "      <td></td>\n",
              "      <td>SpotSource Solutions LLC is a Global Human Cap...</td>\n",
              "      <td>JOB TITLE: Itemization Review ManagerLOCATION:...</td>\n",
              "      <td>QUALIFICATIONS:RN license in the State of Texa...</td>\n",
              "      <td>Full Benefits Offered</td>\n",
              "      <td>0</td>\n",
              "      <td>1</td>\n",
              "      <td>1</td>\n",
              "      <td>Full-time</td>\n",
              "      <td>Mid-Senior level</td>\n",
              "      <td>Bachelor's Degree</td>\n",
              "      <td>Hospital &amp; Health Care</td>\n",
              "      <td>Health Care Provider</td>\n",
              "      <td>0</td>\n",
              "      <td>JOB TITLE: Itemization Review ManagerLOCATION:...</td>\n",
              "    </tr>\n",
              "  </tbody>\n",
              "</table>\n",
              "</div>\n",
              "      <button class=\"colab-df-convert\" onclick=\"convertToInteractive('df-eecebe35-627a-4455-b095-0bb8135a3ddc')\"\n",
              "              title=\"Convert this dataframe to an interactive table.\"\n",
              "              style=\"display:none;\">\n",
              "        \n",
              "  <svg xmlns=\"http://www.w3.org/2000/svg\" height=\"24px\"viewBox=\"0 0 24 24\"\n",
              "       width=\"24px\">\n",
              "    <path d=\"M0 0h24v24H0V0z\" fill=\"none\"/>\n",
              "    <path d=\"M18.56 5.44l.94 2.06.94-2.06 2.06-.94-2.06-.94-.94-2.06-.94 2.06-2.06.94zm-11 1L8.5 8.5l.94-2.06 2.06-.94-2.06-.94L8.5 2.5l-.94 2.06-2.06.94zm10 10l.94 2.06.94-2.06 2.06-.94-2.06-.94-.94-2.06-.94 2.06-2.06.94z\"/><path d=\"M17.41 7.96l-1.37-1.37c-.4-.4-.92-.59-1.43-.59-.52 0-1.04.2-1.43.59L10.3 9.45l-7.72 7.72c-.78.78-.78 2.05 0 2.83L4 21.41c.39.39.9.59 1.41.59.51 0 1.02-.2 1.41-.59l7.78-7.78 2.81-2.81c.8-.78.8-2.07 0-2.86zM5.41 20L4 18.59l7.72-7.72 1.47 1.35L5.41 20z\"/>\n",
              "  </svg>\n",
              "      </button>\n",
              "      \n",
              "  <style>\n",
              "    .colab-df-container {\n",
              "      display:flex;\n",
              "      flex-wrap:wrap;\n",
              "      gap: 12px;\n",
              "    }\n",
              "\n",
              "    .colab-df-convert {\n",
              "      background-color: #E8F0FE;\n",
              "      border: none;\n",
              "      border-radius: 50%;\n",
              "      cursor: pointer;\n",
              "      display: none;\n",
              "      fill: #1967D2;\n",
              "      height: 32px;\n",
              "      padding: 0 0 0 0;\n",
              "      width: 32px;\n",
              "    }\n",
              "\n",
              "    .colab-df-convert:hover {\n",
              "      background-color: #E2EBFA;\n",
              "      box-shadow: 0px 1px 2px rgba(60, 64, 67, 0.3), 0px 1px 3px 1px rgba(60, 64, 67, 0.15);\n",
              "      fill: #174EA6;\n",
              "    }\n",
              "\n",
              "    [theme=dark] .colab-df-convert {\n",
              "      background-color: #3B4455;\n",
              "      fill: #D2E3FC;\n",
              "    }\n",
              "\n",
              "    [theme=dark] .colab-df-convert:hover {\n",
              "      background-color: #434B5C;\n",
              "      box-shadow: 0px 1px 3px 1px rgba(0, 0, 0, 0.15);\n",
              "      filter: drop-shadow(0px 1px 2px rgba(0, 0, 0, 0.3));\n",
              "      fill: #FFFFFF;\n",
              "    }\n",
              "  </style>\n",
              "\n",
              "      <script>\n",
              "        const buttonEl =\n",
              "          document.querySelector('#df-eecebe35-627a-4455-b095-0bb8135a3ddc button.colab-df-convert');\n",
              "        buttonEl.style.display =\n",
              "          google.colab.kernel.accessAllowed ? 'block' : 'none';\n",
              "\n",
              "        async function convertToInteractive(key) {\n",
              "          const element = document.querySelector('#df-eecebe35-627a-4455-b095-0bb8135a3ddc');\n",
              "          const dataTable =\n",
              "            await google.colab.kernel.invokeFunction('convertToInteractive',\n",
              "                                                     [key], {});\n",
              "          if (!dataTable) return;\n",
              "\n",
              "          const docLinkHtml = 'Like what you see? Visit the ' +\n",
              "            '<a target=\"_blank\" href=https://colab.research.google.com/notebooks/data_table.ipynb>data table notebook</a>'\n",
              "            + ' to learn more about interactive tables.';\n",
              "          element.innerHTML = '';\n",
              "          dataTable['output_type'] = 'display_data';\n",
              "          await google.colab.output.renderOutput(dataTable, element);\n",
              "          const docLink = document.createElement('div');\n",
              "          docLink.innerHTML = docLinkHtml;\n",
              "          element.appendChild(docLink);\n",
              "        }\n",
              "      </script>\n",
              "    </div>\n",
              "  </div>\n",
              "  "
            ]
          },
          "metadata": {},
          "execution_count": 47
        }
      ]
    },
    {
      "cell_type": "code",
      "source": [
        "for col in JobPostDF_Final.select_dtypes(include=['object']).drop(columns=['text-corpus']):\n",
        "    JobPostDF_Final.drop(columns=[col], inplace = True)"
      ],
      "metadata": {
        "id": "vd6YhrTuKXct"
      },
      "execution_count": null,
      "outputs": []
    },
    {
      "cell_type": "code",
      "source": [
        "JobPostDF_Final.head()"
      ],
      "metadata": {
        "colab": {
          "base_uri": "https://localhost:8080/",
          "height": 206
        },
        "id": "zISEIL8BKeDq",
        "outputId": "12daf87a-91ea-401b-99a6-92a1d665cf84"
      },
      "execution_count": null,
      "outputs": [
        {
          "output_type": "execute_result",
          "data": {
            "text/plain": [
              "   job_id  telecommuting  has_company_logo  has_questions  fraudulent  \\\n",
              "0       1              0                 1              0           0   \n",
              "1       2              0                 1              0           0   \n",
              "2       3              0                 1              0           0   \n",
              "3       4              0                 1              0           0   \n",
              "4       5              0                 1              1           0   \n",
              "\n",
              "                                         text-corpus  \n",
              "0  Food52, a fast-growing, James Beard Award-winn...  \n",
              "1  Organised - Focused - Vibrant - Awesome!Do you...  \n",
              "2  Our client, located in Houston, is actively se...  \n",
              "3  THE COMPANY: ESRI – Environmental Systems Rese...  \n",
              "4  JOB TITLE: Itemization Review ManagerLOCATION:...  "
            ],
            "text/html": [
              "\n",
              "  <div id=\"df-6b0f5019-781d-429c-b423-47666944bc79\">\n",
              "    <div class=\"colab-df-container\">\n",
              "      <div>\n",
              "<style scoped>\n",
              "    .dataframe tbody tr th:only-of-type {\n",
              "        vertical-align: middle;\n",
              "    }\n",
              "\n",
              "    .dataframe tbody tr th {\n",
              "        vertical-align: top;\n",
              "    }\n",
              "\n",
              "    .dataframe thead th {\n",
              "        text-align: right;\n",
              "    }\n",
              "</style>\n",
              "<table border=\"1\" class=\"dataframe\">\n",
              "  <thead>\n",
              "    <tr style=\"text-align: right;\">\n",
              "      <th></th>\n",
              "      <th>job_id</th>\n",
              "      <th>telecommuting</th>\n",
              "      <th>has_company_logo</th>\n",
              "      <th>has_questions</th>\n",
              "      <th>fraudulent</th>\n",
              "      <th>text-corpus</th>\n",
              "    </tr>\n",
              "  </thead>\n",
              "  <tbody>\n",
              "    <tr>\n",
              "      <th>0</th>\n",
              "      <td>1</td>\n",
              "      <td>0</td>\n",
              "      <td>1</td>\n",
              "      <td>0</td>\n",
              "      <td>0</td>\n",
              "      <td>Food52, a fast-growing, James Beard Award-winn...</td>\n",
              "    </tr>\n",
              "    <tr>\n",
              "      <th>1</th>\n",
              "      <td>2</td>\n",
              "      <td>0</td>\n",
              "      <td>1</td>\n",
              "      <td>0</td>\n",
              "      <td>0</td>\n",
              "      <td>Organised - Focused - Vibrant - Awesome!Do you...</td>\n",
              "    </tr>\n",
              "    <tr>\n",
              "      <th>2</th>\n",
              "      <td>3</td>\n",
              "      <td>0</td>\n",
              "      <td>1</td>\n",
              "      <td>0</td>\n",
              "      <td>0</td>\n",
              "      <td>Our client, located in Houston, is actively se...</td>\n",
              "    </tr>\n",
              "    <tr>\n",
              "      <th>3</th>\n",
              "      <td>4</td>\n",
              "      <td>0</td>\n",
              "      <td>1</td>\n",
              "      <td>0</td>\n",
              "      <td>0</td>\n",
              "      <td>THE COMPANY: ESRI – Environmental Systems Rese...</td>\n",
              "    </tr>\n",
              "    <tr>\n",
              "      <th>4</th>\n",
              "      <td>5</td>\n",
              "      <td>0</td>\n",
              "      <td>1</td>\n",
              "      <td>1</td>\n",
              "      <td>0</td>\n",
              "      <td>JOB TITLE: Itemization Review ManagerLOCATION:...</td>\n",
              "    </tr>\n",
              "  </tbody>\n",
              "</table>\n",
              "</div>\n",
              "      <button class=\"colab-df-convert\" onclick=\"convertToInteractive('df-6b0f5019-781d-429c-b423-47666944bc79')\"\n",
              "              title=\"Convert this dataframe to an interactive table.\"\n",
              "              style=\"display:none;\">\n",
              "        \n",
              "  <svg xmlns=\"http://www.w3.org/2000/svg\" height=\"24px\"viewBox=\"0 0 24 24\"\n",
              "       width=\"24px\">\n",
              "    <path d=\"M0 0h24v24H0V0z\" fill=\"none\"/>\n",
              "    <path d=\"M18.56 5.44l.94 2.06.94-2.06 2.06-.94-2.06-.94-.94-2.06-.94 2.06-2.06.94zm-11 1L8.5 8.5l.94-2.06 2.06-.94-2.06-.94L8.5 2.5l-.94 2.06-2.06.94zm10 10l.94 2.06.94-2.06 2.06-.94-2.06-.94-.94-2.06-.94 2.06-2.06.94z\"/><path d=\"M17.41 7.96l-1.37-1.37c-.4-.4-.92-.59-1.43-.59-.52 0-1.04.2-1.43.59L10.3 9.45l-7.72 7.72c-.78.78-.78 2.05 0 2.83L4 21.41c.39.39.9.59 1.41.59.51 0 1.02-.2 1.41-.59l7.78-7.78 2.81-2.81c.8-.78.8-2.07 0-2.86zM5.41 20L4 18.59l7.72-7.72 1.47 1.35L5.41 20z\"/>\n",
              "  </svg>\n",
              "      </button>\n",
              "      \n",
              "  <style>\n",
              "    .colab-df-container {\n",
              "      display:flex;\n",
              "      flex-wrap:wrap;\n",
              "      gap: 12px;\n",
              "    }\n",
              "\n",
              "    .colab-df-convert {\n",
              "      background-color: #E8F0FE;\n",
              "      border: none;\n",
              "      border-radius: 50%;\n",
              "      cursor: pointer;\n",
              "      display: none;\n",
              "      fill: #1967D2;\n",
              "      height: 32px;\n",
              "      padding: 0 0 0 0;\n",
              "      width: 32px;\n",
              "    }\n",
              "\n",
              "    .colab-df-convert:hover {\n",
              "      background-color: #E2EBFA;\n",
              "      box-shadow: 0px 1px 2px rgba(60, 64, 67, 0.3), 0px 1px 3px 1px rgba(60, 64, 67, 0.15);\n",
              "      fill: #174EA6;\n",
              "    }\n",
              "\n",
              "    [theme=dark] .colab-df-convert {\n",
              "      background-color: #3B4455;\n",
              "      fill: #D2E3FC;\n",
              "    }\n",
              "\n",
              "    [theme=dark] .colab-df-convert:hover {\n",
              "      background-color: #434B5C;\n",
              "      box-shadow: 0px 1px 3px 1px rgba(0, 0, 0, 0.15);\n",
              "      filter: drop-shadow(0px 1px 2px rgba(0, 0, 0, 0.3));\n",
              "      fill: #FFFFFF;\n",
              "    }\n",
              "  </style>\n",
              "\n",
              "      <script>\n",
              "        const buttonEl =\n",
              "          document.querySelector('#df-6b0f5019-781d-429c-b423-47666944bc79 button.colab-df-convert');\n",
              "        buttonEl.style.display =\n",
              "          google.colab.kernel.accessAllowed ? 'block' : 'none';\n",
              "\n",
              "        async function convertToInteractive(key) {\n",
              "          const element = document.querySelector('#df-6b0f5019-781d-429c-b423-47666944bc79');\n",
              "          const dataTable =\n",
              "            await google.colab.kernel.invokeFunction('convertToInteractive',\n",
              "                                                     [key], {});\n",
              "          if (!dataTable) return;\n",
              "\n",
              "          const docLinkHtml = 'Like what you see? Visit the ' +\n",
              "            '<a target=\"_blank\" href=https://colab.research.google.com/notebooks/data_table.ipynb>data table notebook</a>'\n",
              "            + ' to learn more about interactive tables.';\n",
              "          element.innerHTML = '';\n",
              "          dataTable['output_type'] = 'display_data';\n",
              "          await google.colab.output.renderOutput(dataTable, element);\n",
              "          const docLink = document.createElement('div');\n",
              "          docLink.innerHTML = docLinkHtml;\n",
              "          element.appendChild(docLink);\n",
              "        }\n",
              "      </script>\n",
              "    </div>\n",
              "  </div>\n",
              "  "
            ]
          },
          "metadata": {},
          "execution_count": 49
        }
      ]
    },
    {
      "cell_type": "code",
      "source": [
        "JobPostDF_Final = JobPostDF_Final.drop(columns=['job_id','telecommuting', 'has_company_logo', 'has_questions'])\n",
        "JobPostDF_Final.head()"
      ],
      "metadata": {
        "colab": {
          "base_uri": "https://localhost:8080/",
          "height": 206
        },
        "id": "eBNaH4SHKf-R",
        "outputId": "8b2209af-5f40-4726-da35-68f179a6cf28"
      },
      "execution_count": null,
      "outputs": [
        {
          "output_type": "execute_result",
          "data": {
            "text/plain": [
              "   fraudulent                                        text-corpus\n",
              "0           0  Food52, a fast-growing, James Beard Award-winn...\n",
              "1           0  Organised - Focused - Vibrant - Awesome!Do you...\n",
              "2           0  Our client, located in Houston, is actively se...\n",
              "3           0  THE COMPANY: ESRI – Environmental Systems Rese...\n",
              "4           0  JOB TITLE: Itemization Review ManagerLOCATION:..."
            ],
            "text/html": [
              "\n",
              "  <div id=\"df-2b88ce66-fbc7-44a4-9b84-cd30b1c28367\">\n",
              "    <div class=\"colab-df-container\">\n",
              "      <div>\n",
              "<style scoped>\n",
              "    .dataframe tbody tr th:only-of-type {\n",
              "        vertical-align: middle;\n",
              "    }\n",
              "\n",
              "    .dataframe tbody tr th {\n",
              "        vertical-align: top;\n",
              "    }\n",
              "\n",
              "    .dataframe thead th {\n",
              "        text-align: right;\n",
              "    }\n",
              "</style>\n",
              "<table border=\"1\" class=\"dataframe\">\n",
              "  <thead>\n",
              "    <tr style=\"text-align: right;\">\n",
              "      <th></th>\n",
              "      <th>fraudulent</th>\n",
              "      <th>text-corpus</th>\n",
              "    </tr>\n",
              "  </thead>\n",
              "  <tbody>\n",
              "    <tr>\n",
              "      <th>0</th>\n",
              "      <td>0</td>\n",
              "      <td>Food52, a fast-growing, James Beard Award-winn...</td>\n",
              "    </tr>\n",
              "    <tr>\n",
              "      <th>1</th>\n",
              "      <td>0</td>\n",
              "      <td>Organised - Focused - Vibrant - Awesome!Do you...</td>\n",
              "    </tr>\n",
              "    <tr>\n",
              "      <th>2</th>\n",
              "      <td>0</td>\n",
              "      <td>Our client, located in Houston, is actively se...</td>\n",
              "    </tr>\n",
              "    <tr>\n",
              "      <th>3</th>\n",
              "      <td>0</td>\n",
              "      <td>THE COMPANY: ESRI – Environmental Systems Rese...</td>\n",
              "    </tr>\n",
              "    <tr>\n",
              "      <th>4</th>\n",
              "      <td>0</td>\n",
              "      <td>JOB TITLE: Itemization Review ManagerLOCATION:...</td>\n",
              "    </tr>\n",
              "  </tbody>\n",
              "</table>\n",
              "</div>\n",
              "      <button class=\"colab-df-convert\" onclick=\"convertToInteractive('df-2b88ce66-fbc7-44a4-9b84-cd30b1c28367')\"\n",
              "              title=\"Convert this dataframe to an interactive table.\"\n",
              "              style=\"display:none;\">\n",
              "        \n",
              "  <svg xmlns=\"http://www.w3.org/2000/svg\" height=\"24px\"viewBox=\"0 0 24 24\"\n",
              "       width=\"24px\">\n",
              "    <path d=\"M0 0h24v24H0V0z\" fill=\"none\"/>\n",
              "    <path d=\"M18.56 5.44l.94 2.06.94-2.06 2.06-.94-2.06-.94-.94-2.06-.94 2.06-2.06.94zm-11 1L8.5 8.5l.94-2.06 2.06-.94-2.06-.94L8.5 2.5l-.94 2.06-2.06.94zm10 10l.94 2.06.94-2.06 2.06-.94-2.06-.94-.94-2.06-.94 2.06-2.06.94z\"/><path d=\"M17.41 7.96l-1.37-1.37c-.4-.4-.92-.59-1.43-.59-.52 0-1.04.2-1.43.59L10.3 9.45l-7.72 7.72c-.78.78-.78 2.05 0 2.83L4 21.41c.39.39.9.59 1.41.59.51 0 1.02-.2 1.41-.59l7.78-7.78 2.81-2.81c.8-.78.8-2.07 0-2.86zM5.41 20L4 18.59l7.72-7.72 1.47 1.35L5.41 20z\"/>\n",
              "  </svg>\n",
              "      </button>\n",
              "      \n",
              "  <style>\n",
              "    .colab-df-container {\n",
              "      display:flex;\n",
              "      flex-wrap:wrap;\n",
              "      gap: 12px;\n",
              "    }\n",
              "\n",
              "    .colab-df-convert {\n",
              "      background-color: #E8F0FE;\n",
              "      border: none;\n",
              "      border-radius: 50%;\n",
              "      cursor: pointer;\n",
              "      display: none;\n",
              "      fill: #1967D2;\n",
              "      height: 32px;\n",
              "      padding: 0 0 0 0;\n",
              "      width: 32px;\n",
              "    }\n",
              "\n",
              "    .colab-df-convert:hover {\n",
              "      background-color: #E2EBFA;\n",
              "      box-shadow: 0px 1px 2px rgba(60, 64, 67, 0.3), 0px 1px 3px 1px rgba(60, 64, 67, 0.15);\n",
              "      fill: #174EA6;\n",
              "    }\n",
              "\n",
              "    [theme=dark] .colab-df-convert {\n",
              "      background-color: #3B4455;\n",
              "      fill: #D2E3FC;\n",
              "    }\n",
              "\n",
              "    [theme=dark] .colab-df-convert:hover {\n",
              "      background-color: #434B5C;\n",
              "      box-shadow: 0px 1px 3px 1px rgba(0, 0, 0, 0.15);\n",
              "      filter: drop-shadow(0px 1px 2px rgba(0, 0, 0, 0.3));\n",
              "      fill: #FFFFFF;\n",
              "    }\n",
              "  </style>\n",
              "\n",
              "      <script>\n",
              "        const buttonEl =\n",
              "          document.querySelector('#df-2b88ce66-fbc7-44a4-9b84-cd30b1c28367 button.colab-df-convert');\n",
              "        buttonEl.style.display =\n",
              "          google.colab.kernel.accessAllowed ? 'block' : 'none';\n",
              "\n",
              "        async function convertToInteractive(key) {\n",
              "          const element = document.querySelector('#df-2b88ce66-fbc7-44a4-9b84-cd30b1c28367');\n",
              "          const dataTable =\n",
              "            await google.colab.kernel.invokeFunction('convertToInteractive',\n",
              "                                                     [key], {});\n",
              "          if (!dataTable) return;\n",
              "\n",
              "          const docLinkHtml = 'Like what you see? Visit the ' +\n",
              "            '<a target=\"_blank\" href=https://colab.research.google.com/notebooks/data_table.ipynb>data table notebook</a>'\n",
              "            + ' to learn more about interactive tables.';\n",
              "          element.innerHTML = '';\n",
              "          dataTable['output_type'] = 'display_data';\n",
              "          await google.colab.output.renderOutput(dataTable, element);\n",
              "          const docLink = document.createElement('div');\n",
              "          docLink.innerHTML = docLinkHtml;\n",
              "          element.appendChild(docLink);\n",
              "        }\n",
              "      </script>\n",
              "    </div>\n",
              "  </div>\n",
              "  "
            ]
          },
          "metadata": {},
          "execution_count": 50
        }
      ]
    },
    {
      "cell_type": "code",
      "source": [
        "JobPostDF_Final['text-corpus'][0]"
      ],
      "metadata": {
        "colab": {
          "base_uri": "https://localhost:8080/",
          "height": 122
        },
        "id": "TB9qkzeEKi6b",
        "outputId": "675cd081-09a4-464c-ecff-7497704c4ce0"
      },
      "execution_count": null,
      "outputs": [
        {
          "output_type": "execute_result",
          "data": {
            "text/plain": [
              "'Food52, a fast-growing, James Beard Award-winning online food community and crowd-sourced and curated recipe hub, is currently interviewing full- and part-time unpaid interns to work in a small team of editors, executives, and developers in its New York City headquarters.Reproducing and/or repackaging existing Food52 content for a number of partner sites, such as Huffington Post, Yahoo, Buzzfeed, and more in their various content management systemsResearching blogs and websites for the Provisions by Food52 Affiliate ProgramAssisting in day-to-day affiliate program support, such as screening affiliates and assisting in any affiliate inquiriesSupporting with PR &amp; Events when neededHelping with office administrative work, such as filing, mailing, and preparing for meetingsWorking with developers to document bugs and suggest improvements to the siteSupporting the marketing and executive staff Experience with content management systems a major plus (any blogging counts!)Familiar with the Food52 editorial voice and aestheticLoves food, appreciates the importance of home cooking and cooking with the seasonsMeticulous editor, perfectionist, obsessive attention to detail, maddened by typos and broken links, delighted by finding and fixing themCheerful under pressureExcellent communication skillsA+ multi-tasker and juggler of responsibilities big and smallInterested in and engaged with social media like Twitter, Facebook, and PinterestLoves problem-solving and collaborating to drive Food52 forwardThinks big picture but pitches in on the nitty gritty of running a small company (dishes, shopping, administrative support)Comfortable with the realities of working for a startup: being on call on evenings and weekends, and working long hours'"
            ],
            "application/vnd.google.colaboratory.intrinsic+json": {
              "type": "string"
            }
          },
          "metadata": {},
          "execution_count": 51
        }
      ]
    },
    {
      "cell_type": "markdown",
      "source": [
        "Data Cleaning"
      ],
      "metadata": {
        "id": "VQv-JiYBKm73"
      }
    },
    {
      "cell_type": "code",
      "source": [
        "import nltk\n",
        "from nltk.tokenize import word_tokenize, RegexpTokenizer\n",
        "from nltk.corpus import stopwords\n",
        "from nltk.stem import PorterStemmer\n",
        "from nltk import tokenize\n",
        "from nltk.stem import WordNetLemmatizer"
      ],
      "metadata": {
        "id": "ltaftsV2KrnD"
      },
      "execution_count": null,
      "outputs": []
    },
    {
      "cell_type": "code",
      "source": [
        "def remove(text):\n",
        "    words = nltk.RegexpTokenizer(r\"\\w+\").tokenize(text)\n",
        "    \n",
        "    return words"
      ],
      "metadata": {
        "id": "mYYjwXfSKtgB"
      },
      "execution_count": null,
      "outputs": []
    },
    {
      "cell_type": "code",
      "source": [
        "import nltk\n",
        "nltk.download('stopwords')"
      ],
      "metadata": {
        "colab": {
          "base_uri": "https://localhost:8080/"
        },
        "id": "bGJKixSkKzLv",
        "outputId": "d9a35821-ecdc-4bfd-c345-620057452393"
      },
      "execution_count": null,
      "outputs": [
        {
          "output_type": "stream",
          "name": "stderr",
          "text": [
            "[nltk_data] Downloading package stopwords to /root/nltk_data...\n",
            "[nltk_data]   Unzipping corpora/stopwords.zip.\n"
          ]
        },
        {
          "output_type": "execute_result",
          "data": {
            "text/plain": [
              "True"
            ]
          },
          "metadata": {},
          "execution_count": 55
        }
      ]
    },
    {
      "cell_type": "code",
      "source": [
        "# remove stopwords function\n",
        "stop = set(stopwords.words('english'))\n",
        "def test(text):\n",
        "    words = remove(text)\n",
        "    stripped_phrase = []\n",
        "    for word in words:\n",
        "        if word not in stop:\n",
        "            stripped_phrase.append(word)\n",
        "\n",
        "    return \" \".join(stripped_phrase)"
      ],
      "metadata": {
        "id": "akvTHAwqK7HH"
      },
      "execution_count": null,
      "outputs": []
    },
    {
      "cell_type": "markdown",
      "source": [
        "# perform stemming function\n",
        "\n"
      ],
      "metadata": {
        "id": "E3JL9HP4ZUxt"
      }
    },
    {
      "cell_type": "code",
      "source": [
        "def stem(text):\n",
        "    stemmer = PorterStemmer()\n",
        "    stemmed_phrase = []\n",
        "    words = remove(text)\n",
        "    for word in words:\n",
        "        stemmed_phrase.append(stemmer.stem(word))\n",
        "    \n",
        "    return \" \".join(stemmed_phrase)"
      ],
      "metadata": {
        "id": "t_J4aUe3K9mz"
      },
      "execution_count": null,
      "outputs": []
    },
    {
      "cell_type": "markdown",
      "source": [
        "# remove stopwords"
      ],
      "metadata": {
        "id": "Z1QmIu5dZZsT"
      }
    },
    {
      "cell_type": "code",
      "source": [
        "JobPostDF_Final['text-corpus'] = JobPostDF_Final['text-corpus'].apply(test)\n",
        "JobPostDF_Final['text-corpus'][0]"
      ],
      "metadata": {
        "colab": {
          "base_uri": "https://localhost:8080/",
          "height": 122
        },
        "id": "TWGoC-9VLO-M",
        "outputId": "c32f6072-7c32-40fa-a638-2a2cdaf2b769"
      },
      "execution_count": null,
      "outputs": [
        {
          "output_type": "execute_result",
          "data": {
            "text/plain": [
              "'Food52 fast growing James Beard Award winning online food community crowd sourced curated recipe hub currently interviewing full part time unpaid interns work small team editors executives developers New York City headquarters Reproducing repackaging existing Food52 content number partner sites Huffington Post Yahoo Buzzfeed various content management systemsResearching blogs websites Provisions Food52 Affiliate ProgramAssisting day day affiliate program support screening affiliates assisting affiliate inquiriesSupporting PR amp Events neededHelping office administrative work filing mailing preparing meetingsWorking developers document bugs suggest improvements siteSupporting marketing executive staff Experience content management systems major plus blogging counts Familiar Food52 editorial voice aestheticLoves food appreciates importance home cooking cooking seasonsMeticulous editor perfectionist obsessive attention detail maddened typos broken links delighted finding fixing themCheerful pressureExcellent communication skillsA multi tasker juggler responsibilities big smallInterested engaged social media like Twitter Facebook PinterestLoves problem solving collaborating drive Food52 forwardThinks big picture pitches nitty gritty running small company dishes shopping administrative support Comfortable realities working startup call evenings weekends working long hours'"
            ],
            "application/vnd.google.colaboratory.intrinsic+json": {
              "type": "string"
            }
          },
          "metadata": {},
          "execution_count": 58
        }
      ]
    },
    {
      "cell_type": "code",
      "source": [
        "# Perform stemming\n",
        "JobPostDF_Final['text-corpus'] = JobPostDF_Final['text-corpus'].apply(stem)\n",
        "JobPostDF_Final['text-corpus'][0]"
      ],
      "metadata": {
        "colab": {
          "base_uri": "https://localhost:8080/",
          "height": 122
        },
        "id": "jraFdLf9LRhi",
        "outputId": "233e2a87-e9f8-40a4-a5ed-62d63a3a5cbe"
      },
      "execution_count": null,
      "outputs": [
        {
          "output_type": "execute_result",
          "data": {
            "text/plain": [
              "'food52 fast grow jame beard award win onlin food commun crowd sourc curat recip hub current interview full part time unpaid intern work small team editor execut develop new york citi headquart reproduc repackag exist food52 content number partner site huffington post yahoo buzzfe variou content manag systemsresearch blog websit provis food52 affili programassist day day affili program support screen affili assist affili inquiriessupport pr amp event neededhelp offic administr work file mail prepar meetingswork develop document bug suggest improv sitesupport market execut staff experi content manag system major plu blog count familiar food52 editori voic aestheticlov food appreci import home cook cook seasonsmeticul editor perfectionist obsess attent detail madden typo broken link delight find fix themcheer pressureexcel commun skillsa multi tasker juggler respons big smallinterest engag social media like twitter facebook pinterestlov problem solv collabor drive food52 forwardthink big pictur pitch nitti gritti run small compani dish shop administr support comfort realiti work startup call even weekend work long hour'"
            ],
            "application/vnd.google.colaboratory.intrinsic+json": {
              "type": "string"
            }
          },
          "metadata": {},
          "execution_count": 59
        }
      ]
    },
    {
      "cell_type": "markdown",
      "source": [
        "#Extract features"
      ],
      "metadata": {
        "id": "JC5DESDlZdjV"
      }
    },
    {
      "cell_type": "code",
      "source": [
        "X = JobPostDF_Final['text-corpus']\n",
        "X.shape"
      ],
      "metadata": {
        "colab": {
          "base_uri": "https://localhost:8080/"
        },
        "id": "o_ZKvI0qMf6x",
        "outputId": "1dd4216f-e665-435d-c58f-c612e1ffc064"
      },
      "execution_count": null,
      "outputs": [
        {
          "output_type": "execute_result",
          "data": {
            "text/plain": [
              "(17880,)"
            ]
          },
          "metadata": {},
          "execution_count": 61
        }
      ]
    },
    {
      "cell_type": "code",
      "source": [
        "X.head()"
      ],
      "metadata": {
        "colab": {
          "base_uri": "https://localhost:8080/"
        },
        "id": "nUjSuTRtMhTN",
        "outputId": "3a68a83b-455d-43f4-cc70-117a471bd00f"
      },
      "execution_count": null,
      "outputs": [
        {
          "output_type": "execute_result",
          "data": {
            "text/plain": [
              "0    food52 fast grow jame beard award win onlin fo...\n",
              "1    organis focus vibrant awesom do passion custom...\n",
              "2    our client locat houston activ seek experienc ...\n",
              "3    the compani esri environment system research i...\n",
              "4    job titl item review managerloc fort worth tx ...\n",
              "Name: text-corpus, dtype: object"
            ]
          },
          "metadata": {},
          "execution_count": 62
        }
      ]
    },
    {
      "cell_type": "code",
      "source": [
        "Y = JobPostDF_Final['fraudulent']\n",
        "Y.shape"
      ],
      "metadata": {
        "colab": {
          "base_uri": "https://localhost:8080/"
        },
        "id": "_E6In6KzMjbX",
        "outputId": "2d9221fb-0f03-4c05-a90e-741ac709c21b"
      },
      "execution_count": null,
      "outputs": [
        {
          "output_type": "execute_result",
          "data": {
            "text/plain": [
              "(17880,)"
            ]
          },
          "metadata": {},
          "execution_count": 63
        }
      ]
    },
    {
      "cell_type": "code",
      "source": [
        "from sklearn.model_selection import train_test_split\n",
        "\n",
        "train_X, test_X, train_y, test_y = train_test_split(X, Y, test_size = 0.2, random_state = 0)"
      ],
      "metadata": {
        "id": "jy_sXHNxMlmB"
      },
      "execution_count": null,
      "outputs": []
    },
    {
      "cell_type": "code",
      "source": [
        "encoder = LabelEncoder()\n",
        "train_y = encoder.fit_transform(train_y)\n",
        "test_y = encoder.fit_transform(test_y)"
      ],
      "metadata": {
        "id": "CBOkcJbbMoFj"
      },
      "execution_count": null,
      "outputs": []
    },
    {
      "cell_type": "code",
      "source": [
        "train_y"
      ],
      "metadata": {
        "colab": {
          "base_uri": "https://localhost:8080/"
        },
        "id": "jCWmVjYQMqix",
        "outputId": "6b03b5c5-292f-4b56-bc9c-b16a3cd0daed"
      },
      "execution_count": null,
      "outputs": [
        {
          "output_type": "execute_result",
          "data": {
            "text/plain": [
              "array([0, 0, 0, ..., 1, 0, 0])"
            ]
          },
          "metadata": {},
          "execution_count": 66
        }
      ]
    },
    {
      "cell_type": "markdown",
      "source": [
        "# Transform data to count matrix"
      ],
      "metadata": {
        "id": "5sHjx2REMypD"
      }
    },
    {
      "cell_type": "code",
      "source": [
        "MAX = 3000"
      ],
      "metadata": {
        "id": "sJnbW_sdMsl8"
      },
      "execution_count": null,
      "outputs": []
    },
    {
      "cell_type": "markdown",
      "source": [
        "*feature_extraction*:\n",
        "\n",
        "1-CountVectorizer \n",
        "\n",
        "2-TfidfVectorizer"
      ],
      "metadata": {
        "id": "NjzVi-c3ZiG7"
      }
    },
    {
      "cell_type": "code",
      "source": [
        "from sklearn.feature_extraction.text import CountVectorizer, TfidfVectorizer\n",
        "# tfid = TfidfVectorizer(min_df=0, max_df=1, ngram_range=(1,3))\n",
        "tfid = TfidfVectorizer(max_features = MAX,use_idf=True)"
      ],
      "metadata": {
        "id": "mlx7Nn08M09_"
      },
      "execution_count": null,
      "outputs": []
    },
    {
      "cell_type": "code",
      "source": [
        "# Transform train set\n",
        "tfid_train = tfid.fit_transform(train_X)\n",
        "# cv_train = cv.fit_transform(train_X)\n",
        "\n",
        "# Transform test set\n",
        "tfid_test = tfid.fit_transform(test_X)\n",
        "# cv_test = cv.fit_transform(test_X)\n",
        "\n",
        "print('Tfidf_train : ', tfid_train.shape)\n",
        "# print('cv_train : ', cv_train.shape)\n",
        "\n",
        "print('Tfidf_test : ', tfid_test.shape)"
      ],
      "metadata": {
        "colab": {
          "base_uri": "https://localhost:8080/"
        },
        "id": "bAN5_97XM59l",
        "outputId": "7d123bb2-d4df-480d-ce15-9ad72c53fdc6"
      },
      "execution_count": null,
      "outputs": [
        {
          "output_type": "stream",
          "name": "stdout",
          "text": [
            "Tfidf_train :  (14304, 3000)\n",
            "Tfidf_test :  (3576, 3000)\n"
          ]
        }
      ]
    },
    {
      "cell_type": "markdown",
      "source": [
        "#Modelling\n",
        "\n",
        "Naive Bayes"
      ],
      "metadata": {
        "id": "B7K-i8HWNEkj"
      }
    },
    {
      "cell_type": "code",
      "source": [
        "from sklearn.naive_bayes import GaussianNB, MultinomialNB\n",
        "# set the model\n",
        "nb_model = MultinomialNB()\n",
        "# nb_model = GaussianNB()\n",
        "\n",
        "# fit the dataset\n",
        "nb_tfidf = nb_model.fit(tfid_train, train_y)\n",
        "print(nb_tfidf)"
      ],
      "metadata": {
        "colab": {
          "base_uri": "https://localhost:8080/"
        },
        "id": "d7xtvjJVM83U",
        "outputId": "62eec49f-37de-4aa5-c455-2802cdc32c32"
      },
      "execution_count": null,
      "outputs": [
        {
          "output_type": "stream",
          "name": "stdout",
          "text": [
            "MultinomialNB()\n"
          ]
        }
      ]
    },
    {
      "cell_type": "code",
      "source": [
        "nb_tfidf_predict = nb_model.predict(tfid_test)"
      ],
      "metadata": {
        "id": "7_q6joWoNPeD"
      },
      "execution_count": null,
      "outputs": []
    },
    {
      "cell_type": "code",
      "source": [
        "nb_tfidf_predict"
      ],
      "metadata": {
        "colab": {
          "base_uri": "https://localhost:8080/"
        },
        "id": "Et2w_YhcNSEW",
        "outputId": "dc286aab-dd71-4b05-bc2c-6db21dbc3973"
      },
      "execution_count": null,
      "outputs": [
        {
          "output_type": "execute_result",
          "data": {
            "text/plain": [
              "array([0, 0, 0, ..., 0, 1, 0])"
            ]
          },
          "metadata": {},
          "execution_count": 72
        }
      ]
    },
    {
      "cell_type": "code",
      "source": [
        "nb_tfidf_score=accuracy_score(test_y, nb_tfidf_predict)\n",
        "print(\"Accuracy  {:.3} %\".format(accuracy_score(test_y, nb_tfidf_predict)*100))"
      ],
      "metadata": {
        "colab": {
          "base_uri": "https://localhost:8080/"
        },
        "id": "_FxwH5SnNT2d",
        "outputId": "6180a871-94a0-4b37-81cb-13e33674e22a"
      },
      "execution_count": null,
      "outputs": [
        {
          "output_type": "stream",
          "name": "stdout",
          "text": [
            "Accuracy  85.9 %\n"
          ]
        }
      ]
    },
    {
      "cell_type": "code",
      "source": [
        "report = classification_report(test_y, nb_tfidf_predict, target_names = ['0', '1'])\n",
        "print(report)"
      ],
      "metadata": {
        "colab": {
          "base_uri": "https://localhost:8080/"
        },
        "id": "c_k47tawNVTX",
        "outputId": "62c1abfb-d4bb-45f6-9d4a-2d6c242833da"
      },
      "execution_count": null,
      "outputs": [
        {
          "output_type": "stream",
          "name": "stdout",
          "text": [
            "              precision    recall  f1-score   support\n",
            "\n",
            "           0       0.95      0.90      0.92      3423\n",
            "           1       0.01      0.03      0.02       153\n",
            "\n",
            "    accuracy                           0.86      3576\n",
            "   macro avg       0.48      0.46      0.47      3576\n",
            "weighted avg       0.91      0.86      0.89      3576\n",
            "\n"
          ]
        }
      ]
    },
    {
      "cell_type": "markdown",
      "source": [
        "## SVM "
      ],
      "metadata": {
        "id": "z3q9wWXhNcUT"
      }
    },
    {
      "cell_type": "code",
      "source": [
        "svc = SVC(kernel='rbf')\n",
        "svc.fit(tfid_train, train_y)"
      ],
      "metadata": {
        "colab": {
          "base_uri": "https://localhost:8080/"
        },
        "id": "5wtUB5oxNeNr",
        "outputId": "31ecaeef-3e64-49d6-a35d-3df6b40625dc"
      },
      "execution_count": null,
      "outputs": [
        {
          "output_type": "execute_result",
          "data": {
            "text/plain": [
              "SVC()"
            ]
          },
          "metadata": {},
          "execution_count": 75
        }
      ]
    },
    {
      "cell_type": "code",
      "source": [
        "predicted = svc.predict(tfid_test)"
      ],
      "metadata": {
        "id": "ut_crCiMNg4G"
      },
      "execution_count": null,
      "outputs": []
    },
    {
      "cell_type": "code",
      "source": [
        "print(\"accuracy score of Support Vector Machine:\", accuracy_score(predicted, test_y), \"\\n\")"
      ],
      "metadata": {
        "colab": {
          "base_uri": "https://localhost:8080/"
        },
        "id": "P3qo3wx4OktG",
        "outputId": "f947cda4-cf5d-48d2-c5f9-b557494d3b0e"
      },
      "execution_count": null,
      "outputs": [
        {
          "output_type": "stream",
          "name": "stdout",
          "text": [
            "accuracy score of Support Vector Machine: 0.9572147651006712 \n",
            "\n"
          ]
        }
      ]
    },
    {
      "cell_type": "code",
      "source": [
        "# creating a confusion matrix \n",
        "cm = confusion_matrix(test_y, predicted)\n",
        "print(\"confusion matrix of SVM:\\n\", cm, \"\\n\")\n"
      ],
      "metadata": {
        "colab": {
          "base_uri": "https://localhost:8080/"
        },
        "id": "l-FAouBjOscc",
        "outputId": "1257405b-8830-423c-c636-2cdc322d1434"
      },
      "execution_count": null,
      "outputs": [
        {
          "output_type": "stream",
          "name": "stdout",
          "text": [
            "confusion matrix of SVM:\n",
            " [[3423    0]\n",
            " [ 153    0]] \n",
            "\n"
          ]
        }
      ]
    },
    {
      "cell_type": "code",
      "source": [
        "print(\"classification report:\\n\", classification_report(test_y, predicted), \"\\n\")"
      ],
      "metadata": {
        "colab": {
          "base_uri": "https://localhost:8080/"
        },
        "id": "L7JhKOiAOu4M",
        "outputId": "63390926-7f27-4e9a-adeb-0d45c87c88de"
      },
      "execution_count": null,
      "outputs": [
        {
          "output_type": "stream",
          "name": "stdout",
          "text": [
            "classification report:\n",
            "               precision    recall  f1-score   support\n",
            "\n",
            "           0       0.96      1.00      0.98      3423\n",
            "           1       0.00      0.00      0.00       153\n",
            "\n",
            "    accuracy                           0.96      3576\n",
            "   macro avg       0.48      0.50      0.49      3576\n",
            "weighted avg       0.92      0.96      0.94      3576\n",
            " \n",
            "\n"
          ]
        }
      ]
    },
    {
      "cell_type": "markdown",
      "source": [
        "Using Deep learing "
      ],
      "metadata": {
        "id": "0zpRwlBcPI1S"
      }
    },
    {
      "cell_type": "code",
      "source": [
        "import tensorflow\n",
        "from tensorflow.keras.layers import Embedding\n",
        "from tensorflow.keras.preprocessing.sequence import pad_sequences\n",
        "from tensorflow.keras.models import Sequential\n",
        "from tensorflow.keras.preprocessing.text import one_hot\n",
        "from tensorflow.keras.layers import LSTM\n",
        "from tensorflow.keras.layers import Dense\n",
        "from tensorflow.keras.layers import Bidirectional\n",
        "from tensorflow.keras.layers import Dropout"
      ],
      "metadata": {
        "id": "j2U7-hQ-O3sO"
      },
      "execution_count": null,
      "outputs": []
    },
    {
      "cell_type": "code",
      "source": [
        "df =df1[['description','requirements','fraudulent']]\n",
        "df.head()"
      ],
      "metadata": {
        "colab": {
          "base_uri": "https://localhost:8080/",
          "height": 206
        },
        "id": "5NOdu-kdPGow",
        "outputId": "0c0f9995-18df-491e-b17a-eb4170ed70f1"
      },
      "execution_count": null,
      "outputs": [
        {
          "output_type": "execute_result",
          "data": {
            "text/plain": [
              "                                         description  \\\n",
              "0  Food52, a fast-growing, James Beard Award-winn...   \n",
              "1  Organised - Focused - Vibrant - Awesome!Do you...   \n",
              "2  Our client, located in Houston, is actively se...   \n",
              "3  THE COMPANY: ESRI – Environmental Systems Rese...   \n",
              "4  JOB TITLE: Itemization Review ManagerLOCATION:...   \n",
              "\n",
              "                                        requirements  fraudulent  \n",
              "0  Experience with content management systems a m...           0  \n",
              "1  What we expect from you:Your key responsibilit...           0  \n",
              "2  Implement pre-commissioning and commissioning ...           0  \n",
              "3  EDUCATION: Bachelor’s or Master’s in GIS, busi...           0  \n",
              "4  QUALIFICATIONS:RN license in the State of Texa...           0  "
            ],
            "text/html": [
              "\n",
              "  <div id=\"df-37b00a16-0c0d-4681-8833-d2432acb172b\">\n",
              "    <div class=\"colab-df-container\">\n",
              "      <div>\n",
              "<style scoped>\n",
              "    .dataframe tbody tr th:only-of-type {\n",
              "        vertical-align: middle;\n",
              "    }\n",
              "\n",
              "    .dataframe tbody tr th {\n",
              "        vertical-align: top;\n",
              "    }\n",
              "\n",
              "    .dataframe thead th {\n",
              "        text-align: right;\n",
              "    }\n",
              "</style>\n",
              "<table border=\"1\" class=\"dataframe\">\n",
              "  <thead>\n",
              "    <tr style=\"text-align: right;\">\n",
              "      <th></th>\n",
              "      <th>description</th>\n",
              "      <th>requirements</th>\n",
              "      <th>fraudulent</th>\n",
              "    </tr>\n",
              "  </thead>\n",
              "  <tbody>\n",
              "    <tr>\n",
              "      <th>0</th>\n",
              "      <td>Food52, a fast-growing, James Beard Award-winn...</td>\n",
              "      <td>Experience with content management systems a m...</td>\n",
              "      <td>0</td>\n",
              "    </tr>\n",
              "    <tr>\n",
              "      <th>1</th>\n",
              "      <td>Organised - Focused - Vibrant - Awesome!Do you...</td>\n",
              "      <td>What we expect from you:Your key responsibilit...</td>\n",
              "      <td>0</td>\n",
              "    </tr>\n",
              "    <tr>\n",
              "      <th>2</th>\n",
              "      <td>Our client, located in Houston, is actively se...</td>\n",
              "      <td>Implement pre-commissioning and commissioning ...</td>\n",
              "      <td>0</td>\n",
              "    </tr>\n",
              "    <tr>\n",
              "      <th>3</th>\n",
              "      <td>THE COMPANY: ESRI – Environmental Systems Rese...</td>\n",
              "      <td>EDUCATION: Bachelor’s or Master’s in GIS, busi...</td>\n",
              "      <td>0</td>\n",
              "    </tr>\n",
              "    <tr>\n",
              "      <th>4</th>\n",
              "      <td>JOB TITLE: Itemization Review ManagerLOCATION:...</td>\n",
              "      <td>QUALIFICATIONS:RN license in the State of Texa...</td>\n",
              "      <td>0</td>\n",
              "    </tr>\n",
              "  </tbody>\n",
              "</table>\n",
              "</div>\n",
              "      <button class=\"colab-df-convert\" onclick=\"convertToInteractive('df-37b00a16-0c0d-4681-8833-d2432acb172b')\"\n",
              "              title=\"Convert this dataframe to an interactive table.\"\n",
              "              style=\"display:none;\">\n",
              "        \n",
              "  <svg xmlns=\"http://www.w3.org/2000/svg\" height=\"24px\"viewBox=\"0 0 24 24\"\n",
              "       width=\"24px\">\n",
              "    <path d=\"M0 0h24v24H0V0z\" fill=\"none\"/>\n",
              "    <path d=\"M18.56 5.44l.94 2.06.94-2.06 2.06-.94-2.06-.94-.94-2.06-.94 2.06-2.06.94zm-11 1L8.5 8.5l.94-2.06 2.06-.94-2.06-.94L8.5 2.5l-.94 2.06-2.06.94zm10 10l.94 2.06.94-2.06 2.06-.94-2.06-.94-.94-2.06-.94 2.06-2.06.94z\"/><path d=\"M17.41 7.96l-1.37-1.37c-.4-.4-.92-.59-1.43-.59-.52 0-1.04.2-1.43.59L10.3 9.45l-7.72 7.72c-.78.78-.78 2.05 0 2.83L4 21.41c.39.39.9.59 1.41.59.51 0 1.02-.2 1.41-.59l7.78-7.78 2.81-2.81c.8-.78.8-2.07 0-2.86zM5.41 20L4 18.59l7.72-7.72 1.47 1.35L5.41 20z\"/>\n",
              "  </svg>\n",
              "      </button>\n",
              "      \n",
              "  <style>\n",
              "    .colab-df-container {\n",
              "      display:flex;\n",
              "      flex-wrap:wrap;\n",
              "      gap: 12px;\n",
              "    }\n",
              "\n",
              "    .colab-df-convert {\n",
              "      background-color: #E8F0FE;\n",
              "      border: none;\n",
              "      border-radius: 50%;\n",
              "      cursor: pointer;\n",
              "      display: none;\n",
              "      fill: #1967D2;\n",
              "      height: 32px;\n",
              "      padding: 0 0 0 0;\n",
              "      width: 32px;\n",
              "    }\n",
              "\n",
              "    .colab-df-convert:hover {\n",
              "      background-color: #E2EBFA;\n",
              "      box-shadow: 0px 1px 2px rgba(60, 64, 67, 0.3), 0px 1px 3px 1px rgba(60, 64, 67, 0.15);\n",
              "      fill: #174EA6;\n",
              "    }\n",
              "\n",
              "    [theme=dark] .colab-df-convert {\n",
              "      background-color: #3B4455;\n",
              "      fill: #D2E3FC;\n",
              "    }\n",
              "\n",
              "    [theme=dark] .colab-df-convert:hover {\n",
              "      background-color: #434B5C;\n",
              "      box-shadow: 0px 1px 3px 1px rgba(0, 0, 0, 0.15);\n",
              "      filter: drop-shadow(0px 1px 2px rgba(0, 0, 0, 0.3));\n",
              "      fill: #FFFFFF;\n",
              "    }\n",
              "  </style>\n",
              "\n",
              "      <script>\n",
              "        const buttonEl =\n",
              "          document.querySelector('#df-37b00a16-0c0d-4681-8833-d2432acb172b button.colab-df-convert');\n",
              "        buttonEl.style.display =\n",
              "          google.colab.kernel.accessAllowed ? 'block' : 'none';\n",
              "\n",
              "        async function convertToInteractive(key) {\n",
              "          const element = document.querySelector('#df-37b00a16-0c0d-4681-8833-d2432acb172b');\n",
              "          const dataTable =\n",
              "            await google.colab.kernel.invokeFunction('convertToInteractive',\n",
              "                                                     [key], {});\n",
              "          if (!dataTable) return;\n",
              "\n",
              "          const docLinkHtml = 'Like what you see? Visit the ' +\n",
              "            '<a target=\"_blank\" href=https://colab.research.google.com/notebooks/data_table.ipynb>data table notebook</a>'\n",
              "            + ' to learn more about interactive tables.';\n",
              "          element.innerHTML = '';\n",
              "          dataTable['output_type'] = 'display_data';\n",
              "          await google.colab.output.renderOutput(dataTable, element);\n",
              "          const docLink = document.createElement('div');\n",
              "          docLink.innerHTML = docLinkHtml;\n",
              "          element.appendChild(docLink);\n",
              "        }\n",
              "      </script>\n",
              "    </div>\n",
              "  </div>\n",
              "  "
            ]
          },
          "metadata": {},
          "execution_count": 83
        }
      ]
    },
    {
      "cell_type": "code",
      "source": [
        "df.shape"
      ],
      "metadata": {
        "colab": {
          "base_uri": "https://localhost:8080/"
        },
        "id": "Uk4Tr0IAPQeH",
        "outputId": "110cadd6-7c3b-46d4-d02b-5823ae6c6bc8"
      },
      "execution_count": null,
      "outputs": [
        {
          "output_type": "execute_result",
          "data": {
            "text/plain": [
              "(17880, 3)"
            ]
          },
          "metadata": {},
          "execution_count": 84
        }
      ]
    },
    {
      "cell_type": "code",
      "source": [
        "###Drop Nan Values\n",
        "df=df.dropna()"
      ],
      "metadata": {
        "id": "6uvtCr1wPww0"
      },
      "execution_count": null,
      "outputs": []
    },
    {
      "cell_type": "code",
      "source": [
        "df.shape"
      ],
      "metadata": {
        "colab": {
          "base_uri": "https://localhost:8080/"
        },
        "id": "nErDhNtYPymk",
        "outputId": "d4f3e687-74cb-4357-813c-b2fa07fd75e9"
      },
      "execution_count": null,
      "outputs": [
        {
          "output_type": "execute_result",
          "data": {
            "text/plain": [
              "(17880, 3)"
            ]
          },
          "metadata": {},
          "execution_count": 86
        }
      ]
    },
    {
      "cell_type": "code",
      "source": [
        "#Dependent feacture\n",
        "new_X=df.drop('fraudulent',axis=1)\n",
        "new_X.head()"
      ],
      "metadata": {
        "colab": {
          "base_uri": "https://localhost:8080/",
          "height": 206
        },
        "id": "hGc73SGJP0KB",
        "outputId": "20f7be68-23f5-4cc1-fc7d-87ac0e044805"
      },
      "execution_count": null,
      "outputs": [
        {
          "output_type": "execute_result",
          "data": {
            "text/plain": [
              "                                         description  \\\n",
              "0  Food52, a fast-growing, James Beard Award-winn...   \n",
              "1  Organised - Focused - Vibrant - Awesome!Do you...   \n",
              "2  Our client, located in Houston, is actively se...   \n",
              "3  THE COMPANY: ESRI – Environmental Systems Rese...   \n",
              "4  JOB TITLE: Itemization Review ManagerLOCATION:...   \n",
              "\n",
              "                                        requirements  \n",
              "0  Experience with content management systems a m...  \n",
              "1  What we expect from you:Your key responsibilit...  \n",
              "2  Implement pre-commissioning and commissioning ...  \n",
              "3  EDUCATION: Bachelor’s or Master’s in GIS, busi...  \n",
              "4  QUALIFICATIONS:RN license in the State of Texa...  "
            ],
            "text/html": [
              "\n",
              "  <div id=\"df-a35aaec2-1c27-4e91-8fb2-ff956c224a0d\">\n",
              "    <div class=\"colab-df-container\">\n",
              "      <div>\n",
              "<style scoped>\n",
              "    .dataframe tbody tr th:only-of-type {\n",
              "        vertical-align: middle;\n",
              "    }\n",
              "\n",
              "    .dataframe tbody tr th {\n",
              "        vertical-align: top;\n",
              "    }\n",
              "\n",
              "    .dataframe thead th {\n",
              "        text-align: right;\n",
              "    }\n",
              "</style>\n",
              "<table border=\"1\" class=\"dataframe\">\n",
              "  <thead>\n",
              "    <tr style=\"text-align: right;\">\n",
              "      <th></th>\n",
              "      <th>description</th>\n",
              "      <th>requirements</th>\n",
              "    </tr>\n",
              "  </thead>\n",
              "  <tbody>\n",
              "    <tr>\n",
              "      <th>0</th>\n",
              "      <td>Food52, a fast-growing, James Beard Award-winn...</td>\n",
              "      <td>Experience with content management systems a m...</td>\n",
              "    </tr>\n",
              "    <tr>\n",
              "      <th>1</th>\n",
              "      <td>Organised - Focused - Vibrant - Awesome!Do you...</td>\n",
              "      <td>What we expect from you:Your key responsibilit...</td>\n",
              "    </tr>\n",
              "    <tr>\n",
              "      <th>2</th>\n",
              "      <td>Our client, located in Houston, is actively se...</td>\n",
              "      <td>Implement pre-commissioning and commissioning ...</td>\n",
              "    </tr>\n",
              "    <tr>\n",
              "      <th>3</th>\n",
              "      <td>THE COMPANY: ESRI – Environmental Systems Rese...</td>\n",
              "      <td>EDUCATION: Bachelor’s or Master’s in GIS, busi...</td>\n",
              "    </tr>\n",
              "    <tr>\n",
              "      <th>4</th>\n",
              "      <td>JOB TITLE: Itemization Review ManagerLOCATION:...</td>\n",
              "      <td>QUALIFICATIONS:RN license in the State of Texa...</td>\n",
              "    </tr>\n",
              "  </tbody>\n",
              "</table>\n",
              "</div>\n",
              "      <button class=\"colab-df-convert\" onclick=\"convertToInteractive('df-a35aaec2-1c27-4e91-8fb2-ff956c224a0d')\"\n",
              "              title=\"Convert this dataframe to an interactive table.\"\n",
              "              style=\"display:none;\">\n",
              "        \n",
              "  <svg xmlns=\"http://www.w3.org/2000/svg\" height=\"24px\"viewBox=\"0 0 24 24\"\n",
              "       width=\"24px\">\n",
              "    <path d=\"M0 0h24v24H0V0z\" fill=\"none\"/>\n",
              "    <path d=\"M18.56 5.44l.94 2.06.94-2.06 2.06-.94-2.06-.94-.94-2.06-.94 2.06-2.06.94zm-11 1L8.5 8.5l.94-2.06 2.06-.94-2.06-.94L8.5 2.5l-.94 2.06-2.06.94zm10 10l.94 2.06.94-2.06 2.06-.94-2.06-.94-.94-2.06-.94 2.06-2.06.94z\"/><path d=\"M17.41 7.96l-1.37-1.37c-.4-.4-.92-.59-1.43-.59-.52 0-1.04.2-1.43.59L10.3 9.45l-7.72 7.72c-.78.78-.78 2.05 0 2.83L4 21.41c.39.39.9.59 1.41.59.51 0 1.02-.2 1.41-.59l7.78-7.78 2.81-2.81c.8-.78.8-2.07 0-2.86zM5.41 20L4 18.59l7.72-7.72 1.47 1.35L5.41 20z\"/>\n",
              "  </svg>\n",
              "      </button>\n",
              "      \n",
              "  <style>\n",
              "    .colab-df-container {\n",
              "      display:flex;\n",
              "      flex-wrap:wrap;\n",
              "      gap: 12px;\n",
              "    }\n",
              "\n",
              "    .colab-df-convert {\n",
              "      background-color: #E8F0FE;\n",
              "      border: none;\n",
              "      border-radius: 50%;\n",
              "      cursor: pointer;\n",
              "      display: none;\n",
              "      fill: #1967D2;\n",
              "      height: 32px;\n",
              "      padding: 0 0 0 0;\n",
              "      width: 32px;\n",
              "    }\n",
              "\n",
              "    .colab-df-convert:hover {\n",
              "      background-color: #E2EBFA;\n",
              "      box-shadow: 0px 1px 2px rgba(60, 64, 67, 0.3), 0px 1px 3px 1px rgba(60, 64, 67, 0.15);\n",
              "      fill: #174EA6;\n",
              "    }\n",
              "\n",
              "    [theme=dark] .colab-df-convert {\n",
              "      background-color: #3B4455;\n",
              "      fill: #D2E3FC;\n",
              "    }\n",
              "\n",
              "    [theme=dark] .colab-df-convert:hover {\n",
              "      background-color: #434B5C;\n",
              "      box-shadow: 0px 1px 3px 1px rgba(0, 0, 0, 0.15);\n",
              "      filter: drop-shadow(0px 1px 2px rgba(0, 0, 0, 0.3));\n",
              "      fill: #FFFFFF;\n",
              "    }\n",
              "  </style>\n",
              "\n",
              "      <script>\n",
              "        const buttonEl =\n",
              "          document.querySelector('#df-a35aaec2-1c27-4e91-8fb2-ff956c224a0d button.colab-df-convert');\n",
              "        buttonEl.style.display =\n",
              "          google.colab.kernel.accessAllowed ? 'block' : 'none';\n",
              "\n",
              "        async function convertToInteractive(key) {\n",
              "          const element = document.querySelector('#df-a35aaec2-1c27-4e91-8fb2-ff956c224a0d');\n",
              "          const dataTable =\n",
              "            await google.colab.kernel.invokeFunction('convertToInteractive',\n",
              "                                                     [key], {});\n",
              "          if (!dataTable) return;\n",
              "\n",
              "          const docLinkHtml = 'Like what you see? Visit the ' +\n",
              "            '<a target=\"_blank\" href=https://colab.research.google.com/notebooks/data_table.ipynb>data table notebook</a>'\n",
              "            + ' to learn more about interactive tables.';\n",
              "          element.innerHTML = '';\n",
              "          dataTable['output_type'] = 'display_data';\n",
              "          await google.colab.output.renderOutput(dataTable, element);\n",
              "          const docLink = document.createElement('div');\n",
              "          docLink.innerHTML = docLinkHtml;\n",
              "          element.appendChild(docLink);\n",
              "        }\n",
              "      </script>\n",
              "    </div>\n",
              "  </div>\n",
              "  "
            ]
          },
          "metadata": {},
          "execution_count": 87
        }
      ]
    },
    {
      "cell_type": "code",
      "source": [
        "## Get the Dependent features\n",
        "new_y=df['fraudulent']\n",
        "new_y.head()"
      ],
      "metadata": {
        "colab": {
          "base_uri": "https://localhost:8080/"
        },
        "id": "t-HzN8WaP15q",
        "outputId": "ca8e0ab0-20e4-4d0f-ae49-83aa1e87eb16"
      },
      "execution_count": null,
      "outputs": [
        {
          "output_type": "execute_result",
          "data": {
            "text/plain": [
              "0    0\n",
              "1    0\n",
              "2    0\n",
              "3    0\n",
              "4    0\n",
              "Name: fraudulent, dtype: int64"
            ]
          },
          "metadata": {},
          "execution_count": 88
        }
      ]
    },
    {
      "cell_type": "code",
      "source": [
        "new_y.value_counts()"
      ],
      "metadata": {
        "colab": {
          "base_uri": "https://localhost:8080/"
        },
        "id": "MI4JmEVGP4R7",
        "outputId": "9ab778f9-45e9-4303-9aeb-a66aca867195"
      },
      "execution_count": null,
      "outputs": [
        {
          "output_type": "execute_result",
          "data": {
            "text/plain": [
              "0    17014\n",
              "1      866\n",
              "Name: fraudulent, dtype: int64"
            ]
          },
          "metadata": {},
          "execution_count": 89
        }
      ]
    },
    {
      "cell_type": "code",
      "source": [
        "voc_size=5000"
      ],
      "metadata": {
        "id": "BQT-MEP8QBvI"
      },
      "execution_count": null,
      "outputs": []
    },
    {
      "cell_type": "code",
      "source": [
        "message = new_X.copy()"
      ],
      "metadata": {
        "id": "l4dMbi7KQDOV"
      },
      "execution_count": null,
      "outputs": []
    },
    {
      "cell_type": "code",
      "source": [
        "message['description'][1]"
      ],
      "metadata": {
        "colab": {
          "base_uri": "https://localhost:8080/",
          "height": 122
        },
        "id": "ww3NTpk1QHKa",
        "outputId": "b180c3f1-bc7e-46e2-fc1e-5d01c64c7843"
      },
      "execution_count": null,
      "outputs": [
        {
          "output_type": "execute_result",
          "data": {
            "text/plain": [
              "\"Organised - Focused - Vibrant - Awesome!Do you have a passion for customer service? Slick typing skills? Maybe Account Management? ...And think administration is cooler than a polar bear on a jetski? Then we need to hear you!\\xa0We are the Cloud Video Production Service and opperating on a glodal level. Yeah, it's pretty cool. Serious about\\xa0delivering a world class product and excellent customer service.Our rapidly expanding business is looking for a talented Project Manager to manage the successful delivery of video projects, manage client communications and drive the production process. Work with some of the coolest brands on the planet and learn from a global team that are representing NZ is a huge way!We are entering the next growth stage of our business and growing quickly internationally. \\xa0Therefore, the position is bursting with opportunity for the right person entering the business at the right time.\\xa090 Seconds, the worlds Cloud Video Production Service -\\xa0http://90#URL_fbe6559afac620a3cd2c22281f7b8d0eef56a73e3d9a311e2f1ca13d081dd630#90 Seconds is the worlds Cloud Video Production Service enabling brands and agencies to get high quality online video content shot and produced anywhere in the world. Fast, affordable, and all managed seamlessly in the cloud from purchase to publish.\\xa090 Seconds removes the hassle, cost, risk and speed issues of working with regular video production companies by managing every aspect of video projects in a beautiful online experience. \\xa0With a growing network of over 2,000 rated video professionals in over 50 countries and dedicated production success teams in 5 countries guaranteeing video project success 100%. It's as easy as commissioning a quick google adwords campaign.90 Seconds has produced almost 4,000 videos in over 30 Countries for over 500 Global brands including some of the worlds largest including Paypal, L'oreal, Sony and Barclays and has offices in Auckland, London, Sydney, Tokyo &amp; Singapore.Our Auckland office is based\\xa0right in the heart of the Wynyard Quarter Innovation Precinct - GridAKL!\\xa0\""
            ],
            "application/vnd.google.colaboratory.intrinsic+json": {
              "type": "string"
            }
          },
          "metadata": {},
          "execution_count": 92
        }
      ]
    },
    {
      "cell_type": "code",
      "source": [
        "message.reset_index(inplace=True)"
      ],
      "metadata": {
        "id": "uUMRZPfdQI3T"
      },
      "execution_count": null,
      "outputs": []
    },
    {
      "cell_type": "code",
      "source": [
        "from nltk.stem.porter import PorterStemmer\n",
        "ps = PorterStemmer()\n",
        "corpus = []\n",
        "for i in range(0, len(message)):\n",
        "    review = re.sub('[^a-zA-Z]', ' ', message['description'][i])\n",
        "    review = review.lower()\n",
        "    review = review.split()\n",
        "    \n",
        "    review = [ps.stem(word) for word in review if not word in stopwords.words('english')]\n",
        "    review = ' '.join(review)\n",
        "    corpus.append(review)"
      ],
      "metadata": {
        "id": "8jlKw11cQKh8"
      },
      "execution_count": null,
      "outputs": []
    },
    {
      "cell_type": "code",
      "source": [
        "corpus[1]"
      ],
      "metadata": {
        "colab": {
          "base_uri": "https://localhost:8080/",
          "height": 122
        },
        "id": "4cYQLfDxQMYL",
        "outputId": "b6a9ec61-ceab-4035-efc9-ffb81857d26b"
      },
      "execution_count": null,
      "outputs": [
        {
          "output_type": "execute_result",
          "data": {
            "text/plain": [
              "'organis focus vibrant awesom passion custom servic slick type skill mayb account manag think administr cooler polar bear jetski need hear cloud video product servic opper glodal level yeah pretti cool seriou deliv world class product excel custom servic rapidli expand busi look talent project manag manag success deliveri video project manag client commun drive product process work coolest brand planet learn global team repres nz huge way enter next growth stage busi grow quickli intern therefor posit burst opportun right person enter busi right time second world cloud video product servic http url fbe afac cd c f b eef e e f ca dd second world cloud video product servic enabl brand agenc get high qualiti onlin video content shot produc anywher world fast afford manag seamlessli cloud purchas publish second remov hassl cost risk speed issu work regular video product compani manag everi aspect video project beauti onlin experi grow network rate video profession countri dedic product success team countri guarante video project success easi commiss quick googl adword campaign second produc almost video countri global brand includ world largest includ paypal l oreal soni barclay offic auckland london sydney tokyo amp singapor auckland offic base right heart wynyard quarter innov precinct gridakl'"
            ],
            "application/vnd.google.colaboratory.intrinsic+json": {
              "type": "string"
            }
          },
          "metadata": {},
          "execution_count": 95
        }
      ]
    },
    {
      "cell_type": "code",
      "source": [
        "onehot_repr=[one_hot(words,voc_size)for words in corpus] \n",
        "onehot_repr[1]"
      ],
      "metadata": {
        "colab": {
          "base_uri": "https://localhost:8080/"
        },
        "id": "nKowqLDVSa2i",
        "outputId": "cc6d74dc-e1d3-47d3-d873-9e8135863e3f"
      },
      "execution_count": null,
      "outputs": [
        {
          "output_type": "execute_result",
          "data": {
            "text/plain": [
              "[2632,\n",
              " 2550,\n",
              " 1616,\n",
              " 982,\n",
              " 997,\n",
              " 305,\n",
              " 1975,\n",
              " 2098,\n",
              " 2511,\n",
              " 3111,\n",
              " 4818,\n",
              " 4238,\n",
              " 4764,\n",
              " 1693,\n",
              " 4229,\n",
              " 2720,\n",
              " 4871,\n",
              " 4018,\n",
              " 914,\n",
              " 1855,\n",
              " 2387,\n",
              " 480,\n",
              " 4622,\n",
              " 4534,\n",
              " 1975,\n",
              " 898,\n",
              " 1859,\n",
              " 2575,\n",
              " 3850,\n",
              " 1195,\n",
              " 4260,\n",
              " 785,\n",
              " 504,\n",
              " 784,\n",
              " 4225,\n",
              " 4534,\n",
              " 1123,\n",
              " 305,\n",
              " 1975,\n",
              " 3206,\n",
              " 531,\n",
              " 1592,\n",
              " 522,\n",
              " 4029,\n",
              " 4792,\n",
              " 4764,\n",
              " 4764,\n",
              " 222,\n",
              " 178,\n",
              " 4622,\n",
              " 4792,\n",
              " 4764,\n",
              " 3415,\n",
              " 1164,\n",
              " 1471,\n",
              " 4534,\n",
              " 260,\n",
              " 3379,\n",
              " 3040,\n",
              " 551,\n",
              " 2002,\n",
              " 2264,\n",
              " 1967,\n",
              " 4401,\n",
              " 4471,\n",
              " 3935,\n",
              " 2312,\n",
              " 4397,\n",
              " 4412,\n",
              " 2879,\n",
              " 4232,\n",
              " 4135,\n",
              " 1592,\n",
              " 3901,\n",
              " 3298,\n",
              " 1292,\n",
              " 584,\n",
              " 4480,\n",
              " 2813,\n",
              " 4873,\n",
              " 2900,\n",
              " 3898,\n",
              " 4412,\n",
              " 1592,\n",
              " 2900,\n",
              " 62,\n",
              " 2412,\n",
              " 784,\n",
              " 480,\n",
              " 4622,\n",
              " 4534,\n",
              " 1975,\n",
              " 148,\n",
              " 2721,\n",
              " 1836,\n",
              " 3412,\n",
              " 1494,\n",
              " 2070,\n",
              " 3442,\n",
              " 2418,\n",
              " 882,\n",
              " 2111,\n",
              " 2111,\n",
              " 3442,\n",
              " 3773,\n",
              " 2875,\n",
              " 2412,\n",
              " 784,\n",
              " 480,\n",
              " 4622,\n",
              " 4534,\n",
              " 1975,\n",
              " 3771,\n",
              " 551,\n",
              " 324,\n",
              " 3293,\n",
              " 1497,\n",
              " 95,\n",
              " 294,\n",
              " 4622,\n",
              " 4051,\n",
              " 4356,\n",
              " 1304,\n",
              " 2640,\n",
              " 784,\n",
              " 2030,\n",
              " 4703,\n",
              " 4764,\n",
              " 2805,\n",
              " 480,\n",
              " 1975,\n",
              " 4524,\n",
              " 2412,\n",
              " 2152,\n",
              " 1790,\n",
              " 1628,\n",
              " 4354,\n",
              " 2495,\n",
              " 1597,\n",
              " 3379,\n",
              " 1330,\n",
              " 4622,\n",
              " 4534,\n",
              " 3758,\n",
              " 4764,\n",
              " 2803,\n",
              " 2400,\n",
              " 4622,\n",
              " 4792,\n",
              " 2147,\n",
              " 294,\n",
              " 3696,\n",
              " 3901,\n",
              " 2354,\n",
              " 1634,\n",
              " 4622,\n",
              " 1839,\n",
              " 1297,\n",
              " 1052,\n",
              " 4534,\n",
              " 222,\n",
              " 4401,\n",
              " 1297,\n",
              " 122,\n",
              " 4622,\n",
              " 4792,\n",
              " 222,\n",
              " 3223,\n",
              " 4887,\n",
              " 189,\n",
              " 2935,\n",
              " 1771,\n",
              " 1628,\n",
              " 2412,\n",
              " 1304,\n",
              " 2621,\n",
              " 4622,\n",
              " 1297,\n",
              " 1967,\n",
              " 551,\n",
              " 4106,\n",
              " 784,\n",
              " 740,\n",
              " 4106,\n",
              " 4587,\n",
              " 2265,\n",
              " 2352,\n",
              " 3580,\n",
              " 1012,\n",
              " 3058,\n",
              " 1452,\n",
              " 2550,\n",
              " 3964,\n",
              " 2908,\n",
              " 2671,\n",
              " 3319,\n",
              " 1452,\n",
              " 3058,\n",
              " 1626,\n",
              " 2900,\n",
              " 4993,\n",
              " 1497,\n",
              " 2754,\n",
              " 2527,\n",
              " 832,\n",
              " 4645]"
            ]
          },
          "metadata": {},
          "execution_count": 96
        }
      ]
    },
    {
      "cell_type": "code",
      "source": [
        "sent_length=40\n",
        "embedded_docs=pad_sequences(onehot_repr,padding='pre',maxlen=sent_length)\n",
        "print(embedded_docs)"
      ],
      "metadata": {
        "colab": {
          "base_uri": "https://localhost:8080/"
        },
        "id": "8UB8f_1dSolN",
        "outputId": "906e3eaa-52df-43ec-f31a-4bb969e7cc5b"
      },
      "execution_count": null,
      "outputs": [
        {
          "output_type": "stream",
          "name": "stdout",
          "text": [
            "[[1477 4051 4764 ...  485  479  744]\n",
            " [ 222 3223 4887 ... 2527  832 4645]\n",
            " [   0    0    0 ... 1780 3492 3411]\n",
            " ...\n",
            " [1238 3566 3435 ... 3187 2223 2197]\n",
            " [ 763  791 3583 ... 3935 1292 4792]\n",
            " [2068  125 2749 ... 3215  197  935]]\n"
          ]
        }
      ]
    },
    {
      "cell_type": "code",
      "source": [
        "a=embedded_docs[0]\n",
        "len(a)"
      ],
      "metadata": {
        "colab": {
          "base_uri": "https://localhost:8080/"
        },
        "id": "3RfadOUtSsSh",
        "outputId": "2790cf22-cf28-400b-ff96-cc81c1fed521"
      },
      "execution_count": null,
      "outputs": [
        {
          "output_type": "execute_result",
          "data": {
            "text/plain": [
              "40"
            ]
          },
          "metadata": {},
          "execution_count": 99
        }
      ]
    },
    {
      "cell_type": "code",
      "source": [
        "## Creating model\n",
        "embedding_vector_features=50\n",
        "model1=Sequential()\n",
        "model1.add(Embedding(voc_size,embedding_vector_features,input_length=sent_length))\n",
        "model1.add(Bidirectional(LSTM(100))) ##Just add bidirectional!!, except it would just behave as normal LSTM Model\n",
        "model1.add(Dropout(0.3))\n",
        "model1.add(Dense(1,activation='sigmoid'))\n",
        "model1.compile(loss='binary_crossentropy',optimizer='adam',metrics=['accuracy'])\n",
        "print(model1.summary())"
      ],
      "metadata": {
        "colab": {
          "base_uri": "https://localhost:8080/"
        },
        "id": "4iDtIlcbSzIa",
        "outputId": "fce2b123-f33e-45f8-879a-7cb361366666"
      },
      "execution_count": null,
      "outputs": [
        {
          "output_type": "stream",
          "name": "stdout",
          "text": [
            "Model: \"sequential\"\n",
            "_________________________________________________________________\n",
            " Layer (type)                Output Shape              Param #   \n",
            "=================================================================\n",
            " embedding (Embedding)       (None, 40, 50)            250000    \n",
            "                                                                 \n",
            " bidirectional (Bidirectiona  (None, 200)              120800    \n",
            " l)                                                              \n",
            "                                                                 \n",
            " dropout (Dropout)           (None, 200)               0         \n",
            "                                                                 \n",
            " dense (Dense)               (None, 1)                 201       \n",
            "                                                                 \n",
            "=================================================================\n",
            "Total params: 371,001\n",
            "Trainable params: 371,001\n",
            "Non-trainable params: 0\n",
            "_________________________________________________________________\n",
            "None\n"
          ]
        }
      ]
    },
    {
      "cell_type": "code",
      "source": [
        "len(embedded_docs),new_y.shape"
      ],
      "metadata": {
        "colab": {
          "base_uri": "https://localhost:8080/"
        },
        "id": "pmk0YuVTS76-",
        "outputId": "51487b9d-bedd-49d4-f346-65037fc572c4"
      },
      "execution_count": null,
      "outputs": [
        {
          "output_type": "execute_result",
          "data": {
            "text/plain": [
              "(17880, (17880,))"
            ]
          },
          "metadata": {},
          "execution_count": 101
        }
      ]
    },
    {
      "cell_type": "code",
      "source": [
        "X_final=np.array(embedded_docs)\n",
        "y_final=np.array(new_y)"
      ],
      "metadata": {
        "id": "b-5Zch2lS_R9"
      },
      "execution_count": null,
      "outputs": []
    },
    {
      "cell_type": "code",
      "source": [
        "from sklearn.model_selection import train_test_split\n",
        "X_train, X_test, y_train, y_test = train_test_split(X_final, y_final, test_size=0.25, random_state=32)"
      ],
      "metadata": {
        "id": "w-mQ4hpGTBIq"
      },
      "execution_count": null,
      "outputs": []
    },
    {
      "cell_type": "code",
      "source": [
        "model1.fit(X_train,y_train,validation_data=(X_test,y_test),epochs=12,batch_size=64)"
      ],
      "metadata": {
        "colab": {
          "base_uri": "https://localhost:8080/"
        },
        "id": "66ehPynhTCyG",
        "outputId": "02045715-d4df-4911-ae9e-f0c6a80dc493"
      },
      "execution_count": null,
      "outputs": [
        {
          "output_type": "stream",
          "name": "stdout",
          "text": [
            "Epoch 1/12\n",
            "210/210 [==============================] - 27s 103ms/step - loss: 0.1811 - accuracy: 0.9565 - val_loss: 0.1184 - val_accuracy: 0.9653\n",
            "Epoch 2/12\n",
            "210/210 [==============================] - 20s 97ms/step - loss: 0.0891 - accuracy: 0.9728 - val_loss: 0.1055 - val_accuracy: 0.9711\n",
            "Epoch 3/12\n",
            "210/210 [==============================] - 21s 99ms/step - loss: 0.0568 - accuracy: 0.9822 - val_loss: 0.1078 - val_accuracy: 0.9738\n",
            "Epoch 4/12\n",
            "210/210 [==============================] - 21s 100ms/step - loss: 0.0354 - accuracy: 0.9887 - val_loss: 0.1267 - val_accuracy: 0.9734\n",
            "Epoch 5/12\n",
            "210/210 [==============================] - 21s 102ms/step - loss: 0.0247 - accuracy: 0.9928 - val_loss: 0.1174 - val_accuracy: 0.9745\n",
            "Epoch 6/12\n",
            "210/210 [==============================] - 22s 105ms/step - loss: 0.0130 - accuracy: 0.9963 - val_loss: 0.1506 - val_accuracy: 0.9687\n",
            "Epoch 7/12\n",
            "210/210 [==============================] - 20s 98ms/step - loss: 0.0078 - accuracy: 0.9982 - val_loss: 0.1687 - val_accuracy: 0.9707\n",
            "Epoch 8/12\n",
            "210/210 [==============================] - 21s 98ms/step - loss: 0.0071 - accuracy: 0.9978 - val_loss: 0.1907 - val_accuracy: 0.9738\n",
            "Epoch 9/12\n",
            "210/210 [==============================] - 20s 97ms/step - loss: 0.0054 - accuracy: 0.9987 - val_loss: 0.2005 - val_accuracy: 0.9752\n",
            "Epoch 10/12\n",
            "210/210 [==============================] - 20s 97ms/step - loss: 0.0030 - accuracy: 0.9993 - val_loss: 0.2077 - val_accuracy: 0.9749\n",
            "Epoch 11/12\n",
            "210/210 [==============================] - 21s 98ms/step - loss: 0.0017 - accuracy: 0.9997 - val_loss: 0.2169 - val_accuracy: 0.9725\n",
            "Epoch 12/12\n",
            "210/210 [==============================] - 21s 98ms/step - loss: 0.0040 - accuracy: 0.9989 - val_loss: 0.2118 - val_accuracy: 0.9754\n"
          ]
        },
        {
          "output_type": "execute_result",
          "data": {
            "text/plain": [
              "<keras.callbacks.History at 0x7f94ff423190>"
            ]
          },
          "metadata": {},
          "execution_count": 104
        }
      ]
    },
    {
      "cell_type": "code",
      "source": [
        "y_pred=model1.predict(X_test)\n",
        "y_pred"
      ],
      "metadata": {
        "colab": {
          "base_uri": "https://localhost:8080/"
        },
        "id": "3ZRCL3ssTEcZ",
        "outputId": "fd221065-da26-49cf-ebf2-4d2a63ea011d"
      },
      "execution_count": null,
      "outputs": [
        {
          "output_type": "execute_result",
          "data": {
            "text/plain": [
              "array([[2.4808756e-07],\n",
              "       [8.1939943e-05],\n",
              "       [1.3914766e-07],\n",
              "       ...,\n",
              "       [9.9997866e-01],\n",
              "       [2.1594589e-05],\n",
              "       [1.8661719e-07]], dtype=float32)"
            ]
          },
          "metadata": {},
          "execution_count": 105
        }
      ]
    },
    {
      "cell_type": "code",
      "source": [
        "y_pred = [1 if x >=0.5 else 0 for x in y_pred]\n",
        "y_pred[5:20]"
      ],
      "metadata": {
        "colab": {
          "base_uri": "https://localhost:8080/"
        },
        "id": "NMZXYaFbW5N6",
        "outputId": "e3b32c31-4485-40e6-eb83-0f0e98f52839"
      },
      "execution_count": null,
      "outputs": [
        {
          "output_type": "execute_result",
          "data": {
            "text/plain": [
              "[0, 0, 0, 0, 0, 0, 0, 0, 0, 1, 0, 0, 0, 0, 0]"
            ]
          },
          "metadata": {},
          "execution_count": 106
        }
      ]
    },
    {
      "cell_type": "code",
      "source": [
        "confusion_matrix(y_test,y_pred)"
      ],
      "metadata": {
        "colab": {
          "base_uri": "https://localhost:8080/"
        },
        "id": "tXnYZ_7gW81k",
        "outputId": "bec67f1a-c7da-4b96-dea7-817d34c18c3d"
      },
      "execution_count": null,
      "outputs": [
        {
          "output_type": "execute_result",
          "data": {
            "text/plain": [
              "array([[4226,   21],\n",
              "       [  89,  134]])"
            ]
          },
          "metadata": {},
          "execution_count": 107
        }
      ]
    },
    {
      "cell_type": "code",
      "source": [
        "accuracy_score(y_test,y_pred)\n",
        "print(\"Accuracy  {:.3} %\".format(accuracy_score(y_test, y_pred)*100))"
      ],
      "metadata": {
        "colab": {
          "base_uri": "https://localhost:8080/"
        },
        "id": "ifogN4pWW-sL",
        "outputId": "930b0c9d-9fd4-4640-e1d9-46748b7560f1"
      },
      "execution_count": null,
      "outputs": [
        {
          "output_type": "stream",
          "name": "stdout",
          "text": [
            "Accuracy  97.5 %\n"
          ]
        }
      ]
    },
    {
      "cell_type": "code",
      "source": [
        "print(classification_report(y_test,y_pred))"
      ],
      "metadata": {
        "colab": {
          "base_uri": "https://localhost:8080/"
        },
        "id": "FXmU7Fp2XBC4",
        "outputId": "a2e4a6e7-55f6-4edd-e892-6b7bb0b751d2"
      },
      "execution_count": null,
      "outputs": [
        {
          "output_type": "stream",
          "name": "stdout",
          "text": [
            "              precision    recall  f1-score   support\n",
            "\n",
            "           0       0.98      1.00      0.99      4247\n",
            "           1       0.86      0.60      0.71       223\n",
            "\n",
            "    accuracy                           0.98      4470\n",
            "   macro avg       0.92      0.80      0.85      4470\n",
            "weighted avg       0.97      0.98      0.97      4470\n",
            "\n"
          ]
        }
      ]
    },
    {
      "cell_type": "code",
      "source": [
        "#Accuracy score for Naive Bayes features\n",
        "\n",
        "nb_tfidf_score=accuracy_score(test_y, nb_tfidf_predict)\n",
        "print(\"Naive Bayes Accuracy  {:.3} %\".format(accuracy_score(test_y, nb_tfidf_predict)*100))"
      ],
      "metadata": {
        "colab": {
          "base_uri": "https://localhost:8080/"
        },
        "id": "51K90yT_XC3n",
        "outputId": "bf49459b-9209-44ac-a340-77e1eb8cb1db"
      },
      "execution_count": null,
      "outputs": [
        {
          "output_type": "stream",
          "name": "stdout",
          "text": [
            "Naive Bayes Accuracy  85.9 %\n"
          ]
        }
      ]
    },
    {
      "cell_type": "code",
      "source": [
        "print(\"Support Vector Machine Accuracy  {:.4} %\".format(accuracy_score(predicted, test_y)*100))"
      ],
      "metadata": {
        "colab": {
          "base_uri": "https://localhost:8080/"
        },
        "id": "kVQGpgf_XFr9",
        "outputId": "09d4dc9a-97c2-4dd2-f090-5f3dd0cc06ed"
      },
      "execution_count": null,
      "outputs": [
        {
          "output_type": "stream",
          "name": "stdout",
          "text": [
            "Support Vector Machine Accuracy  95.72 %\n"
          ]
        }
      ]
    },
    {
      "cell_type": "code",
      "source": [
        "print(\"BiLSTM Accuracy  {:.3} %\".format(accuracy_score(y_test, y_pred)*100))\n",
        "print(classification_report(y_test,y_pred))"
      ],
      "metadata": {
        "colab": {
          "base_uri": "https://localhost:8080/"
        },
        "id": "DbI3J9TFXH1G",
        "outputId": "97e21f97-01e2-40d8-9dd9-d2ec5e19d1a2"
      },
      "execution_count": null,
      "outputs": [
        {
          "output_type": "stream",
          "name": "stdout",
          "text": [
            "BiLSTM Accuracy  97.5 %\n",
            "              precision    recall  f1-score   support\n",
            "\n",
            "           0       0.98      1.00      0.99      4247\n",
            "           1       0.86      0.60      0.71       223\n",
            "\n",
            "    accuracy                           0.98      4470\n",
            "   macro avg       0.92      0.80      0.85      4470\n",
            "weighted avg       0.97      0.98      0.97      4470\n",
            "\n"
          ]
        }
      ]
    },
    {
      "cell_type": "markdown",
      "source": [
        "## Observetion :\n",
        "## Using kernel_initializer,  kernel_regularizer(L1 and L2) will get more accuracy\n",
        "\n",
        "1-he_uniform()\n",
        "he_uniform draws samples in uniform distribution with -inf to +inf as range.\n",
        "\n",
        "\n",
        "2-glorot_uniform()\n",
        "glorot_uniform draws samples in uniform distribution with stddev = sqrt(2 / (fan_in + fan_out)) fan_in is num of units in weight tensor and fan_out is num of output units.\n",
        "            \n",
        "\n"
      ],
      "metadata": {
        "id": "X7fhgo853P8Y"
      }
    },
    {
      "cell_type": "code",
      "source": [],
      "metadata": {
        "id": "tME172pK3rDp"
      },
      "execution_count": null,
      "outputs": []
    }
  ]
}