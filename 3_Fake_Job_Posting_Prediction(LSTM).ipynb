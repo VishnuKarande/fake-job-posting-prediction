{
  "nbformat": 4,
  "nbformat_minor": 0,
  "metadata": {
    "colab": {
      "provenance": [],
      "collapsed_sections": []
    },
    "kernelspec": {
      "name": "python3",
      "display_name": "Python 3"
    },
    "language_info": {
      "name": "python"
    },
    "accelerator": "GPU"
  },
  "cells": [
    {
      "cell_type": "markdown",
      "source": [
        "# Build LSTM model\n",
        "- As LSTM is a special case of RNN, which resolves the Vanishing Gradient problem by retaining the \n",
        "information in memory\n",
        "\n",
        "LSRM Structure-\n",
        "                \n",
        "                1-Forget Gate\n",
        "\n",
        "                2-input Gate\n",
        "\n",
        "                3-Output Gate"
      ],
      "metadata": {
        "id": "BTaSoNkEy2YY"
      }
    },
    {
      "cell_type": "markdown",
      "source": [
        "# Types of Sequence based Models\n",
        "\n",
        "              1-Sequence Generation\n",
        "\n",
        "              2-Sequence Classification\n",
        "\n",
        "              3-Sequence prediction\n",
        "\n",
        "\n",
        "### Fake-Job-Posting-Prediction i will uesd Sequence Classification and also use bidirectional LSTM \n",
        "\n",
        "\n"
      ],
      "metadata": {
        "id": "DRfjrr25zcPS"
      }
    },
    {
      "cell_type": "markdown",
      "source": [
        "# Bidirectional LSTM -\n",
        "\n",
        "A Bidirectional LSTM, or biLSTM, is a sequence processing model that consists of two LSTMs: one taking the input in a forward direction, and the other in a backwards direction.\n",
        "\n",
        "\n",
        "![image.png](data:image/png;base64,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)"
      ],
      "metadata": {
        "id": "S1Ae7aaR0rO4"
      }
    },
    {
      "cell_type": "markdown",
      "source": [
        "##Import library "
      ],
      "metadata": {
        "id": "_q4j8xQN5LEO"
      }
    },
    {
      "cell_type": "code",
      "execution_count": null,
      "metadata": {
        "id": "D3Pf2M9mZLXM"
      },
      "outputs": [],
      "source": [
        "import pandas as pd\n",
        "import numpy as np\n",
        "import seaborn as sb\n",
        "import matplotlib.pyplot as plt\n",
        "import re\n",
        "import nltk\n",
        "from nltk.corpus import stopwords\n",
        "import nltk as nlp\n",
        "from sklearn.feature_extraction.text import CountVectorizer"
      ]
    },
    {
      "cell_type": "markdown",
      "source": [
        "###Import Text preprocessing files"
      ],
      "metadata": {
        "id": "gaqe70kp5mgN"
      }
    },
    {
      "cell_type": "code",
      "source": [
        "df=pd.read_csv(\"Data.csv\")\n",
        "df"
      ],
      "metadata": {
        "colab": {
          "base_uri": "https://localhost:8080/",
          "height": 641
        },
        "id": "wIYzld4LZV5m",
        "outputId": "09f20da0-9ad7-44ff-b619-e2e65fbcb41b"
      },
      "execution_count": null,
      "outputs": [
        {
          "output_type": "execute_result",
          "data": {
            "text/plain": [
              "       job_id  salary_range  telecommuting  has_company_logo  has_questions  \\\n",
              "0           1             0              0                 1              0   \n",
              "1           2             0              0                 1              0   \n",
              "2           3             0              0                 1              0   \n",
              "3           4             0              0                 1              0   \n",
              "4           5             0              0                 1              1   \n",
              "...       ...           ...            ...               ...            ...   \n",
              "17875   17876             0              0                 1              1   \n",
              "17876   17877             0              0                 1              1   \n",
              "17877   17878             0              0                 0              0   \n",
              "17878   17879             0              0                 0              1   \n",
              "17879   17880             0              0                 1              1   \n",
              "\n",
              "      employment_type required_experience required_education  \\\n",
              "0               Other          Internship                NaN   \n",
              "1           Full-time      Not Applicable                NaN   \n",
              "2                 NaN                 NaN                NaN   \n",
              "3           Full-time    Mid-Senior level  Bachelor's Degree   \n",
              "4           Full-time    Mid-Senior level  Bachelor's Degree   \n",
              "...               ...                 ...                ...   \n",
              "17875       Full-time    Mid-Senior level                NaN   \n",
              "17876       Full-time    Mid-Senior level  Bachelor's Degree   \n",
              "17877       Full-time                 NaN                NaN   \n",
              "17878        Contract      Not Applicable       Professional   \n",
              "17879       Full-time    Mid-Senior level                NaN   \n",
              "\n",
              "                   function  fraudulent  \\\n",
              "0                 Marketing           0   \n",
              "1          Customer Service           0   \n",
              "2                       NaN           0   \n",
              "3                     Sales           0   \n",
              "4      Health Care Provider           0   \n",
              "...                     ...         ...   \n",
              "17875                 Sales           0   \n",
              "17876   Accounting/Auditing           0   \n",
              "17877                   NaN           0   \n",
              "17878                Design           0   \n",
              "17879           Engineering           0   \n",
              "\n",
              "                                                    text  \n",
              "0      marketing intern were food weve created ground...  \n",
              "1      customer service cloud video production second...  \n",
              "2      commissioning machinery assistant cma valor se...  \n",
              "3      account executive washington dc passion improv...  \n",
              "4      bill review manager spotsource solution llc gl...  \n",
              "...                                                  ...  \n",
              "17875  account director distribution vend looking awe...  \n",
              "17876  payroll accountant weblinc ecommerce platform ...  \n",
              "17877  project cost control staff engineer cost contr...  \n",
              "17878  graphic designer nemsia studio looking experie...  \n",
              "17879  web application developer vend looking awesome...  \n",
              "\n",
              "[17880 rows x 11 columns]"
            ],
            "text/html": [
              "\n",
              "  <div id=\"df-4587c2dc-d1bb-43a9-9449-7e894736cffb\">\n",
              "    <div class=\"colab-df-container\">\n",
              "      <div>\n",
              "<style scoped>\n",
              "    .dataframe tbody tr th:only-of-type {\n",
              "        vertical-align: middle;\n",
              "    }\n",
              "\n",
              "    .dataframe tbody tr th {\n",
              "        vertical-align: top;\n",
              "    }\n",
              "\n",
              "    .dataframe thead th {\n",
              "        text-align: right;\n",
              "    }\n",
              "</style>\n",
              "<table border=\"1\" class=\"dataframe\">\n",
              "  <thead>\n",
              "    <tr style=\"text-align: right;\">\n",
              "      <th></th>\n",
              "      <th>job_id</th>\n",
              "      <th>salary_range</th>\n",
              "      <th>telecommuting</th>\n",
              "      <th>has_company_logo</th>\n",
              "      <th>has_questions</th>\n",
              "      <th>employment_type</th>\n",
              "      <th>required_experience</th>\n",
              "      <th>required_education</th>\n",
              "      <th>function</th>\n",
              "      <th>fraudulent</th>\n",
              "      <th>text</th>\n",
              "    </tr>\n",
              "  </thead>\n",
              "  <tbody>\n",
              "    <tr>\n",
              "      <th>0</th>\n",
              "      <td>1</td>\n",
              "      <td>0</td>\n",
              "      <td>0</td>\n",
              "      <td>1</td>\n",
              "      <td>0</td>\n",
              "      <td>Other</td>\n",
              "      <td>Internship</td>\n",
              "      <td>NaN</td>\n",
              "      <td>Marketing</td>\n",
              "      <td>0</td>\n",
              "      <td>marketing intern were food weve created ground...</td>\n",
              "    </tr>\n",
              "    <tr>\n",
              "      <th>1</th>\n",
              "      <td>2</td>\n",
              "      <td>0</td>\n",
              "      <td>0</td>\n",
              "      <td>1</td>\n",
              "      <td>0</td>\n",
              "      <td>Full-time</td>\n",
              "      <td>Not Applicable</td>\n",
              "      <td>NaN</td>\n",
              "      <td>Customer Service</td>\n",
              "      <td>0</td>\n",
              "      <td>customer service cloud video production second...</td>\n",
              "    </tr>\n",
              "    <tr>\n",
              "      <th>2</th>\n",
              "      <td>3</td>\n",
              "      <td>0</td>\n",
              "      <td>0</td>\n",
              "      <td>1</td>\n",
              "      <td>0</td>\n",
              "      <td>NaN</td>\n",
              "      <td>NaN</td>\n",
              "      <td>NaN</td>\n",
              "      <td>NaN</td>\n",
              "      <td>0</td>\n",
              "      <td>commissioning machinery assistant cma valor se...</td>\n",
              "    </tr>\n",
              "    <tr>\n",
              "      <th>3</th>\n",
              "      <td>4</td>\n",
              "      <td>0</td>\n",
              "      <td>0</td>\n",
              "      <td>1</td>\n",
              "      <td>0</td>\n",
              "      <td>Full-time</td>\n",
              "      <td>Mid-Senior level</td>\n",
              "      <td>Bachelor's Degree</td>\n",
              "      <td>Sales</td>\n",
              "      <td>0</td>\n",
              "      <td>account executive washington dc passion improv...</td>\n",
              "    </tr>\n",
              "    <tr>\n",
              "      <th>4</th>\n",
              "      <td>5</td>\n",
              "      <td>0</td>\n",
              "      <td>0</td>\n",
              "      <td>1</td>\n",
              "      <td>1</td>\n",
              "      <td>Full-time</td>\n",
              "      <td>Mid-Senior level</td>\n",
              "      <td>Bachelor's Degree</td>\n",
              "      <td>Health Care Provider</td>\n",
              "      <td>0</td>\n",
              "      <td>bill review manager spotsource solution llc gl...</td>\n",
              "    </tr>\n",
              "    <tr>\n",
              "      <th>...</th>\n",
              "      <td>...</td>\n",
              "      <td>...</td>\n",
              "      <td>...</td>\n",
              "      <td>...</td>\n",
              "      <td>...</td>\n",
              "      <td>...</td>\n",
              "      <td>...</td>\n",
              "      <td>...</td>\n",
              "      <td>...</td>\n",
              "      <td>...</td>\n",
              "      <td>...</td>\n",
              "    </tr>\n",
              "    <tr>\n",
              "      <th>17875</th>\n",
              "      <td>17876</td>\n",
              "      <td>0</td>\n",
              "      <td>0</td>\n",
              "      <td>1</td>\n",
              "      <td>1</td>\n",
              "      <td>Full-time</td>\n",
              "      <td>Mid-Senior level</td>\n",
              "      <td>NaN</td>\n",
              "      <td>Sales</td>\n",
              "      <td>0</td>\n",
              "      <td>account director distribution vend looking awe...</td>\n",
              "    </tr>\n",
              "    <tr>\n",
              "      <th>17876</th>\n",
              "      <td>17877</td>\n",
              "      <td>0</td>\n",
              "      <td>0</td>\n",
              "      <td>1</td>\n",
              "      <td>1</td>\n",
              "      <td>Full-time</td>\n",
              "      <td>Mid-Senior level</td>\n",
              "      <td>Bachelor's Degree</td>\n",
              "      <td>Accounting/Auditing</td>\n",
              "      <td>0</td>\n",
              "      <td>payroll accountant weblinc ecommerce platform ...</td>\n",
              "    </tr>\n",
              "    <tr>\n",
              "      <th>17877</th>\n",
              "      <td>17878</td>\n",
              "      <td>0</td>\n",
              "      <td>0</td>\n",
              "      <td>0</td>\n",
              "      <td>0</td>\n",
              "      <td>Full-time</td>\n",
              "      <td>NaN</td>\n",
              "      <td>NaN</td>\n",
              "      <td>NaN</td>\n",
              "      <td>0</td>\n",
              "      <td>project cost control staff engineer cost contr...</td>\n",
              "    </tr>\n",
              "    <tr>\n",
              "      <th>17878</th>\n",
              "      <td>17879</td>\n",
              "      <td>0</td>\n",
              "      <td>0</td>\n",
              "      <td>0</td>\n",
              "      <td>1</td>\n",
              "      <td>Contract</td>\n",
              "      <td>Not Applicable</td>\n",
              "      <td>Professional</td>\n",
              "      <td>Design</td>\n",
              "      <td>0</td>\n",
              "      <td>graphic designer nemsia studio looking experie...</td>\n",
              "    </tr>\n",
              "    <tr>\n",
              "      <th>17879</th>\n",
              "      <td>17880</td>\n",
              "      <td>0</td>\n",
              "      <td>0</td>\n",
              "      <td>1</td>\n",
              "      <td>1</td>\n",
              "      <td>Full-time</td>\n",
              "      <td>Mid-Senior level</td>\n",
              "      <td>NaN</td>\n",
              "      <td>Engineering</td>\n",
              "      <td>0</td>\n",
              "      <td>web application developer vend looking awesome...</td>\n",
              "    </tr>\n",
              "  </tbody>\n",
              "</table>\n",
              "<p>17880 rows × 11 columns</p>\n",
              "</div>\n",
              "      <button class=\"colab-df-convert\" onclick=\"convertToInteractive('df-4587c2dc-d1bb-43a9-9449-7e894736cffb')\"\n",
              "              title=\"Convert this dataframe to an interactive table.\"\n",
              "              style=\"display:none;\">\n",
              "        \n",
              "  <svg xmlns=\"http://www.w3.org/2000/svg\" height=\"24px\"viewBox=\"0 0 24 24\"\n",
              "       width=\"24px\">\n",
              "    <path d=\"M0 0h24v24H0V0z\" fill=\"none\"/>\n",
              "    <path d=\"M18.56 5.44l.94 2.06.94-2.06 2.06-.94-2.06-.94-.94-2.06-.94 2.06-2.06.94zm-11 1L8.5 8.5l.94-2.06 2.06-.94-2.06-.94L8.5 2.5l-.94 2.06-2.06.94zm10 10l.94 2.06.94-2.06 2.06-.94-2.06-.94-.94-2.06-.94 2.06-2.06.94z\"/><path d=\"M17.41 7.96l-1.37-1.37c-.4-.4-.92-.59-1.43-.59-.52 0-1.04.2-1.43.59L10.3 9.45l-7.72 7.72c-.78.78-.78 2.05 0 2.83L4 21.41c.39.39.9.59 1.41.59.51 0 1.02-.2 1.41-.59l7.78-7.78 2.81-2.81c.8-.78.8-2.07 0-2.86zM5.41 20L4 18.59l7.72-7.72 1.47 1.35L5.41 20z\"/>\n",
              "  </svg>\n",
              "      </button>\n",
              "      \n",
              "  <style>\n",
              "    .colab-df-container {\n",
              "      display:flex;\n",
              "      flex-wrap:wrap;\n",
              "      gap: 12px;\n",
              "    }\n",
              "\n",
              "    .colab-df-convert {\n",
              "      background-color: #E8F0FE;\n",
              "      border: none;\n",
              "      border-radius: 50%;\n",
              "      cursor: pointer;\n",
              "      display: none;\n",
              "      fill: #1967D2;\n",
              "      height: 32px;\n",
              "      padding: 0 0 0 0;\n",
              "      width: 32px;\n",
              "    }\n",
              "\n",
              "    .colab-df-convert:hover {\n",
              "      background-color: #E2EBFA;\n",
              "      box-shadow: 0px 1px 2px rgba(60, 64, 67, 0.3), 0px 1px 3px 1px rgba(60, 64, 67, 0.15);\n",
              "      fill: #174EA6;\n",
              "    }\n",
              "\n",
              "    [theme=dark] .colab-df-convert {\n",
              "      background-color: #3B4455;\n",
              "      fill: #D2E3FC;\n",
              "    }\n",
              "\n",
              "    [theme=dark] .colab-df-convert:hover {\n",
              "      background-color: #434B5C;\n",
              "      box-shadow: 0px 1px 3px 1px rgba(0, 0, 0, 0.15);\n",
              "      filter: drop-shadow(0px 1px 2px rgba(0, 0, 0, 0.3));\n",
              "      fill: #FFFFFF;\n",
              "    }\n",
              "  </style>\n",
              "\n",
              "      <script>\n",
              "        const buttonEl =\n",
              "          document.querySelector('#df-4587c2dc-d1bb-43a9-9449-7e894736cffb button.colab-df-convert');\n",
              "        buttonEl.style.display =\n",
              "          google.colab.kernel.accessAllowed ? 'block' : 'none';\n",
              "\n",
              "        async function convertToInteractive(key) {\n",
              "          const element = document.querySelector('#df-4587c2dc-d1bb-43a9-9449-7e894736cffb');\n",
              "          const dataTable =\n",
              "            await google.colab.kernel.invokeFunction('convertToInteractive',\n",
              "                                                     [key], {});\n",
              "          if (!dataTable) return;\n",
              "\n",
              "          const docLinkHtml = 'Like what you see? Visit the ' +\n",
              "            '<a target=\"_blank\" href=https://colab.research.google.com/notebooks/data_table.ipynb>data table notebook</a>'\n",
              "            + ' to learn more about interactive tables.';\n",
              "          element.innerHTML = '';\n",
              "          dataTable['output_type'] = 'display_data';\n",
              "          await google.colab.output.renderOutput(dataTable, element);\n",
              "          const docLink = document.createElement('div');\n",
              "          docLink.innerHTML = docLinkHtml;\n",
              "          element.appendChild(docLink);\n",
              "        }\n",
              "      </script>\n",
              "    </div>\n",
              "  </div>\n",
              "  "
            ]
          },
          "metadata": {},
          "execution_count": 3
        }
      ]
    },
    {
      "cell_type": "code",
      "source": [
        "df['text'][0]"
      ],
      "metadata": {
        "colab": {
          "base_uri": "https://localhost:8080/",
          "height": 122
        },
        "id": "q_skZ0c7fn0p",
        "outputId": "10f6ec4d-f975-4a41-d83c-c7d0a37fd7e4"
      },
      "execution_count": null,
      "outputs": [
        {
          "output_type": "execute_result",
          "data": {
            "text/plain": [
              "'marketing intern were food weve created groundbreaking awardwinning cooking site support connect celebrate home cook give everything need one place we top editorial business engineering team were focused using technology find new better way connect people around specific food interest offer superb highly curated information food cooking attract talented home cook contributor country also publish wellknown professional like mario batali gwyneth paltrow danny meyer partnership whole food market random house food named best food website james beard foundation iacp featured new york time npr pando daily techcrunch today show were located chelsea new york city food fastgrowing james beard awardwinning online food community crowdsourced curated recipe hub currently interviewing full parttime unpaid intern work small team editor executive developer new york city headquarters reproducing and or repackaging existing food content number partner site huffington post yahoo buzzfeed various content management systemsresearching blog website provision food affiliate programassisting daytoday affiliate program support screening affiliate assisting affiliate inquiriessupporting pr amp event neededhelping office administrative work filing mailing preparing meetingsworking developer document bug suggest improvement sitesupporting marketing executive staff experience content management system major plus any blogging count familiar food editorial voice aestheticloves food appreciates importance home cooking cooking seasonsmeticulous editor perfectionist obsessive attention detail maddened typo broken link delighted finding fixing themcheerful pressureexcellent communication skillsa multitasker juggler responsibility big smallinterested engaged social medium like twitter facebook pinterestloves problemsolving collaborating drive food forwardthinks big picture pitch nitty gritty running small company dish shopping administrative support comfortable reality working startup call evening weekend working long hour'"
            ],
            "application/vnd.google.colaboratory.intrinsic+json": {
              "type": "string"
            }
          },
          "metadata": {},
          "execution_count": 4
        }
      ]
    },
    {
      "cell_type": "markdown",
      "source": [
        "## Create a new Dataframe only for as df1 they have only text data ⏰ "
      ],
      "metadata": {
        "id": "2nNfU64YBADv"
      }
    },
    {
      "cell_type": "code",
      "source": [
        "df1 = pd.DataFrame()\n",
        "df1['text'] = df.text\n",
        "df1['freu'] = df.fraudulent"
      ],
      "metadata": {
        "id": "so4SeGLcmhku"
      },
      "execution_count": null,
      "outputs": []
    },
    {
      "cell_type": "code",
      "source": [
        "df1.head()"
      ],
      "metadata": {
        "colab": {
          "base_uri": "https://localhost:8080/",
          "height": 206
        },
        "id": "cQ6vqtKe7m44",
        "outputId": "746fde33-8bdf-4da7-d22f-18279e99707d"
      },
      "execution_count": null,
      "outputs": [
        {
          "output_type": "execute_result",
          "data": {
            "text/plain": [
              "                                                text  freu\n",
              "0  marketing intern were food weve created ground...     0\n",
              "1  customer service cloud video production second...     0\n",
              "2  commissioning machinery assistant cma valor se...     0\n",
              "3  account executive washington dc passion improv...     0\n",
              "4  bill review manager spotsource solution llc gl...     0"
            ],
            "text/html": [
              "\n",
              "  <div id=\"df-f030ba3f-541e-4e57-9b4f-64b7c54a8529\">\n",
              "    <div class=\"colab-df-container\">\n",
              "      <div>\n",
              "<style scoped>\n",
              "    .dataframe tbody tr th:only-of-type {\n",
              "        vertical-align: middle;\n",
              "    }\n",
              "\n",
              "    .dataframe tbody tr th {\n",
              "        vertical-align: top;\n",
              "    }\n",
              "\n",
              "    .dataframe thead th {\n",
              "        text-align: right;\n",
              "    }\n",
              "</style>\n",
              "<table border=\"1\" class=\"dataframe\">\n",
              "  <thead>\n",
              "    <tr style=\"text-align: right;\">\n",
              "      <th></th>\n",
              "      <th>text</th>\n",
              "      <th>freu</th>\n",
              "    </tr>\n",
              "  </thead>\n",
              "  <tbody>\n",
              "    <tr>\n",
              "      <th>0</th>\n",
              "      <td>marketing intern were food weve created ground...</td>\n",
              "      <td>0</td>\n",
              "    </tr>\n",
              "    <tr>\n",
              "      <th>1</th>\n",
              "      <td>customer service cloud video production second...</td>\n",
              "      <td>0</td>\n",
              "    </tr>\n",
              "    <tr>\n",
              "      <th>2</th>\n",
              "      <td>commissioning machinery assistant cma valor se...</td>\n",
              "      <td>0</td>\n",
              "    </tr>\n",
              "    <tr>\n",
              "      <th>3</th>\n",
              "      <td>account executive washington dc passion improv...</td>\n",
              "      <td>0</td>\n",
              "    </tr>\n",
              "    <tr>\n",
              "      <th>4</th>\n",
              "      <td>bill review manager spotsource solution llc gl...</td>\n",
              "      <td>0</td>\n",
              "    </tr>\n",
              "  </tbody>\n",
              "</table>\n",
              "</div>\n",
              "      <button class=\"colab-df-convert\" onclick=\"convertToInteractive('df-f030ba3f-541e-4e57-9b4f-64b7c54a8529')\"\n",
              "              title=\"Convert this dataframe to an interactive table.\"\n",
              "              style=\"display:none;\">\n",
              "        \n",
              "  <svg xmlns=\"http://www.w3.org/2000/svg\" height=\"24px\"viewBox=\"0 0 24 24\"\n",
              "       width=\"24px\">\n",
              "    <path d=\"M0 0h24v24H0V0z\" fill=\"none\"/>\n",
              "    <path d=\"M18.56 5.44l.94 2.06.94-2.06 2.06-.94-2.06-.94-.94-2.06-.94 2.06-2.06.94zm-11 1L8.5 8.5l.94-2.06 2.06-.94-2.06-.94L8.5 2.5l-.94 2.06-2.06.94zm10 10l.94 2.06.94-2.06 2.06-.94-2.06-.94-.94-2.06-.94 2.06-2.06.94z\"/><path d=\"M17.41 7.96l-1.37-1.37c-.4-.4-.92-.59-1.43-.59-.52 0-1.04.2-1.43.59L10.3 9.45l-7.72 7.72c-.78.78-.78 2.05 0 2.83L4 21.41c.39.39.9.59 1.41.59.51 0 1.02-.2 1.41-.59l7.78-7.78 2.81-2.81c.8-.78.8-2.07 0-2.86zM5.41 20L4 18.59l7.72-7.72 1.47 1.35L5.41 20z\"/>\n",
              "  </svg>\n",
              "      </button>\n",
              "      \n",
              "  <style>\n",
              "    .colab-df-container {\n",
              "      display:flex;\n",
              "      flex-wrap:wrap;\n",
              "      gap: 12px;\n",
              "    }\n",
              "\n",
              "    .colab-df-convert {\n",
              "      background-color: #E8F0FE;\n",
              "      border: none;\n",
              "      border-radius: 50%;\n",
              "      cursor: pointer;\n",
              "      display: none;\n",
              "      fill: #1967D2;\n",
              "      height: 32px;\n",
              "      padding: 0 0 0 0;\n",
              "      width: 32px;\n",
              "    }\n",
              "\n",
              "    .colab-df-convert:hover {\n",
              "      background-color: #E2EBFA;\n",
              "      box-shadow: 0px 1px 2px rgba(60, 64, 67, 0.3), 0px 1px 3px 1px rgba(60, 64, 67, 0.15);\n",
              "      fill: #174EA6;\n",
              "    }\n",
              "\n",
              "    [theme=dark] .colab-df-convert {\n",
              "      background-color: #3B4455;\n",
              "      fill: #D2E3FC;\n",
              "    }\n",
              "\n",
              "    [theme=dark] .colab-df-convert:hover {\n",
              "      background-color: #434B5C;\n",
              "      box-shadow: 0px 1px 3px 1px rgba(0, 0, 0, 0.15);\n",
              "      filter: drop-shadow(0px 1px 2px rgba(0, 0, 0, 0.3));\n",
              "      fill: #FFFFFF;\n",
              "    }\n",
              "  </style>\n",
              "\n",
              "      <script>\n",
              "        const buttonEl =\n",
              "          document.querySelector('#df-f030ba3f-541e-4e57-9b4f-64b7c54a8529 button.colab-df-convert');\n",
              "        buttonEl.style.display =\n",
              "          google.colab.kernel.accessAllowed ? 'block' : 'none';\n",
              "\n",
              "        async function convertToInteractive(key) {\n",
              "          const element = document.querySelector('#df-f030ba3f-541e-4e57-9b4f-64b7c54a8529');\n",
              "          const dataTable =\n",
              "            await google.colab.kernel.invokeFunction('convertToInteractive',\n",
              "                                                     [key], {});\n",
              "          if (!dataTable) return;\n",
              "\n",
              "          const docLinkHtml = 'Like what you see? Visit the ' +\n",
              "            '<a target=\"_blank\" href=https://colab.research.google.com/notebooks/data_table.ipynb>data table notebook</a>'\n",
              "            + ' to learn more about interactive tables.';\n",
              "          element.innerHTML = '';\n",
              "          dataTable['output_type'] = 'display_data';\n",
              "          await google.colab.output.renderOutput(dataTable, element);\n",
              "          const docLink = document.createElement('div');\n",
              "          docLink.innerHTML = docLinkHtml;\n",
              "          element.appendChild(docLink);\n",
              "        }\n",
              "      </script>\n",
              "    </div>\n",
              "  </div>\n",
              "  "
            ]
          },
          "metadata": {},
          "execution_count": 6
        }
      ]
    },
    {
      "cell_type": "markdown",
      "source": [
        "#Find the length of all text"
      ],
      "metadata": {
        "id": "Nwi8Z36RBY01"
      }
    },
    {
      "cell_type": "code",
      "source": [
        "df1['word count'] = [len(i.split(' ')) for i in df1['text']]"
      ],
      "metadata": {
        "id": "wvZvMscq7opH"
      },
      "execution_count": null,
      "outputs": []
    },
    {
      "cell_type": "code",
      "source": [
        "df1.head()"
      ],
      "metadata": {
        "colab": {
          "base_uri": "https://localhost:8080/",
          "height": 206
        },
        "id": "MewxcXeR7rea",
        "outputId": "40207a30-3de2-4ddf-e3ae-e18eaa72c86a"
      },
      "execution_count": null,
      "outputs": [
        {
          "output_type": "execute_result",
          "data": {
            "text/plain": [
              "                                                text  freu  word count\n",
              "0  marketing intern were food weve created ground...     0         252\n",
              "1  customer service cloud video production second...     0         533\n",
              "2  commissioning machinery assistant cma valor se...     0         236\n",
              "3  account executive washington dc passion improv...     0         493\n",
              "4  bill review manager spotsource solution llc gl...     0         358"
            ],
            "text/html": [
              "\n",
              "  <div id=\"df-410883f0-0f6a-41e0-94a0-9a01506b14d6\">\n",
              "    <div class=\"colab-df-container\">\n",
              "      <div>\n",
              "<style scoped>\n",
              "    .dataframe tbody tr th:only-of-type {\n",
              "        vertical-align: middle;\n",
              "    }\n",
              "\n",
              "    .dataframe tbody tr th {\n",
              "        vertical-align: top;\n",
              "    }\n",
              "\n",
              "    .dataframe thead th {\n",
              "        text-align: right;\n",
              "    }\n",
              "</style>\n",
              "<table border=\"1\" class=\"dataframe\">\n",
              "  <thead>\n",
              "    <tr style=\"text-align: right;\">\n",
              "      <th></th>\n",
              "      <th>text</th>\n",
              "      <th>freu</th>\n",
              "      <th>word count</th>\n",
              "    </tr>\n",
              "  </thead>\n",
              "  <tbody>\n",
              "    <tr>\n",
              "      <th>0</th>\n",
              "      <td>marketing intern were food weve created ground...</td>\n",
              "      <td>0</td>\n",
              "      <td>252</td>\n",
              "    </tr>\n",
              "    <tr>\n",
              "      <th>1</th>\n",
              "      <td>customer service cloud video production second...</td>\n",
              "      <td>0</td>\n",
              "      <td>533</td>\n",
              "    </tr>\n",
              "    <tr>\n",
              "      <th>2</th>\n",
              "      <td>commissioning machinery assistant cma valor se...</td>\n",
              "      <td>0</td>\n",
              "      <td>236</td>\n",
              "    </tr>\n",
              "    <tr>\n",
              "      <th>3</th>\n",
              "      <td>account executive washington dc passion improv...</td>\n",
              "      <td>0</td>\n",
              "      <td>493</td>\n",
              "    </tr>\n",
              "    <tr>\n",
              "      <th>4</th>\n",
              "      <td>bill review manager spotsource solution llc gl...</td>\n",
              "      <td>0</td>\n",
              "      <td>358</td>\n",
              "    </tr>\n",
              "  </tbody>\n",
              "</table>\n",
              "</div>\n",
              "      <button class=\"colab-df-convert\" onclick=\"convertToInteractive('df-410883f0-0f6a-41e0-94a0-9a01506b14d6')\"\n",
              "              title=\"Convert this dataframe to an interactive table.\"\n",
              "              style=\"display:none;\">\n",
              "        \n",
              "  <svg xmlns=\"http://www.w3.org/2000/svg\" height=\"24px\"viewBox=\"0 0 24 24\"\n",
              "       width=\"24px\">\n",
              "    <path d=\"M0 0h24v24H0V0z\" fill=\"none\"/>\n",
              "    <path d=\"M18.56 5.44l.94 2.06.94-2.06 2.06-.94-2.06-.94-.94-2.06-.94 2.06-2.06.94zm-11 1L8.5 8.5l.94-2.06 2.06-.94-2.06-.94L8.5 2.5l-.94 2.06-2.06.94zm10 10l.94 2.06.94-2.06 2.06-.94-2.06-.94-.94-2.06-.94 2.06-2.06.94z\"/><path d=\"M17.41 7.96l-1.37-1.37c-.4-.4-.92-.59-1.43-.59-.52 0-1.04.2-1.43.59L10.3 9.45l-7.72 7.72c-.78.78-.78 2.05 0 2.83L4 21.41c.39.39.9.59 1.41.59.51 0 1.02-.2 1.41-.59l7.78-7.78 2.81-2.81c.8-.78.8-2.07 0-2.86zM5.41 20L4 18.59l7.72-7.72 1.47 1.35L5.41 20z\"/>\n",
              "  </svg>\n",
              "      </button>\n",
              "      \n",
              "  <style>\n",
              "    .colab-df-container {\n",
              "      display:flex;\n",
              "      flex-wrap:wrap;\n",
              "      gap: 12px;\n",
              "    }\n",
              "\n",
              "    .colab-df-convert {\n",
              "      background-color: #E8F0FE;\n",
              "      border: none;\n",
              "      border-radius: 50%;\n",
              "      cursor: pointer;\n",
              "      display: none;\n",
              "      fill: #1967D2;\n",
              "      height: 32px;\n",
              "      padding: 0 0 0 0;\n",
              "      width: 32px;\n",
              "    }\n",
              "\n",
              "    .colab-df-convert:hover {\n",
              "      background-color: #E2EBFA;\n",
              "      box-shadow: 0px 1px 2px rgba(60, 64, 67, 0.3), 0px 1px 3px 1px rgba(60, 64, 67, 0.15);\n",
              "      fill: #174EA6;\n",
              "    }\n",
              "\n",
              "    [theme=dark] .colab-df-convert {\n",
              "      background-color: #3B4455;\n",
              "      fill: #D2E3FC;\n",
              "    }\n",
              "\n",
              "    [theme=dark] .colab-df-convert:hover {\n",
              "      background-color: #434B5C;\n",
              "      box-shadow: 0px 1px 3px 1px rgba(0, 0, 0, 0.15);\n",
              "      filter: drop-shadow(0px 1px 2px rgba(0, 0, 0, 0.3));\n",
              "      fill: #FFFFFF;\n",
              "    }\n",
              "  </style>\n",
              "\n",
              "      <script>\n",
              "        const buttonEl =\n",
              "          document.querySelector('#df-410883f0-0f6a-41e0-94a0-9a01506b14d6 button.colab-df-convert');\n",
              "        buttonEl.style.display =\n",
              "          google.colab.kernel.accessAllowed ? 'block' : 'none';\n",
              "\n",
              "        async function convertToInteractive(key) {\n",
              "          const element = document.querySelector('#df-410883f0-0f6a-41e0-94a0-9a01506b14d6');\n",
              "          const dataTable =\n",
              "            await google.colab.kernel.invokeFunction('convertToInteractive',\n",
              "                                                     [key], {});\n",
              "          if (!dataTable) return;\n",
              "\n",
              "          const docLinkHtml = 'Like what you see? Visit the ' +\n",
              "            '<a target=\"_blank\" href=https://colab.research.google.com/notebooks/data_table.ipynb>data table notebook</a>'\n",
              "            + ' to learn more about interactive tables.';\n",
              "          element.innerHTML = '';\n",
              "          dataTable['output_type'] = 'display_data';\n",
              "          await google.colab.output.renderOutput(dataTable, element);\n",
              "          const docLink = document.createElement('div');\n",
              "          docLink.innerHTML = docLinkHtml;\n",
              "          element.appendChild(docLink);\n",
              "        }\n",
              "      </script>\n",
              "    </div>\n",
              "  </div>\n",
              "  "
            ]
          },
          "metadata": {},
          "execution_count": 8
        }
      ]
    },
    {
      "cell_type": "code",
      "source": [
        "sent_length = df1['word count'].max()"
      ],
      "metadata": {
        "id": "msxZEGLP7uVG"
      },
      "execution_count": null,
      "outputs": []
    },
    {
      "cell_type": "markdown",
      "source": [
        "##Bag of Words"
      ],
      "metadata": {
        "id": "cDJi_mDW7xYB"
      }
    },
    {
      "cell_type": "markdown",
      "source": [
        "### Nlp library"
      ],
      "metadata": {
        "id": "rRgLhtStBiBX"
      }
    },
    {
      "cell_type": "code",
      "source": [
        "max_features = 10000"
      ],
      "metadata": {
        "id": "OOEpf1Gk7ykI"
      },
      "execution_count": null,
      "outputs": []
    },
    {
      "cell_type": "code",
      "source": [
        "from sklearn.model_selection import train_test_split\n",
        "from sklearn.svm import SVC\n",
        "from sklearn.model_selection import GridSearchCV\n",
        "from sklearn.metrics import r2_score\n",
        "from sklearn.metrics import confusion_matrix, classification_report, plot_confusion_matrix\n",
        "from sklearn.metrics import accuracy_score, f1_score, recall_score, precision_score\n",
        "from sklearn.ensemble import RandomForestClassifier\n",
        "from sklearn.model_selection import GridSearchCV\n",
        "from sklearn.linear_model import LogisticRegression\n",
        "from xgboost import XGBClassifier\n",
        "from sklearn.metrics import explained_variance_score\n",
        "\n",
        "#Tenserflow Library\n",
        "import tensorflow as tf\n",
        "from tensorflow.keras.models import Sequential\n",
        "from tensorflow.keras.layers import Dense, Activation, Dropout\n",
        "from keras.layers import LSTM\n",
        "from tensorflow.keras.layers import Embedding,  Bidirectional\n",
        "from tensorflow.keras.preprocessing.sequence import pad_sequences\n",
        "\n",
        "import warnings\n",
        "warnings.filterwarnings(\"ignore\")"
      ],
      "metadata": {
        "id": "8E9VUMu870WT"
      },
      "execution_count": null,
      "outputs": []
    },
    {
      "cell_type": "code",
      "source": [
        "from tensorflow.keras.preprocessing.text import one_hot, Tokenizer"
      ],
      "metadata": {
        "id": "kX1hmHam8ILW"
      },
      "execution_count": null,
      "outputs": []
    },
    {
      "cell_type": "code",
      "source": [
        "t = Tokenizer(num_words = max_features)\n",
        "# fit the tokenizer on the documents\n",
        "t.fit_on_texts(df1['text'])"
      ],
      "metadata": {
        "id": "0OH_P_l7723b"
      },
      "execution_count": null,
      "outputs": []
    },
    {
      "cell_type": "code",
      "source": [
        "encoded_docs = t.texts_to_sequences(df1['text'])"
      ],
      "metadata": {
        "id": "fJQ1eg7G8DNv"
      },
      "execution_count": null,
      "outputs": []
    },
    {
      "cell_type": "code",
      "source": [
        "import joblib\n",
        "joblib.dump(t, './tokinezer_file')"
      ],
      "metadata": {
        "colab": {
          "base_uri": "https://localhost:8080/"
        },
        "id": "u36oKcqg8eR-",
        "outputId": "f9113447-eb50-4a6f-a60b-6e917165997c"
      },
      "execution_count": null,
      "outputs": [
        {
          "output_type": "execute_result",
          "data": {
            "text/plain": [
              "['./tokinezer_file']"
            ]
          },
          "metadata": {},
          "execution_count": 18
        }
      ]
    },
    {
      "cell_type": "markdown",
      "source": [
        "## Embedding Representation"
      ],
      "metadata": {
        "id": "H-mpX8Q5Bw88"
      }
    },
    {
      "cell_type": "code",
      "source": [
        "embedded_docs=pad_sequences(encoded_docs,padding='pre',maxlen=sent_length)\n",
        "print(embedded_docs)# all reviews must be same lenght. we equals all reviews lenght"
      ],
      "metadata": {
        "colab": {
          "base_uri": "https://localhost:8080/"
        },
        "id": "QtgY_G-v8oV1",
        "outputId": "8b28d98c-0f30-4a4c-8a2a-b9b074a7978c"
      },
      "execution_count": null,
      "outputs": [
        {
          "output_type": "stream",
          "name": "stdout",
          "text": [
            "[[   0    0    0 ...   19  292  127]\n",
            " [   0    0    0 ...  217 6695   40]\n",
            " [   0    0    0 ... 2086   21 1544]\n",
            " ...\n",
            " [   0    0    0 ...  395  453  570]\n",
            " [   0    0    0 ...   28  147  447]\n",
            " [   0    0    0 ...  316   20   67]]\n"
          ]
        }
      ]
    },
    {
      "cell_type": "markdown",
      "source": [
        "## Determine Dependent and Independent Variables for sppliting the Data"
      ],
      "metadata": {
        "id": "GsuoYDmZB7Q7"
      }
    },
    {
      "cell_type": "code",
      "source": [
        "y = df.fraudulent.values\n",
        "y"
      ],
      "metadata": {
        "colab": {
          "base_uri": "https://localhost:8080/"
        },
        "id": "GliNSaq-8rmp",
        "outputId": "49241ced-e6a2-4358-c39f-37fc5a66c239"
      },
      "execution_count": null,
      "outputs": [
        {
          "output_type": "execute_result",
          "data": {
            "text/plain": [
              "array([0, 0, 0, ..., 0, 0, 0])"
            ]
          },
          "metadata": {},
          "execution_count": 26
        }
      ]
    },
    {
      "cell_type": "code",
      "source": [
        "y = y.reshape(-1,1)\n",
        "y.shape"
      ],
      "metadata": {
        "colab": {
          "base_uri": "https://localhost:8080/"
        },
        "id": "_VXYeF4w9CGE",
        "outputId": "bbb7390c-65bf-4b25-8e80-b0e4192b997f"
      },
      "execution_count": null,
      "outputs": [
        {
          "output_type": "execute_result",
          "data": {
            "text/plain": [
              "(17880, 1)"
            ]
          },
          "metadata": {},
          "execution_count": 27
        }
      ]
    },
    {
      "cell_type": "code",
      "source": [
        "X = np.array(embedded_docs)\n",
        "X.shape"
      ],
      "metadata": {
        "colab": {
          "base_uri": "https://localhost:8080/"
        },
        "id": "tHdFBg8r9GWJ",
        "outputId": "810780af-b47c-489f-92bb-290f5bc59f58"
      },
      "execution_count": null,
      "outputs": [
        {
          "output_type": "execute_result",
          "data": {
            "text/plain": [
              "(17880, 1444)"
            ]
          },
          "metadata": {},
          "execution_count": 28
        }
      ]
    },
    {
      "cell_type": "markdown",
      "source": [
        "##**Train and test split**"
      ],
      "metadata": {
        "id": "Wo0WYa-gCHM-"
      }
    },
    {
      "cell_type": "code",
      "source": [
        "X_train, X_test, y_train, y_test = train_test_split(X, y, test_size= 0.1, random_state= 101)"
      ],
      "metadata": {
        "id": "K_EaxN9y9Idz"
      },
      "execution_count": null,
      "outputs": []
    },
    {
      "cell_type": "code",
      "source": [
        "print(\"X_train shape: \",X_train.shape)\n",
        "print(\"X_test shape : \",X_test.shape )\n",
        "print(\"y_train shape: \",y_train.shape)\n",
        "print(\"y_test shape : \",y_test.shape)"
      ],
      "metadata": {
        "colab": {
          "base_uri": "https://localhost:8080/"
        },
        "id": "Cf2K8mSL9LjS",
        "outputId": "0f62955f-a066-44d1-9676-4443e83eb872"
      },
      "execution_count": null,
      "outputs": [
        {
          "output_type": "stream",
          "name": "stdout",
          "text": [
            "X_train shape:  (16092, 1444)\n",
            "X_test shape :  (1788, 1444)\n",
            "y_train shape:  (16092, 1)\n",
            "y_test shape :  (1788, 1)\n"
          ]
        }
      ]
    },
    {
      "cell_type": "code",
      "source": [
        "def eval_metrics(actual, prediction):\n",
        "    print(\"Accuracy Score: {}\".format(accuracy_score(actual, prediction)))\n",
        "    print(\"Recall Score: {}\".format(recall_score(actual, prediction)))\n",
        "    print(\"f1 Score: {}\".format(f1_score(actual, prediction)))"
      ],
      "metadata": {
        "id": "lZRberu59NcP"
      },
      "execution_count": null,
      "outputs": []
    },
    {
      "cell_type": "markdown",
      "source": [
        " ## Modeling with Deep Learning\n",
        "\n",
        " ### Bidirectional LSTM"
      ],
      "metadata": {
        "id": "2Hb4SSkHCdkl"
      }
    },
    {
      "cell_type": "code",
      "source": [
        "embedding_vector_features=40\n",
        "model1=Sequential()\n",
        "model1.add(Embedding(max_features,embedding_vector_features,input_length=sent_length))\n",
        "model1.add(Bidirectional(LSTM(20 )))\n",
        "model1.add(Dense(1,activation='sigmoid'))\n",
        "model1.compile(loss='binary_crossentropy',optimizer='adam',metrics=['accuracy'])\n",
        "print(model1.summary())"
      ],
      "metadata": {
        "colab": {
          "base_uri": "https://localhost:8080/"
        },
        "id": "e5X1UAFM9SIc",
        "outputId": "5b96cb2c-f80d-4891-ae6b-24f8043363ea"
      },
      "execution_count": null,
      "outputs": [
        {
          "output_type": "stream",
          "name": "stdout",
          "text": [
            "Model: \"sequential\"\n",
            "_________________________________________________________________\n",
            " Layer (type)                Output Shape              Param #   \n",
            "=================================================================\n",
            " embedding (Embedding)       (None, 1444, 40)          400000    \n",
            "                                                                 \n",
            " bidirectional (Bidirectiona  (None, 40)               9760      \n",
            " l)                                                              \n",
            "                                                                 \n",
            " dense (Dense)               (None, 1)                 41        \n",
            "                                                                 \n",
            "=================================================================\n",
            "Total params: 409,801\n",
            "Trainable params: 409,801\n",
            "Non-trainable params: 0\n",
            "_________________________________________________________________\n",
            "None\n"
          ]
        }
      ]
    },
    {
      "cell_type": "code",
      "source": [
        "model1.compile(optimizer = 'adam', loss = 'binary_crossentropy', metrics = ['accuracy'])"
      ],
      "metadata": {
        "id": "SukwpxIL9WBF"
      },
      "execution_count": null,
      "outputs": []
    },
    {
      "cell_type": "code",
      "source": [
        "from keras.callbacks import EarlyStopping, ModelCheckpoint\n",
        "\n",
        "cp = ModelCheckpoint(\"./bidirectional_model/\" ,save_best_only = True)## creaitng model checkpoint\n",
        "hist = model1.fit(X_train, y_train, epochs = 5, batch_size = 64,  callbacks = cp, validation_data=(X_test,y_test))"
      ],
      "metadata": {
        "colab": {
          "base_uri": "https://localhost:8080/"
        },
        "id": "3XPqOovk9a8M",
        "outputId": "46f94a69-15c6-455b-9123-cbae57c5b82b"
      },
      "execution_count": null,
      "outputs": [
        {
          "output_type": "stream",
          "name": "stdout",
          "text": [
            "Epoch 1/5\n",
            "252/252 [==============================] - ETA: 0s - loss: 0.1944 - accuracy: 0.9529"
          ]
        },
        {
          "output_type": "stream",
          "name": "stderr",
          "text": [
            "WARNING:absl:Found untraced functions such as lstm_cell_1_layer_call_fn, lstm_cell_1_layer_call_and_return_conditional_losses, lstm_cell_2_layer_call_fn, lstm_cell_2_layer_call_and_return_conditional_losses while saving (showing 4 of 4). These functions will not be directly callable after loading.\n",
            "WARNING:absl:<keras.layers.recurrent.LSTMCell object at 0x7f0d1c7c5890> has the same name 'LSTMCell' as a built-in Keras object. Consider renaming <class 'keras.layers.recurrent.LSTMCell'> to avoid naming conflicts when loading with `tf.keras.models.load_model`. If renaming is not possible, pass the object in the `custom_objects` parameter of the load function.\n",
            "WARNING:absl:<keras.layers.recurrent.LSTMCell object at 0x7f0d1c7be590> has the same name 'LSTMCell' as a built-in Keras object. Consider renaming <class 'keras.layers.recurrent.LSTMCell'> to avoid naming conflicts when loading with `tf.keras.models.load_model`. If renaming is not possible, pass the object in the `custom_objects` parameter of the load function.\n"
          ]
        },
        {
          "output_type": "stream",
          "name": "stdout",
          "text": [
            "\b\b\b\b\b\b\b\b\b\b\b\b\b\b\b\b\b\b\b\b\b\b\b\b\b\b\b\b\b\b\b\b\b\b\b\b\b\b\b\b\b\b\b\b\b\b\b\b\b\b\b\b\b\b\b\b\b\b\b\b\b\b\b\b\b\b\b\b\b\b\b\b\b\b\b\b\b\b\b\b\b\b\b\b\r252/252 [==============================] - 43s 130ms/step - loss: 0.1944 - accuracy: 0.9529 - val_loss: 0.1073 - val_accuracy: 0.9698\n",
            "Epoch 2/5\n",
            "252/252 [==============================] - ETA: 0s - loss: 0.0754 - accuracy: 0.9781"
          ]
        },
        {
          "output_type": "stream",
          "name": "stderr",
          "text": [
            "WARNING:absl:Found untraced functions such as lstm_cell_1_layer_call_fn, lstm_cell_1_layer_call_and_return_conditional_losses, lstm_cell_2_layer_call_fn, lstm_cell_2_layer_call_and_return_conditional_losses while saving (showing 4 of 4). These functions will not be directly callable after loading.\n",
            "WARNING:absl:<keras.layers.recurrent.LSTMCell object at 0x7f0d1c7c5890> has the same name 'LSTMCell' as a built-in Keras object. Consider renaming <class 'keras.layers.recurrent.LSTMCell'> to avoid naming conflicts when loading with `tf.keras.models.load_model`. If renaming is not possible, pass the object in the `custom_objects` parameter of the load function.\n",
            "WARNING:absl:<keras.layers.recurrent.LSTMCell object at 0x7f0d1c7be590> has the same name 'LSTMCell' as a built-in Keras object. Consider renaming <class 'keras.layers.recurrent.LSTMCell'> to avoid naming conflicts when loading with `tf.keras.models.load_model`. If renaming is not possible, pass the object in the `custom_objects` parameter of the load function.\n"
          ]
        },
        {
          "output_type": "stream",
          "name": "stdout",
          "text": [
            "\b\b\b\b\b\b\b\b\b\b\b\b\b\b\b\b\b\b\b\b\b\b\b\b\b\b\b\b\b\b\b\b\b\b\b\b\b\b\b\b\b\b\b\b\b\b\b\b\b\b\b\b\b\b\b\b\b\b\b\b\b\b\b\b\b\b\b\b\b\b\b\b\b\b\b\b\b\b\b\b\b\b\b\b\r252/252 [==============================] - 33s 129ms/step - loss: 0.0754 - accuracy: 0.9781 - val_loss: 0.0891 - val_accuracy: 0.9787\n",
            "Epoch 3/5\n",
            "252/252 [==============================] - ETA: 0s - loss: 0.0411 - accuracy: 0.9892"
          ]
        },
        {
          "output_type": "stream",
          "name": "stderr",
          "text": [
            "WARNING:absl:Found untraced functions such as lstm_cell_1_layer_call_fn, lstm_cell_1_layer_call_and_return_conditional_losses, lstm_cell_2_layer_call_fn, lstm_cell_2_layer_call_and_return_conditional_losses while saving (showing 4 of 4). These functions will not be directly callable after loading.\n",
            "WARNING:absl:<keras.layers.recurrent.LSTMCell object at 0x7f0d1c7c5890> has the same name 'LSTMCell' as a built-in Keras object. Consider renaming <class 'keras.layers.recurrent.LSTMCell'> to avoid naming conflicts when loading with `tf.keras.models.load_model`. If renaming is not possible, pass the object in the `custom_objects` parameter of the load function.\n",
            "WARNING:absl:<keras.layers.recurrent.LSTMCell object at 0x7f0d1c7be590> has the same name 'LSTMCell' as a built-in Keras object. Consider renaming <class 'keras.layers.recurrent.LSTMCell'> to avoid naming conflicts when loading with `tf.keras.models.load_model`. If renaming is not possible, pass the object in the `custom_objects` parameter of the load function.\n"
          ]
        },
        {
          "output_type": "stream",
          "name": "stdout",
          "text": [
            "\b\b\b\b\b\b\b\b\b\b\b\b\b\b\b\b\b\b\b\b\b\b\b\b\b\b\b\b\b\b\b\b\b\b\b\b\b\b\b\b\b\b\b\b\b\b\b\b\b\b\b\b\b\b\b\b\b\b\b\b\b\b\b\b\b\b\b\b\b\b\b\b\b\b\b\b\b\b\b\b\b\b\b\b\r252/252 [==============================] - 33s 129ms/step - loss: 0.0411 - accuracy: 0.9892 - val_loss: 0.0792 - val_accuracy: 0.9782\n",
            "Epoch 4/5\n",
            "252/252 [==============================] - 21s 81ms/step - loss: 0.0263 - accuracy: 0.9936 - val_loss: 0.0883 - val_accuracy: 0.9771\n",
            "Epoch 5/5\n",
            "252/252 [==============================] - 20s 81ms/step - loss: 0.0178 - accuracy: 0.9954 - val_loss: 0.0882 - val_accuracy: 0.9827\n"
          ]
        }
      ]
    },
    {
      "cell_type": "code",
      "source": [
        "plt.plot(hist.history['val_loss'], color='b', label=\"validation loss\")\n",
        "plt.plot(hist.history['loss'], color='red', label=\"loss\")\n",
        "plt.title(\"Model Loss\")\n",
        "plt.xlabel(\"Number of Epochs\")\n",
        "plt.ylabel(\"Loss\")\n",
        "plt.legend()\n",
        "plt.show()"
      ],
      "metadata": {
        "colab": {
          "base_uri": "https://localhost:8080/",
          "height": 295
        },
        "id": "wB_aEkLM9d2X",
        "outputId": "8739dbe1-d7bc-44c1-9163-edc01109a166"
      },
      "execution_count": null,
      "outputs": [
        {
          "output_type": "display_data",
          "data": {
            "text/plain": [
              "<Figure size 432x288 with 1 Axes>"
            ],
            "image/png": "[encoded data removed]"
          },
          "metadata": {
            "needs_background": "light"
          }
        }
      ]
    },
    {
      "cell_type": "code",
      "source": [
        "plt.plot(hist.history['val_accuracy'], color='b', label=\"validation accuracy\")\n",
        "plt.plot(hist.history['accuracy'], color='red', label=\"accuracy\")\n",
        "plt.title(\"Model Accuracy\")\n",
        "plt.xlabel(\"Number of Epochs\")\n",
        "plt.ylabel(\"Loss\")\n",
        "plt.legend()\n",
        "plt.show()"
      ],
      "metadata": {
        "colab": {
          "base_uri": "https://localhost:8080/",
          "height": 295
        },
        "id": "iPX4FC5L-E58",
        "outputId": "eb7ad7a8-9ac2-439f-fea1-261b8cd52f20"
      },
      "execution_count": null,
      "outputs": [
        {
          "output_type": "display_data",
          "data": {
            "text/plain": [
              "<Figure size 432x288 with 1 Axes>"
            ],
            "image/png": "[encoded data removed]"
          },
          "metadata": {
            "needs_background": "light"
          }
        }
      ]
    },
    {
      "cell_type": "code",
      "source": [
        "from tensorflow.keras.models import load_model\n",
        "model1 = load_model(\"./bidirectional_model/\")"
      ],
      "metadata": {
        "id": "sM_c92cC-Hy1"
      },
      "execution_count": null,
      "outputs": []
    },
    {
      "cell_type": "code",
      "source": [
        "y_pred = model1.predict(X_test)\n",
        "y_pred"
      ],
      "metadata": {
        "colab": {
          "base_uri": "https://localhost:8080/"
        },
        "id": "1nXwVDo0-XNA",
        "outputId": "6d96f309-9a51-4b9c-99fb-9bd1565b7053"
      },
      "execution_count": null,
      "outputs": [
        {
          "output_type": "execute_result",
          "data": {
            "text/plain": [
              "array([[0.00358336],\n",
              "       [0.00464353],\n",
              "       [0.00233479],\n",
              "       ...,\n",
              "       [0.00891414],\n",
              "       [0.00911843],\n",
              "       [0.00899927]], dtype=float32)"
            ]
          },
          "metadata": {},
          "execution_count": 39
        }
      ]
    },
    {
      "cell_type": "code",
      "source": [
        "y_pred = (y_pred > 0.5)"
      ],
      "metadata": {
        "id": "IgiDKcWR-a8_"
      },
      "execution_count": null,
      "outputs": []
    },
    {
      "cell_type": "code",
      "source": [
        "y_train_pred = model1.predict(X_train)"
      ],
      "metadata": {
        "id": "YrSqyNNq-hdj"
      },
      "execution_count": null,
      "outputs": []
    },
    {
      "cell_type": "code",
      "source": [
        "y_train_pred = (y_train_pred > 0.5)"
      ],
      "metadata": {
        "id": "UHpbfi75-kXO"
      },
      "execution_count": null,
      "outputs": []
    },
    {
      "cell_type": "code",
      "source": [
        "print(confusion_matrix(y_test, y_pred))"
      ],
      "metadata": {
        "colab": {
          "base_uri": "https://localhost:8080/"
        },
        "id": "iMqBKRjy-qBq",
        "outputId": "71e117e5-02c2-464c-b7a7-11cc593f2482"
      },
      "execution_count": null,
      "outputs": [
        {
          "output_type": "stream",
          "name": "stdout",
          "text": [
            "[[1689   15]\n",
            " [  24   60]]\n"
          ]
        }
      ]
    },
    {
      "cell_type": "code",
      "source": [
        "print(classification_report(y_test, y_pred))"
      ],
      "metadata": {
        "colab": {
          "base_uri": "https://localhost:8080/"
        },
        "id": "-Io1dlwa-r2n",
        "outputId": "6124a486-569f-43e8-f951-5c88350bf2c7"
      },
      "execution_count": null,
      "outputs": [
        {
          "output_type": "stream",
          "name": "stdout",
          "text": [
            "              precision    recall  f1-score   support\n",
            "\n",
            "           0       0.99      0.99      0.99      1704\n",
            "           1       0.80      0.71      0.75        84\n",
            "\n",
            "    accuracy                           0.98      1788\n",
            "   macro avg       0.89      0.85      0.87      1788\n",
            "weighted avg       0.98      0.98      0.98      1788\n",
            "\n"
          ]
        }
      ]
    },
    {
      "cell_type": "code",
      "source": [
        "eval_metrics(y_test, y_pred)"
      ],
      "metadata": {
        "colab": {
          "base_uri": "https://localhost:8080/"
        },
        "id": "BNCmEX_Z-uEc",
        "outputId": "52629acf-4b4a-45bf-f6e5-01fbeb8cd23d"
      },
      "execution_count": null,
      "outputs": [
        {
          "output_type": "stream",
          "name": "stdout",
          "text": [
            "Accuracy Score: 0.9781879194630873\n",
            "Recall Score: 0.7142857142857143\n",
            "f1 Score: 0.7547169811320756\n"
          ]
        }
      ]
    },
    {
      "cell_type": "code",
      "source": [
        "eval_metrics(y_train, y_train_pred)"
      ],
      "metadata": {
        "colab": {
          "base_uri": "https://localhost:8080/"
        },
        "id": "6Ma62INt-xA1",
        "outputId": "af25398f-3f17-4afe-81bb-f564a6c04455"
      },
      "execution_count": null,
      "outputs": [
        {
          "output_type": "stream",
          "name": "stdout",
          "text": [
            "Accuracy Score: 0.9937235893611732\n",
            "Recall Score: 0.9475703324808185\n",
            "f1 Score: 0.936197094125079\n"
          ]
        }
      ]
    },
    {
      "cell_type": "markdown",
      "source": [
        "## Accuracy Score\n",
        "\n",
        "Accuracy Score: 0.9937235893611732\n",
        "\n",
        "Recall Score: 0.9475703324808185\n",
        "\n",
        "f1 Score: 0.936197094125079\n",
        "\n",
        "##**Observation:**\n",
        "\n",
        "1-Increase the Accuracy Chanage the Optimizer likes(RMSprop, adam, LeckyRelu and Using GRU)\n",
        "\n",
        "2-Increase the epoch\n",
        "\n",
        "3-Increase the layers\n",
        "\n",
        "\n",
        "references : \n",
        "\n",
        "-[link text](https://)https://www.kaggle.com/datasets/shivamb/real-or-fake-fake-jobposting-prediction\n",
        "\n",
        "-https://www.kaggle.com/code/mesutbilgin/real-fake-job-posting-prediciton-bidirtnl-lstm\n",
        "\n",
        ">**🤗**"
      ],
      "metadata": {
        "id": "GzYucxml_p89"
      }
    },
    {
      "cell_type": "code",
      "source": [],
      "metadata": {
        "id": "Vzn0w0KR3M9l"
      },
      "execution_count": null,
      "outputs": []
    }
  ]
}