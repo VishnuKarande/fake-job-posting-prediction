{
  "nbformat": 4,
  "nbformat_minor": 0,
  "metadata": {
    "colab": {
      "provenance": [],
      "collapsed_sections": []
    },
    "kernelspec": {
      "name": "python3",
      "display_name": "Python 3"
    },
    "language_info": {
      "name": "python"
    },
    "accelerator": "GPU"
  },
  "cells": [
    {
      "cell_type": "markdown",
      "source": [
        "##Preprocessing\n"
      ],
      "metadata": {
        "id": "pCZ69_NglSvY"
      }
    },
    {
      "cell_type": "code",
      "source": [
        "import pandas as pd\n",
        "import numpy as np\n",
        "import matplotlib.pyplot as plt\n",
        "import seaborn as sn\n",
        "\n",
        "import re\n",
        "from bs4 import BeautifulSoup\n",
        "\n",
        "import warnings\n",
        "warnings.filterwarnings('ignore')\n",
        "\n",
        "import nltk\n",
        "import spacy\n",
        "import string\n",
        "pd.options.mode.chained_assignment = None"
      ],
      "metadata": {
        "id": "uXffOE0tlWhL"
      },
      "execution_count": null,
      "outputs": []
    },
    {
      "cell_type": "code",
      "source": [
        "from google.colab import files\n",
        "files.upload()"
      ],
      "metadata": {
        "colab": {
          "base_uri": "https://localhost:8080/",
          "height": 107
        },
        "id": "GwlxGxYBl6Lh",
        "outputId": "af242c74-3b6a-488b-e013-9a625a17d6bd"
      },
      "execution_count": null,
      "outputs": [
        {
          "output_type": "display_data",
          "data": {
            "text/plain": [
              "<IPython.core.display.HTML object>"
            ],
            "text/html": [
              "\n",
              "     <input type=\"file\" id=\"files-a3a32891-f81a-4677-83c2-a899dc2ba4ed\" name=\"files[]\" multiple disabled\n",
              "        style=\"border:none\" />\n",
              "     <output id=\"result-a3a32891-f81a-4677-83c2-a899dc2ba4ed\">\n",
              "      Upload widget is only available when the cell has been executed in the\n",
              "      current browser session. Please rerun this cell to enable.\n",
              "      </output>\n",
              "      <script>// Copyright 2017 Google LLC\n",
              "//\n",
              "// Licensed under the Apache License, Version 2.0 (the \"License\");\n",
              "// you may not use this file except in compliance with the License.\n",
              "// You may obtain a copy of the License at\n",
              "//\n",
              "//      http://www.apache.org/licenses/LICENSE-2.0\n",
              "//\n",
              "// Unless required by applicable law or agreed to in writing, software\n",
              "// distributed under the License is distributed on an \"AS IS\" BASIS,\n",
              "// WITHOUT WARRANTIES OR CONDITIONS OF ANY KIND, either express or implied.\n",
              "// See the License for the specific language governing permissions and\n",
              "// limitations under the License.\n",
              "\n",
              "/**\n",
              " * @fileoverview Helpers for google.colab Python module.\n",
              " */\n",
              "(function(scope) {\n",
              "function span(text, styleAttributes = {}) {\n",
              "  const element = document.createElement('span');\n",
              "  element.textContent = text;\n",
              "  for (const key of Object.keys(styleAttributes)) {\n",
              "    element.style[key] = styleAttributes[key];\n",
              "  }\n",
              "  return element;\n",
              "}\n",
              "\n",
              "// Max number of bytes which will be uploaded at a time.\n",
              "const MAX_PAYLOAD_SIZE = 100 * 1024;\n",
              "\n",
              "function _uploadFiles(inputId, outputId) {\n",
              "  const steps = uploadFilesStep(inputId, outputId);\n",
              "  const outputElement = document.getElementById(outputId);\n",
              "  // Cache steps on the outputElement to make it available for the next call\n",
              "  // to uploadFilesContinue from Python.\n",
              "  outputElement.steps = steps;\n",
              "\n",
              "  return _uploadFilesContinue(outputId);\n",
              "}\n",
              "\n",
              "// This is roughly an async generator (not supported in the browser yet),\n",
              "// where there are multiple asynchronous steps and the Python side is going\n",
              "// to poll for completion of each step.\n",
              "// This uses a Promise to block the python side on completion of each step,\n",
              "// then passes the result of the previous step as the input to the next step.\n",
              "function _uploadFilesContinue(outputId) {\n",
              "  const outputElement = document.getElementById(outputId);\n",
              "  const steps = outputElement.steps;\n",
              "\n",
              "  const next = steps.next(outputElement.lastPromiseValue);\n",
              "  return Promise.resolve(next.value.promise).then((value) => {\n",
              "    // Cache the last promise value to make it available to the next\n",
              "    // step of the generator.\n",
              "    outputElement.lastPromiseValue = value;\n",
              "    return next.value.response;\n",
              "  });\n",
              "}\n",
              "\n",
              "/**\n",
              " * Generator function which is called between each async step of the upload\n",
              " * process.\n",
              " * @param {string} inputId Element ID of the input file picker element.\n",
              " * @param {string} outputId Element ID of the output display.\n",
              " * @return {!Iterable<!Object>} Iterable of next steps.\n",
              " */\n",
              "function* uploadFilesStep(inputId, outputId) {\n",
              "  const inputElement = document.getElementById(inputId);\n",
              "  inputElement.disabled = false;\n",
              "\n",
              "  const outputElement = document.getElementById(outputId);\n",
              "  outputElement.innerHTML = '';\n",
              "\n",
              "  const pickedPromise = new Promise((resolve) => {\n",
              "    inputElement.addEventListener('change', (e) => {\n",
              "      resolve(e.target.files);\n",
              "    });\n",
              "  });\n",
              "\n",
              "  const cancel = document.createElement('button');\n",
              "  inputElement.parentElement.appendChild(cancel);\n",
              "  cancel.textContent = 'Cancel upload';\n",
              "  const cancelPromise = new Promise((resolve) => {\n",
              "    cancel.onclick = () => {\n",
              "      resolve(null);\n",
              "    };\n",
              "  });\n",
              "\n",
              "  // Wait for the user to pick the files.\n",
              "  const files = yield {\n",
              "    promise: Promise.race([pickedPromise, cancelPromise]),\n",
              "    response: {\n",
              "      action: 'starting',\n",
              "    }\n",
              "  };\n",
              "\n",
              "  cancel.remove();\n",
              "\n",
              "  // Disable the input element since further picks are not allowed.\n",
              "  inputElement.disabled = true;\n",
              "\n",
              "  if (!files) {\n",
              "    return {\n",
              "      response: {\n",
              "        action: 'complete',\n",
              "      }\n",
              "    };\n",
              "  }\n",
              "\n",
              "  for (const file of files) {\n",
              "    const li = document.createElement('li');\n",
              "    li.append(span(file.name, {fontWeight: 'bold'}));\n",
              "    li.append(span(\n",
              "        `(${file.type || 'n/a'}) - ${file.size} bytes, ` +\n",
              "        `last modified: ${\n",
              "            file.lastModifiedDate ? file.lastModifiedDate.toLocaleDateString() :\n",
              "                                    'n/a'} - `));\n",
              "    const percent = span('0% done');\n",
              "    li.appendChild(percent);\n",
              "\n",
              "    outputElement.appendChild(li);\n",
              "\n",
              "    const fileDataPromise = new Promise((resolve) => {\n",
              "      const reader = new FileReader();\n",
              "      reader.onload = (e) => {\n",
              "        resolve(e.target.result);\n",
              "      };\n",
              "      reader.readAsArrayBuffer(file);\n",
              "    });\n",
              "    // Wait for the data to be ready.\n",
              "    let fileData = yield {\n",
              "      promise: fileDataPromise,\n",
              "      response: {\n",
              "        action: 'continue',\n",
              "      }\n",
              "    };\n",
              "\n",
              "    // Use a chunked sending to avoid message size limits. See b/62115660.\n",
              "    let position = 0;\n",
              "    do {\n",
              "      const length = Math.min(fileData.byteLength - position, MAX_PAYLOAD_SIZE);\n",
              "      const chunk = new Uint8Array(fileData, position, length);\n",
              "      position += length;\n",
              "\n",
              "      const base64 = btoa(String.fromCharCode.apply(null, chunk));\n",
              "      yield {\n",
              "        response: {\n",
              "          action: 'append',\n",
              "          file: file.name,\n",
              "          data: base64,\n",
              "        },\n",
              "      };\n",
              "\n",
              "      let percentDone = fileData.byteLength === 0 ?\n",
              "          100 :\n",
              "          Math.round((position / fileData.byteLength) * 100);\n",
              "      percent.textContent = `${percentDone}% done`;\n",
              "\n",
              "    } while (position < fileData.byteLength);\n",
              "  }\n",
              "\n",
              "  // All done.\n",
              "  yield {\n",
              "    response: {\n",
              "      action: 'complete',\n",
              "    }\n",
              "  };\n",
              "}\n",
              "\n",
              "scope.google = scope.google || {};\n",
              "scope.google.colab = scope.google.colab || {};\n",
              "scope.google.colab._files = {\n",
              "  _uploadFiles,\n",
              "  _uploadFilesContinue,\n",
              "};\n",
              "})(self);\n",
              "</script> "
            ]
          },
          "metadata": {}
        },
        {
          "output_type": "stream",
          "name": "stdout",
          "text": [
            "Saving kaggle.json to kaggle.json\n"
          ]
        },
        {
          "output_type": "execute_result",
          "data": {
            "text/plain": [
              "{'kaggle.json': b'{\"username\":\"vishnukarande\",\"key\":\"95c389e7e296c20a0f21b0472b1be6ff\"}'}"
            ]
          },
          "metadata": {},
          "execution_count": 2
        }
      ]
    },
    {
      "cell_type": "code",
      "source": [
        "!mkdir -p ~/.kaggle "
      ],
      "metadata": {
        "id": "HCXNpQKQl9eA"
      },
      "execution_count": null,
      "outputs": []
    },
    {
      "cell_type": "code",
      "source": [
        "!cp kaggle.json ~/.kaggle"
      ],
      "metadata": {
        "id": "rAVrevVtmFPr"
      },
      "execution_count": null,
      "outputs": []
    },
    {
      "cell_type": "code",
      "source": [
        "!chmod 600 ~/.kaggle/kaggle.json"
      ],
      "metadata": {
        "id": "O-eNG375mG-E"
      },
      "execution_count": null,
      "outputs": []
    },
    {
      "cell_type": "code",
      "source": [
        "!kaggle competitions download -c jigsaw-unintended-bias-in-toxicity-classification"
      ],
      "metadata": {
        "colab": {
          "base_uri": "https://localhost:8080/"
        },
        "id": "EE1bfE4jmKRb",
        "outputId": "e45aced0-bc1c-4823-d5d3-3c5fb764dea6"
      },
      "execution_count": null,
      "outputs": [
        {
          "output_type": "stream",
          "name": "stdout",
          "text": [
            "Downloading jigsaw-unintended-bias-in-toxicity-classification.zip to /content\n",
            "100% 721M/723M [00:07<00:00, 137MB/s]\n",
            "100% 723M/723M [00:07<00:00, 95.8MB/s]\n"
          ]
        }
      ]
    },
    {
      "cell_type": "code",
      "source": [
        "!unzip jigsaw-unintended-bias-in-toxicity-classification.zip"
      ],
      "metadata": {
        "colab": {
          "base_uri": "https://localhost:8080/"
        },
        "id": "JBkucNJJnMBE",
        "outputId": "8c333f8d-6760-4603-8b1c-429f4bf0c1f2"
      },
      "execution_count": null,
      "outputs": [
        {
          "output_type": "stream",
          "name": "stdout",
          "text": [
            "Archive:  jigsaw-unintended-bias-in-toxicity-classification.zip\n",
            "  inflating: all_data.csv            \n",
            "  inflating: identity_individual_annotations.csv  \n",
            "  inflating: sample_submission.csv   \n",
            "  inflating: test.csv                \n",
            "  inflating: test_private_expanded.csv  \n",
            "  inflating: test_public_expanded.csv  \n",
            "  inflating: toxicity_individual_annotations.csv  \n",
            "  inflating: train.csv               \n"
          ]
        }
      ]
    },
    {
      "cell_type": "code",
      "source": [
        "Data=pd.read_csv(\"/content/train.csv\")"
      ],
      "metadata": {
        "id": "b3CGqVbkm29u"
      },
      "execution_count": null,
      "outputs": []
    },
    {
      "cell_type": "code",
      "source": [
        "Data[['comment_text']].head()"
      ],
      "metadata": {
        "colab": {
          "base_uri": "https://localhost:8080/",
          "height": 206
        },
        "id": "c14-pwcpntvs",
        "outputId": "fa1b2401-0ec2-43b1-9e87-3d1d96b79eb8"
      },
      "execution_count": null,
      "outputs": [
        {
          "output_type": "execute_result",
          "data": {
            "text/plain": [
              "                                        comment_text\n",
              "0  This is so cool. It's like, 'would you want yo...\n",
              "1  Thank you!! This would make my life a lot less...\n",
              "2  This is such an urgent design problem; kudos t...\n",
              "3  Is this something I'll be able to install on m...\n",
              "4               haha you guys are a bunch of losers."
            ],
            "text/html": [
              "\n",
              "  <div id=\"df-7ca3f9df-3529-4fbb-acd5-ddc5625af004\">\n",
              "    <div class=\"colab-df-container\">\n",
              "      <div>\n",
              "<style scoped>\n",
              "    .dataframe tbody tr th:only-of-type {\n",
              "        vertical-align: middle;\n",
              "    }\n",
              "\n",
              "    .dataframe tbody tr th {\n",
              "        vertical-align: top;\n",
              "    }\n",
              "\n",
              "    .dataframe thead th {\n",
              "        text-align: right;\n",
              "    }\n",
              "</style>\n",
              "<table border=\"1\" class=\"dataframe\">\n",
              "  <thead>\n",
              "    <tr style=\"text-align: right;\">\n",
              "      <th></th>\n",
              "      <th>comment_text</th>\n",
              "    </tr>\n",
              "  </thead>\n",
              "  <tbody>\n",
              "    <tr>\n",
              "      <th>0</th>\n",
              "      <td>This is so cool. It's like, 'would you want yo...</td>\n",
              "    </tr>\n",
              "    <tr>\n",
              "      <th>1</th>\n",
              "      <td>Thank you!! This would make my life a lot less...</td>\n",
              "    </tr>\n",
              "    <tr>\n",
              "      <th>2</th>\n",
              "      <td>This is such an urgent design problem; kudos t...</td>\n",
              "    </tr>\n",
              "    <tr>\n",
              "      <th>3</th>\n",
              "      <td>Is this something I'll be able to install on m...</td>\n",
              "    </tr>\n",
              "    <tr>\n",
              "      <th>4</th>\n",
              "      <td>haha you guys are a bunch of losers.</td>\n",
              "    </tr>\n",
              "  </tbody>\n",
              "</table>\n",
              "</div>\n",
              "      <button class=\"colab-df-convert\" onclick=\"convertToInteractive('df-7ca3f9df-3529-4fbb-acd5-ddc5625af004')\"\n",
              "              title=\"Convert this dataframe to an interactive table.\"\n",
              "              style=\"display:none;\">\n",
              "        \n",
              "  <svg xmlns=\"http://www.w3.org/2000/svg\" height=\"24px\"viewBox=\"0 0 24 24\"\n",
              "       width=\"24px\">\n",
              "    <path d=\"M0 0h24v24H0V0z\" fill=\"none\"/>\n",
              "    <path d=\"M18.56 5.44l.94 2.06.94-2.06 2.06-.94-2.06-.94-.94-2.06-.94 2.06-2.06.94zm-11 1L8.5 8.5l.94-2.06 2.06-.94-2.06-.94L8.5 2.5l-.94 2.06-2.06.94zm10 10l.94 2.06.94-2.06 2.06-.94-2.06-.94-.94-2.06-.94 2.06-2.06.94z\"/><path d=\"M17.41 7.96l-1.37-1.37c-.4-.4-.92-.59-1.43-.59-.52 0-1.04.2-1.43.59L10.3 9.45l-7.72 7.72c-.78.78-.78 2.05 0 2.83L4 21.41c.39.39.9.59 1.41.59.51 0 1.02-.2 1.41-.59l7.78-7.78 2.81-2.81c.8-.78.8-2.07 0-2.86zM5.41 20L4 18.59l7.72-7.72 1.47 1.35L5.41 20z\"/>\n",
              "  </svg>\n",
              "      </button>\n",
              "      \n",
              "  <style>\n",
              "    .colab-df-container {\n",
              "      display:flex;\n",
              "      flex-wrap:wrap;\n",
              "      gap: 12px;\n",
              "    }\n",
              "\n",
              "    .colab-df-convert {\n",
              "      background-color: #E8F0FE;\n",
              "      border: none;\n",
              "      border-radius: 50%;\n",
              "      cursor: pointer;\n",
              "      display: none;\n",
              "      fill: #1967D2;\n",
              "      height: 32px;\n",
              "      padding: 0 0 0 0;\n",
              "      width: 32px;\n",
              "    }\n",
              "\n",
              "    .colab-df-convert:hover {\n",
              "      background-color: #E2EBFA;\n",
              "      box-shadow: 0px 1px 2px rgba(60, 64, 67, 0.3), 0px 1px 3px 1px rgba(60, 64, 67, 0.15);\n",
              "      fill: #174EA6;\n",
              "    }\n",
              "\n",
              "    [theme=dark] .colab-df-convert {\n",
              "      background-color: #3B4455;\n",
              "      fill: #D2E3FC;\n",
              "    }\n",
              "\n",
              "    [theme=dark] .colab-df-convert:hover {\n",
              "      background-color: #434B5C;\n",
              "      box-shadow: 0px 1px 3px 1px rgba(0, 0, 0, 0.15);\n",
              "      filter: drop-shadow(0px 1px 2px rgba(0, 0, 0, 0.3));\n",
              "      fill: #FFFFFF;\n",
              "    }\n",
              "  </style>\n",
              "\n",
              "      <script>\n",
              "        const buttonEl =\n",
              "          document.querySelector('#df-7ca3f9df-3529-4fbb-acd5-ddc5625af004 button.colab-df-convert');\n",
              "        buttonEl.style.display =\n",
              "          google.colab.kernel.accessAllowed ? 'block' : 'none';\n",
              "\n",
              "        async function convertToInteractive(key) {\n",
              "          const element = document.querySelector('#df-7ca3f9df-3529-4fbb-acd5-ddc5625af004');\n",
              "          const dataTable =\n",
              "            await google.colab.kernel.invokeFunction('convertToInteractive',\n",
              "                                                     [key], {});\n",
              "          if (!dataTable) return;\n",
              "\n",
              "          const docLinkHtml = 'Like what you see? Visit the ' +\n",
              "            '<a target=\"_blank\" href=https://colab.research.google.com/notebooks/data_table.ipynb>data table notebook</a>'\n",
              "            + ' to learn more about interactive tables.';\n",
              "          element.innerHTML = '';\n",
              "          dataTable['output_type'] = 'display_data';\n",
              "          await google.colab.output.renderOutput(dataTable, element);\n",
              "          const docLink = document.createElement('div');\n",
              "          docLink.innerHTML = docLinkHtml;\n",
              "          element.appendChild(docLink);\n",
              "        }\n",
              "      </script>\n",
              "    </div>\n",
              "  </div>\n",
              "  "
            ]
          },
          "metadata": {},
          "execution_count": 9
        }
      ]
    },
    {
      "cell_type": "code",
      "source": [
        "''''#Text preprocessing\n",
        "def preprocess(q):\n",
        "    \n",
        "    q = str(q).lower().strip()\n",
        "    \n",
        "    # Replace certain special characters with their string equivalents\n",
        "    q = q.replace('%', ' percent')\n",
        "    q = q.replace('$', ' dollar ')\n",
        "    q = q.replace('₹', ' rupee ')\n",
        "    q = q.replace('€', ' euro ')\n",
        "    q = q.replace('@', ' at ')\n",
        "    \n",
        "    # The pattern '[math]' appears around 900 times in the whole dataset.\n",
        "    q = q.replace('[math]', '')\n",
        "    \n",
        "    # Replacing some numbers with string equivalents (not perfect, can be done better to account for more cases)\n",
        "    q = q.replace(',000,000,000 ', 'b ')\n",
        "    q = q.replace(',000,000 ', 'm ')\n",
        "    q = q.replace(',000 ', 'k ')\n",
        "    q = re.sub(r'([0-9]+)000000000', r'\\1b', q)\n",
        "    q = re.sub(r'([0-9]+)000000', r'\\1m', q)\n",
        "    q = re.sub(r'([0-9]+)000', r'\\1k', q)\n",
        "    \n",
        "    # Decontracting words\n",
        "    # https://en.wikipedia.org/wiki/Wikipedia%3aList_of_English_contractions\n",
        "    # https://stackoverflow.com/a/19794953\n",
        "    contractions = { \n",
        "    \"ain't\": \"am not\",\n",
        "    \"aren't\": \"are not\",\n",
        "    \"can't\": \"can not\",\n",
        "    \"can't've\": \"can not have\",\n",
        "    \"'cause\": \"because\",\n",
        "    \"could've\": \"could have\",\n",
        "    \"couldn't\": \"could not\",\n",
        "    \"couldn't've\": \"could not have\",\n",
        "    \"didn't\": \"did not\",\n",
        "    \"doesn't\": \"does not\",\n",
        "    \"don't\": \"do not\",\n",
        "    \"hadn't\": \"had not\",\n",
        "    \"hadn't've\": \"had not have\",\n",
        "    \"hasn't\": \"has not\",\n",
        "    \"haven't\": \"have not\",\n",
        "    \"he'd\": \"he would\",\n",
        "    \"he'd've\": \"he would have\",\n",
        "    \"he'll\": \"he will\",\n",
        "    \"he'll've\": \"he will have\",\n",
        "    \"he's\": \"he is\",\n",
        "    \"how'd\": \"how did\",\n",
        "    \"how'd'y\": \"how do you\",\n",
        "    \"how'll\": \"how will\",\n",
        "    \"how's\": \"how is\",\n",
        "    \"i'd\": \"i would\",\n",
        "    \"i'd've\": \"i would have\",\n",
        "    \"i'll\": \"i will\",\n",
        "    \"i'll've\": \"i will have\",\n",
        "    \"i'm\": \"i am\",\n",
        "    \"i've\": \"i have\",\n",
        "    \"isn't\": \"is not\",\n",
        "    \"it'd\": \"it would\",\n",
        "    \"it'd've\": \"it would have\",\n",
        "    \"it'll\": \"it will\",\n",
        "    \"it'll've\": \"it will have\",\n",
        "    \"it's\": \"it is\",\n",
        "    \"let's\": \"let us\",\n",
        "    \"ma'am\": \"madam\",\n",
        "    \"mayn't\": \"may not\",\n",
        "    \"might've\": \"might have\",\n",
        "    \"mightn't\": \"might not\",\n",
        "    \"mightn't've\": \"might not have\",\n",
        "    \"must've\": \"must have\",\n",
        "    \"mustn't\": \"must not\",\n",
        "    \"mustn't've\": \"must not have\",\n",
        "    \"needn't\": \"need not\",\n",
        "    \"needn't've\": \"need not have\",\n",
        "    \"o'clock\": \"of the clock\",\n",
        "    \"oughtn't\": \"ought not\",\n",
        "    \"oughtn't've\": \"ought not have\",\n",
        "    \"shan't\": \"shall not\",\n",
        "    \"sha'n't\": \"shall not\",\n",
        "    \"shan't've\": \"shall not have\",\n",
        "    \"she'd\": \"she would\",\n",
        "    \"she'd've\": \"she would have\",\n",
        "    \"she'll\": \"she will\",\n",
        "    \"she'll've\": \"she will have\",\n",
        "    \"she's\": \"she is\",\n",
        "    \"should've\": \"should have\",\n",
        "    \"shouldn't\": \"should not\",\n",
        "    \"shouldn't've\": \"should not have\",\n",
        "    \"so've\": \"so have\",\n",
        "    \"so's\": \"so as\",\n",
        "    \"that'd\": \"that would\",\n",
        "    \"that'd've\": \"that would have\",\n",
        "    \"that's\": \"that is\",\n",
        "    \"there'd\": \"there would\",\n",
        "    \"there'd've\": \"there would have\",\n",
        "    \"there's\": \"there is\",\n",
        "    \"they'd\": \"they would\",\n",
        "    \"they'd've\": \"they would have\",\n",
        "    \"they'll\": \"they will\",\n",
        "    \"they'll've\": \"they will have\",\n",
        "    \"they're\": \"they are\",\n",
        "    \"they've\": \"they have\",\n",
        "    \"to've\": \"to have\",\n",
        "    \"wasn't\": \"was not\",\n",
        "    \"we'd\": \"we would\",\n",
        "    \"we'd've\": \"we would have\",\n",
        "    \"we'll\": \"we will\",\n",
        "    \"we'll've\": \"we will have\",\n",
        "    \"we're\": \"we are\",\n",
        "    \"we've\": \"we have\",\n",
        "    \"weren't\": \"were not\",\n",
        "    \"what'll\": \"what will\",\n",
        "    \"what'll've\": \"what will have\",\n",
        "    \"what're\": \"what are\",\n",
        "    \"what's\": \"what is\",\n",
        "    \"what've\": \"what have\",\n",
        "    \"when's\": \"when is\",\n",
        "    \"when've\": \"when have\",\n",
        "    \"where'd\": \"where did\",\n",
        "    \"where's\": \"where is\",\n",
        "    \"where've\": \"where have\",\n",
        "    \"who'll\": \"who will\",\n",
        "    \"who'll've\": \"who will have\",\n",
        "    \"who's\": \"who is\",\n",
        "    \"who've\": \"who have\",\n",
        "    \"why's\": \"why is\",\n",
        "    \"why've\": \"why have\",\n",
        "    \"will've\": \"will have\",\n",
        "    \"won't\": \"will not\",\n",
        "    \"won't've\": \"will not have\",\n",
        "    \"would've\": \"would have\",\n",
        "    \"wouldn't\": \"would not\",\n",
        "    \"wouldn't've\": \"would not have\",\n",
        "    \"y'all\": \"you all\",\n",
        "    \"y'all'd\": \"you all would\",\n",
        "    \"y'all'd've\": \"you all would have\",\n",
        "    \"y'all're\": \"you all are\",\n",
        "    \"y'all've\": \"you all have\",\n",
        "    \"you'd\": \"you would\",\n",
        "    \"you'd've\": \"you would have\",\n",
        "    \"you'll\": \"you will\",\n",
        "    \"you'll've\": \"you will have\",\n",
        "    \"you're\": \"you are\",\n",
        "    \"you've\": \"you have\"\n",
        "    }\n",
        "\n",
        "    q_decontracted = []\n",
        "\n",
        "    for word in q.split():\n",
        "        if word in contractions:\n",
        "            word = contractions[word]\n",
        "\n",
        "        q_decontracted.append(word)\n",
        "\n",
        "    q = ' '.join(q_decontracted)\n",
        "    q = q.replace(\"'ve\", \" have\")\n",
        "    q = q.replace(\"n't\", \" not\")\n",
        "    q = q.replace(\"'re\", \" are\")\n",
        "    q = q.replace(\"'ll\", \" will\")\n",
        "    \n",
        "    # Removing HTML tags\n",
        "    q = BeautifulSoup(q)\n",
        "    q = q.get_text()\n",
        "    \n",
        "    # Remove punctuations\n",
        "    pattern = re.compile('\\W')\n",
        "    q = re.sub(pattern, ' ', q).strip()\n",
        "\n",
        "    \n",
        "    return q  \n",
        "    '''\n",
        "\n"
      ],
      "metadata": {
        "id": "i_BBJ82inCuY",
        "colab": {
          "base_uri": "https://localhost:8080/",
          "height": 226
        },
        "outputId": "160a06d5-7609-4c31-d09b-35facb1fc4bc"
      },
      "execution_count": null,
      "outputs": [
        {
          "output_type": "execute_result",
          "data": {
            "text/plain": [
              "'\\'#Text preprocessing\\ndef preprocess(q):\\n    \\n    q = str(q).lower().strip()\\n    \\n    # Replace certain special characters with their string equivalents\\n    q = q.replace(\\'%\\', \\' percent\\')\\n    q = q.replace(\\'$\\', \\' dollar \\')\\n    q = q.replace(\\'₹\\', \\' rupee \\')\\n    q = q.replace(\\'€\\', \\' euro \\')\\n    q = q.replace(\\'@\\', \\' at \\')\\n    \\n    # The pattern \\'[math]\\' appears around 900 times in the whole dataset.\\n    q = q.replace(\\'[math]\\', \\'\\')\\n    \\n    # Replacing some numbers with string equivalents (not perfect, can be done better to account for more cases)\\n    q = q.replace(\\',000,000,000 \\', \\'b \\')\\n    q = q.replace(\\',000,000 \\', \\'m \\')\\n    q = q.replace(\\',000 \\', \\'k \\')\\n    q = re.sub(r\\'([0-9]+)000000000\\', r\\'\\x01b\\', q)\\n    q = re.sub(r\\'([0-9]+)000000\\', r\\'\\x01m\\', q)\\n    q = re.sub(r\\'([0-9]+)000\\', r\\'\\x01k\\', q)\\n    \\n    # Decontracting words\\n    # https://en.wikipedia.org/wiki/Wikipedia%3aList_of_English_contractions\\n    # https://stackoverflow.com/a/19794953\\n    contractions = { \\n    \"ain\\'t\": \"am not\",\\n    \"aren\\'t\": \"are not\",\\n    \"can\\'t\": \"can not\",\\n    \"can\\'t\\'ve\": \"can not have\",\\n    \"\\'cause\": \"because\",\\n    \"could\\'ve\": \"could have\",\\n    \"couldn\\'t\": \"could not\",\\n    \"couldn\\'t\\'ve\": \"could not have\",\\n    \"didn\\'t\": \"did not\",\\n    \"doesn\\'t\": \"does not\",\\n    \"don\\'t\": \"do not\",\\n    \"hadn\\'t\": \"had not\",\\n    \"hadn\\'t\\'ve\": \"had not have\",\\n    \"hasn\\'t\": \"has not\",\\n    \"haven\\'t\": \"have not\",\\n    \"he\\'d\": \"he would\",\\n    \"he\\'d\\'ve\": \"he would have\",\\n    \"he\\'ll\": \"he will\",\\n    \"he\\'ll\\'ve\": \"he will have\",\\n    \"he\\'s\": \"he is\",\\n    \"how\\'d\": \"how did\",\\n    \"how\\'d\\'y\": \"how do you\",\\n    \"how\\'ll\": \"how will\",\\n    \"how\\'s\": \"how is\",\\n    \"i\\'d\": \"i would\",\\n    \"i\\'d\\'ve\": \"i would have\",\\n    \"i\\'ll\": \"i will\",\\n    \"i\\'ll\\'ve\": \"i will have\",\\n    \"i\\'m\": \"i am\",\\n    \"i\\'ve\": \"i have\",\\n    \"isn\\'t\": \"is not\",\\n    \"it\\'d\": \"it would\",\\n    \"it\\'d\\'ve\": \"it would have\",\\n    \"it\\'ll\": \"it will\",\\n    \"it\\'ll\\'ve\": \"it will have\",\\n    \"it\\'s\": \"it is\",\\n    \"let\\'s\": \"let us\",\\n    \"ma\\'am\": \"madam\",\\n    \"mayn\\'t\": \"may not\",\\n    \"might\\'ve\": \"might have\",\\n    \"mightn\\'t\": \"might not\",\\n    \"mightn\\'t\\'ve\": \"might not have\",\\n    \"must\\'ve\": \"must have\",\\n    \"mustn\\'t\": \"must not\",\\n    \"mustn\\'t\\'ve\": \"must not have\",\\n    \"needn\\'t\": \"need not\",\\n    \"needn\\'t\\'ve\": \"need not have\",\\n    \"o\\'clock\": \"of the clock\",\\n    \"oughtn\\'t\": \"ought not\",\\n    \"oughtn\\'t\\'ve\": \"ought not have\",\\n    \"shan\\'t\": \"shall not\",\\n    \"sha\\'n\\'t\": \"shall not\",\\n    \"shan\\'t\\'ve\": \"shall not have\",\\n    \"she\\'d\": \"she would\",\\n    \"she\\'d\\'ve\": \"she would have\",\\n    \"she\\'ll\": \"she will\",\\n    \"she\\'ll\\'ve\": \"she will have\",\\n    \"she\\'s\": \"she is\",\\n    \"should\\'ve\": \"should have\",\\n    \"shouldn\\'t\": \"should not\",\\n    \"shouldn\\'t\\'ve\": \"should not have\",\\n    \"so\\'ve\": \"so have\",\\n    \"so\\'s\": \"so as\",\\n    \"that\\'d\": \"that would\",\\n    \"that\\'d\\'ve\": \"that would have\",\\n    \"that\\'s\": \"that is\",\\n    \"there\\'d\": \"there would\",\\n    \"there\\'d\\'ve\": \"there would have\",\\n    \"there\\'s\": \"there is\",\\n    \"they\\'d\": \"they would\",\\n    \"they\\'d\\'ve\": \"they would have\",\\n    \"they\\'ll\": \"they will\",\\n    \"they\\'ll\\'ve\": \"they will have\",\\n    \"they\\'re\": \"they are\",\\n    \"they\\'ve\": \"they have\",\\n    \"to\\'ve\": \"to have\",\\n    \"wasn\\'t\": \"was not\",\\n    \"we\\'d\": \"we would\",\\n    \"we\\'d\\'ve\": \"we would have\",\\n    \"we\\'ll\": \"we will\",\\n    \"we\\'ll\\'ve\": \"we will have\",\\n    \"we\\'re\": \"we are\",\\n    \"we\\'ve\": \"we have\",\\n    \"weren\\'t\": \"were not\",\\n    \"what\\'ll\": \"what will\",\\n    \"what\\'ll\\'ve\": \"what will have\",\\n    \"what\\'re\": \"what are\",\\n    \"what\\'s\": \"what is\",\\n    \"what\\'ve\": \"what have\",\\n    \"when\\'s\": \"when is\",\\n    \"when\\'ve\": \"when have\",\\n    \"where\\'d\": \"where did\",\\n    \"where\\'s\": \"where is\",\\n    \"where\\'ve\": \"where have\",\\n    \"who\\'ll\": \"who will\",\\n    \"who\\'ll\\'ve\": \"who will have\",\\n    \"who\\'s\": \"who is\",\\n    \"who\\'ve\": \"who have\",\\n    \"why\\'s\": \"why is\",\\n    \"why\\'ve\": \"why have\",\\n    \"will\\'ve\": \"will have\",\\n    \"won\\'t\": \"will not\",\\n    \"won\\'t\\'ve\": \"will not have\",\\n    \"would\\'ve\": \"would have\",\\n    \"wouldn\\'t\": \"would not\",\\n    \"wouldn\\'t\\'ve\": \"would not have\",\\n    \"y\\'all\": \"you all\",\\n    \"y\\'all\\'d\": \"you all would\",\\n    \"y\\'all\\'d\\'ve\": \"you all would have\",\\n    \"y\\'all\\'re\": \"you all are\",\\n    \"y\\'all\\'ve\": \"you all have\",\\n    \"you\\'d\": \"you would\",\\n    \"you\\'d\\'ve\": \"you would have\",\\n    \"you\\'ll\": \"you will\",\\n    \"you\\'ll\\'ve\": \"you will have\",\\n    \"you\\'re\": \"you are\",\\n    \"you\\'ve\": \"you have\"\\n    }\\n\\n    q_decontracted = []\\n\\n    for word in q.split():\\n        if word in contractions:\\n            word = contractions[word]\\n\\n        q_decontracted.append(word)\\n\\n    q = \\' \\'.join(q_decontracted)\\n    q = q.replace(\"\\'ve\", \" have\")\\n    q = q.replace(\"n\\'t\", \" not\")\\n    q = q.replace(\"\\'re\", \" are\")\\n    q = q.replace(\"\\'ll\", \" will\")\\n    \\n    # Removing HTML tags\\n    q = BeautifulSoup(q)\\n    q = q.get_text()\\n    \\n    # Remove punctuations\\n    pattern = re.compile(\\'\\\\W\\')\\n    q = re.sub(pattern, \\' \\', q).strip()\\n\\n    \\n    return q  \\n    '"
            ],
            "application/vnd.google.colaboratory.intrinsic+json": {
              "type": "string"
            }
          },
          "metadata": {},
          "execution_count": 10
        }
      ]
    },
    {
      "cell_type": "markdown",
      "source": [
        "This Process Takes a lots of time"
      ],
      "metadata": {
        "id": "abYB6o2-rUMl"
      }
    },
    {
      "cell_type": "code",
      "source": [
        "#Data['comment_text']=Data['comment_text'].apply(preprocess)"
      ],
      "metadata": {
        "id": "v4QCJqA3ojjr"
      },
      "execution_count": null,
      "outputs": []
    },
    {
      "cell_type": "code",
      "source": [
        "for i,j in enumerate(Data['comment_text'].sample(n=5).values):\n",
        "    print(i,':\\n',j,'\\n')\n",
        "    print('*'*100,'\\n')"
      ],
      "metadata": {
        "colab": {
          "base_uri": "https://localhost:8080/"
        },
        "id": "PpRUef3qpIhb",
        "outputId": "cb2165b3-5502-48ee-b4aa-d98a4a604edc"
      },
      "execution_count": null,
      "outputs": [
        {
          "output_type": "stream",
          "name": "stdout",
          "text": [
            "0 :\n",
            " I believe it may.  Also Ca Ching Chin is getting involved just to grand stand for his run for gov...Somebody Please Save Hawaii is he is elected! \n",
            "\n",
            "**************************************************************************************************** \n",
            "\n",
            "1 :\n",
            " Well, you know what poor memories this administration has. Sessions completely forgot about his meetings with the Russians. Pence doesn't remember any warnings on Flynn's foreign ties provided to the transition committee he headed. \n",
            "\n",
            "And Donnie Jr. keeps forgetting who attended the meeting he claims was about adoption. Seems a new attendee pops up daily, including an eighth attendee - an apparent Russian money launderer, who no doubt was very concerned about finding homes for Russian orphans.\n",
            "\n",
            "https://thinkprogress.org/trump-jr-meeting-ikakly-kaveladze-russian-money-laundering-scheme-9986f528982a \n",
            "\n",
            "**************************************************************************************************** \n",
            "\n",
            "2 :\n",
            " Ronni:  Guess what?  Trump has now \"backed off\" on the condemnation of the racism represented by the Charlettesville ault-right, white supremacists, and white nationalists violent protest.  He's not back to stating it's equally \"everybody's\" fault.  The very event was based on racism and was sponsored by racist organizations......read up on it a bit.  \n",
            "\n",
            "BTW: Students were not my \"serfs\".  I treated them with far more respect than our president shows for the American people.  \n",
            "\n",
            "Apologize? Trump?.......that's an oxymoron.  Trump hasn't, to my knowledge, once apologized for anything in his entire life.  Gary Crum \n",
            "\n",
            "**************************************************************************************************** \n",
            "\n",
            "3 :\n",
            " It appears that there will be more anonymity. I suppose there are pros and cons to that. It will be interesting to see how this works out, but will look forward to better civility. \n",
            "\n",
            "**************************************************************************************************** \n",
            "\n",
            "4 :\n",
            " Learning to campaign using Trump rules - I like it. \n",
            "\n",
            "**************************************************************************************************** \n",
            "\n"
          ]
        }
      ]
    },
    {
      "cell_type": "markdown",
      "source": [
        "#Handling emoji"
      ],
      "metadata": {
        "id": "XRKQQO78szOM"
      }
    },
    {
      "cell_type": "code",
      "source": [
        " !pip install emoji"
      ],
      "metadata": {
        "colab": {
          "base_uri": "https://localhost:8080/"
        },
        "id": "RFgOncXysv2w",
        "outputId": "ee6e9a21-638c-49e2-84a8-1bf7ea2cfaaa"
      },
      "execution_count": null,
      "outputs": [
        {
          "output_type": "stream",
          "name": "stdout",
          "text": [
            "Looking in indexes: https://pypi.org/simple, https://us-python.pkg.dev/colab-wheels/public/simple/\n",
            "Collecting emoji\n",
            "  Downloading emoji-2.1.0.tar.gz (216 kB)\n",
            "\u001b[K     |████████████████████████████████| 216 kB 7.1 MB/s \n",
            "\u001b[?25hBuilding wheels for collected packages: emoji\n",
            "  Building wheel for emoji (setup.py) ... \u001b[?25l\u001b[?25hdone\n",
            "  Created wheel for emoji: filename=emoji-2.1.0-py3-none-any.whl size=212392 sha256=830a8020bed04df1c27d1e571401ca98c73e6d4d55055cd822eba3383d8f2f36\n",
            "  Stored in directory: /root/.cache/pip/wheels/77/75/99/51c2a119f4cfd3af7b49cc57e4f737bed7e40b348a85d82804\n",
            "Successfully built emoji\n",
            "Installing collected packages: emoji\n",
            "Successfully installed emoji-2.1.0\n"
          ]
        }
      ]
    },
    {
      "cell_type": "code",
      "source": [
        "import emoji\n",
        "X='Python is 👍'"
      ],
      "metadata": {
        "id": "QllNvS8jtP9K"
      },
      "execution_count": null,
      "outputs": []
    },
    {
      "cell_type": "code",
      "source": [
        "def build_vocab(sentences, verbose =  True):\n",
        "    \"\"\"\n",
        "    :param sentences: list of list of words\n",
        "    :return: dictionary of words and their count\n",
        "    \"\"\"\n",
        "    vocab = {}\n",
        "    for sentence in tqdm(sentences, disable = (not verbose)):\n",
        "        for word in sentence:\n",
        "            try:\n",
        "                vocab[word] += 1\n",
        "            except KeyError:\n",
        "                vocab[word] = 1\n",
        "    return vocab"
      ],
      "metadata": {
        "id": "HXte8EKZtueO"
      },
      "execution_count": null,
      "outputs": []
    },
    {
      "cell_type": "code",
      "source": [
        "import string\n",
        "latin_similar = \"’'‘ÆÐƎƏƐƔĲŊŒẞÞǷȜæðǝəɛɣĳŋœĸſßþƿȝĄƁÇĐƊĘĦĮƘŁØƠŞȘŢȚŦŲƯY̨Ƴąɓçđɗęħįƙłøơşșţțŧųưy̨ƴÁÀÂÄǍĂĀÃÅǺĄÆǼǢƁĆĊĈČÇĎḌĐƊÐÉÈĖÊËĚĔĒĘẸƎƏƐĠĜǦĞĢƔáàâäǎăāãåǻąæǽǣɓćċĉčçďḍđɗðéèėêëěĕēęẹǝəɛġĝǧğģɣĤḤĦIÍÌİÎÏǏĬĪĨĮỊĲĴĶƘĹĻŁĽĿʼNŃN̈ŇÑŅŊÓÒÔÖǑŎŌÕŐỌØǾƠŒĥḥħıíìiîïǐĭīĩįịĳĵķƙĸĺļłľŀŉńn̈ňñņŋóòôöǒŏōõőọøǿơœŔŘŖŚŜŠŞȘṢẞŤŢṬŦÞÚÙÛÜǓŬŪŨŰŮŲỤƯẂẀŴẄǷÝỲŶŸȲỸƳŹŻŽẒŕřŗſśŝšşșṣßťţṭŧþúùûüǔŭūũűůųụưẃẁŵẅƿýỳŷÿȳỹƴźżžẓ\"\n",
        "# white_list = string.ascii_letters + string.digits + latin_similar + ' '\n",
        "white_list = string.ascii_letters + latin_similar + ' '\n",
        "white_list += \"'\""
      ],
      "metadata": {
        "id": "XzKtADscuF8r"
      },
      "execution_count": null,
      "outputs": []
    },
    {
      "cell_type": "code",
      "source": [
        "from tqdm import tqdm\n",
        "jigsaw_chars = build_vocab(list(Data[\"comment_text\"]))\n",
        "jigsaw_symbols = ''.join([c for c in jigsaw_chars if not c in white_list])\n",
        "jigsaw_symbols"
      ],
      "metadata": {
        "colab": {
          "base_uri": "https://localhost:8080/",
          "height": 278
        },
        "id": "gj83Zb-VuIHS",
        "outputId": "ab0b42f9-f892-4b45-bcd4-25dd0064bca4"
      },
      "execution_count": null,
      "outputs": [
        {
          "output_type": "stream",
          "name": "stderr",
          "text": [
            "100%|██████████| 1804874/1804874 [00:57<00:00, 31629.54it/s]\n"
          ]
        },
        {
          "output_type": "execute_result",
          "data": {
            "text/plain": [
              "'.,?!-;*\"…:\\n150—()%263#$97&_8/@＼・ω4+🍕=”“[]^–>\\r🐵\\\\°<😑~\\xa0\\ue014•≠\\t™\\uf818\\uf04a\\xadˈʊɒ😢🐶∞§{}·τα❤️☺ɡ\\uf0e0😜😎👊\\u200b\\u200e😁|عدويهصقأناخلىبمغر😍💖¢→̶`💵❥━┣┫Е┗Ｏ►★👎😀😂\\u202a\\u202c🔥😄©―🏻💥ᴍʏʀɪᴇɴᴅᴏᴀᴋʜᴜʟᴛᴄᴘʙғᴊᴡɢ✔®\\x96\\x92●😋👏שלוםבי😱‼£\\x81♥エンジ故障➤´\\u2009🚌ᴵ͞🌟😊😳😧🙀😐😕\\u200f👍😮😃😘¹☕≈÷אעכח♡◐║▬💩′ɔː💯⛽€🚄🏼ஜ۩۞†😖ᴠ🚲‐μ✒➥😟😈═☆ˌ💪🙏🎯◄🌹😇💔½ʻ😡\\x7f👌ἐπὶδηλήσειὲκἀίῃἴρξνʃ🙄✬ＳＵＰＥＲＨＩＴ😠\\ufeff☻±\\u2028😉😤⛺♍🙂µ\\u3000تحكسة👮💙فزط😏º🍾🎉¾😞\\u2008🏾😅😭👻😥😔😓🏽🎆✓◾🍻🍽🎶🌺🤔😪\\x08‑؟🐰🐇🐱🙆．😨⬅🙃💕𝘊𝘦𝘳𝘢𝘵𝘰𝘤𝘺𝘴𝘪𝘧𝘮𝘣💗💚地獄谷℅»ВулканПвоАН🐾🐕❣😆ה⋅🔗¿¬🚽歌舞伎🙈😴🏿🤗🇺🇸♫мυтѕＣＭ⤵🏆🎃β😩█▓▒░\\u200a🌠🐟💫💰💎⇒эпрд\\x95🖐🙅⛲🍰⭐🤐👆›🙌\\u2002💛🙁👀🙊🙉¡₂₃\\u2004❧▰ˢᵒʳʸ▔ᴼᴷᴺʷᵗʰᵉᵘ◞▀\\x13🚬▂▃▄▅▆▇↙🤓\\ue602😵άοόςέγὸ̄תמדףנרךצט😒͝″☹➡«🆕👅👥👄🔄🔤👉👤👶👲🔛🎓φ\\uf0b7⅓„✋：\\uf04c\\x9f\\x10成都¥😣⏺̲̅😌🤑́🌏😯ех😲∙‛Ἰᾶὁ💞🚓◇🔔📚✏🏀👐\\u202d💤🍇\\ue613小土豆🏡▷❔❓⁉❗\\u202f👠¶》कर्मा🇹🇼🌸蔡英文🌞˚🎲レクサス😛˙外国人关系）Ссиб💋💀🎄💜🤢َِʿьыгя✨不是。ɑ\\x80\\x9c\\x9d🗑\\u2005💃📣👿༼つ◕༽😰ḷЗз▱ц￼🤣卖！温哥华议会下降％你失去所有的钱加拿大坏税骗子🐝¯ツ🎅\\x85🍺آإشء−ﬂﬁ🎵🌎͟ἔ油别克🤡🤥😬🤧й\\u2003₁²🚀🤴ʌʲш¼⁴⁄₄⌠чИОРФДЯМю♭ж✘😝🖑ὐύύ特殊作戦群╪щ💨圆明园ק▶ℐ☭✭🏈😺♪🌍⏏ệ🍔🐮🍁☔🍆🍑🌮🌯☠🤦\\u200d♂𝓒𝓲𝓿𝓵안영하세요ЖљКћ🍀😫🤤ῦ我出生在了可以说普通话汉语好极🎼🕺☃🍸🥂🗽🎇🎊🆘☎🤠👩✈🖒✌✰❆☙🚪天一家⚲\\u2006⚭⚆⬭⬯⏖○‣⚓新年∎ℒ▪▙☏⅛✀╌🇫🇷🇩🇪🇮🇬🇧😷🇨🇦ХШ🌐\\x1f杀鸡给猴看ʁ𝗪𝗵𝗲𝗻𝘆𝗼𝘂𝗿𝗮𝗹𝗶𝘇𝗯𝘁𝗰𝘀𝘅𝗽𝘄𝗱📺ｃϖ\\u2000үսａᴦᎥһͺ\\u2007հｓǀ\\u2001ɩ℮ｙｅ൦ｌƽ¸ｗｈ𝐓𝐡𝐞𝐫𝐮𝐝𝐚𝐃𝐜𝐩𝐭𝐢𝐨𝐧Ƅᴨ‚ןᑯ໐ΤᏧ௦Іᴑ܁𝐬𝐰𝐲𝐛𝐦𝐯𝐑𝐙𝐣𝐇𝐂𝐘𝟎ԜТᗞ౦〔Ꭻ𝐳𝐔𝐱𝟔𝟓𝐅🐋∼ﬃ💘💓ё𝘥𝘯𝘶‖💐🌋🌄🌅𝙬𝙖𝙨𝙤𝙣𝙡𝙮𝙘𝙠𝙚𝙙𝙜𝙧𝙥𝙩𝙪𝙗𝙞𝙝𝙛👺🐷ℋℳ𝐀𝐥𝐪❄🚶←𝙢Ἱ🤘ͦ💸☼ج패티Ｗ⋆𝙇ʒᵻ👂👃ɜ🎫\\uf0a7БУі🚢⊂🚂ગુજરાતીῆ🏃、⅔𝓬𝓻𝓴𝓮𝓽𝓼☘¨﴾͡๏̯﴿⚾⚽Φ₽\\ue807𝑻𝒆𝒍𝒕𝒉𝒓𝒖𝒂𝒏𝒅𝒔𝒎𝒗𝒊👽😙\\u200cЛ×‒🎾👹θ￦⎌🏒⛸公寓养宠物吗？🏄🐀🚑🤷（操美𝒑𝒚𝒐𝑴🤙🐒℃欢迎来到阿拉斯ספ𝙫⏩☮🐈𝒌𝙊𝙭𝙆𝙋𝙍𝘼𝙅ﷻ⚠🦄巨收赢得月白鬼愤怒要买额ẽ🚗✊🐳𝟏𝐟𝟖𝟑𝟕𝒄𝟗𝐠𝙄𝙃👇锟斤拷❌⭕▸𝗢𝟳𝟱𝟬⦁マルハニチロ株式社⛷한국어ㄸㅓ니͜ʖ■⇌𝘿𝙔₵𝒩ℯ𝒾𝓁𝒶𝓉𝓇𝓊𝓃𝓈𝓅ℴ𝒻𝒽𝓀𝓌𝒸𝓎𝙏ζ𝙟𝘃𝗺𝟮𝟭𝟯𝟲👋🦊☐☑多伦⚡☄ǫ🐽🎻🎹⛓🏹╭∩╮🍷🦆为和中友谊祝贺与其想象对法如直接问，用自己猜本传教士没积唯认识基督徒曾经让相信耶稣复活死怪他但当们聊些政治题时候例战胜因圣把全堂结婚孩恐惧且栗谓这样还♾🎸🤕🤒⛑🎁批判检讨🏝🦁＞ʕɐ̣Δ₀🙋😶쥐스탱트뤼도석유가격인상이경제황을렵게만들지않록잘관리해야합다캐나에서대마초와화약금의품런성분갈때는반드시허된사용✞🔫👁┈╱╲▏▕┃╰▊▋╯┳┊≥☒凸ὰ↑💲🗯𝙈Ἄ𝒇𝒈𝒘𝒃𝑬𝑶𝕾𝖙𝖗𝖆𝖎𝖌𝖍𝖕𝖊𝖔𝖑𝖉𝖓𝖐𝖜𝖞𝖚𝖇𝕿𝖘𝖄𝖛𝖒𝖋𝖂𝕴𝖟𝖈𝕸👑🚿☝💡知彼百\\uf005𝙀𝒛𝑲𝑳𝑾𝒋𝟒😦𝙒𝘾𝘽🏐ɹ𝘩𝘨ὼṑ✅☛𝑱𝑹𝑫𝑵𝑪🇰🇵👾ᓇᒧᔭᐃᐧᐦᑳᐨᓃᓂᑲᐸᑭᑎᓀᐣ🐄🎈🔨♩🐎🤞☞🐸💟🎰🌝🛳点击查版🍭𝑥𝑦𝑧ＡＮＧＪＢ👣\\uf020っ◔◡🏉↓ф💭🎥♀Ξ🐴👨🤳⬆🦍\\x0b🍩𝑯𝒒😗𝟐🏂👳🍗🕉🐲چی̱ℏ𝑮𝗕𝗴\\x91🍒⠀ꜥˤⲣⲏ╚🐑⏰↺⇤∏鉄リ事件✾◦♬³ї💊「」\\uf203\\uf09a\\uf222\\ue608\\uf202\\uf099\\uf469\\ue607\\uf410\\ue600燻製シの虚偽屁理屈｜／Г𝑩𝑰𝒀𝑺🌤∵∴√𝗳𝗜𝗙𝗦𝗧🍊ὺἈἡχῖΛΩ¤⤏🇳𝒙ψՁմեռայինրւդձ冬至ὀ𝒁🔹🤚🍎𝑷🐂💅𝘬𝘱𝘸𝘷𝘐𝘭𝘓𝘖𝘹𝘲𝘫ک☜Βώ💢▲ΜΟΝΑΕ🇱♲𝝈↴↳💒⊘▫Ȼ‿⬇🚴🖕🖤🥘📍👈➕🚫🎨🌑🐻𝐎𝐍𝐊𝑭🤖🎎✧😼🕷ｇｏｖｒｎｍｔｉｄｕ－２０８ｆｂ＇ｋ𝟰🇴🇭🇻🇲𝗞𝗭𝗘𝗤‰≤👼📉🍟🍦∕🌈🔭《🐊🐍\\uf10aˆ⚜☁ლڡ🐦🤯🤪🐡💳ἱ🙇𝗸𝗟𝗠𝗷🥜さようなら🔼'"
            ],
            "application/vnd.google.colaboratory.intrinsic+json": {
              "type": "string"
            }
          },
          "metadata": {},
          "execution_count": 16
        }
      ]
    },
    {
      "cell_type": "markdown",
      "source": [
        " Overall Observation: \n",
        " 1. removing Emojis from data is not good idea. emojis holds lots of sentimental meaning, we have to find the way in which we can convert emojis to its approximate meaning https://stackoverflow.com/questions/57580288/how-to-replace-emoji-to-word-in-a-text"
      ],
      "metadata": {
        "id": "Nq90cmT2v83y"
      }
    },
    {
      "cell_type": "code",
      "source": [
        "import emoji\n",
        "def emojis_to_word(text):\n",
        "    text = emoji.demojize(text, delimiters=(\"\", \"\"))\n",
        "    text = text.replace('_',' ')\n",
        "    return text"
      ],
      "metadata": {
        "id": "sN8VTXkVwBK8"
      },
      "execution_count": null,
      "outputs": []
    },
    {
      "cell_type": "code",
      "source": [
        "emojis_to_word('python is 🙄')"
      ],
      "metadata": {
        "colab": {
          "base_uri": "https://localhost:8080/",
          "height": 35
        },
        "id": "fkZ4w0ESwVtY",
        "outputId": "fd4cb505-74e6-4cce-f6a2-ed152df5d910"
      },
      "execution_count": null,
      "outputs": [
        {
          "output_type": "execute_result",
          "data": {
            "text/plain": [
              "'python is face with rolling eyes'"
            ],
            "application/vnd.google.colaboratory.intrinsic+json": {
              "type": "string"
            }
          },
          "metadata": {},
          "execution_count": 18
        }
      ]
    },
    {
      "cell_type": "markdown",
      "source": [
        "#Convert Into lower case\n",
        "LOWER=lower"
      ],
      "metadata": {
        "id": "DartFNPZxOIm"
      }
    },
    {
      "cell_type": "code",
      "source": [
        "import contractions\n",
        "def decontraction(text):\n",
        "    expanded_words = []    \n",
        "    for word in text.split():\n",
        "      # using contractions.fix to expand the shotened words\n",
        "        expanded_words.append(contractions.fix(word))   \n",
        "\n",
        "    expanded_text = ' '.join(expanded_words)\n",
        "    return expanded_text"
      ],
      "metadata": {
        "id": "aRqn7HzcxRxh"
      },
      "execution_count": null,
      "outputs": []
    },
    {
      "cell_type": "code",
      "source": [
        "!pip install contractions"
      ],
      "metadata": {
        "id": "X6RMaPTZxhq-",
        "colab": {
          "base_uri": "https://localhost:8080/"
        },
        "outputId": "6a41db50-4a9c-4c1c-b3cd-5a805216667d"
      },
      "execution_count": null,
      "outputs": [
        {
          "output_type": "stream",
          "name": "stdout",
          "text": [
            "Looking in indexes: https://pypi.org/simple, https://us-python.pkg.dev/colab-wheels/public/simple/\n",
            "Collecting contractions\n",
            "  Downloading contractions-0.1.72-py2.py3-none-any.whl (8.3 kB)\n",
            "Collecting textsearch>=0.0.21\n",
            "  Downloading textsearch-0.0.24-py2.py3-none-any.whl (7.6 kB)\n",
            "Collecting anyascii\n",
            "  Downloading anyascii-0.3.1-py3-none-any.whl (287 kB)\n",
            "\u001b[K     |████████████████████████████████| 287 kB 7.9 MB/s \n",
            "\u001b[?25hCollecting pyahocorasick\n",
            "  Downloading pyahocorasick-1.4.4-cp37-cp37m-manylinux_2_17_x86_64.manylinux2014_x86_64.whl (106 kB)\n",
            "\u001b[K     |████████████████████████████████| 106 kB 63.4 MB/s \n",
            "\u001b[?25hInstalling collected packages: pyahocorasick, anyascii, textsearch, contractions\n",
            "Successfully installed anyascii-0.3.1 contractions-0.1.72 pyahocorasick-1.4.4 textsearch-0.0.24\n"
          ]
        }
      ]
    },
    {
      "cell_type": "code",
      "source": [
        "decontraction(\"You ain’t see nobody like this before.\")"
      ],
      "metadata": {
        "colab": {
          "base_uri": "https://localhost:8080/",
          "height": 35
        },
        "id": "mLcnjwMEx8ek",
        "outputId": "12eea523-6f4c-429d-9580-8168c1d04b38"
      },
      "execution_count": null,
      "outputs": [
        {
          "output_type": "execute_result",
          "data": {
            "text/plain": [
              "'You are not see nobody like this before.'"
            ],
            "application/vnd.google.colaboratory.intrinsic+json": {
              "type": "string"
            }
          },
          "metadata": {},
          "execution_count": 22
        }
      ]
    },
    {
      "cell_type": "code",
      "source": [
        "def removing_links(text):\n",
        "    text = re.sub(\"(http|https)://[\\w\\-]+(\\.[\\w\\-]+)+\\S*\", \"\", text)\n",
        "    return text"
      ],
      "metadata": {
        "id": "u9WkTO070ZJH"
      },
      "execution_count": null,
      "outputs": []
    },
    {
      "cell_type": "code",
      "source": [
        "import nltk\n",
        "nltk.download('wordnet')"
      ],
      "metadata": {
        "colab": {
          "base_uri": "https://localhost:8080/"
        },
        "id": "ZxyK6_ufXPNW",
        "outputId": "d6215445-167c-41d2-a4bf-7771e170711d"
      },
      "execution_count": null,
      "outputs": [
        {
          "output_type": "stream",
          "name": "stderr",
          "text": [
            "[nltk_data] Downloading package wordnet to /root/nltk_data...\n"
          ]
        },
        {
          "output_type": "execute_result",
          "data": {
            "text/plain": [
              "True"
            ]
          },
          "metadata": {},
          "execution_count": 25
        }
      ]
    },
    {
      "cell_type": "code",
      "source": [
        "import nltk\n",
        "nltk.download('omw-1.4')"
      ],
      "metadata": {
        "colab": {
          "base_uri": "https://localhost:8080/"
        },
        "id": "ZtzXqZqmXWeN",
        "outputId": "d92c3a53-a9ef-433d-c680-762bb045b688"
      },
      "execution_count": null,
      "outputs": [
        {
          "output_type": "stream",
          "name": "stderr",
          "text": [
            "[nltk_data] Downloading package omw-1.4 to /root/nltk_data...\n"
          ]
        },
        {
          "output_type": "execute_result",
          "data": {
            "text/plain": [
              "True"
            ]
          },
          "metadata": {},
          "execution_count": 27
        }
      ]
    },
    {
      "cell_type": "code",
      "source": [
        "#Lemmatization\n",
        "''' toy example'''\n",
        "# import these modules\n",
        "from nltk.stem import WordNetLemmatizer\n",
        "lemmatizer = WordNetLemmatizer()\n",
        "print(\"better :\", lemmatizer.lemmatize(\"better\"))"
      ],
      "metadata": {
        "colab": {
          "base_uri": "https://localhost:8080/"
        },
        "id": "oeUQIZld11i4",
        "outputId": "8e7d9ef1-03f2-4f16-c0d2-482dd129ead4"
      },
      "execution_count": null,
      "outputs": [
        {
          "output_type": "stream",
          "name": "stdout",
          "text": [
            "better : better\n"
          ]
        }
      ]
    },
    {
      "cell_type": "code",
      "source": [],
      "metadata": {
        "colab": {
          "base_uri": "https://localhost:8080/"
        },
        "id": "9nrcrj0o11sn",
        "outputId": "604d1c52-861a-46cc-c319-aad7cd0153ed"
      },
      "execution_count": null,
      "outputs": [
        {
          "output_type": "stream",
          "name": "stderr",
          "text": [
            "[nltk_data] Downloading package wordnet to /root/nltk_data...\n"
          ]
        },
        {
          "output_type": "execute_result",
          "data": {
            "text/plain": [
              "True"
            ]
          },
          "metadata": {},
          "execution_count": 47
        }
      ]
    },
    {
      "cell_type": "code",
      "source": [
        "import nltk\n",
        "nltk.download('omw-1.4')"
      ],
      "metadata": {
        "colab": {
          "base_uri": "https://localhost:8080/"
        },
        "id": "yE_B0crg11uU",
        "outputId": "4887224c-b511-42b1-a0d3-ded0d841eed0"
      },
      "execution_count": null,
      "outputs": [
        {
          "output_type": "stream",
          "name": "stderr",
          "text": [
            "[nltk_data] Downloading package omw-1.4 to /root/nltk_data...\n"
          ]
        },
        {
          "output_type": "execute_result",
          "data": {
            "text/plain": [
              "True"
            ]
          },
          "metadata": {},
          "execution_count": 49
        }
      ]
    },
    {
      "cell_type": "code",
      "source": [
        "from nltk.stem import WordNetLemmatizer\n",
        "def Lemmatization(text):\n",
        "    lemmatizer = WordNetLemmatizer()\n",
        "    text = lemmatizer.lemmatize(str(text))\n",
        "    return text"
      ],
      "metadata": {
        "id": "CEj0YJ9U11xK"
      },
      "execution_count": null,
      "outputs": []
    },
    {
      "cell_type": "code",
      "source": [
        "Lemmatization('what a Moe-ron')"
      ],
      "metadata": {
        "colab": {
          "base_uri": "https://localhost:8080/",
          "height": 35
        },
        "id": "0U4Uiahg11zf",
        "outputId": "a390e72a-899c-481b-c0b8-7d509de18dab"
      },
      "execution_count": null,
      "outputs": [
        {
          "output_type": "execute_result",
          "data": {
            "text/plain": [
              "'what a Moe-ron'"
            ],
            "application/vnd.google.colaboratory.intrinsic+json": {
              "type": "string"
            }
          },
          "metadata": {},
          "execution_count": 30
        }
      ]
    },
    {
      "cell_type": "code",
      "source": [
        "#Applying Stemming"
      ],
      "metadata": {
        "id": "WjmeMPoa112H"
      },
      "execution_count": null,
      "outputs": []
    },
    {
      "cell_type": "markdown",
      "source": [
        "#Applying Stemming"
      ],
      "metadata": {
        "id": "sE0i2zzm3NWG"
      }
    },
    {
      "cell_type": "code",
      "source": [
        "from nltk.stem.porter import PorterStemmer\n",
        "stemmer = PorterStemmer()\n",
        "def stem_words(text):\n",
        "    return \" \".join([stemmer.stem(word) for word in text.split()])"
      ],
      "metadata": {
        "id": "U9BHzDCQ115J"
      },
      "execution_count": null,
      "outputs": []
    },
    {
      "cell_type": "code",
      "source": [
        "stem_words('studies studying cries  cry goods sacas cried ')"
      ],
      "metadata": {
        "colab": {
          "base_uri": "https://localhost:8080/",
          "height": 35
        },
        "id": "HSDM4Rzc117F",
        "outputId": "c5fbede8-4493-4f03-f5a4-72218cc09313"
      },
      "execution_count": null,
      "outputs": [
        {
          "output_type": "execute_result",
          "data": {
            "text/plain": [
              "'studi studi cri cri good saca cri'"
            ],
            "application/vnd.google.colaboratory.intrinsic+json": {
              "type": "string"
            }
          },
          "metadata": {},
          "execution_count": 54
        }
      ]
    },
    {
      "cell_type": "markdown",
      "source": [
        "Removing non english word"
      ],
      "metadata": {
        "id": "rdf8WG6Q3dRr"
      }
    },
    {
      "cell_type": "code",
      "source": [
        "import nltk\n",
        "nltk.download('words')"
      ],
      "metadata": {
        "colab": {
          "base_uri": "https://localhost:8080/"
        },
        "id": "I6uEqeVS4OKK",
        "outputId": "6b962595-9417-434c-ddeb-c06dcd7558b9"
      },
      "execution_count": null,
      "outputs": [
        {
          "output_type": "stream",
          "name": "stderr",
          "text": [
            "[nltk_data] Downloading package words to /root/nltk_data...\n",
            "[nltk_data]   Unzipping corpora/words.zip.\n"
          ]
        },
        {
          "output_type": "execute_result",
          "data": {
            "text/plain": [
              "True"
            ]
          },
          "metadata": {},
          "execution_count": 32
        }
      ]
    },
    {
      "cell_type": "code",
      "source": [
        "import nltk\n",
        "\n",
        "words = set(nltk.corpus.words.words())\n",
        "\n",
        "sent = \"we plays history day words ansdknak\"\n",
        "\n",
        "result = \" \".join(w for w in nltk.wordpunct_tokenize(sent)if w.lower() in words or not w.isalpha())\n",
        "print('\\noriginal:\\n',sent,'\\n\\nafter NLTK :\\n',result)"
      ],
      "metadata": {
        "colab": {
          "base_uri": "https://localhost:8080/"
        },
        "id": "5u72NCVp11-k",
        "outputId": "b697cfe8-900b-47af-f887-f3752778ca37"
      },
      "execution_count": null,
      "outputs": [
        {
          "output_type": "stream",
          "name": "stdout",
          "text": [
            "\n",
            "original:\n",
            " we plays history day words ansdknak \n",
            "\n",
            "after NLTK :\n",
            " we history day\n"
          ]
        }
      ]
    },
    {
      "cell_type": "code",
      "source": [
        "def build_vocab(sentences, verbose =  True):\n",
        "    \"\"\"\n",
        "    :param sentences: list of list of words\n",
        "    :return: dictionary of words and their count\n",
        "    \"\"\"\n",
        "    vocab = {}\n",
        "    for sentence in tqdm(sentences, disable = (not verbose)):\n",
        "        for word in sentence:\n",
        "            try:\n",
        "                vocab[word] += 1\n",
        "            except KeyError:\n",
        "                vocab[word] = 1\n",
        "    return vocab"
      ],
      "metadata": {
        "id": "XpJhjSKw3cDQ"
      },
      "execution_count": null,
      "outputs": []
    },
    {
      "cell_type": "code",
      "source": [
        "import string\n",
        "latin_similar = \"’'‘ÆÐƎƏƐƔĲŊŒẞÞǷȜæðǝəɛɣĳŋœĸſßþƿȝĄƁÇĐƊĘĦĮƘŁØƠŞȘŢȚŦŲƯY̨Ƴąɓçđɗęħįƙłøơşșţțŧųưy̨ƴÁÀÂÄǍĂĀÃÅǺĄÆǼǢƁĆĊĈČÇĎḌĐƊÐÉÈĖÊËĚĔĒĘẸƎƏƐĠĜǦĞĢƔáàâäǎăāãåǻąæǽǣɓćċĉčçďḍđɗðéèėêëěĕēęẹǝəɛġĝǧğģɣĤḤĦIÍÌİÎÏǏĬĪĨĮỊĲĴĶƘĹĻŁĽĿʼNŃN̈ŇÑŅŊÓÒÔÖǑŎŌÕŐỌØǾƠŒĥḥħıíìiîïǐĭīĩįịĳĵķƙĸĺļłľŀŉńn̈ňñņŋóòôöǒŏōõőọøǿơœŔŘŖŚŜŠŞȘṢẞŤŢṬŦÞÚÙÛÜǓŬŪŨŰŮŲỤƯẂẀŴẄǷÝỲŶŸȲỸƳŹŻŽẒŕřŗſśŝšşșṣßťţṭŧþúùûüǔŭūũűůųụưẃẁŵẅƿýỳŷÿȳỹƴźżžẓ\"\n",
        "# white_list = string.ascii_letters + string.digits + latin_similar + ' '\n",
        "white_list = string.ascii_letters + latin_similar + ' '\n",
        "white_list += \"'\""
      ],
      "metadata": {
        "id": "SYKyXZ8y3a6n"
      },
      "execution_count": null,
      "outputs": []
    },
    {
      "cell_type": "code",
      "source": [
        "import nltk\n",
        "nltk.download('stopwords')"
      ],
      "metadata": {
        "colab": {
          "base_uri": "https://localhost:8080/"
        },
        "id": "3rcI_RZW4mby",
        "outputId": "9acf9946-0165-4aa1-e6c9-c2312a7c4afd"
      },
      "execution_count": null,
      "outputs": [
        {
          "output_type": "stream",
          "name": "stderr",
          "text": [
            "[nltk_data] Downloading package stopwords to /root/nltk_data...\n",
            "[nltk_data]   Unzipping corpora/stopwords.zip.\n"
          ]
        },
        {
          "output_type": "execute_result",
          "data": {
            "text/plain": [
              "True"
            ]
          },
          "metadata": {},
          "execution_count": 36
        }
      ]
    },
    {
      "cell_type": "code",
      "source": [
        "from nltk.corpus import stopwords\n",
        "\", \".join(stopwords.words('english'))"
      ],
      "metadata": {
        "colab": {
          "base_uri": "https://localhost:8080/",
          "height": 244
        },
        "id": "THBROQBz3a80",
        "outputId": "544676c4-4fc0-439a-e2d8-e8d91b7a8937"
      },
      "execution_count": null,
      "outputs": [
        {
          "output_type": "execute_result",
          "data": {
            "text/plain": [
              "\"i, me, my, myself, we, our, ours, ourselves, you, you're, you've, you'll, you'd, your, yours, yourself, yourselves, he, him, his, himself, she, she's, her, hers, herself, it, it's, its, itself, they, them, their, theirs, themselves, what, which, who, whom, this, that, that'll, these, those, am, is, are, was, were, be, been, being, have, has, had, having, do, does, did, doing, a, an, the, and, but, if, or, because, as, until, while, of, at, by, for, with, about, against, between, into, through, during, before, after, above, below, to, from, up, down, in, out, on, off, over, under, again, further, then, once, here, there, when, where, why, how, all, any, both, each, few, more, most, other, some, such, no, nor, not, only, own, same, so, than, too, very, s, t, can, will, just, don, don't, should, should've, now, d, ll, m, o, re, ve, y, ain, aren, aren't, couldn, couldn't, didn, didn't, doesn, doesn't, hadn, hadn't, hasn, hasn't, haven, haven't, isn, isn't, ma, mightn, mightn't, mustn, mustn't, needn, needn't, shan, shan't, shouldn, shouldn't, wasn, wasn't, weren, weren't, won, won't, wouldn, wouldn't\""
            ],
            "application/vnd.google.colaboratory.intrinsic+json": {
              "type": "string"
            }
          },
          "metadata": {},
          "execution_count": 37
        }
      ]
    },
    {
      "cell_type": "code",
      "source": [
        "STOPWORDS = set(stopwords.words('english'))\n",
        "print(len(STOPWORDS))\n",
        "STOPWORDS = list(STOPWORDS - {'no','nor','not'})\n",
        "print(len(STOPWORDS))"
      ],
      "metadata": {
        "colab": {
          "base_uri": "https://localhost:8080/"
        },
        "id": "EUa36Q4L3a-8",
        "outputId": "4ef0a22a-3c73-42d3-e1c0-b3dccf16af54"
      },
      "execution_count": null,
      "outputs": [
        {
          "output_type": "stream",
          "name": "stdout",
          "text": [
            "179\n",
            "176\n"
          ]
        }
      ]
    },
    {
      "cell_type": "code",
      "source": [
        "def remove_stopwords(text):\n",
        "    \"\"\"custom function to remove the stopwords\"\"\"\n",
        "    return \" \".join([word for word in str(text).split() if word not in STOPWORDS])"
      ],
      "metadata": {
        "id": "l6VsDjPc3bCe"
      },
      "execution_count": null,
      "outputs": []
    },
    {
      "cell_type": "code",
      "source": [
        "sent = 'we plays history or i did we can  day'\n",
        "a=remove_stopwords(sent)\n",
        "a"
      ],
      "metadata": {
        "colab": {
          "base_uri": "https://localhost:8080/",
          "height": 35
        },
        "id": "SRLG3RIY4w0e",
        "outputId": "eafaef55-4a14-41cd-9592-bc59e374f708"
      },
      "execution_count": null,
      "outputs": [
        {
          "output_type": "execute_result",
          "data": {
            "text/plain": [
              "'plays history day'"
            ],
            "application/vnd.google.colaboratory.intrinsic+json": {
              "type": "string"
            }
          },
          "metadata": {},
          "execution_count": 40
        }
      ]
    },
    {
      "cell_type": "code",
      "source": [
        "def remove_jigsaw_symbols(text):\n",
        "    \"\"\"custom function to remove the punctuation\"\"\"\n",
        "    return text.translate(str.maketrans('', '', jigsaw_symbols))"
      ],
      "metadata": {
        "id": "GrD4Ly2I4w2d"
      },
      "execution_count": null,
      "outputs": []
    },
    {
      "cell_type": "code",
      "source": [
        "def remove_jigsaw_symbol_stop_word(text):\n",
        "    ## Dont change order of calling function 1.remove_jigsaw_symbols and 2.remove_stopwords\n",
        "    text = remove_jigsaw_symbols(text)\n",
        "    text = remove_stopwords(text)\n",
        "    return text\n"
      ],
      "metadata": {
        "id": "ZAp5iavX4w5p"
      },
      "execution_count": null,
      "outputs": []
    },
    {
      "cell_type": "code",
      "source": [
        "sent = 'we plays😮 😃 😘¹ history  降你失去所  a did not ,or  有的钱加拿大坏税骗 day  骗good '\n",
        "a = remove_jigsaw_symbol_stop_word(sent)\n",
        "a"
      ],
      "metadata": {
        "colab": {
          "base_uri": "https://localhost:8080/",
          "height": 35
        },
        "id": "Evau-8hP486V",
        "outputId": "8a957617-7110-4781-cf58-fbe7d1af3e38"
      },
      "execution_count": null,
      "outputs": [
        {
          "output_type": "execute_result",
          "data": {
            "text/plain": [
              "'plays history not day good'"
            ],
            "application/vnd.google.colaboratory.intrinsic+json": {
              "type": "string"
            }
          },
          "metadata": {},
          "execution_count": 43
        }
      ]
    },
    {
      "cell_type": "markdown",
      "source": [
        "#Removing http/https links"
      ],
      "metadata": {
        "id": "nMFWYTWs5MKb"
      }
    },
    {
      "cell_type": "code",
      "source": [
        "temp = 'You assume that they would staff it from external states with a influx of 200,000 people.  That is not necessarily true.What if they recruited 50,000 employees locally?  That is more likely.  Some executive types might move here from elsewhere, but most of the hiring would be here - just like with their warehouse. http://www.denverpost.com/2017/01/23/colorado-amazon-fulfillment-center-aurora/ '\n",
        "temp"
      ],
      "metadata": {
        "colab": {
          "base_uri": "https://localhost:8080/",
          "height": 105
        },
        "id": "qT2jGXqw488S",
        "outputId": "3e5580d6-14c9-41fd-ed47-cff2c4c8dd43"
      },
      "execution_count": null,
      "outputs": [
        {
          "output_type": "execute_result",
          "data": {
            "text/plain": [
              "'You assume that they would staff it from external states with a influx of 200,000 people.  That is not necessarily true.What if they recruited 50,000 employees locally?  That is more likely.  Some executive types might move here from elsewhere, but most of the hiring would be here - just like with their warehouse. http://www.denverpost.com/2017/01/23/colorado-amazon-fulfillment-center-aurora/ '"
            ],
            "application/vnd.google.colaboratory.intrinsic+json": {
              "type": "string"
            }
          },
          "metadata": {},
          "execution_count": 44
        }
      ]
    },
    {
      "cell_type": "code",
      "source": [
        "def removing_links(text):\n",
        "    text = re.sub(\"(http|https)://[\\w\\-]+(\\.[\\w\\-]+)+\\S*\", \"\", text)\n",
        "    return text"
      ],
      "metadata": {
        "id": "TF6dMkX_49AO"
      },
      "execution_count": null,
      "outputs": []
    },
    {
      "cell_type": "code",
      "source": [
        "a = removing_links(temp)\n",
        "a"
      ],
      "metadata": {
        "colab": {
          "base_uri": "https://localhost:8080/",
          "height": 87
        },
        "id": "x20O3y6L5WlN",
        "outputId": "8a9e5bc3-d8e7-4ab5-ac07-7ff39a0d3556"
      },
      "execution_count": null,
      "outputs": [
        {
          "output_type": "execute_result",
          "data": {
            "text/plain": [
              "'You assume that they would staff it from external states with a influx of 200,000 people.  That is not necessarily true.What if they recruited 50,000 employees locally?  That is more likely.  Some executive types might move here from elsewhere, but most of the hiring would be here - just like with their warehouse.  '"
            ],
            "application/vnd.google.colaboratory.intrinsic+json": {
              "type": "string"
            }
          },
          "metadata": {},
          "execution_count": 46
        }
      ]
    },
    {
      "cell_type": "markdown",
      "source": [
        "removal of Numbers,tabs and newline (\\t,\\n)"
      ],
      "metadata": {
        "id": "GqKhJxUu5caF"
      }
    },
    {
      "cell_type": "code",
      "source": [
        "def remove_num_tab_newline(text):\n",
        "    text = re.sub(r\"[\\d\\t\\n]*\", \"\", text)\n",
        "    return text"
      ],
      "metadata": {
        "id": "0aT8_2XG5Wuo"
      },
      "execution_count": null,
      "outputs": []
    },
    {
      "cell_type": "code",
      "source": [
        "temp='ABC \\n12223 212 sss hey \\t  hi\\t  hi2 \\ajkaalalla'\n",
        "temp"
      ],
      "metadata": {
        "colab": {
          "base_uri": "https://localhost:8080/",
          "height": 35
        },
        "id": "rBnC6p015WwQ",
        "outputId": "cfdb3d9e-5e2b-4671-90fd-30a3a6a68df0"
      },
      "execution_count": null,
      "outputs": [
        {
          "output_type": "execute_result",
          "data": {
            "text/plain": [
              "'ABC \\n12223 212 sss hey \\t  hi\\t  hi2 \\x07jkaalalla'"
            ],
            "application/vnd.google.colaboratory.intrinsic+json": {
              "type": "string"
            }
          },
          "metadata": {},
          "execution_count": 48
        }
      ]
    },
    {
      "cell_type": "code",
      "source": [
        "a = remove_num_tab_newline(temp)\n",
        "a"
      ],
      "metadata": {
        "colab": {
          "base_uri": "https://localhost:8080/",
          "height": 35
        },
        "id": "8ZL2_aWm5Wz2",
        "outputId": "92a4ecbb-ffc8-4b8e-8361-70991b13aaf6"
      },
      "execution_count": null,
      "outputs": [
        {
          "output_type": "execute_result",
          "data": {
            "text/plain": [
              "'ABC   sss hey   hi  hi \\x07jkaalalla'"
            ],
            "application/vnd.google.colaboratory.intrinsic+json": {
              "type": "string"
            }
          },
          "metadata": {},
          "execution_count": 49
        }
      ]
    },
    {
      "cell_type": "markdown",
      "source": [
        " removal Punctuations(\\t,\\n)"
      ],
      "metadata": {
        "id": "GvxpA8_v5ygq"
      }
    },
    {
      "cell_type": "code",
      "source": [
        "def remove_extra_speces(text):\n",
        "    text = re.sub(r\"[\\s\\s]+\", \" \", text)\n",
        "    return text"
      ],
      "metadata": {
        "id": "hlQdClh95xJc"
      },
      "execution_count": null,
      "outputs": []
    },
    {
      "cell_type": "code",
      "source": [
        "def build_vocab(sentences, verbose =  True):\n",
        "    \"\"\"\n",
        "    :param sentences: list of list of words\n",
        "    :return: dictionary of words and their count\n",
        "    \"\"\"\n",
        "    vocab = {}\n",
        "    for sentence in tqdm(sentences, disable = (not verbose)):\n",
        "        for word in sentence:\n",
        "            try:\n",
        "                vocab[word] += 1\n",
        "            except KeyError:\n",
        "                vocab[word] = 1\n",
        "    return vocab"
      ],
      "metadata": {
        "id": "rVfuBBq76HZF"
      },
      "execution_count": null,
      "outputs": []
    },
    {
      "cell_type": "code",
      "source": [
        "import string\n",
        "latin_similar = \"’'‘ÆÐƎƏƐƔĲŊŒẞÞǷȜæðǝəɛɣĳŋœĸſßþƿȝĄƁÇĐƊĘĦĮƘŁØƠŞȘŢȚŦŲƯY̨Ƴąɓçđɗęħįƙłøơşșţțŧųưy̨ƴÁÀÂÄǍĂĀÃÅǺĄÆǼǢƁĆĊĈČÇĎḌĐƊÐÉÈĖÊËĚĔĒĘẸƎƏƐĠĜǦĞĢƔáàâäǎăāãåǻąæǽǣɓćċĉčçďḍđɗðéèėêëěĕēęẹǝəɛġĝǧğģɣĤḤĦIÍÌİÎÏǏĬĪĨĮỊĲĴĶƘĹĻŁĽĿʼNŃN̈ŇÑŅŊÓÒÔÖǑŎŌÕŐỌØǾƠŒĥḥħıíìiîïǐĭīĩįịĳĵķƙĸĺļłľŀŉńn̈ňñņŋóòôöǒŏōõőọøǿơœŔŘŖŚŜŠŞȘṢẞŤŢṬŦÞÚÙÛÜǓŬŪŨŰŮŲỤƯẂẀŴẄǷÝỲŶŸȲỸƳŹŻŽẒŕřŗſśŝšşșṣßťţṭŧþúùûüǔŭūũűůųụưẃẁŵẅƿýỳŷÿȳỹƴźżžẓ\"\n",
        "# white_list = string.ascii_letters + string.digits + latin_similar + ' '\n",
        "white_list = string.ascii_letters + latin_similar + ' '\n",
        "white_list += \"'\""
      ],
      "metadata": {
        "id": "mFjw3vdI6Hjo"
      },
      "execution_count": null,
      "outputs": []
    },
    {
      "cell_type": "code",
      "source": [
        "from tqdm import tqdm\n",
        "# https://www.kaggle.com/christofhenkel/how-to-preprocessing-for-glove-part1-eda\n",
        "jigsaw_chars = build_vocab(list(Data[\"comment_text\"]))\n",
        "jigsaw_symbols = ''.join([c for c in jigsaw_chars if not c in white_list])\n",
        "jigsaw_symbols"
      ],
      "metadata": {
        "colab": {
          "base_uri": "https://localhost:8080/",
          "height": 278
        },
        "id": "PqT7tz9I6Hmj",
        "outputId": "e3c248b3-d6c9-4989-842d-ea1de3b9fa40"
      },
      "execution_count": null,
      "outputs": [
        {
          "output_type": "stream",
          "name": "stderr",
          "text": [
            "100%|██████████| 1804874/1804874 [00:49<00:00, 36175.89it/s]\n"
          ]
        },
        {
          "output_type": "execute_result",
          "data": {
            "text/plain": [
              "'.,?!-;*\"…:\\n150—()%263#$97&_8/@＼・ω4+🍕=”“[]^–>\\r🐵\\\\°<😑~\\xa0\\ue014•≠\\t™\\uf818\\uf04a\\xadˈʊɒ😢🐶∞§{}·τα❤️☺ɡ\\uf0e0😜😎👊\\u200b\\u200e😁|عدويهصقأناخلىبمغر😍💖¢→̶`💵❥━┣┫Е┗Ｏ►★👎😀😂\\u202a\\u202c🔥😄©―🏻💥ᴍʏʀɪᴇɴᴅᴏᴀᴋʜᴜʟᴛᴄᴘʙғᴊᴡɢ✔®\\x96\\x92●😋👏שלוםבי😱‼£\\x81♥エンジ故障➤´\\u2009🚌ᴵ͞🌟😊😳😧🙀😐😕\\u200f👍😮😃😘¹☕≈÷אעכח♡◐║▬💩′ɔː💯⛽€🚄🏼ஜ۩۞†😖ᴠ🚲‐μ✒➥😟😈═☆ˌ💪🙏🎯◄🌹😇💔½ʻ😡\\x7f👌ἐπὶδηλήσειὲκἀίῃἴρξνʃ🙄✬ＳＵＰＥＲＨＩＴ😠\\ufeff☻±\\u2028😉😤⛺♍🙂µ\\u3000تحكسة👮💙فزط😏º🍾🎉¾😞\\u2008🏾😅😭👻😥😔😓🏽🎆✓◾🍻🍽🎶🌺🤔😪\\x08‑؟🐰🐇🐱🙆．😨⬅🙃💕𝘊𝘦𝘳𝘢𝘵𝘰𝘤𝘺𝘴𝘪𝘧𝘮𝘣💗💚地獄谷℅»ВулканПвоАН🐾🐕❣😆ה⋅🔗¿¬🚽歌舞伎🙈😴🏿🤗🇺🇸♫мυтѕＣＭ⤵🏆🎃β😩█▓▒░\\u200a🌠🐟💫💰💎⇒эпрд\\x95🖐🙅⛲🍰⭐🤐👆›🙌\\u2002💛🙁👀🙊🙉¡₂₃\\u2004❧▰ˢᵒʳʸ▔ᴼᴷᴺʷᵗʰᵉᵘ◞▀\\x13🚬▂▃▄▅▆▇↙🤓\\ue602😵άοόςέγὸ̄תמדףנרךצט😒͝″☹➡«🆕👅👥👄🔄🔤👉👤👶👲🔛🎓φ\\uf0b7⅓„✋：\\uf04c\\x9f\\x10成都¥😣⏺̲̅😌🤑́🌏😯ех😲∙‛Ἰᾶὁ💞🚓◇🔔📚✏🏀👐\\u202d💤🍇\\ue613小土豆🏡▷❔❓⁉❗\\u202f👠¶》कर्मा🇹🇼🌸蔡英文🌞˚🎲レクサス😛˙外国人关系）Ссиб💋💀🎄💜🤢َِʿьыгя✨不是。ɑ\\x80\\x9c\\x9d🗑\\u2005💃📣👿༼つ◕༽😰ḷЗз▱ц￼🤣卖！温哥华议会下降％你失去所有的钱加拿大坏税骗子🐝¯ツ🎅\\x85🍺آإشء−ﬂﬁ🎵🌎͟ἔ油别克🤡🤥😬🤧й\\u2003₁²🚀🤴ʌʲш¼⁴⁄₄⌠чИОРФДЯМю♭ж✘😝🖑ὐύύ特殊作戦群╪щ💨圆明园ק▶ℐ☭✭🏈😺♪🌍⏏ệ🍔🐮🍁☔🍆🍑🌮🌯☠🤦\\u200d♂𝓒𝓲𝓿𝓵안영하세요ЖљКћ🍀😫🤤ῦ我出生在了可以说普通话汉语好极🎼🕺☃🍸🥂🗽🎇🎊🆘☎🤠👩✈🖒✌✰❆☙🚪天一家⚲\\u2006⚭⚆⬭⬯⏖○‣⚓新年∎ℒ▪▙☏⅛✀╌🇫🇷🇩🇪🇮🇬🇧😷🇨🇦ХШ🌐\\x1f杀鸡给猴看ʁ𝗪𝗵𝗲𝗻𝘆𝗼𝘂𝗿𝗮𝗹𝗶𝘇𝗯𝘁𝗰𝘀𝘅𝗽𝘄𝗱📺ｃϖ\\u2000үսａᴦᎥһͺ\\u2007հｓǀ\\u2001ɩ℮ｙｅ൦ｌƽ¸ｗｈ𝐓𝐡𝐞𝐫𝐮𝐝𝐚𝐃𝐜𝐩𝐭𝐢𝐨𝐧Ƅᴨ‚ןᑯ໐ΤᏧ௦Іᴑ܁𝐬𝐰𝐲𝐛𝐦𝐯𝐑𝐙𝐣𝐇𝐂𝐘𝟎ԜТᗞ౦〔Ꭻ𝐳𝐔𝐱𝟔𝟓𝐅🐋∼ﬃ💘💓ё𝘥𝘯𝘶‖💐🌋🌄🌅𝙬𝙖𝙨𝙤𝙣𝙡𝙮𝙘𝙠𝙚𝙙𝙜𝙧𝙥𝙩𝙪𝙗𝙞𝙝𝙛👺🐷ℋℳ𝐀𝐥𝐪❄🚶←𝙢Ἱ🤘ͦ💸☼ج패티Ｗ⋆𝙇ʒᵻ👂👃ɜ🎫\\uf0a7БУі🚢⊂🚂ગુજરાતીῆ🏃、⅔𝓬𝓻𝓴𝓮𝓽𝓼☘¨﴾͡๏̯﴿⚾⚽Φ₽\\ue807𝑻𝒆𝒍𝒕𝒉𝒓𝒖𝒂𝒏𝒅𝒔𝒎𝒗𝒊👽😙\\u200cЛ×‒🎾👹θ￦⎌🏒⛸公寓养宠物吗？🏄🐀🚑🤷（操美𝒑𝒚𝒐𝑴🤙🐒℃欢迎来到阿拉斯ספ𝙫⏩☮🐈𝒌𝙊𝙭𝙆𝙋𝙍𝘼𝙅ﷻ⚠🦄巨收赢得月白鬼愤怒要买额ẽ🚗✊🐳𝟏𝐟𝟖𝟑𝟕𝒄𝟗𝐠𝙄𝙃👇锟斤拷❌⭕▸𝗢𝟳𝟱𝟬⦁マルハニチロ株式社⛷한국어ㄸㅓ니͜ʖ■⇌𝘿𝙔₵𝒩ℯ𝒾𝓁𝒶𝓉𝓇𝓊𝓃𝓈𝓅ℴ𝒻𝒽𝓀𝓌𝒸𝓎𝙏ζ𝙟𝘃𝗺𝟮𝟭𝟯𝟲👋🦊☐☑多伦⚡☄ǫ🐽🎻🎹⛓🏹╭∩╮🍷🦆为和中友谊祝贺与其想象对法如直接问，用自己猜本传教士没积唯认识基督徒曾经让相信耶稣复活死怪他但当们聊些政治题时候例战胜因圣把全堂结婚孩恐惧且栗谓这样还♾🎸🤕🤒⛑🎁批判检讨🏝🦁＞ʕɐ̣Δ₀🙋😶쥐스탱트뤼도석유가격인상이경제황을렵게만들지않록잘관리해야합다캐나에서대마초와화약금의품런성분갈때는반드시허된사용✞🔫👁┈╱╲▏▕┃╰▊▋╯┳┊≥☒凸ὰ↑💲🗯𝙈Ἄ𝒇𝒈𝒘𝒃𝑬𝑶𝕾𝖙𝖗𝖆𝖎𝖌𝖍𝖕𝖊𝖔𝖑𝖉𝖓𝖐𝖜𝖞𝖚𝖇𝕿𝖘𝖄𝖛𝖒𝖋𝖂𝕴𝖟𝖈𝕸👑🚿☝💡知彼百\\uf005𝙀𝒛𝑲𝑳𝑾𝒋𝟒😦𝙒𝘾𝘽🏐ɹ𝘩𝘨ὼṑ✅☛𝑱𝑹𝑫𝑵𝑪🇰🇵👾ᓇᒧᔭᐃᐧᐦᑳᐨᓃᓂᑲᐸᑭᑎᓀᐣ🐄🎈🔨♩🐎🤞☞🐸💟🎰🌝🛳点击查版🍭𝑥𝑦𝑧ＡＮＧＪＢ👣\\uf020っ◔◡🏉↓ф💭🎥♀Ξ🐴👨🤳⬆🦍\\x0b🍩𝑯𝒒😗𝟐🏂👳🍗🕉🐲چی̱ℏ𝑮𝗕𝗴\\x91🍒⠀ꜥˤⲣⲏ╚🐑⏰↺⇤∏鉄リ事件✾◦♬³ї💊「」\\uf203\\uf09a\\uf222\\ue608\\uf202\\uf099\\uf469\\ue607\\uf410\\ue600燻製シの虚偽屁理屈｜／Г𝑩𝑰𝒀𝑺🌤∵∴√𝗳𝗜𝗙𝗦𝗧🍊ὺἈἡχῖΛΩ¤⤏🇳𝒙ψՁմեռայինրւդձ冬至ὀ𝒁🔹🤚🍎𝑷🐂💅𝘬𝘱𝘸𝘷𝘐𝘭𝘓𝘖𝘹𝘲𝘫ک☜Βώ💢▲ΜΟΝΑΕ🇱♲𝝈↴↳💒⊘▫Ȼ‿⬇🚴🖕🖤🥘📍👈➕🚫🎨🌑🐻𝐎𝐍𝐊𝑭🤖🎎✧😼🕷ｇｏｖｒｎｍｔｉｄｕ－２０８ｆｂ＇ｋ𝟰🇴🇭🇻🇲𝗞𝗭𝗘𝗤‰≤👼📉🍟🍦∕🌈🔭《🐊🐍\\uf10aˆ⚜☁ლڡ🐦🤯🤪🐡💳ἱ🙇𝗸𝗟𝗠𝗷🥜さようなら🔼'"
            ],
            "application/vnd.google.colaboratory.intrinsic+json": {
              "type": "string"
            }
          },
          "metadata": {},
          "execution_count": 53
        }
      ]
    },
    {
      "cell_type": "markdown",
      "source": [
        "Create Own vocabulary"
      ],
      "metadata": {
        "id": "bwsejAAb7Jgd"
      }
    },
    {
      "cell_type": "code",
      "source": [
        "## Glove file\n",
        "from numpy import asarray\n",
        "# load the whole embedding into memory\n",
        "embeddings_index = dict()\n",
        "f = open(r\"/content/glove.6B.100d.txt\",encoding=\"utf8\")\n",
        "for line in f:\n",
        "    values = line.split()\n",
        "    word = values[0]\n",
        "    coefs = asarray(values[1:], dtype='float32')\n",
        "    embeddings_index[word] = coefs\n",
        "f.close()\n",
        "print('Loaded %s word vectors.' % len(embeddings_index))"
      ],
      "metadata": {
        "colab": {
          "base_uri": "https://localhost:8080/"
        },
        "id": "_rzuifuM7ADX",
        "outputId": "c701f50d-6afa-4dae-ff72-c77b6d35378c"
      },
      "execution_count": null,
      "outputs": [
        {
          "output_type": "stream",
          "name": "stdout",
          "text": [
            "Loaded 34219 word vectors.\n"
          ]
        }
      ]
    },
    {
      "cell_type": "code",
      "source": [
        "def Non_english_word_dropping(text):\n",
        "    final = []\n",
        "    text_temp = text.split()\n",
        "    for i in text_temp:\n",
        "        if i in embeddings_index:\n",
        "            final.append(i)\n",
        "    text = ' '.join(final)\n",
        "    return text"
      ],
      "metadata": {
        "id": "9ioHDwvU6ukA"
      },
      "execution_count": null,
      "outputs": []
    },
    {
      "cell_type": "code",
      "source": [
        "sent = 'what a Moe-ron'\n",
        "result = Non_english_word_dropping(sent)"
      ],
      "metadata": {
        "id": "HAICgXMX62er"
      },
      "execution_count": null,
      "outputs": []
    },
    {
      "cell_type": "code",
      "source": [
        "sent = 'we plays history  降你失去所 有的钱加拿大坏税骗 day  骗good '\n",
        "result = Non_english_word_dropping(sent)\n",
        "print('\\noriginal:\\n',sent,'\\n\\nafter NLTK :\\n',result)"
      ],
      "metadata": {
        "colab": {
          "base_uri": "https://localhost:8080/"
        },
        "id": "5mo7ttdF6y1i",
        "outputId": "6a8e2430-8cb7-44b9-9b34-1283bf6c6bfd"
      },
      "execution_count": null,
      "outputs": [
        {
          "output_type": "stream",
          "name": "stdout",
          "text": [
            "\n",
            "original:\n",
            " we plays history  降你失去所 有的钱加拿大坏税骗 day  骗good  \n",
            "\n",
            "after NLTK :\n",
            " we plays history day\n"
          ]
        }
      ]
    },
    {
      "cell_type": "code",
      "source": [
        "def preprocessing_DL(Data,submission_data):\n",
        "    ## Note : dont change preprocessing sequence\n",
        "    ''' Converting Emojis to word'''\n",
        "    Data[\"comment_text_pre\"] = Data[\"comment_text\"].progress_apply(lambda text: emojis_to_word(text))\n",
        "    '''Converting in Lower case'''\n",
        "    Data[\"comment_text_pre\"] = Data['comment_text_pre'].str.lower()\n",
        "    '''Decontraction'''\n",
        "    Data[\"comment_text_pre\"] = Data[\"comment_text_pre\"].progress_apply(lambda text: decontraction(text))\n",
        "    '''Lemmatization'''\n",
        "    Data[\"comment_text_pre\"] = Data[\"comment_text_pre\"].progress_apply(lambda text: Lemmatization(text))\n",
        "    '''removing_links'''\n",
        "    Data[\"comment_text_pre\"] = Data[\"comment_text_pre\"].progress_apply(lambda text: removing_links(text))\n",
        "    '''remove_jigsaw_symbol/character_stop_word'''\n",
        "    Data[\"comment_text_pre\"] = Data[\"comment_text_pre\"].progress_apply(lambda text: remove_jigsaw_symbol_stop_word(text))\n",
        "    '''Non_english_word_dropping'''\n",
        "    Data[\"comment_text_pre\"] = Data[\"comment_text_pre\"].progress_apply(lambda text: Non_english_word_dropping(text))\n",
        "    '''remove_num_tab_newline'''\n",
        "    Data[\"comment_text_pre\"] = Data[\"comment_text_pre\"].progress_apply(lambda text: remove_num_tab_newline(text))\n",
        "    '''remove_extra_speces'''\n",
        "    Data[\"comment_text_pre\"] = Data[\"comment_text_pre\"].progress_apply(lambda text: remove_extra_speces(text))\n",
        "    \n",
        "    if submission_data == False:\n",
        "        '''Converting class probability into label'''\n",
        "        Data['class'] = Data['target'].progress_apply(lambda x: \"non-toxic\" if x < 0.5 else \"toxic\")\n",
        "    return Data"
      ],
      "metadata": {
        "id": "a3K5V7abyFMW"
      },
      "execution_count": null,
      "outputs": []
    },
    {
      "cell_type": "code",
      "source": [
        "def preprocessing_ML(Data,submission_data):\n",
        "    ## Note : dont change preprocessing sequence\n",
        "    ''' Converting Emojis to word'''\n",
        "    Data[\"comment_text_pre\"] = Data[\"comment_text\"].progress_apply(lambda text: emojis_to_word(text))\n",
        "    '''Converting in Lower case'''\n",
        "    Data[\"comment_text_pre\"] = Data['comment_text_pre'].str.lower()\n",
        "    '''Decontraction'''\n",
        "    Data[\"comment_text_pre\"] = Data[\"comment_text_pre\"].progress_apply(lambda text: decontraction(text))\n",
        "    '''removing_links'''\n",
        "    Data[\"comment_text_pre\"] = Data[\"comment_text_pre\"].progress_apply(lambda text: removing_links(text))\n",
        "    '''remove_jigsaw_symbol/character_stop_word'''\n",
        "    Data[\"comment_text_pre\"] = Data[\"comment_text_pre\"].progress_apply(lambda text: remove_jigsaw_symbol_stop_word(text))\n",
        "    '''Non_english_word_dropping'''\n",
        "    Data[\"comment_text_pre\"] = Data[\"comment_text_pre\"].progress_apply(lambda text: Non_english_word_dropping(text))\n",
        "    '''Stemming'''\n",
        "    Data[\"comment_text_pre\"] = Data[\"comment_text_pre\"].progress_apply(lambda text: stem_words(text))\n",
        "    '''remove_num_tab_newline'''\n",
        "    Data[\"comment_text_pre\"] = Data[\"comment_text_pre\"].progress_apply(lambda text: remove_num_tab_newline(text))\n",
        "    '''remove_extra_speces'''\n",
        "    Data[\"comment_text_pre\"] = Data[\"comment_text_pre\"].progress_apply(lambda text: remove_extra_speces(text))\n",
        "    \n",
        "    if submission_data == False:\n",
        "        '''Converting class probability into label'''\n",
        "        Data['class'] = Data['target'].progress_apply(lambda x: \"non-toxic\" if x < 0.5 else \"toxic\")\n",
        "    return Data"
      ],
      "metadata": {
        "id": "v9b66NYBzuAC"
      },
      "execution_count": null,
      "outputs": []
    },
    {
      "cell_type": "code",
      "source": [
        "from tqdm import tqdm\n",
        "tqdm.pandas()"
      ],
      "metadata": {
        "id": "K73XOOqkzwtM"
      },
      "execution_count": null,
      "outputs": []
    },
    {
      "cell_type": "markdown",
      "source": [
        "##Create Small Dataset\n",
        "\n",
        "Preprocessing the data for ML models\n",
        "\n"
      ],
      "metadata": {
        "id": "e0zr_66Sz3en"
      }
    },
    {
      "cell_type": "code",
      "source": [
        "sample_data = Data.sample(n = 100)\n",
        "sample_data.head()"
      ],
      "metadata": {
        "colab": {
          "base_uri": "https://localhost:8080/",
          "height": 490
        },
        "id": "2zrwPrMxFoXp",
        "outputId": "3e3784bf-ebbe-4154-ef90-fd0a33d81b00"
      },
      "execution_count": null,
      "outputs": [
        {
          "output_type": "execute_result",
          "data": {
            "text/plain": [
              "              id    target                                       comment_text  \\\n",
              "421424    759216  0.000000  A pause in B.C.'s hot real estate market might...   \n",
              "1702633  6209669  0.000000  It's right wing bologna. Colorado, which is ru...   \n",
              "1022921  5368046  0.000000  @Osgoodschlotter: That \"dindu\" jab originated ...   \n",
              "187815    470870  0.600000  The Chinese do not make mistakes when it comes...   \n",
              "757837   5048051  0.833333  Can we please have a heterosexual leader.\\n\\nW...   \n",
              "\n",
              "         severe_toxicity  obscene  identity_attack  insult  threat  asian  \\\n",
              "421424               0.0      0.0         0.000000     0.0     0.0    NaN   \n",
              "1702633              0.0      0.0         0.000000     0.0     0.0    NaN   \n",
              "1022921              0.0      0.0         0.000000     0.0     0.0    0.0   \n",
              "187815               0.0      0.7         0.100000     0.1     0.0    0.4   \n",
              "757837               0.0      0.0         0.833333     0.0     0.0    0.0   \n",
              "\n",
              "         atheist  ...  article_id    rating  funny  wow  sad  likes  disagree  \\\n",
              "421424       NaN  ...      158614  approved      0    0    1      1         0   \n",
              "1702633      NaN  ...      392493  approved      0    0    0      0         0   \n",
              "1022921      0.0  ...      340993  rejected      0    0    0      0         0   \n",
              "187815       0.0  ...      145783  approved      0    0    0      0         0   \n",
              "757837       0.0  ...      321806  rejected      0    0    0      0         0   \n",
              "\n",
              "         sexual_explicit  identity_annotator_count  toxicity_annotator_count  \n",
              "421424               0.0                         0                         4  \n",
              "1702633              0.0                         0                         4  \n",
              "1022921              0.0                         4                         4  \n",
              "187815               0.6                        10                        10  \n",
              "757837               0.0                         4                         6  \n",
              "\n",
              "[5 rows x 45 columns]"
            ],
            "text/html": [
              "\n",
              "  <div id=\"df-43a953c4-3b85-4da8-88a8-8cbaa47d0a3e\">\n",
              "    <div class=\"colab-df-container\">\n",
              "      <div>\n",
              "<style scoped>\n",
              "    .dataframe tbody tr th:only-of-type {\n",
              "        vertical-align: middle;\n",
              "    }\n",
              "\n",
              "    .dataframe tbody tr th {\n",
              "        vertical-align: top;\n",
              "    }\n",
              "\n",
              "    .dataframe thead th {\n",
              "        text-align: right;\n",
              "    }\n",
              "</style>\n",
              "<table border=\"1\" class=\"dataframe\">\n",
              "  <thead>\n",
              "    <tr style=\"text-align: right;\">\n",
              "      <th></th>\n",
              "      <th>id</th>\n",
              "      <th>target</th>\n",
              "      <th>comment_text</th>\n",
              "      <th>severe_toxicity</th>\n",
              "      <th>obscene</th>\n",
              "      <th>identity_attack</th>\n",
              "      <th>insult</th>\n",
              "      <th>threat</th>\n",
              "      <th>asian</th>\n",
              "      <th>atheist</th>\n",
              "      <th>...</th>\n",
              "      <th>article_id</th>\n",
              "      <th>rating</th>\n",
              "      <th>funny</th>\n",
              "      <th>wow</th>\n",
              "      <th>sad</th>\n",
              "      <th>likes</th>\n",
              "      <th>disagree</th>\n",
              "      <th>sexual_explicit</th>\n",
              "      <th>identity_annotator_count</th>\n",
              "      <th>toxicity_annotator_count</th>\n",
              "    </tr>\n",
              "  </thead>\n",
              "  <tbody>\n",
              "    <tr>\n",
              "      <th>421424</th>\n",
              "      <td>759216</td>\n",
              "      <td>0.000000</td>\n",
              "      <td>A pause in B.C.'s hot real estate market might...</td>\n",
              "      <td>0.0</td>\n",
              "      <td>0.0</td>\n",
              "      <td>0.000000</td>\n",
              "      <td>0.0</td>\n",
              "      <td>0.0</td>\n",
              "      <td>NaN</td>\n",
              "      <td>NaN</td>\n",
              "      <td>...</td>\n",
              "      <td>158614</td>\n",
              "      <td>approved</td>\n",
              "      <td>0</td>\n",
              "      <td>0</td>\n",
              "      <td>1</td>\n",
              "      <td>1</td>\n",
              "      <td>0</td>\n",
              "      <td>0.0</td>\n",
              "      <td>0</td>\n",
              "      <td>4</td>\n",
              "    </tr>\n",
              "    <tr>\n",
              "      <th>1702633</th>\n",
              "      <td>6209669</td>\n",
              "      <td>0.000000</td>\n",
              "      <td>It's right wing bologna. Colorado, which is ru...</td>\n",
              "      <td>0.0</td>\n",
              "      <td>0.0</td>\n",
              "      <td>0.000000</td>\n",
              "      <td>0.0</td>\n",
              "      <td>0.0</td>\n",
              "      <td>NaN</td>\n",
              "      <td>NaN</td>\n",
              "      <td>...</td>\n",
              "      <td>392493</td>\n",
              "      <td>approved</td>\n",
              "      <td>0</td>\n",
              "      <td>0</td>\n",
              "      <td>0</td>\n",
              "      <td>0</td>\n",
              "      <td>0</td>\n",
              "      <td>0.0</td>\n",
              "      <td>0</td>\n",
              "      <td>4</td>\n",
              "    </tr>\n",
              "    <tr>\n",
              "      <th>1022921</th>\n",
              "      <td>5368046</td>\n",
              "      <td>0.000000</td>\n",
              "      <td>@Osgoodschlotter: That \"dindu\" jab originated ...</td>\n",
              "      <td>0.0</td>\n",
              "      <td>0.0</td>\n",
              "      <td>0.000000</td>\n",
              "      <td>0.0</td>\n",
              "      <td>0.0</td>\n",
              "      <td>0.0</td>\n",
              "      <td>0.0</td>\n",
              "      <td>...</td>\n",
              "      <td>340993</td>\n",
              "      <td>rejected</td>\n",
              "      <td>0</td>\n",
              "      <td>0</td>\n",
              "      <td>0</td>\n",
              "      <td>0</td>\n",
              "      <td>0</td>\n",
              "      <td>0.0</td>\n",
              "      <td>4</td>\n",
              "      <td>4</td>\n",
              "    </tr>\n",
              "    <tr>\n",
              "      <th>187815</th>\n",
              "      <td>470870</td>\n",
              "      <td>0.600000</td>\n",
              "      <td>The Chinese do not make mistakes when it comes...</td>\n",
              "      <td>0.0</td>\n",
              "      <td>0.7</td>\n",
              "      <td>0.100000</td>\n",
              "      <td>0.1</td>\n",
              "      <td>0.0</td>\n",
              "      <td>0.4</td>\n",
              "      <td>0.0</td>\n",
              "      <td>...</td>\n",
              "      <td>145783</td>\n",
              "      <td>approved</td>\n",
              "      <td>0</td>\n",
              "      <td>0</td>\n",
              "      <td>0</td>\n",
              "      <td>0</td>\n",
              "      <td>0</td>\n",
              "      <td>0.6</td>\n",
              "      <td>10</td>\n",
              "      <td>10</td>\n",
              "    </tr>\n",
              "    <tr>\n",
              "      <th>757837</th>\n",
              "      <td>5048051</td>\n",
              "      <td>0.833333</td>\n",
              "      <td>Can we please have a heterosexual leader.\\n\\nW...</td>\n",
              "      <td>0.0</td>\n",
              "      <td>0.0</td>\n",
              "      <td>0.833333</td>\n",
              "      <td>0.0</td>\n",
              "      <td>0.0</td>\n",
              "      <td>0.0</td>\n",
              "      <td>0.0</td>\n",
              "      <td>...</td>\n",
              "      <td>321806</td>\n",
              "      <td>rejected</td>\n",
              "      <td>0</td>\n",
              "      <td>0</td>\n",
              "      <td>0</td>\n",
              "      <td>0</td>\n",
              "      <td>0</td>\n",
              "      <td>0.0</td>\n",
              "      <td>4</td>\n",
              "      <td>6</td>\n",
              "    </tr>\n",
              "  </tbody>\n",
              "</table>\n",
              "<p>5 rows × 45 columns</p>\n",
              "</div>\n",
              "      <button class=\"colab-df-convert\" onclick=\"convertToInteractive('df-43a953c4-3b85-4da8-88a8-8cbaa47d0a3e')\"\n",
              "              title=\"Convert this dataframe to an interactive table.\"\n",
              "              style=\"display:none;\">\n",
              "        \n",
              "  <svg xmlns=\"http://www.w3.org/2000/svg\" height=\"24px\"viewBox=\"0 0 24 24\"\n",
              "       width=\"24px\">\n",
              "    <path d=\"M0 0h24v24H0V0z\" fill=\"none\"/>\n",
              "    <path d=\"M18.56 5.44l.94 2.06.94-2.06 2.06-.94-2.06-.94-.94-2.06-.94 2.06-2.06.94zm-11 1L8.5 8.5l.94-2.06 2.06-.94-2.06-.94L8.5 2.5l-.94 2.06-2.06.94zm10 10l.94 2.06.94-2.06 2.06-.94-2.06-.94-.94-2.06-.94 2.06-2.06.94z\"/><path d=\"M17.41 7.96l-1.37-1.37c-.4-.4-.92-.59-1.43-.59-.52 0-1.04.2-1.43.59L10.3 9.45l-7.72 7.72c-.78.78-.78 2.05 0 2.83L4 21.41c.39.39.9.59 1.41.59.51 0 1.02-.2 1.41-.59l7.78-7.78 2.81-2.81c.8-.78.8-2.07 0-2.86zM5.41 20L4 18.59l7.72-7.72 1.47 1.35L5.41 20z\"/>\n",
              "  </svg>\n",
              "      </button>\n",
              "      \n",
              "  <style>\n",
              "    .colab-df-container {\n",
              "      display:flex;\n",
              "      flex-wrap:wrap;\n",
              "      gap: 12px;\n",
              "    }\n",
              "\n",
              "    .colab-df-convert {\n",
              "      background-color: #E8F0FE;\n",
              "      border: none;\n",
              "      border-radius: 50%;\n",
              "      cursor: pointer;\n",
              "      display: none;\n",
              "      fill: #1967D2;\n",
              "      height: 32px;\n",
              "      padding: 0 0 0 0;\n",
              "      width: 32px;\n",
              "    }\n",
              "\n",
              "    .colab-df-convert:hover {\n",
              "      background-color: #E2EBFA;\n",
              "      box-shadow: 0px 1px 2px rgba(60, 64, 67, 0.3), 0px 1px 3px 1px rgba(60, 64, 67, 0.15);\n",
              "      fill: #174EA6;\n",
              "    }\n",
              "\n",
              "    [theme=dark] .colab-df-convert {\n",
              "      background-color: #3B4455;\n",
              "      fill: #D2E3FC;\n",
              "    }\n",
              "\n",
              "    [theme=dark] .colab-df-convert:hover {\n",
              "      background-color: #434B5C;\n",
              "      box-shadow: 0px 1px 3px 1px rgba(0, 0, 0, 0.15);\n",
              "      filter: drop-shadow(0px 1px 2px rgba(0, 0, 0, 0.3));\n",
              "      fill: #FFFFFF;\n",
              "    }\n",
              "  </style>\n",
              "\n",
              "      <script>\n",
              "        const buttonEl =\n",
              "          document.querySelector('#df-43a953c4-3b85-4da8-88a8-8cbaa47d0a3e button.colab-df-convert');\n",
              "        buttonEl.style.display =\n",
              "          google.colab.kernel.accessAllowed ? 'block' : 'none';\n",
              "\n",
              "        async function convertToInteractive(key) {\n",
              "          const element = document.querySelector('#df-43a953c4-3b85-4da8-88a8-8cbaa47d0a3e');\n",
              "          const dataTable =\n",
              "            await google.colab.kernel.invokeFunction('convertToInteractive',\n",
              "                                                     [key], {});\n",
              "          if (!dataTable) return;\n",
              "\n",
              "          const docLinkHtml = 'Like what you see? Visit the ' +\n",
              "            '<a target=\"_blank\" href=https://colab.research.google.com/notebooks/data_table.ipynb>data table notebook</a>'\n",
              "            + ' to learn more about interactive tables.';\n",
              "          element.innerHTML = '';\n",
              "          dataTable['output_type'] = 'display_data';\n",
              "          await google.colab.output.renderOutput(dataTable, element);\n",
              "          const docLink = document.createElement('div');\n",
              "          docLink.innerHTML = docLinkHtml;\n",
              "          element.appendChild(docLink);\n",
              "        }\n",
              "      </script>\n",
              "    </div>\n",
              "  </div>\n",
              "  "
            ]
          },
          "metadata": {},
          "execution_count": 62
        }
      ]
    },
    {
      "cell_type": "code",
      "source": [
        "Train_Final_pre_text_data_sample_ML= preprocessing_ML(sample_data,submission_data=False)"
      ],
      "metadata": {
        "colab": {
          "base_uri": "https://localhost:8080/"
        },
        "id": "lQ3L7PZlGDgq",
        "outputId": "8f71e253-3e45-4796-c302-d58b6738ba28"
      },
      "execution_count": null,
      "outputs": [
        {
          "output_type": "stream",
          "name": "stderr",
          "text": [
            "100%|██████████| 100/100 [00:00<00:00, 9068.18it/s]\n",
            "100%|██████████| 100/100 [00:00<00:00, 5849.14it/s]\n",
            "100%|██████████| 100/100 [00:00<00:00, 98480.96it/s]\n",
            "100%|██████████| 100/100 [00:00<00:00, 4962.26it/s]\n",
            "100%|██████████| 100/100 [00:00<00:00, 59824.62it/s]\n",
            "100%|██████████| 100/100 [00:00<00:00, 2134.02it/s]\n",
            "100%|██████████| 100/100 [00:00<00:00, 35629.49it/s]\n",
            "100%|██████████| 100/100 [00:00<00:00, 75505.02it/s]\n",
            "100%|██████████| 100/100 [00:00<00:00, 74738.13it/s]\n"
          ]
        }
      ]
    },
    {
      "cell_type": "code",
      "source": [
        "Train_Final_pre_text_data_sample_ML"
      ],
      "metadata": {
        "colab": {
          "base_uri": "https://localhost:8080/",
          "height": 887
        },
        "id": "JT_76uFwGSo8",
        "outputId": "db61a074-f989-492f-8eaa-426502b997d2"
      },
      "execution_count": null,
      "outputs": [
        {
          "output_type": "execute_result",
          "data": {
            "text/plain": [
              "              id    target                                       comment_text  \\\n",
              "421424    759216  0.000000  A pause in B.C.'s hot real estate market might...   \n",
              "1702633  6209669  0.000000  It's right wing bologna. Colorado, which is ru...   \n",
              "1022921  5368046  0.000000  @Osgoodschlotter: That \"dindu\" jab originated ...   \n",
              "187815    470870  0.600000  The Chinese do not make mistakes when it comes...   \n",
              "757837   5048051  0.833333  Can we please have a heterosexual leader.\\n\\nW...   \n",
              "...          ...       ...                                                ...   \n",
              "825252   5130890  0.000000                            I'm all in on this one!   \n",
              "908050   5230772  0.000000  Steven said \"Your inevitable inability to prov...   \n",
              "319561    633846  0.000000  Obviously, your opinion shows your lack of int...   \n",
              "61104     316936  0.700000  \"Liberal Democrat,\" my butt.\\n\\nAfter Maddox's...   \n",
              "853862   5165144  0.000000  \"but everyone agrees that urgent action is req...   \n",
              "\n",
              "         severe_toxicity  obscene  identity_attack  insult  threat  asian  \\\n",
              "421424               0.0      0.0         0.000000     0.0     0.0    NaN   \n",
              "1702633              0.0      0.0         0.000000     0.0     0.0    NaN   \n",
              "1022921              0.0      0.0         0.000000     0.0     0.0    0.0   \n",
              "187815               0.0      0.7         0.100000     0.1     0.0    0.4   \n",
              "757837               0.0      0.0         0.833333     0.0     0.0    0.0   \n",
              "...                  ...      ...              ...     ...     ...    ...   \n",
              "825252               0.0      0.0         0.000000     0.0     0.0    NaN   \n",
              "908050               0.0      0.0         0.000000     0.0     0.0    NaN   \n",
              "319561               0.0      0.0         0.000000     0.0     0.0    NaN   \n",
              "61104                0.3      0.2         0.700000     0.7     0.0    0.0   \n",
              "853862               0.0      0.0         0.000000     0.0     0.0    NaN   \n",
              "\n",
              "         atheist  ...  funny  wow  sad  likes  disagree  sexual_explicit  \\\n",
              "421424       NaN  ...      0    0    1      1         0              0.0   \n",
              "1702633      NaN  ...      0    0    0      0         0              0.0   \n",
              "1022921      0.0  ...      0    0    0      0         0              0.0   \n",
              "187815       0.0  ...      0    0    0      0         0              0.6   \n",
              "757837       0.0  ...      0    0    0      0         0              0.0   \n",
              "...          ...  ...    ...  ...  ...    ...       ...              ...   \n",
              "825252       NaN  ...      0    0    0      0         0              0.0   \n",
              "908050       NaN  ...      0    0    0      1         1              0.0   \n",
              "319561       NaN  ...      0    0    0      0         2              0.0   \n",
              "61104        0.0  ...      0    0    0      0         0              0.3   \n",
              "853862       NaN  ...      0    0    0      2         0              0.0   \n",
              "\n",
              "         identity_annotator_count  toxicity_annotator_count  \\\n",
              "421424                          0                         4   \n",
              "1702633                         0                         4   \n",
              "1022921                         4                         4   \n",
              "187815                         10                        10   \n",
              "757837                          4                         6   \n",
              "...                           ...                       ...   \n",
              "825252                          0                         4   \n",
              "908050                          0                         4   \n",
              "319561                          0                         4   \n",
              "61104                           4                        10   \n",
              "853862                          0                         4   \n",
              "\n",
              "                                          comment_text_pre      class  \n",
              "421424   paus hot real estat market might good thing mi...  non-toxic  \n",
              "1702633  right wing bologna colorado run big oil ga wor...  non-toxic  \n",
              "1022921  jab origin propaganda machin use tool unwittin...  non-toxic  \n",
              "187815   chines not make mistak come protocol forc obam...      toxic  \n",
              "757837   pleas heterosexu leader would possibl break no...      toxic  \n",
              "...                                                    ...        ...  \n",
              "825252                                                 one  non-toxic  \n",
              "908050   steven said inevit inabl provid evid taken adm...  non-toxic  \n",
              "319561   obvious opinion show lack intim oper experi on...  non-toxic  \n",
              "61104    liber democrat butt death obituari former gove...      toxic  \n",
              "853862   everyon agre urgent action requir fix everyon ...  non-toxic  \n",
              "\n",
              "[100 rows x 47 columns]"
            ],
            "text/html": [
              "\n",
              "  <div id=\"df-aae63ee6-87e9-404b-a285-a7a21d3e7cf2\">\n",
              "    <div class=\"colab-df-container\">\n",
              "      <div>\n",
              "<style scoped>\n",
              "    .dataframe tbody tr th:only-of-type {\n",
              "        vertical-align: middle;\n",
              "    }\n",
              "\n",
              "    .dataframe tbody tr th {\n",
              "        vertical-align: top;\n",
              "    }\n",
              "\n",
              "    .dataframe thead th {\n",
              "        text-align: right;\n",
              "    }\n",
              "</style>\n",
              "<table border=\"1\" class=\"dataframe\">\n",
              "  <thead>\n",
              "    <tr style=\"text-align: right;\">\n",
              "      <th></th>\n",
              "      <th>id</th>\n",
              "      <th>target</th>\n",
              "      <th>comment_text</th>\n",
              "      <th>severe_toxicity</th>\n",
              "      <th>obscene</th>\n",
              "      <th>identity_attack</th>\n",
              "      <th>insult</th>\n",
              "      <th>threat</th>\n",
              "      <th>asian</th>\n",
              "      <th>atheist</th>\n",
              "      <th>...</th>\n",
              "      <th>funny</th>\n",
              "      <th>wow</th>\n",
              "      <th>sad</th>\n",
              "      <th>likes</th>\n",
              "      <th>disagree</th>\n",
              "      <th>sexual_explicit</th>\n",
              "      <th>identity_annotator_count</th>\n",
              "      <th>toxicity_annotator_count</th>\n",
              "      <th>comment_text_pre</th>\n",
              "      <th>class</th>\n",
              "    </tr>\n",
              "  </thead>\n",
              "  <tbody>\n",
              "    <tr>\n",
              "      <th>421424</th>\n",
              "      <td>759216</td>\n",
              "      <td>0.000000</td>\n",
              "      <td>A pause in B.C.'s hot real estate market might...</td>\n",
              "      <td>0.0</td>\n",
              "      <td>0.0</td>\n",
              "      <td>0.000000</td>\n",
              "      <td>0.0</td>\n",
              "      <td>0.0</td>\n",
              "      <td>NaN</td>\n",
              "      <td>NaN</td>\n",
              "      <td>...</td>\n",
              "      <td>0</td>\n",
              "      <td>0</td>\n",
              "      <td>1</td>\n",
              "      <td>1</td>\n",
              "      <td>0</td>\n",
              "      <td>0.0</td>\n",
              "      <td>0</td>\n",
              "      <td>4</td>\n",
              "      <td>paus hot real estat market might good thing mi...</td>\n",
              "      <td>non-toxic</td>\n",
              "    </tr>\n",
              "    <tr>\n",
              "      <th>1702633</th>\n",
              "      <td>6209669</td>\n",
              "      <td>0.000000</td>\n",
              "      <td>It's right wing bologna. Colorado, which is ru...</td>\n",
              "      <td>0.0</td>\n",
              "      <td>0.0</td>\n",
              "      <td>0.000000</td>\n",
              "      <td>0.0</td>\n",
              "      <td>0.0</td>\n",
              "      <td>NaN</td>\n",
              "      <td>NaN</td>\n",
              "      <td>...</td>\n",
              "      <td>0</td>\n",
              "      <td>0</td>\n",
              "      <td>0</td>\n",
              "      <td>0</td>\n",
              "      <td>0</td>\n",
              "      <td>0.0</td>\n",
              "      <td>0</td>\n",
              "      <td>4</td>\n",
              "      <td>right wing bologna colorado run big oil ga wor...</td>\n",
              "      <td>non-toxic</td>\n",
              "    </tr>\n",
              "    <tr>\n",
              "      <th>1022921</th>\n",
              "      <td>5368046</td>\n",
              "      <td>0.000000</td>\n",
              "      <td>@Osgoodschlotter: That \"dindu\" jab originated ...</td>\n",
              "      <td>0.0</td>\n",
              "      <td>0.0</td>\n",
              "      <td>0.000000</td>\n",
              "      <td>0.0</td>\n",
              "      <td>0.0</td>\n",
              "      <td>0.0</td>\n",
              "      <td>0.0</td>\n",
              "      <td>...</td>\n",
              "      <td>0</td>\n",
              "      <td>0</td>\n",
              "      <td>0</td>\n",
              "      <td>0</td>\n",
              "      <td>0</td>\n",
              "      <td>0.0</td>\n",
              "      <td>4</td>\n",
              "      <td>4</td>\n",
              "      <td>jab origin propaganda machin use tool unwittin...</td>\n",
              "      <td>non-toxic</td>\n",
              "    </tr>\n",
              "    <tr>\n",
              "      <th>187815</th>\n",
              "      <td>470870</td>\n",
              "      <td>0.600000</td>\n",
              "      <td>The Chinese do not make mistakes when it comes...</td>\n",
              "      <td>0.0</td>\n",
              "      <td>0.7</td>\n",
              "      <td>0.100000</td>\n",
              "      <td>0.1</td>\n",
              "      <td>0.0</td>\n",
              "      <td>0.4</td>\n",
              "      <td>0.0</td>\n",
              "      <td>...</td>\n",
              "      <td>0</td>\n",
              "      <td>0</td>\n",
              "      <td>0</td>\n",
              "      <td>0</td>\n",
              "      <td>0</td>\n",
              "      <td>0.6</td>\n",
              "      <td>10</td>\n",
              "      <td>10</td>\n",
              "      <td>chines not make mistak come protocol forc obam...</td>\n",
              "      <td>toxic</td>\n",
              "    </tr>\n",
              "    <tr>\n",
              "      <th>757837</th>\n",
              "      <td>5048051</td>\n",
              "      <td>0.833333</td>\n",
              "      <td>Can we please have a heterosexual leader.\\n\\nW...</td>\n",
              "      <td>0.0</td>\n",
              "      <td>0.0</td>\n",
              "      <td>0.833333</td>\n",
              "      <td>0.0</td>\n",
              "      <td>0.0</td>\n",
              "      <td>0.0</td>\n",
              "      <td>0.0</td>\n",
              "      <td>...</td>\n",
              "      <td>0</td>\n",
              "      <td>0</td>\n",
              "      <td>0</td>\n",
              "      <td>0</td>\n",
              "      <td>0</td>\n",
              "      <td>0.0</td>\n",
              "      <td>4</td>\n",
              "      <td>6</td>\n",
              "      <td>pleas heterosexu leader would possibl break no...</td>\n",
              "      <td>toxic</td>\n",
              "    </tr>\n",
              "    <tr>\n",
              "      <th>...</th>\n",
              "      <td>...</td>\n",
              "      <td>...</td>\n",
              "      <td>...</td>\n",
              "      <td>...</td>\n",
              "      <td>...</td>\n",
              "      <td>...</td>\n",
              "      <td>...</td>\n",
              "      <td>...</td>\n",
              "      <td>...</td>\n",
              "      <td>...</td>\n",
              "      <td>...</td>\n",
              "      <td>...</td>\n",
              "      <td>...</td>\n",
              "      <td>...</td>\n",
              "      <td>...</td>\n",
              "      <td>...</td>\n",
              "      <td>...</td>\n",
              "      <td>...</td>\n",
              "      <td>...</td>\n",
              "      <td>...</td>\n",
              "      <td>...</td>\n",
              "    </tr>\n",
              "    <tr>\n",
              "      <th>825252</th>\n",
              "      <td>5130890</td>\n",
              "      <td>0.000000</td>\n",
              "      <td>I'm all in on this one!</td>\n",
              "      <td>0.0</td>\n",
              "      <td>0.0</td>\n",
              "      <td>0.000000</td>\n",
              "      <td>0.0</td>\n",
              "      <td>0.0</td>\n",
              "      <td>NaN</td>\n",
              "      <td>NaN</td>\n",
              "      <td>...</td>\n",
              "      <td>0</td>\n",
              "      <td>0</td>\n",
              "      <td>0</td>\n",
              "      <td>0</td>\n",
              "      <td>0</td>\n",
              "      <td>0.0</td>\n",
              "      <td>0</td>\n",
              "      <td>4</td>\n",
              "      <td>one</td>\n",
              "      <td>non-toxic</td>\n",
              "    </tr>\n",
              "    <tr>\n",
              "      <th>908050</th>\n",
              "      <td>5230772</td>\n",
              "      <td>0.000000</td>\n",
              "      <td>Steven said \"Your inevitable inability to prov...</td>\n",
              "      <td>0.0</td>\n",
              "      <td>0.0</td>\n",
              "      <td>0.000000</td>\n",
              "      <td>0.0</td>\n",
              "      <td>0.0</td>\n",
              "      <td>NaN</td>\n",
              "      <td>NaN</td>\n",
              "      <td>...</td>\n",
              "      <td>0</td>\n",
              "      <td>0</td>\n",
              "      <td>0</td>\n",
              "      <td>1</td>\n",
              "      <td>1</td>\n",
              "      <td>0.0</td>\n",
              "      <td>0</td>\n",
              "      <td>4</td>\n",
              "      <td>steven said inevit inabl provid evid taken adm...</td>\n",
              "      <td>non-toxic</td>\n",
              "    </tr>\n",
              "    <tr>\n",
              "      <th>319561</th>\n",
              "      <td>633846</td>\n",
              "      <td>0.000000</td>\n",
              "      <td>Obviously, your opinion shows your lack of int...</td>\n",
              "      <td>0.0</td>\n",
              "      <td>0.0</td>\n",
              "      <td>0.000000</td>\n",
              "      <td>0.0</td>\n",
              "      <td>0.0</td>\n",
              "      <td>NaN</td>\n",
              "      <td>NaN</td>\n",
              "      <td>...</td>\n",
              "      <td>0</td>\n",
              "      <td>0</td>\n",
              "      <td>0</td>\n",
              "      <td>0</td>\n",
              "      <td>2</td>\n",
              "      <td>0.0</td>\n",
              "      <td>0</td>\n",
              "      <td>4</td>\n",
              "      <td>obvious opinion show lack intim oper experi on...</td>\n",
              "      <td>non-toxic</td>\n",
              "    </tr>\n",
              "    <tr>\n",
              "      <th>61104</th>\n",
              "      <td>316936</td>\n",
              "      <td>0.700000</td>\n",
              "      <td>\"Liberal Democrat,\" my butt.\\n\\nAfter Maddox's...</td>\n",
              "      <td>0.3</td>\n",
              "      <td>0.2</td>\n",
              "      <td>0.700000</td>\n",
              "      <td>0.7</td>\n",
              "      <td>0.0</td>\n",
              "      <td>0.0</td>\n",
              "      <td>0.0</td>\n",
              "      <td>...</td>\n",
              "      <td>0</td>\n",
              "      <td>0</td>\n",
              "      <td>0</td>\n",
              "      <td>0</td>\n",
              "      <td>0</td>\n",
              "      <td>0.3</td>\n",
              "      <td>4</td>\n",
              "      <td>10</td>\n",
              "      <td>liber democrat butt death obituari former gove...</td>\n",
              "      <td>toxic</td>\n",
              "    </tr>\n",
              "    <tr>\n",
              "      <th>853862</th>\n",
              "      <td>5165144</td>\n",
              "      <td>0.000000</td>\n",
              "      <td>\"but everyone agrees that urgent action is req...</td>\n",
              "      <td>0.0</td>\n",
              "      <td>0.0</td>\n",
              "      <td>0.000000</td>\n",
              "      <td>0.0</td>\n",
              "      <td>0.0</td>\n",
              "      <td>NaN</td>\n",
              "      <td>NaN</td>\n",
              "      <td>...</td>\n",
              "      <td>0</td>\n",
              "      <td>0</td>\n",
              "      <td>0</td>\n",
              "      <td>2</td>\n",
              "      <td>0</td>\n",
              "      <td>0.0</td>\n",
              "      <td>0</td>\n",
              "      <td>4</td>\n",
              "      <td>everyon agre urgent action requir fix everyon ...</td>\n",
              "      <td>non-toxic</td>\n",
              "    </tr>\n",
              "  </tbody>\n",
              "</table>\n",
              "<p>100 rows × 47 columns</p>\n",
              "</div>\n",
              "      <button class=\"colab-df-convert\" onclick=\"convertToInteractive('df-aae63ee6-87e9-404b-a285-a7a21d3e7cf2')\"\n",
              "              title=\"Convert this dataframe to an interactive table.\"\n",
              "              style=\"display:none;\">\n",
              "        \n",
              "  <svg xmlns=\"http://www.w3.org/2000/svg\" height=\"24px\"viewBox=\"0 0 24 24\"\n",
              "       width=\"24px\">\n",
              "    <path d=\"M0 0h24v24H0V0z\" fill=\"none\"/>\n",
              "    <path d=\"M18.56 5.44l.94 2.06.94-2.06 2.06-.94-2.06-.94-.94-2.06-.94 2.06-2.06.94zm-11 1L8.5 8.5l.94-2.06 2.06-.94-2.06-.94L8.5 2.5l-.94 2.06-2.06.94zm10 10l.94 2.06.94-2.06 2.06-.94-2.06-.94-.94-2.06-.94 2.06-2.06.94z\"/><path d=\"M17.41 7.96l-1.37-1.37c-.4-.4-.92-.59-1.43-.59-.52 0-1.04.2-1.43.59L10.3 9.45l-7.72 7.72c-.78.78-.78 2.05 0 2.83L4 21.41c.39.39.9.59 1.41.59.51 0 1.02-.2 1.41-.59l7.78-7.78 2.81-2.81c.8-.78.8-2.07 0-2.86zM5.41 20L4 18.59l7.72-7.72 1.47 1.35L5.41 20z\"/>\n",
              "  </svg>\n",
              "      </button>\n",
              "      \n",
              "  <style>\n",
              "    .colab-df-container {\n",
              "      display:flex;\n",
              "      flex-wrap:wrap;\n",
              "      gap: 12px;\n",
              "    }\n",
              "\n",
              "    .colab-df-convert {\n",
              "      background-color: #E8F0FE;\n",
              "      border: none;\n",
              "      border-radius: 50%;\n",
              "      cursor: pointer;\n",
              "      display: none;\n",
              "      fill: #1967D2;\n",
              "      height: 32px;\n",
              "      padding: 0 0 0 0;\n",
              "      width: 32px;\n",
              "    }\n",
              "\n",
              "    .colab-df-convert:hover {\n",
              "      background-color: #E2EBFA;\n",
              "      box-shadow: 0px 1px 2px rgba(60, 64, 67, 0.3), 0px 1px 3px 1px rgba(60, 64, 67, 0.15);\n",
              "      fill: #174EA6;\n",
              "    }\n",
              "\n",
              "    [theme=dark] .colab-df-convert {\n",
              "      background-color: #3B4455;\n",
              "      fill: #D2E3FC;\n",
              "    }\n",
              "\n",
              "    [theme=dark] .colab-df-convert:hover {\n",
              "      background-color: #434B5C;\n",
              "      box-shadow: 0px 1px 3px 1px rgba(0, 0, 0, 0.15);\n",
              "      filter: drop-shadow(0px 1px 2px rgba(0, 0, 0, 0.3));\n",
              "      fill: #FFFFFF;\n",
              "    }\n",
              "  </style>\n",
              "\n",
              "      <script>\n",
              "        const buttonEl =\n",
              "          document.querySelector('#df-aae63ee6-87e9-404b-a285-a7a21d3e7cf2 button.colab-df-convert');\n",
              "        buttonEl.style.display =\n",
              "          google.colab.kernel.accessAllowed ? 'block' : 'none';\n",
              "\n",
              "        async function convertToInteractive(key) {\n",
              "          const element = document.querySelector('#df-aae63ee6-87e9-404b-a285-a7a21d3e7cf2');\n",
              "          const dataTable =\n",
              "            await google.colab.kernel.invokeFunction('convertToInteractive',\n",
              "                                                     [key], {});\n",
              "          if (!dataTable) return;\n",
              "\n",
              "          const docLinkHtml = 'Like what you see? Visit the ' +\n",
              "            '<a target=\"_blank\" href=https://colab.research.google.com/notebooks/data_table.ipynb>data table notebook</a>'\n",
              "            + ' to learn more about interactive tables.';\n",
              "          element.innerHTML = '';\n",
              "          dataTable['output_type'] = 'display_data';\n",
              "          await google.colab.output.renderOutput(dataTable, element);\n",
              "          const docLink = document.createElement('div');\n",
              "          docLink.innerHTML = docLinkHtml;\n",
              "          element.appendChild(docLink);\n",
              "        }\n",
              "      </script>\n",
              "    </div>\n",
              "  </div>\n",
              "  "
            ]
          },
          "metadata": {},
          "execution_count": 64
        }
      ]
    },
    {
      "cell_type": "code",
      "source": [
        "comment_text_ = [i for i in Train_Final_pre_text_data_sample_ML['comment_text'].values]\n",
        "comment_text_pre_ = [i for i in Train_Final_pre_text_data_sample_ML['comment_text_pre'].values]\n",
        "target_ = [i for i in Train_Final_pre_text_data_sample_ML['target'].values]\n",
        "class_ = [i for i in Train_Final_pre_text_data_sample_ML['class'].values]"
      ],
      "metadata": {
        "id": "qXsa12wTGWvw"
      },
      "execution_count": null,
      "outputs": []
    },
    {
      "cell_type": "code",
      "source": [
        "Train_Final_pre_text_data_sample_ML"
      ],
      "metadata": {
        "id": "XjiOdyDFGj_R",
        "colab": {
          "base_uri": "https://localhost:8080/",
          "height": 887
        },
        "outputId": "bdbc277e-351e-4f7b-cac5-0860a174b4c4"
      },
      "execution_count": null,
      "outputs": [
        {
          "output_type": "execute_result",
          "data": {
            "text/plain": [
              "              id    target                                       comment_text  \\\n",
              "421424    759216  0.000000  A pause in B.C.'s hot real estate market might...   \n",
              "1702633  6209669  0.000000  It's right wing bologna. Colorado, which is ru...   \n",
              "1022921  5368046  0.000000  @Osgoodschlotter: That \"dindu\" jab originated ...   \n",
              "187815    470870  0.600000  The Chinese do not make mistakes when it comes...   \n",
              "757837   5048051  0.833333  Can we please have a heterosexual leader.\\n\\nW...   \n",
              "...          ...       ...                                                ...   \n",
              "825252   5130890  0.000000                            I'm all in on this one!   \n",
              "908050   5230772  0.000000  Steven said \"Your inevitable inability to prov...   \n",
              "319561    633846  0.000000  Obviously, your opinion shows your lack of int...   \n",
              "61104     316936  0.700000  \"Liberal Democrat,\" my butt.\\n\\nAfter Maddox's...   \n",
              "853862   5165144  0.000000  \"but everyone agrees that urgent action is req...   \n",
              "\n",
              "         severe_toxicity  obscene  identity_attack  insult  threat  asian  \\\n",
              "421424               0.0      0.0         0.000000     0.0     0.0    NaN   \n",
              "1702633              0.0      0.0         0.000000     0.0     0.0    NaN   \n",
              "1022921              0.0      0.0         0.000000     0.0     0.0    0.0   \n",
              "187815               0.0      0.7         0.100000     0.1     0.0    0.4   \n",
              "757837               0.0      0.0         0.833333     0.0     0.0    0.0   \n",
              "...                  ...      ...              ...     ...     ...    ...   \n",
              "825252               0.0      0.0         0.000000     0.0     0.0    NaN   \n",
              "908050               0.0      0.0         0.000000     0.0     0.0    NaN   \n",
              "319561               0.0      0.0         0.000000     0.0     0.0    NaN   \n",
              "61104                0.3      0.2         0.700000     0.7     0.0    0.0   \n",
              "853862               0.0      0.0         0.000000     0.0     0.0    NaN   \n",
              "\n",
              "         atheist  ...  funny  wow  sad  likes  disagree  sexual_explicit  \\\n",
              "421424       NaN  ...      0    0    1      1         0              0.0   \n",
              "1702633      NaN  ...      0    0    0      0         0              0.0   \n",
              "1022921      0.0  ...      0    0    0      0         0              0.0   \n",
              "187815       0.0  ...      0    0    0      0         0              0.6   \n",
              "757837       0.0  ...      0    0    0      0         0              0.0   \n",
              "...          ...  ...    ...  ...  ...    ...       ...              ...   \n",
              "825252       NaN  ...      0    0    0      0         0              0.0   \n",
              "908050       NaN  ...      0    0    0      1         1              0.0   \n",
              "319561       NaN  ...      0    0    0      0         2              0.0   \n",
              "61104        0.0  ...      0    0    0      0         0              0.3   \n",
              "853862       NaN  ...      0    0    0      2         0              0.0   \n",
              "\n",
              "         identity_annotator_count  toxicity_annotator_count  \\\n",
              "421424                          0                         4   \n",
              "1702633                         0                         4   \n",
              "1022921                         4                         4   \n",
              "187815                         10                        10   \n",
              "757837                          4                         6   \n",
              "...                           ...                       ...   \n",
              "825252                          0                         4   \n",
              "908050                          0                         4   \n",
              "319561                          0                         4   \n",
              "61104                           4                        10   \n",
              "853862                          0                         4   \n",
              "\n",
              "                                          comment_text_pre      class  \n",
              "421424   paus hot real estat market might good thing mi...  non-toxic  \n",
              "1702633  right wing bologna colorado run big oil ga wor...  non-toxic  \n",
              "1022921  jab origin propaganda machin use tool unwittin...  non-toxic  \n",
              "187815   chines not make mistak come protocol forc obam...      toxic  \n",
              "757837   pleas heterosexu leader would possibl break no...      toxic  \n",
              "...                                                    ...        ...  \n",
              "825252                                                 one  non-toxic  \n",
              "908050   steven said inevit inabl provid evid taken adm...  non-toxic  \n",
              "319561   obvious opinion show lack intim oper experi on...  non-toxic  \n",
              "61104    liber democrat butt death obituari former gove...      toxic  \n",
              "853862   everyon agre urgent action requir fix everyon ...  non-toxic  \n",
              "\n",
              "[100 rows x 47 columns]"
            ],
            "text/html": [
              "\n",
              "  <div id=\"df-752b0874-a4ac-43f1-9984-5ed80dd86e96\">\n",
              "    <div class=\"colab-df-container\">\n",
              "      <div>\n",
              "<style scoped>\n",
              "    .dataframe tbody tr th:only-of-type {\n",
              "        vertical-align: middle;\n",
              "    }\n",
              "\n",
              "    .dataframe tbody tr th {\n",
              "        vertical-align: top;\n",
              "    }\n",
              "\n",
              "    .dataframe thead th {\n",
              "        text-align: right;\n",
              "    }\n",
              "</style>\n",
              "<table border=\"1\" class=\"dataframe\">\n",
              "  <thead>\n",
              "    <tr style=\"text-align: right;\">\n",
              "      <th></th>\n",
              "      <th>id</th>\n",
              "      <th>target</th>\n",
              "      <th>comment_text</th>\n",
              "      <th>severe_toxicity</th>\n",
              "      <th>obscene</th>\n",
              "      <th>identity_attack</th>\n",
              "      <th>insult</th>\n",
              "      <th>threat</th>\n",
              "      <th>asian</th>\n",
              "      <th>atheist</th>\n",
              "      <th>...</th>\n",
              "      <th>funny</th>\n",
              "      <th>wow</th>\n",
              "      <th>sad</th>\n",
              "      <th>likes</th>\n",
              "      <th>disagree</th>\n",
              "      <th>sexual_explicit</th>\n",
              "      <th>identity_annotator_count</th>\n",
              "      <th>toxicity_annotator_count</th>\n",
              "      <th>comment_text_pre</th>\n",
              "      <th>class</th>\n",
              "    </tr>\n",
              "  </thead>\n",
              "  <tbody>\n",
              "    <tr>\n",
              "      <th>421424</th>\n",
              "      <td>759216</td>\n",
              "      <td>0.000000</td>\n",
              "      <td>A pause in B.C.'s hot real estate market might...</td>\n",
              "      <td>0.0</td>\n",
              "      <td>0.0</td>\n",
              "      <td>0.000000</td>\n",
              "      <td>0.0</td>\n",
              "      <td>0.0</td>\n",
              "      <td>NaN</td>\n",
              "      <td>NaN</td>\n",
              "      <td>...</td>\n",
              "      <td>0</td>\n",
              "      <td>0</td>\n",
              "      <td>1</td>\n",
              "      <td>1</td>\n",
              "      <td>0</td>\n",
              "      <td>0.0</td>\n",
              "      <td>0</td>\n",
              "      <td>4</td>\n",
              "      <td>paus hot real estat market might good thing mi...</td>\n",
              "      <td>non-toxic</td>\n",
              "    </tr>\n",
              "    <tr>\n",
              "      <th>1702633</th>\n",
              "      <td>6209669</td>\n",
              "      <td>0.000000</td>\n",
              "      <td>It's right wing bologna. Colorado, which is ru...</td>\n",
              "      <td>0.0</td>\n",
              "      <td>0.0</td>\n",
              "      <td>0.000000</td>\n",
              "      <td>0.0</td>\n",
              "      <td>0.0</td>\n",
              "      <td>NaN</td>\n",
              "      <td>NaN</td>\n",
              "      <td>...</td>\n",
              "      <td>0</td>\n",
              "      <td>0</td>\n",
              "      <td>0</td>\n",
              "      <td>0</td>\n",
              "      <td>0</td>\n",
              "      <td>0.0</td>\n",
              "      <td>0</td>\n",
              "      <td>4</td>\n",
              "      <td>right wing bologna colorado run big oil ga wor...</td>\n",
              "      <td>non-toxic</td>\n",
              "    </tr>\n",
              "    <tr>\n",
              "      <th>1022921</th>\n",
              "      <td>5368046</td>\n",
              "      <td>0.000000</td>\n",
              "      <td>@Osgoodschlotter: That \"dindu\" jab originated ...</td>\n",
              "      <td>0.0</td>\n",
              "      <td>0.0</td>\n",
              "      <td>0.000000</td>\n",
              "      <td>0.0</td>\n",
              "      <td>0.0</td>\n",
              "      <td>0.0</td>\n",
              "      <td>0.0</td>\n",
              "      <td>...</td>\n",
              "      <td>0</td>\n",
              "      <td>0</td>\n",
              "      <td>0</td>\n",
              "      <td>0</td>\n",
              "      <td>0</td>\n",
              "      <td>0.0</td>\n",
              "      <td>4</td>\n",
              "      <td>4</td>\n",
              "      <td>jab origin propaganda machin use tool unwittin...</td>\n",
              "      <td>non-toxic</td>\n",
              "    </tr>\n",
              "    <tr>\n",
              "      <th>187815</th>\n",
              "      <td>470870</td>\n",
              "      <td>0.600000</td>\n",
              "      <td>The Chinese do not make mistakes when it comes...</td>\n",
              "      <td>0.0</td>\n",
              "      <td>0.7</td>\n",
              "      <td>0.100000</td>\n",
              "      <td>0.1</td>\n",
              "      <td>0.0</td>\n",
              "      <td>0.4</td>\n",
              "      <td>0.0</td>\n",
              "      <td>...</td>\n",
              "      <td>0</td>\n",
              "      <td>0</td>\n",
              "      <td>0</td>\n",
              "      <td>0</td>\n",
              "      <td>0</td>\n",
              "      <td>0.6</td>\n",
              "      <td>10</td>\n",
              "      <td>10</td>\n",
              "      <td>chines not make mistak come protocol forc obam...</td>\n",
              "      <td>toxic</td>\n",
              "    </tr>\n",
              "    <tr>\n",
              "      <th>757837</th>\n",
              "      <td>5048051</td>\n",
              "      <td>0.833333</td>\n",
              "      <td>Can we please have a heterosexual leader.\\n\\nW...</td>\n",
              "      <td>0.0</td>\n",
              "      <td>0.0</td>\n",
              "      <td>0.833333</td>\n",
              "      <td>0.0</td>\n",
              "      <td>0.0</td>\n",
              "      <td>0.0</td>\n",
              "      <td>0.0</td>\n",
              "      <td>...</td>\n",
              "      <td>0</td>\n",
              "      <td>0</td>\n",
              "      <td>0</td>\n",
              "      <td>0</td>\n",
              "      <td>0</td>\n",
              "      <td>0.0</td>\n",
              "      <td>4</td>\n",
              "      <td>6</td>\n",
              "      <td>pleas heterosexu leader would possibl break no...</td>\n",
              "      <td>toxic</td>\n",
              "    </tr>\n",
              "    <tr>\n",
              "      <th>...</th>\n",
              "      <td>...</td>\n",
              "      <td>...</td>\n",
              "      <td>...</td>\n",
              "      <td>...</td>\n",
              "      <td>...</td>\n",
              "      <td>...</td>\n",
              "      <td>...</td>\n",
              "      <td>...</td>\n",
              "      <td>...</td>\n",
              "      <td>...</td>\n",
              "      <td>...</td>\n",
              "      <td>...</td>\n",
              "      <td>...</td>\n",
              "      <td>...</td>\n",
              "      <td>...</td>\n",
              "      <td>...</td>\n",
              "      <td>...</td>\n",
              "      <td>...</td>\n",
              "      <td>...</td>\n",
              "      <td>...</td>\n",
              "      <td>...</td>\n",
              "    </tr>\n",
              "    <tr>\n",
              "      <th>825252</th>\n",
              "      <td>5130890</td>\n",
              "      <td>0.000000</td>\n",
              "      <td>I'm all in on this one!</td>\n",
              "      <td>0.0</td>\n",
              "      <td>0.0</td>\n",
              "      <td>0.000000</td>\n",
              "      <td>0.0</td>\n",
              "      <td>0.0</td>\n",
              "      <td>NaN</td>\n",
              "      <td>NaN</td>\n",
              "      <td>...</td>\n",
              "      <td>0</td>\n",
              "      <td>0</td>\n",
              "      <td>0</td>\n",
              "      <td>0</td>\n",
              "      <td>0</td>\n",
              "      <td>0.0</td>\n",
              "      <td>0</td>\n",
              "      <td>4</td>\n",
              "      <td>one</td>\n",
              "      <td>non-toxic</td>\n",
              "    </tr>\n",
              "    <tr>\n",
              "      <th>908050</th>\n",
              "      <td>5230772</td>\n",
              "      <td>0.000000</td>\n",
              "      <td>Steven said \"Your inevitable inability to prov...</td>\n",
              "      <td>0.0</td>\n",
              "      <td>0.0</td>\n",
              "      <td>0.000000</td>\n",
              "      <td>0.0</td>\n",
              "      <td>0.0</td>\n",
              "      <td>NaN</td>\n",
              "      <td>NaN</td>\n",
              "      <td>...</td>\n",
              "      <td>0</td>\n",
              "      <td>0</td>\n",
              "      <td>0</td>\n",
              "      <td>1</td>\n",
              "      <td>1</td>\n",
              "      <td>0.0</td>\n",
              "      <td>0</td>\n",
              "      <td>4</td>\n",
              "      <td>steven said inevit inabl provid evid taken adm...</td>\n",
              "      <td>non-toxic</td>\n",
              "    </tr>\n",
              "    <tr>\n",
              "      <th>319561</th>\n",
              "      <td>633846</td>\n",
              "      <td>0.000000</td>\n",
              "      <td>Obviously, your opinion shows your lack of int...</td>\n",
              "      <td>0.0</td>\n",
              "      <td>0.0</td>\n",
              "      <td>0.000000</td>\n",
              "      <td>0.0</td>\n",
              "      <td>0.0</td>\n",
              "      <td>NaN</td>\n",
              "      <td>NaN</td>\n",
              "      <td>...</td>\n",
              "      <td>0</td>\n",
              "      <td>0</td>\n",
              "      <td>0</td>\n",
              "      <td>0</td>\n",
              "      <td>2</td>\n",
              "      <td>0.0</td>\n",
              "      <td>0</td>\n",
              "      <td>4</td>\n",
              "      <td>obvious opinion show lack intim oper experi on...</td>\n",
              "      <td>non-toxic</td>\n",
              "    </tr>\n",
              "    <tr>\n",
              "      <th>61104</th>\n",
              "      <td>316936</td>\n",
              "      <td>0.700000</td>\n",
              "      <td>\"Liberal Democrat,\" my butt.\\n\\nAfter Maddox's...</td>\n",
              "      <td>0.3</td>\n",
              "      <td>0.2</td>\n",
              "      <td>0.700000</td>\n",
              "      <td>0.7</td>\n",
              "      <td>0.0</td>\n",
              "      <td>0.0</td>\n",
              "      <td>0.0</td>\n",
              "      <td>...</td>\n",
              "      <td>0</td>\n",
              "      <td>0</td>\n",
              "      <td>0</td>\n",
              "      <td>0</td>\n",
              "      <td>0</td>\n",
              "      <td>0.3</td>\n",
              "      <td>4</td>\n",
              "      <td>10</td>\n",
              "      <td>liber democrat butt death obituari former gove...</td>\n",
              "      <td>toxic</td>\n",
              "    </tr>\n",
              "    <tr>\n",
              "      <th>853862</th>\n",
              "      <td>5165144</td>\n",
              "      <td>0.000000</td>\n",
              "      <td>\"but everyone agrees that urgent action is req...</td>\n",
              "      <td>0.0</td>\n",
              "      <td>0.0</td>\n",
              "      <td>0.000000</td>\n",
              "      <td>0.0</td>\n",
              "      <td>0.0</td>\n",
              "      <td>NaN</td>\n",
              "      <td>NaN</td>\n",
              "      <td>...</td>\n",
              "      <td>0</td>\n",
              "      <td>0</td>\n",
              "      <td>0</td>\n",
              "      <td>2</td>\n",
              "      <td>0</td>\n",
              "      <td>0.0</td>\n",
              "      <td>0</td>\n",
              "      <td>4</td>\n",
              "      <td>everyon agre urgent action requir fix everyon ...</td>\n",
              "      <td>non-toxic</td>\n",
              "    </tr>\n",
              "  </tbody>\n",
              "</table>\n",
              "<p>100 rows × 47 columns</p>\n",
              "</div>\n",
              "      <button class=\"colab-df-convert\" onclick=\"convertToInteractive('df-752b0874-a4ac-43f1-9984-5ed80dd86e96')\"\n",
              "              title=\"Convert this dataframe to an interactive table.\"\n",
              "              style=\"display:none;\">\n",
              "        \n",
              "  <svg xmlns=\"http://www.w3.org/2000/svg\" height=\"24px\"viewBox=\"0 0 24 24\"\n",
              "       width=\"24px\">\n",
              "    <path d=\"M0 0h24v24H0V0z\" fill=\"none\"/>\n",
              "    <path d=\"M18.56 5.44l.94 2.06.94-2.06 2.06-.94-2.06-.94-.94-2.06-.94 2.06-2.06.94zm-11 1L8.5 8.5l.94-2.06 2.06-.94-2.06-.94L8.5 2.5l-.94 2.06-2.06.94zm10 10l.94 2.06.94-2.06 2.06-.94-2.06-.94-.94-2.06-.94 2.06-2.06.94z\"/><path d=\"M17.41 7.96l-1.37-1.37c-.4-.4-.92-.59-1.43-.59-.52 0-1.04.2-1.43.59L10.3 9.45l-7.72 7.72c-.78.78-.78 2.05 0 2.83L4 21.41c.39.39.9.59 1.41.59.51 0 1.02-.2 1.41-.59l7.78-7.78 2.81-2.81c.8-.78.8-2.07 0-2.86zM5.41 20L4 18.59l7.72-7.72 1.47 1.35L5.41 20z\"/>\n",
              "  </svg>\n",
              "      </button>\n",
              "      \n",
              "  <style>\n",
              "    .colab-df-container {\n",
              "      display:flex;\n",
              "      flex-wrap:wrap;\n",
              "      gap: 12px;\n",
              "    }\n",
              "\n",
              "    .colab-df-convert {\n",
              "      background-color: #E8F0FE;\n",
              "      border: none;\n",
              "      border-radius: 50%;\n",
              "      cursor: pointer;\n",
              "      display: none;\n",
              "      fill: #1967D2;\n",
              "      height: 32px;\n",
              "      padding: 0 0 0 0;\n",
              "      width: 32px;\n",
              "    }\n",
              "\n",
              "    .colab-df-convert:hover {\n",
              "      background-color: #E2EBFA;\n",
              "      box-shadow: 0px 1px 2px rgba(60, 64, 67, 0.3), 0px 1px 3px 1px rgba(60, 64, 67, 0.15);\n",
              "      fill: #174EA6;\n",
              "    }\n",
              "\n",
              "    [theme=dark] .colab-df-convert {\n",
              "      background-color: #3B4455;\n",
              "      fill: #D2E3FC;\n",
              "    }\n",
              "\n",
              "    [theme=dark] .colab-df-convert:hover {\n",
              "      background-color: #434B5C;\n",
              "      box-shadow: 0px 1px 3px 1px rgba(0, 0, 0, 0.15);\n",
              "      filter: drop-shadow(0px 1px 2px rgba(0, 0, 0, 0.3));\n",
              "      fill: #FFFFFF;\n",
              "    }\n",
              "  </style>\n",
              "\n",
              "      <script>\n",
              "        const buttonEl =\n",
              "          document.querySelector('#df-752b0874-a4ac-43f1-9984-5ed80dd86e96 button.colab-df-convert');\n",
              "        buttonEl.style.display =\n",
              "          google.colab.kernel.accessAllowed ? 'block' : 'none';\n",
              "\n",
              "        async function convertToInteractive(key) {\n",
              "          const element = document.querySelector('#df-752b0874-a4ac-43f1-9984-5ed80dd86e96');\n",
              "          const dataTable =\n",
              "            await google.colab.kernel.invokeFunction('convertToInteractive',\n",
              "                                                     [key], {});\n",
              "          if (!dataTable) return;\n",
              "\n",
              "          const docLinkHtml = 'Like what you see? Visit the ' +\n",
              "            '<a target=\"_blank\" href=https://colab.research.google.com/notebooks/data_table.ipynb>data table notebook</a>'\n",
              "            + ' to learn more about interactive tables.';\n",
              "          element.innerHTML = '';\n",
              "          dataTable['output_type'] = 'display_data';\n",
              "          await google.colab.output.renderOutput(dataTable, element);\n",
              "          const docLink = document.createElement('div');\n",
              "          docLink.innerHTML = docLinkHtml;\n",
              "          element.appendChild(docLink);\n",
              "        }\n",
              "      </script>\n",
              "    </div>\n",
              "  </div>\n",
              "  "
            ]
          },
          "metadata": {},
          "execution_count": 66
        }
      ]
    },
    {
      "cell_type": "code",
      "source": [
        "for i in range(5):\n",
        "    print('\\ncomment_text_ :\\n',comment_text_[i])\n",
        "    print('___'*30,'\\n')\n",
        "    \n",
        "    print('\\ncomment_text_pre_ :\\n',comment_text_pre_[i])\n",
        "    print('___'*30,'\\n')\n",
        "    \n",
        "    print('\\ntarget_ :',target_[i])\n",
        "    print('___'*30,'\\n')\n",
        "    \n",
        "    print('\\nclass_ :',class_[i],'\\n\\n')\n",
        "    print('**'*100,'\\n')"
      ],
      "metadata": {
        "colab": {
          "base_uri": "https://localhost:8080/"
        },
        "id": "_KUezPyRG7FQ",
        "outputId": "1d5fc2a5-ad19-4b95-8f4b-f0b714cfe9c8"
      },
      "execution_count": null,
      "outputs": [
        {
          "output_type": "stream",
          "name": "stdout",
          "text": [
            "\n",
            "comment_text_ :\n",
            " A pause in B.C.'s hot real estate market might be a good thing. It might give a chance for more affordable housing to evolve that allows service workers and low income people a chance at accommodations. As it stands now, a lot of Vancouver businesses are understaffed simply because the people they need can't find a place to live nearby.\n",
            "__________________________________________________________________________________________ \n",
            "\n",
            "\n",
            "comment_text_pre_ :\n",
            " paus hot real estat market might good thing might give chanc afford hous evolv allow servic worker low incom peopl chanc accommod stand lot vancouv busi simpli peopl need cannot find place live nearbi\n",
            "__________________________________________________________________________________________ \n",
            "\n",
            "\n",
            "target_ : 0.0\n",
            "__________________________________________________________________________________________ \n",
            "\n",
            "\n",
            "class_ : non-toxic \n",
            "\n",
            "\n",
            "******************************************************************************************************************************************************************************************************** \n",
            "\n",
            "\n",
            "comment_text_ :\n",
            " It's right wing bologna. Colorado, which is run by big Oil & Gas is a worse example than California.\n",
            "__________________________________________________________________________________________ \n",
            "\n",
            "\n",
            "comment_text_pre_ :\n",
            " right wing bologna colorado run big oil ga wors exampl california\n",
            "__________________________________________________________________________________________ \n",
            "\n",
            "\n",
            "target_ : 0.0\n",
            "__________________________________________________________________________________________ \n",
            "\n",
            "\n",
            "class_ : non-toxic \n",
            "\n",
            "\n",
            "******************************************************************************************************************************************************************************************************** \n",
            "\n",
            "\n",
            "comment_text_ :\n",
            " @Osgoodschlotter: That \"dindu\" jab originated from Stormfront and the Neo-Nazi propaganda machine. Only a Klansman or Neo-Nazi or a useful tool unwittingly spreading their propaganda for them would use it.\n",
            "__________________________________________________________________________________________ \n",
            "\n",
            "\n",
            "comment_text_pre_ :\n",
            " jab origin propaganda machin use tool unwittingli spread propaganda would use\n",
            "__________________________________________________________________________________________ \n",
            "\n",
            "\n",
            "target_ : 0.0\n",
            "__________________________________________________________________________________________ \n",
            "\n",
            "\n",
            "class_ : non-toxic \n",
            "\n",
            "\n",
            "******************************************************************************************************************************************************************************************************** \n",
            "\n",
            "\n",
            "comment_text_ :\n",
            " The Chinese do not make mistakes when it comes to protocol. Forcing Obama out the ass of the plane was planed. Another sad day for world diplomacy.\n",
            "__________________________________________________________________________________________ \n",
            "\n",
            "\n",
            "comment_text_pre_ :\n",
            " chines not make mistak come protocol forc obama ass plane anoth sad day world diplomaci\n",
            "__________________________________________________________________________________________ \n",
            "\n",
            "\n",
            "target_ : 0.6\n",
            "__________________________________________________________________________________________ \n",
            "\n",
            "\n",
            "class_ : toxic \n",
            "\n",
            "\n",
            "******************************************************************************************************************************************************************************************************** \n",
            "\n",
            "\n",
            "comment_text_ :\n",
            " Can we please have a heterosexual leader.\n",
            "\n",
            "Would that be possible, or am I breaking all the taboos again.\n",
            "\n",
            "I don't care if someone is gay or not.\n",
            "\n",
            "I care that I am lead by someone is living the average life of most people, and views things as the majority would.\n",
            "\n",
            "George Smitherman is responsible for all the Utility mess, and again, he is another gay person with an ego.\n",
            "\n",
            "Enough of this already.\n",
            "__________________________________________________________________________________________ \n",
            "\n",
            "\n",
            "comment_text_pre_ :\n",
            " pleas heterosexu leader would possibl break not care someon gay not care lead someon live averag life peopl view thing major would georg respons util mess anoth gay person ego enough alreadi\n",
            "__________________________________________________________________________________________ \n",
            "\n",
            "\n",
            "target_ : 0.8333333333333333\n",
            "__________________________________________________________________________________________ \n",
            "\n",
            "\n",
            "class_ : toxic \n",
            "\n",
            "\n",
            "******************************************************************************************************************************************************************************************************** \n",
            "\n"
          ]
        }
      ]
    },
    {
      "cell_type": "code",
      "source": [
        "Train_Final_pre_text_data_ML = preprocessing_ML(Data,submission_data=False)"
      ],
      "metadata": {
        "colab": {
          "base_uri": "https://localhost:8080/"
        },
        "id": "KFDdzv_NHBBT",
        "outputId": "19efefef-ec35-4d3d-e416-59c52d2cbe96"
      },
      "execution_count": null,
      "outputs": [
        {
          "output_type": "stream",
          "name": "stderr",
          "text": [
            "100%|██████████| 1804874/1804874 [02:16<00:00, 13238.73it/s]\n",
            "100%|██████████| 1804874/1804874 [03:58<00:00, 7576.54it/s]\n",
            "100%|██████████| 1804874/1804874 [00:04<00:00, 425460.91it/s]\n",
            "100%|██████████| 1804874/1804874 [05:44<00:00, 5241.23it/s]\n",
            "100%|██████████| 1804874/1804874 [00:13<00:00, 133384.99it/s]\n",
            "100%|██████████| 1804874/1804874 [14:09<00:00, 2125.63it/s]\n",
            "100%|██████████| 1804874/1804874 [00:45<00:00, 39855.75it/s]\n",
            "100%|██████████| 1804874/1804874 [00:15<00:00, 119569.20it/s]\n",
            "100%|██████████| 1804874/1804874 [00:01<00:00, 1267895.85it/s]\n"
          ]
        }
      ]
    },
    {
      "cell_type": "code",
      "source": [
        "Train_Final_pre_text_data_ML.info()"
      ],
      "metadata": {
        "colab": {
          "base_uri": "https://localhost:8080/"
        },
        "id": "KujOPbtfHKzl",
        "outputId": "34c61eea-aeaa-4ab1-8cfc-d00fed28d4d5"
      },
      "execution_count": null,
      "outputs": [
        {
          "output_type": "stream",
          "name": "stdout",
          "text": [
            "<class 'pandas.core.frame.DataFrame'>\n",
            "RangeIndex: 1804874 entries, 0 to 1804873\n",
            "Data columns (total 47 columns):\n",
            " #   Column                               Dtype  \n",
            "---  ------                               -----  \n",
            " 0   id                                   int64  \n",
            " 1   target                               float64\n",
            " 2   comment_text                         object \n",
            " 3   severe_toxicity                      float64\n",
            " 4   obscene                              float64\n",
            " 5   identity_attack                      float64\n",
            " 6   insult                               float64\n",
            " 7   threat                               float64\n",
            " 8   asian                                float64\n",
            " 9   atheist                              float64\n",
            " 10  bisexual                             float64\n",
            " 11  black                                float64\n",
            " 12  buddhist                             float64\n",
            " 13  christian                            float64\n",
            " 14  female                               float64\n",
            " 15  heterosexual                         float64\n",
            " 16  hindu                                float64\n",
            " 17  homosexual_gay_or_lesbian            float64\n",
            " 18  intellectual_or_learning_disability  float64\n",
            " 19  jewish                               float64\n",
            " 20  latino                               float64\n",
            " 21  male                                 float64\n",
            " 22  muslim                               float64\n",
            " 23  other_disability                     float64\n",
            " 24  other_gender                         float64\n",
            " 25  other_race_or_ethnicity              float64\n",
            " 26  other_religion                       float64\n",
            " 27  other_sexual_orientation             float64\n",
            " 28  physical_disability                  float64\n",
            " 29  psychiatric_or_mental_illness        float64\n",
            " 30  transgender                          float64\n",
            " 31  white                                float64\n",
            " 32  created_date                         object \n",
            " 33  publication_id                       int64  \n",
            " 34  parent_id                            float64\n",
            " 35  article_id                           int64  \n",
            " 36  rating                               object \n",
            " 37  funny                                int64  \n",
            " 38  wow                                  int64  \n",
            " 39  sad                                  int64  \n",
            " 40  likes                                int64  \n",
            " 41  disagree                             int64  \n",
            " 42  sexual_explicit                      float64\n",
            " 43  identity_annotator_count             int64  \n",
            " 44  toxicity_annotator_count             int64  \n",
            " 45  comment_text_pre                     object \n",
            " 46  class                                object \n",
            "dtypes: float64(32), int64(10), object(5)\n",
            "memory usage: 647.2+ MB\n"
          ]
        }
      ]
    },
    {
      "cell_type": "markdown",
      "source": [
        "Saving File"
      ],
      "metadata": {
        "id": "1jszTnxaOdO7"
      }
    },
    {
      "cell_type": "code",
      "source": [
        "Train_Final_pre_text_data_ML.to_csv('Train_Final_pre_text_data_ML_1.csv',index=False)"
      ],
      "metadata": {
        "id": "Psn84_JiNr1z"
      },
      "execution_count": null,
      "outputs": []
    },
    {
      "cell_type": "markdown",
      "source": [
        "Load"
      ],
      "metadata": {
        "id": "QFddcIwbOlpN"
      }
    },
    {
      "cell_type": "code",
      "source": [
        "Train_Final_pre_text_data_ML = pd.read_csv(r'Train_Final_pre_text_data_ML_1.csv')"
      ],
      "metadata": {
        "id": "3nSsUjVhOjyw"
      },
      "execution_count": null,
      "outputs": []
    },
    {
      "cell_type": "code",
      "source": [
        "Train_Final_pre_text_data_ML"
      ],
      "metadata": {
        "id": "7nBAjLGINxle",
        "colab": {
          "base_uri": "https://localhost:8080/",
          "height": 1000
        },
        "outputId": "595911a7-4dd2-47f3-fccc-cb3e90fc1663"
      },
      "execution_count": null,
      "outputs": [
        {
          "output_type": "execute_result",
          "data": {
            "text/plain": [
              "              id    target                                       comment_text  \\\n",
              "0          59848  0.000000  This is so cool. It's like, 'would you want yo...   \n",
              "1          59849  0.000000  Thank you!! This would make my life a lot less...   \n",
              "2          59852  0.000000  This is such an urgent design problem; kudos t...   \n",
              "3          59855  0.000000  Is this something I'll be able to install on m...   \n",
              "4          59856  0.893617               haha you guys are a bunch of losers.   \n",
              "...          ...       ...                                                ...   \n",
              "1804869  6333967  0.000000  Maybe the tax on \"things\" would be collected w...   \n",
              "1804870  6333969  0.000000  What do you call people who STILL think the di...   \n",
              "1804871  6333982  0.000000  thank you ,,,right or wrong,,, i am following ...   \n",
              "1804872  6334009  0.621212  Anyone who is quoted as having the following e...   \n",
              "1804873  6334010  0.000000  Students defined as EBD are legally just as di...   \n",
              "\n",
              "         severe_toxicity   obscene  identity_attack    insult  threat  asian  \\\n",
              "0               0.000000  0.000000         0.000000  0.000000     0.0    NaN   \n",
              "1               0.000000  0.000000         0.000000  0.000000     0.0    NaN   \n",
              "2               0.000000  0.000000         0.000000  0.000000     0.0    NaN   \n",
              "3               0.000000  0.000000         0.000000  0.000000     0.0    NaN   \n",
              "4               0.021277  0.000000         0.021277  0.872340     0.0    0.0   \n",
              "...                  ...       ...              ...       ...     ...    ...   \n",
              "1804869         0.000000  0.000000         0.000000  0.000000     0.0    NaN   \n",
              "1804870         0.000000  0.000000         0.000000  0.000000     0.0    NaN   \n",
              "1804871         0.000000  0.000000         0.000000  0.000000     0.0    NaN   \n",
              "1804872         0.030303  0.030303         0.045455  0.621212     0.0    NaN   \n",
              "1804873         0.000000  0.000000         0.000000  0.000000     0.0    NaN   \n",
              "\n",
              "         atheist  ...  funny  wow  sad  likes  disagree  sexual_explicit  \\\n",
              "0            NaN  ...      0    0    0      0         0              0.0   \n",
              "1            NaN  ...      0    0    0      0         0              0.0   \n",
              "2            NaN  ...      0    0    0      0         0              0.0   \n",
              "3            NaN  ...      0    0    0      0         0              0.0   \n",
              "4            0.0  ...      0    0    0      1         0              0.0   \n",
              "...          ...  ...    ...  ...  ...    ...       ...              ...   \n",
              "1804869      NaN  ...      0    0    0      0         0              0.0   \n",
              "1804870      NaN  ...      0    0    0      0         0              0.0   \n",
              "1804871      NaN  ...      0    0    0      0         0              0.0   \n",
              "1804872      NaN  ...      0    0    0      0         0              0.0   \n",
              "1804873      NaN  ...      0    0    0      0         0              0.0   \n",
              "\n",
              "         identity_annotator_count  toxicity_annotator_count  \\\n",
              "0                               0                         4   \n",
              "1                               0                         4   \n",
              "2                               0                         4   \n",
              "3                               0                         4   \n",
              "4                               4                        47   \n",
              "...                           ...                       ...   \n",
              "1804869                         0                         4   \n",
              "1804870                         0                         4   \n",
              "1804871                         0                         4   \n",
              "1804872                         0                        66   \n",
              "1804873                         0                         4   \n",
              "\n",
              "                                          comment_text_pre      class  \n",
              "0        cool like want mother read realli great idea w...  non-toxic  \n",
              "1        thank would make life lot less keep not let an...  non-toxic  \n",
              "2                       urgent design problem take impress  non-toxic  \n",
              "3                            someth abl instal site releas  non-toxic  \n",
              "4                                          guy bunch loser      toxic  \n",
              "...                                                    ...        ...  \n",
              "1804869  mayb tax thing would collect product import re...  non-toxic  \n",
              "1804870         call peopl still think divin role creation  non-toxic  \n",
              "1804871                     thank right wrong follow advic  non-toxic  \n",
              "1804872  anyon quot follow exchang even would receiv vo...      toxic  \n",
              "1804873  student defin legal disabl elig special servic...  non-toxic  \n",
              "\n",
              "[1804874 rows x 47 columns]"
            ],
            "text/html": [
              "\n",
              "  <div id=\"df-5872a7ae-7725-4a06-9974-b7cad2f38f80\">\n",
              "    <div class=\"colab-df-container\">\n",
              "      <div>\n",
              "<style scoped>\n",
              "    .dataframe tbody tr th:only-of-type {\n",
              "        vertical-align: middle;\n",
              "    }\n",
              "\n",
              "    .dataframe tbody tr th {\n",
              "        vertical-align: top;\n",
              "    }\n",
              "\n",
              "    .dataframe thead th {\n",
              "        text-align: right;\n",
              "    }\n",
              "</style>\n",
              "<table border=\"1\" class=\"dataframe\">\n",
              "  <thead>\n",
              "    <tr style=\"text-align: right;\">\n",
              "      <th></th>\n",
              "      <th>id</th>\n",
              "      <th>target</th>\n",
              "      <th>comment_text</th>\n",
              "      <th>severe_toxicity</th>\n",
              "      <th>obscene</th>\n",
              "      <th>identity_attack</th>\n",
              "      <th>insult</th>\n",
              "      <th>threat</th>\n",
              "      <th>asian</th>\n",
              "      <th>atheist</th>\n",
              "      <th>...</th>\n",
              "      <th>funny</th>\n",
              "      <th>wow</th>\n",
              "      <th>sad</th>\n",
              "      <th>likes</th>\n",
              "      <th>disagree</th>\n",
              "      <th>sexual_explicit</th>\n",
              "      <th>identity_annotator_count</th>\n",
              "      <th>toxicity_annotator_count</th>\n",
              "      <th>comment_text_pre</th>\n",
              "      <th>class</th>\n",
              "    </tr>\n",
              "  </thead>\n",
              "  <tbody>\n",
              "    <tr>\n",
              "      <th>0</th>\n",
              "      <td>59848</td>\n",
              "      <td>0.000000</td>\n",
              "      <td>This is so cool. It's like, 'would you want yo...</td>\n",
              "      <td>0.000000</td>\n",
              "      <td>0.000000</td>\n",
              "      <td>0.000000</td>\n",
              "      <td>0.000000</td>\n",
              "      <td>0.0</td>\n",
              "      <td>NaN</td>\n",
              "      <td>NaN</td>\n",
              "      <td>...</td>\n",
              "      <td>0</td>\n",
              "      <td>0</td>\n",
              "      <td>0</td>\n",
              "      <td>0</td>\n",
              "      <td>0</td>\n",
              "      <td>0.0</td>\n",
              "      <td>0</td>\n",
              "      <td>4</td>\n",
              "      <td>cool like want mother read realli great idea w...</td>\n",
              "      <td>non-toxic</td>\n",
              "    </tr>\n",
              "    <tr>\n",
              "      <th>1</th>\n",
              "      <td>59849</td>\n",
              "      <td>0.000000</td>\n",
              "      <td>Thank you!! This would make my life a lot less...</td>\n",
              "      <td>0.000000</td>\n",
              "      <td>0.000000</td>\n",
              "      <td>0.000000</td>\n",
              "      <td>0.000000</td>\n",
              "      <td>0.0</td>\n",
              "      <td>NaN</td>\n",
              "      <td>NaN</td>\n",
              "      <td>...</td>\n",
              "      <td>0</td>\n",
              "      <td>0</td>\n",
              "      <td>0</td>\n",
              "      <td>0</td>\n",
              "      <td>0</td>\n",
              "      <td>0.0</td>\n",
              "      <td>0</td>\n",
              "      <td>4</td>\n",
              "      <td>thank would make life lot less keep not let an...</td>\n",
              "      <td>non-toxic</td>\n",
              "    </tr>\n",
              "    <tr>\n",
              "      <th>2</th>\n",
              "      <td>59852</td>\n",
              "      <td>0.000000</td>\n",
              "      <td>This is such an urgent design problem; kudos t...</td>\n",
              "      <td>0.000000</td>\n",
              "      <td>0.000000</td>\n",
              "      <td>0.000000</td>\n",
              "      <td>0.000000</td>\n",
              "      <td>0.0</td>\n",
              "      <td>NaN</td>\n",
              "      <td>NaN</td>\n",
              "      <td>...</td>\n",
              "      <td>0</td>\n",
              "      <td>0</td>\n",
              "      <td>0</td>\n",
              "      <td>0</td>\n",
              "      <td>0</td>\n",
              "      <td>0.0</td>\n",
              "      <td>0</td>\n",
              "      <td>4</td>\n",
              "      <td>urgent design problem take impress</td>\n",
              "      <td>non-toxic</td>\n",
              "    </tr>\n",
              "    <tr>\n",
              "      <th>3</th>\n",
              "      <td>59855</td>\n",
              "      <td>0.000000</td>\n",
              "      <td>Is this something I'll be able to install on m...</td>\n",
              "      <td>0.000000</td>\n",
              "      <td>0.000000</td>\n",
              "      <td>0.000000</td>\n",
              "      <td>0.000000</td>\n",
              "      <td>0.0</td>\n",
              "      <td>NaN</td>\n",
              "      <td>NaN</td>\n",
              "      <td>...</td>\n",
              "      <td>0</td>\n",
              "      <td>0</td>\n",
              "      <td>0</td>\n",
              "      <td>0</td>\n",
              "      <td>0</td>\n",
              "      <td>0.0</td>\n",
              "      <td>0</td>\n",
              "      <td>4</td>\n",
              "      <td>someth abl instal site releas</td>\n",
              "      <td>non-toxic</td>\n",
              "    </tr>\n",
              "    <tr>\n",
              "      <th>4</th>\n",
              "      <td>59856</td>\n",
              "      <td>0.893617</td>\n",
              "      <td>haha you guys are a bunch of losers.</td>\n",
              "      <td>0.021277</td>\n",
              "      <td>0.000000</td>\n",
              "      <td>0.021277</td>\n",
              "      <td>0.872340</td>\n",
              "      <td>0.0</td>\n",
              "      <td>0.0</td>\n",
              "      <td>0.0</td>\n",
              "      <td>...</td>\n",
              "      <td>0</td>\n",
              "      <td>0</td>\n",
              "      <td>0</td>\n",
              "      <td>1</td>\n",
              "      <td>0</td>\n",
              "      <td>0.0</td>\n",
              "      <td>4</td>\n",
              "      <td>47</td>\n",
              "      <td>guy bunch loser</td>\n",
              "      <td>toxic</td>\n",
              "    </tr>\n",
              "    <tr>\n",
              "      <th>...</th>\n",
              "      <td>...</td>\n",
              "      <td>...</td>\n",
              "      <td>...</td>\n",
              "      <td>...</td>\n",
              "      <td>...</td>\n",
              "      <td>...</td>\n",
              "      <td>...</td>\n",
              "      <td>...</td>\n",
              "      <td>...</td>\n",
              "      <td>...</td>\n",
              "      <td>...</td>\n",
              "      <td>...</td>\n",
              "      <td>...</td>\n",
              "      <td>...</td>\n",
              "      <td>...</td>\n",
              "      <td>...</td>\n",
              "      <td>...</td>\n",
              "      <td>...</td>\n",
              "      <td>...</td>\n",
              "      <td>...</td>\n",
              "      <td>...</td>\n",
              "    </tr>\n",
              "    <tr>\n",
              "      <th>1804869</th>\n",
              "      <td>6333967</td>\n",
              "      <td>0.000000</td>\n",
              "      <td>Maybe the tax on \"things\" would be collected w...</td>\n",
              "      <td>0.000000</td>\n",
              "      <td>0.000000</td>\n",
              "      <td>0.000000</td>\n",
              "      <td>0.000000</td>\n",
              "      <td>0.0</td>\n",
              "      <td>NaN</td>\n",
              "      <td>NaN</td>\n",
              "      <td>...</td>\n",
              "      <td>0</td>\n",
              "      <td>0</td>\n",
              "      <td>0</td>\n",
              "      <td>0</td>\n",
              "      <td>0</td>\n",
              "      <td>0.0</td>\n",
              "      <td>0</td>\n",
              "      <td>4</td>\n",
              "      <td>mayb tax thing would collect product import re...</td>\n",
              "      <td>non-toxic</td>\n",
              "    </tr>\n",
              "    <tr>\n",
              "      <th>1804870</th>\n",
              "      <td>6333969</td>\n",
              "      <td>0.000000</td>\n",
              "      <td>What do you call people who STILL think the di...</td>\n",
              "      <td>0.000000</td>\n",
              "      <td>0.000000</td>\n",
              "      <td>0.000000</td>\n",
              "      <td>0.000000</td>\n",
              "      <td>0.0</td>\n",
              "      <td>NaN</td>\n",
              "      <td>NaN</td>\n",
              "      <td>...</td>\n",
              "      <td>0</td>\n",
              "      <td>0</td>\n",
              "      <td>0</td>\n",
              "      <td>0</td>\n",
              "      <td>0</td>\n",
              "      <td>0.0</td>\n",
              "      <td>0</td>\n",
              "      <td>4</td>\n",
              "      <td>call peopl still think divin role creation</td>\n",
              "      <td>non-toxic</td>\n",
              "    </tr>\n",
              "    <tr>\n",
              "      <th>1804871</th>\n",
              "      <td>6333982</td>\n",
              "      <td>0.000000</td>\n",
              "      <td>thank you ,,,right or wrong,,, i am following ...</td>\n",
              "      <td>0.000000</td>\n",
              "      <td>0.000000</td>\n",
              "      <td>0.000000</td>\n",
              "      <td>0.000000</td>\n",
              "      <td>0.0</td>\n",
              "      <td>NaN</td>\n",
              "      <td>NaN</td>\n",
              "      <td>...</td>\n",
              "      <td>0</td>\n",
              "      <td>0</td>\n",
              "      <td>0</td>\n",
              "      <td>0</td>\n",
              "      <td>0</td>\n",
              "      <td>0.0</td>\n",
              "      <td>0</td>\n",
              "      <td>4</td>\n",
              "      <td>thank right wrong follow advic</td>\n",
              "      <td>non-toxic</td>\n",
              "    </tr>\n",
              "    <tr>\n",
              "      <th>1804872</th>\n",
              "      <td>6334009</td>\n",
              "      <td>0.621212</td>\n",
              "      <td>Anyone who is quoted as having the following e...</td>\n",
              "      <td>0.030303</td>\n",
              "      <td>0.030303</td>\n",
              "      <td>0.045455</td>\n",
              "      <td>0.621212</td>\n",
              "      <td>0.0</td>\n",
              "      <td>NaN</td>\n",
              "      <td>NaN</td>\n",
              "      <td>...</td>\n",
              "      <td>0</td>\n",
              "      <td>0</td>\n",
              "      <td>0</td>\n",
              "      <td>0</td>\n",
              "      <td>0</td>\n",
              "      <td>0.0</td>\n",
              "      <td>0</td>\n",
              "      <td>66</td>\n",
              "      <td>anyon quot follow exchang even would receiv vo...</td>\n",
              "      <td>toxic</td>\n",
              "    </tr>\n",
              "    <tr>\n",
              "      <th>1804873</th>\n",
              "      <td>6334010</td>\n",
              "      <td>0.000000</td>\n",
              "      <td>Students defined as EBD are legally just as di...</td>\n",
              "      <td>0.000000</td>\n",
              "      <td>0.000000</td>\n",
              "      <td>0.000000</td>\n",
              "      <td>0.000000</td>\n",
              "      <td>0.0</td>\n",
              "      <td>NaN</td>\n",
              "      <td>NaN</td>\n",
              "      <td>...</td>\n",
              "      <td>0</td>\n",
              "      <td>0</td>\n",
              "      <td>0</td>\n",
              "      <td>0</td>\n",
              "      <td>0</td>\n",
              "      <td>0.0</td>\n",
              "      <td>0</td>\n",
              "      <td>4</td>\n",
              "      <td>student defin legal disabl elig special servic...</td>\n",
              "      <td>non-toxic</td>\n",
              "    </tr>\n",
              "  </tbody>\n",
              "</table>\n",
              "<p>1804874 rows × 47 columns</p>\n",
              "</div>\n",
              "      <button class=\"colab-df-convert\" onclick=\"convertToInteractive('df-5872a7ae-7725-4a06-9974-b7cad2f38f80')\"\n",
              "              title=\"Convert this dataframe to an interactive table.\"\n",
              "              style=\"display:none;\">\n",
              "        \n",
              "  <svg xmlns=\"http://www.w3.org/2000/svg\" height=\"24px\"viewBox=\"0 0 24 24\"\n",
              "       width=\"24px\">\n",
              "    <path d=\"M0 0h24v24H0V0z\" fill=\"none\"/>\n",
              "    <path d=\"M18.56 5.44l.94 2.06.94-2.06 2.06-.94-2.06-.94-.94-2.06-.94 2.06-2.06.94zm-11 1L8.5 8.5l.94-2.06 2.06-.94-2.06-.94L8.5 2.5l-.94 2.06-2.06.94zm10 10l.94 2.06.94-2.06 2.06-.94-2.06-.94-.94-2.06-.94 2.06-2.06.94z\"/><path d=\"M17.41 7.96l-1.37-1.37c-.4-.4-.92-.59-1.43-.59-.52 0-1.04.2-1.43.59L10.3 9.45l-7.72 7.72c-.78.78-.78 2.05 0 2.83L4 21.41c.39.39.9.59 1.41.59.51 0 1.02-.2 1.41-.59l7.78-7.78 2.81-2.81c.8-.78.8-2.07 0-2.86zM5.41 20L4 18.59l7.72-7.72 1.47 1.35L5.41 20z\"/>\n",
              "  </svg>\n",
              "      </button>\n",
              "      \n",
              "  <style>\n",
              "    .colab-df-container {\n",
              "      display:flex;\n",
              "      flex-wrap:wrap;\n",
              "      gap: 12px;\n",
              "    }\n",
              "\n",
              "    .colab-df-convert {\n",
              "      background-color: #E8F0FE;\n",
              "      border: none;\n",
              "      border-radius: 50%;\n",
              "      cursor: pointer;\n",
              "      display: none;\n",
              "      fill: #1967D2;\n",
              "      height: 32px;\n",
              "      padding: 0 0 0 0;\n",
              "      width: 32px;\n",
              "    }\n",
              "\n",
              "    .colab-df-convert:hover {\n",
              "      background-color: #E2EBFA;\n",
              "      box-shadow: 0px 1px 2px rgba(60, 64, 67, 0.3), 0px 1px 3px 1px rgba(60, 64, 67, 0.15);\n",
              "      fill: #174EA6;\n",
              "    }\n",
              "\n",
              "    [theme=dark] .colab-df-convert {\n",
              "      background-color: #3B4455;\n",
              "      fill: #D2E3FC;\n",
              "    }\n",
              "\n",
              "    [theme=dark] .colab-df-convert:hover {\n",
              "      background-color: #434B5C;\n",
              "      box-shadow: 0px 1px 3px 1px rgba(0, 0, 0, 0.15);\n",
              "      filter: drop-shadow(0px 1px 2px rgba(0, 0, 0, 0.3));\n",
              "      fill: #FFFFFF;\n",
              "    }\n",
              "  </style>\n",
              "\n",
              "      <script>\n",
              "        const buttonEl =\n",
              "          document.querySelector('#df-5872a7ae-7725-4a06-9974-b7cad2f38f80 button.colab-df-convert');\n",
              "        buttonEl.style.display =\n",
              "          google.colab.kernel.accessAllowed ? 'block' : 'none';\n",
              "\n",
              "        async function convertToInteractive(key) {\n",
              "          const element = document.querySelector('#df-5872a7ae-7725-4a06-9974-b7cad2f38f80');\n",
              "          const dataTable =\n",
              "            await google.colab.kernel.invokeFunction('convertToInteractive',\n",
              "                                                     [key], {});\n",
              "          if (!dataTable) return;\n",
              "\n",
              "          const docLinkHtml = 'Like what you see? Visit the ' +\n",
              "            '<a target=\"_blank\" href=https://colab.research.google.com/notebooks/data_table.ipynb>data table notebook</a>'\n",
              "            + ' to learn more about interactive tables.';\n",
              "          element.innerHTML = '';\n",
              "          dataTable['output_type'] = 'display_data';\n",
              "          await google.colab.output.renderOutput(dataTable, element);\n",
              "          const docLink = document.createElement('div');\n",
              "          docLink.innerHTML = docLinkHtml;\n",
              "          element.appendChild(docLink);\n",
              "        }\n",
              "      </script>\n",
              "    </div>\n",
              "  </div>\n",
              "  "
            ]
          },
          "metadata": {},
          "execution_count": 72
        }
      ]
    },
    {
      "cell_type": "code",
      "source": [
        "Train_Final_pre_text_data_ML.info()"
      ],
      "metadata": {
        "colab": {
          "base_uri": "https://localhost:8080/"
        },
        "id": "UfUzeIsyOwwn",
        "outputId": "d2de911a-46da-4879-d026-eae5f0df513f"
      },
      "execution_count": null,
      "outputs": [
        {
          "output_type": "stream",
          "name": "stdout",
          "text": [
            "<class 'pandas.core.frame.DataFrame'>\n",
            "RangeIndex: 1804874 entries, 0 to 1804873\n",
            "Data columns (total 47 columns):\n",
            " #   Column                               Dtype  \n",
            "---  ------                               -----  \n",
            " 0   id                                   int64  \n",
            " 1   target                               float64\n",
            " 2   comment_text                         object \n",
            " 3   severe_toxicity                      float64\n",
            " 4   obscene                              float64\n",
            " 5   identity_attack                      float64\n",
            " 6   insult                               float64\n",
            " 7   threat                               float64\n",
            " 8   asian                                float64\n",
            " 9   atheist                              float64\n",
            " 10  bisexual                             float64\n",
            " 11  black                                float64\n",
            " 12  buddhist                             float64\n",
            " 13  christian                            float64\n",
            " 14  female                               float64\n",
            " 15  heterosexual                         float64\n",
            " 16  hindu                                float64\n",
            " 17  homosexual_gay_or_lesbian            float64\n",
            " 18  intellectual_or_learning_disability  float64\n",
            " 19  jewish                               float64\n",
            " 20  latino                               float64\n",
            " 21  male                                 float64\n",
            " 22  muslim                               float64\n",
            " 23  other_disability                     float64\n",
            " 24  other_gender                         float64\n",
            " 25  other_race_or_ethnicity              float64\n",
            " 26  other_religion                       float64\n",
            " 27  other_sexual_orientation             float64\n",
            " 28  physical_disability                  float64\n",
            " 29  psychiatric_or_mental_illness        float64\n",
            " 30  transgender                          float64\n",
            " 31  white                                float64\n",
            " 32  created_date                         object \n",
            " 33  publication_id                       int64  \n",
            " 34  parent_id                            float64\n",
            " 35  article_id                           int64  \n",
            " 36  rating                               object \n",
            " 37  funny                                int64  \n",
            " 38  wow                                  int64  \n",
            " 39  sad                                  int64  \n",
            " 40  likes                                int64  \n",
            " 41  disagree                             int64  \n",
            " 42  sexual_explicit                      float64\n",
            " 43  identity_annotator_count             int64  \n",
            " 44  toxicity_annotator_count             int64  \n",
            " 45  comment_text_pre                     object \n",
            " 46  class                                object \n",
            "dtypes: float64(32), int64(10), object(5)\n",
            "memory usage: 647.2+ MB\n"
          ]
        }
      ]
    },
    {
      "cell_type": "code",
      "source": [
        "Train_Final_pre_text_data_ML['comment_text_pre'] = Train_Final_pre_text_data_ML['comment_text_pre'].astype('string')"
      ],
      "metadata": {
        "id": "rPipvTqnO22i"
      },
      "execution_count": null,
      "outputs": []
    },
    {
      "cell_type": "code",
      "source": [
        "Train_Final_pre_text_data_ML.info()"
      ],
      "metadata": {
        "colab": {
          "base_uri": "https://localhost:8080/"
        },
        "id": "CN1gqjuJO8_3",
        "outputId": "105a0043-a331-496d-fe32-5f97156b3ba4"
      },
      "execution_count": null,
      "outputs": [
        {
          "output_type": "stream",
          "name": "stdout",
          "text": [
            "<class 'pandas.core.frame.DataFrame'>\n",
            "RangeIndex: 1804874 entries, 0 to 1804873\n",
            "Data columns (total 47 columns):\n",
            " #   Column                               Dtype  \n",
            "---  ------                               -----  \n",
            " 0   id                                   int64  \n",
            " 1   target                               float64\n",
            " 2   comment_text                         object \n",
            " 3   severe_toxicity                      float64\n",
            " 4   obscene                              float64\n",
            " 5   identity_attack                      float64\n",
            " 6   insult                               float64\n",
            " 7   threat                               float64\n",
            " 8   asian                                float64\n",
            " 9   atheist                              float64\n",
            " 10  bisexual                             float64\n",
            " 11  black                                float64\n",
            " 12  buddhist                             float64\n",
            " 13  christian                            float64\n",
            " 14  female                               float64\n",
            " 15  heterosexual                         float64\n",
            " 16  hindu                                float64\n",
            " 17  homosexual_gay_or_lesbian            float64\n",
            " 18  intellectual_or_learning_disability  float64\n",
            " 19  jewish                               float64\n",
            " 20  latino                               float64\n",
            " 21  male                                 float64\n",
            " 22  muslim                               float64\n",
            " 23  other_disability                     float64\n",
            " 24  other_gender                         float64\n",
            " 25  other_race_or_ethnicity              float64\n",
            " 26  other_religion                       float64\n",
            " 27  other_sexual_orientation             float64\n",
            " 28  physical_disability                  float64\n",
            " 29  psychiatric_or_mental_illness        float64\n",
            " 30  transgender                          float64\n",
            " 31  white                                float64\n",
            " 32  created_date                         object \n",
            " 33  publication_id                       int64  \n",
            " 34  parent_id                            float64\n",
            " 35  article_id                           int64  \n",
            " 36  rating                               object \n",
            " 37  funny                                int64  \n",
            " 38  wow                                  int64  \n",
            " 39  sad                                  int64  \n",
            " 40  likes                                int64  \n",
            " 41  disagree                             int64  \n",
            " 42  sexual_explicit                      float64\n",
            " 43  identity_annotator_count             int64  \n",
            " 44  toxicity_annotator_count             int64  \n",
            " 45  comment_text_pre                     string \n",
            " 46  class                                object \n",
            "dtypes: float64(32), int64(10), object(4), string(1)\n",
            "memory usage: 647.2+ MB\n"
          ]
        }
      ]
    },
    {
      "cell_type": "code",
      "source": [
        "#Test Data"
      ],
      "metadata": {
        "id": "xpzDL0h8PAPc"
      },
      "execution_count": null,
      "outputs": []
    },
    {
      "cell_type": "code",
      "source": [
        "Test_data =  pd.read_csv('/content/test.csv')"
      ],
      "metadata": {
        "id": "yvHo71ypPLSD"
      },
      "execution_count": null,
      "outputs": []
    },
    {
      "cell_type": "code",
      "source": [
        "Test_Final_pre_text_data_ML = preprocessing_ML(Test_data,submission_data=True)"
      ],
      "metadata": {
        "colab": {
          "base_uri": "https://localhost:8080/"
        },
        "id": "zXDrNb5RPTbZ",
        "outputId": "35d9a806-b9d2-4b97-f9a5-749e3d7e589b"
      },
      "execution_count": null,
      "outputs": [
        {
          "output_type": "stream",
          "name": "stderr",
          "text": [
            "100%|██████████| 97320/97320 [00:07<00:00, 12827.78it/s]\n",
            "100%|██████████| 97320/97320 [00:13<00:00, 7222.70it/s]\n",
            "100%|██████████| 97320/97320 [00:00<00:00, 377211.20it/s]\n",
            "100%|██████████| 97320/97320 [00:18<00:00, 5138.67it/s]\n",
            "100%|██████████| 97320/97320 [00:00<00:00, 129627.85it/s]\n",
            "100%|██████████| 97320/97320 [00:46<00:00, 2104.95it/s]\n",
            "100%|██████████| 97320/97320 [00:02<00:00, 38820.48it/s]\n",
            "100%|██████████| 97320/97320 [00:00<00:00, 117321.17it/s]\n"
          ]
        }
      ]
    },
    {
      "cell_type": "code",
      "source": [
        "Test_Final_pre_text_data_ML.info()"
      ],
      "metadata": {
        "colab": {
          "base_uri": "https://localhost:8080/"
        },
        "id": "tu8yUkyKPeqQ",
        "outputId": "799a53a4-eb36-462a-bc20-71459411aba2"
      },
      "execution_count": null,
      "outputs": [
        {
          "output_type": "stream",
          "name": "stdout",
          "text": [
            "<class 'pandas.core.frame.DataFrame'>\n",
            "RangeIndex: 97320 entries, 0 to 97319\n",
            "Data columns (total 3 columns):\n",
            " #   Column            Non-Null Count  Dtype \n",
            "---  ------            --------------  ----- \n",
            " 0   id                97320 non-null  int64 \n",
            " 1   comment_text      97320 non-null  object\n",
            " 2   comment_text_pre  97320 non-null  object\n",
            "dtypes: int64(1), object(2)\n",
            "memory usage: 2.2+ MB\n"
          ]
        }
      ]
    },
    {
      "cell_type": "code",
      "source": [
        "#Saving File\n",
        "Test_Final_pre_text_data_ML.to_csv('Test_Final_pre_text_data_ML_1.csv',index=False)"
      ],
      "metadata": {
        "id": "6PKJWjBBTN87"
      },
      "execution_count": null,
      "outputs": []
    },
    {
      "cell_type": "code",
      "source": [
        "#Loading file\n",
        "Test_Final_pre_text_data_ML = pd.read_csv(r'Test_Final_pre_text_data_ML_1.csv')"
      ],
      "metadata": {
        "id": "WQA9e_sJUPxH"
      },
      "execution_count": null,
      "outputs": []
    },
    {
      "cell_type": "code",
      "source": [
        "Test_Final_pre_text_data_ML.info()"
      ],
      "metadata": {
        "colab": {
          "base_uri": "https://localhost:8080/"
        },
        "id": "sjfuD61cUcbB",
        "outputId": "9a8716e0-f969-4062-d5a7-3b589733b471"
      },
      "execution_count": null,
      "outputs": [
        {
          "output_type": "stream",
          "name": "stdout",
          "text": [
            "<class 'pandas.core.frame.DataFrame'>\n",
            "RangeIndex: 97320 entries, 0 to 97319\n",
            "Data columns (total 3 columns):\n",
            " #   Column            Non-Null Count  Dtype \n",
            "---  ------            --------------  ----- \n",
            " 0   id                97320 non-null  int64 \n",
            " 1   comment_text      97320 non-null  object\n",
            " 2   comment_text_pre  96678 non-null  object\n",
            "dtypes: int64(1), object(2)\n",
            "memory usage: 2.2+ MB\n"
          ]
        }
      ]
    },
    {
      "cell_type": "markdown",
      "source": [
        "Converting comment_text_pre from object data type to string data type"
      ],
      "metadata": {
        "id": "m94xQ8a2UhuZ"
      }
    },
    {
      "cell_type": "code",
      "source": [
        "Test_Final_pre_text_data_ML['comment_text_pre'] = Test_Final_pre_text_data_ML['comment_text_pre'].astype('string')"
      ],
      "metadata": {
        "id": "Unp_vR_OUjNF"
      },
      "execution_count": null,
      "outputs": []
    },
    {
      "cell_type": "code",
      "source": [
        "Test_Final_pre_text_data_ML.info()"
      ],
      "metadata": {
        "colab": {
          "base_uri": "https://localhost:8080/"
        },
        "id": "-yVc-4XJUu-r",
        "outputId": "5be00d8a-2d1c-4634-a46f-5633832b7187"
      },
      "execution_count": null,
      "outputs": [
        {
          "output_type": "stream",
          "name": "stdout",
          "text": [
            "<class 'pandas.core.frame.DataFrame'>\n",
            "RangeIndex: 97320 entries, 0 to 97319\n",
            "Data columns (total 3 columns):\n",
            " #   Column            Non-Null Count  Dtype \n",
            "---  ------            --------------  ----- \n",
            " 0   id                97320 non-null  int64 \n",
            " 1   comment_text      97320 non-null  object\n",
            " 2   comment_text_pre  96678 non-null  string\n",
            "dtypes: int64(1), object(1), string(1)\n",
            "memory usage: 2.2+ MB\n"
          ]
        }
      ]
    },
    {
      "cell_type": "code",
      "source": [],
      "metadata": {
        "id": "Px_fjSnXU2mu"
      },
      "execution_count": null,
      "outputs": []
    },
    {
      "cell_type": "markdown",
      "source": [
        "Preprocessing the data for DL models\n"
      ],
      "metadata": {
        "id": "JtpeEC0HU6Yp"
      }
    },
    {
      "cell_type": "code",
      "source": [
        "Train_Final_pre_text_data_DL = preprocessing_DL(Data,submission_data=False)"
      ],
      "metadata": {
        "colab": {
          "base_uri": "https://localhost:8080/"
        },
        "id": "APnjOJ9cU8Fq",
        "outputId": "552e4ac5-d20a-4308-c20f-1cc69c0666af"
      },
      "execution_count": null,
      "outputs": [
        {
          "output_type": "stream",
          "name": "stderr",
          "text": [
            "100%|██████████| 1804874/1804874 [02:18<00:00, 13057.47it/s]\n",
            "100%|██████████| 1804874/1804874 [03:59<00:00, 7530.91it/s]\n",
            "100%|██████████| 1804874/1804874 [00:07<00:00, 228465.76it/s]\n",
            "100%|██████████| 1804874/1804874 [00:04<00:00, 423324.01it/s]\n",
            "100%|██████████| 1804874/1804874 [05:45<00:00, 5218.87it/s]\n",
            "100%|██████████| 1804874/1804874 [00:13<00:00, 130991.59it/s]\n",
            "100%|██████████| 1804874/1804874 [00:52<00:00, 34646.78it/s]\n",
            "100%|██████████| 1804874/1804874 [00:16<00:00, 111047.70it/s]\n",
            "100%|██████████| 1804874/1804874 [00:01<00:00, 1251248.57it/s]\n"
          ]
        }
      ]
    },
    {
      "cell_type": "code",
      "source": [
        "Train_Final_pre_text_data_DL.info()"
      ],
      "metadata": {
        "id": "plp3eosdcTH1",
        "colab": {
          "base_uri": "https://localhost:8080/"
        },
        "outputId": "f126f327-b2ed-41db-d0aa-183e9d0a175c"
      },
      "execution_count": null,
      "outputs": [
        {
          "output_type": "stream",
          "name": "stdout",
          "text": [
            "<class 'pandas.core.frame.DataFrame'>\n",
            "RangeIndex: 1804874 entries, 0 to 1804873\n",
            "Data columns (total 47 columns):\n",
            " #   Column                               Dtype  \n",
            "---  ------                               -----  \n",
            " 0   id                                   int64  \n",
            " 1   target                               float64\n",
            " 2   comment_text                         object \n",
            " 3   severe_toxicity                      float64\n",
            " 4   obscene                              float64\n",
            " 5   identity_attack                      float64\n",
            " 6   insult                               float64\n",
            " 7   threat                               float64\n",
            " 8   asian                                float64\n",
            " 9   atheist                              float64\n",
            " 10  bisexual                             float64\n",
            " 11  black                                float64\n",
            " 12  buddhist                             float64\n",
            " 13  christian                            float64\n",
            " 14  female                               float64\n",
            " 15  heterosexual                         float64\n",
            " 16  hindu                                float64\n",
            " 17  homosexual_gay_or_lesbian            float64\n",
            " 18  intellectual_or_learning_disability  float64\n",
            " 19  jewish                               float64\n",
            " 20  latino                               float64\n",
            " 21  male                                 float64\n",
            " 22  muslim                               float64\n",
            " 23  other_disability                     float64\n",
            " 24  other_gender                         float64\n",
            " 25  other_race_or_ethnicity              float64\n",
            " 26  other_religion                       float64\n",
            " 27  other_sexual_orientation             float64\n",
            " 28  physical_disability                  float64\n",
            " 29  psychiatric_or_mental_illness        float64\n",
            " 30  transgender                          float64\n",
            " 31  white                                float64\n",
            " 32  created_date                         object \n",
            " 33  publication_id                       int64  \n",
            " 34  parent_id                            float64\n",
            " 35  article_id                           int64  \n",
            " 36  rating                               object \n",
            " 37  funny                                int64  \n",
            " 38  wow                                  int64  \n",
            " 39  sad                                  int64  \n",
            " 40  likes                                int64  \n",
            " 41  disagree                             int64  \n",
            " 42  sexual_explicit                      float64\n",
            " 43  identity_annotator_count             int64  \n",
            " 44  toxicity_annotator_count             int64  \n",
            " 45  comment_text_pre                     object \n",
            " 46  class                                object \n",
            "dtypes: float64(32), int64(10), object(5)\n",
            "memory usage: 647.2+ MB\n"
          ]
        }
      ]
    },
    {
      "cell_type": "code",
      "source": [
        "Train_Final_pre_text_data_DL.to_csv('Train_Final_pre_text_data_DL_1.csv',index=False)"
      ],
      "metadata": {
        "id": "YCBr1KSioVJe"
      },
      "execution_count": null,
      "outputs": []
    },
    {
      "cell_type": "code",
      "source": [
        "Train_Final_pre_text_data_DL = pd.read_csv(r'Train_Final_pre_text_data_DL_1.csv')\n",
        "Train_Final_pre_text_data_DL"
      ],
      "metadata": {
        "colab": {
          "base_uri": "https://localhost:8080/",
          "height": 1000
        },
        "id": "rtofb9oroZ1i",
        "outputId": "cad38d38-6b12-48df-e45f-22a46a0c5f60"
      },
      "execution_count": null,
      "outputs": [
        {
          "output_type": "execute_result",
          "data": {
            "text/plain": [
              "              id    target                                       comment_text  \\\n",
              "0          59848  0.000000  This is so cool. It's like, 'would you want yo...   \n",
              "1          59849  0.000000  Thank you!! This would make my life a lot less...   \n",
              "2          59852  0.000000  This is such an urgent design problem; kudos t...   \n",
              "3          59855  0.000000  Is this something I'll be able to install on m...   \n",
              "4          59856  0.893617               haha you guys are a bunch of losers.   \n",
              "...          ...       ...                                                ...   \n",
              "1804869  6333967  0.000000  Maybe the tax on \"things\" would be collected w...   \n",
              "1804870  6333969  0.000000  What do you call people who STILL think the di...   \n",
              "1804871  6333982  0.000000  thank you ,,,right or wrong,,, i am following ...   \n",
              "1804872  6334009  0.621212  Anyone who is quoted as having the following e...   \n",
              "1804873  6334010  0.000000  Students defined as EBD are legally just as di...   \n",
              "\n",
              "         severe_toxicity   obscene  identity_attack    insult  threat  asian  \\\n",
              "0               0.000000  0.000000         0.000000  0.000000     0.0    NaN   \n",
              "1               0.000000  0.000000         0.000000  0.000000     0.0    NaN   \n",
              "2               0.000000  0.000000         0.000000  0.000000     0.0    NaN   \n",
              "3               0.000000  0.000000         0.000000  0.000000     0.0    NaN   \n",
              "4               0.021277  0.000000         0.021277  0.872340     0.0    0.0   \n",
              "...                  ...       ...              ...       ...     ...    ...   \n",
              "1804869         0.000000  0.000000         0.000000  0.000000     0.0    NaN   \n",
              "1804870         0.000000  0.000000         0.000000  0.000000     0.0    NaN   \n",
              "1804871         0.000000  0.000000         0.000000  0.000000     0.0    NaN   \n",
              "1804872         0.030303  0.030303         0.045455  0.621212     0.0    NaN   \n",
              "1804873         0.000000  0.000000         0.000000  0.000000     0.0    NaN   \n",
              "\n",
              "         atheist  ...  funny  wow  sad  likes  disagree  sexual_explicit  \\\n",
              "0            NaN  ...      0    0    0      0         0              0.0   \n",
              "1            NaN  ...      0    0    0      0         0              0.0   \n",
              "2            NaN  ...      0    0    0      0         0              0.0   \n",
              "3            NaN  ...      0    0    0      0         0              0.0   \n",
              "4            0.0  ...      0    0    0      1         0              0.0   \n",
              "...          ...  ...    ...  ...  ...    ...       ...              ...   \n",
              "1804869      NaN  ...      0    0    0      0         0              0.0   \n",
              "1804870      NaN  ...      0    0    0      0         0              0.0   \n",
              "1804871      NaN  ...      0    0    0      0         0              0.0   \n",
              "1804872      NaN  ...      0    0    0      0         0              0.0   \n",
              "1804873      NaN  ...      0    0    0      0         0              0.0   \n",
              "\n",
              "         identity_annotator_count  toxicity_annotator_count  \\\n",
              "0                               0                         4   \n",
              "1                               0                         4   \n",
              "2                               0                         4   \n",
              "3                               0                         4   \n",
              "4                               4                        47   \n",
              "...                           ...                       ...   \n",
              "1804869                         0                         4   \n",
              "1804870                         0                         4   \n",
              "1804871                         0                         4   \n",
              "1804872                         0                        66   \n",
              "1804873                         0                         4   \n",
              "\n",
              "                                          comment_text_pre      class  \n",
              "0        cool like want mother read really great idea w...  non-toxic  \n",
              "1        thank would make life lot less keep not let an...  non-toxic  \n",
              "2                  urgent design problem taking impressive  non-toxic  \n",
              "3                    something able install site releasing  non-toxic  \n",
              "4                                        guys bunch losers      toxic  \n",
              "...                                                    ...        ...  \n",
              "1804869  maybe tax things would collected product impor...  non-toxic  \n",
              "1804870       call people still think divine role creation  non-toxic  \n",
              "1804871                 thank right wrong following advice  non-toxic  \n",
              "1804872  anyone quoted following exchange even would re...      toxic  \n",
              "1804873  students defined legally disabled eligible spe...  non-toxic  \n",
              "\n",
              "[1804874 rows x 47 columns]"
            ],
            "text/html": [
              "\n",
              "  <div id=\"df-c53a9968-6cde-485a-b746-f2ea2c240099\">\n",
              "    <div class=\"colab-df-container\">\n",
              "      <div>\n",
              "<style scoped>\n",
              "    .dataframe tbody tr th:only-of-type {\n",
              "        vertical-align: middle;\n",
              "    }\n",
              "\n",
              "    .dataframe tbody tr th {\n",
              "        vertical-align: top;\n",
              "    }\n",
              "\n",
              "    .dataframe thead th {\n",
              "        text-align: right;\n",
              "    }\n",
              "</style>\n",
              "<table border=\"1\" class=\"dataframe\">\n",
              "  <thead>\n",
              "    <tr style=\"text-align: right;\">\n",
              "      <th></th>\n",
              "      <th>id</th>\n",
              "      <th>target</th>\n",
              "      <th>comment_text</th>\n",
              "      <th>severe_toxicity</th>\n",
              "      <th>obscene</th>\n",
              "      <th>identity_attack</th>\n",
              "      <th>insult</th>\n",
              "      <th>threat</th>\n",
              "      <th>asian</th>\n",
              "      <th>atheist</th>\n",
              "      <th>...</th>\n",
              "      <th>funny</th>\n",
              "      <th>wow</th>\n",
              "      <th>sad</th>\n",
              "      <th>likes</th>\n",
              "      <th>disagree</th>\n",
              "      <th>sexual_explicit</th>\n",
              "      <th>identity_annotator_count</th>\n",
              "      <th>toxicity_annotator_count</th>\n",
              "      <th>comment_text_pre</th>\n",
              "      <th>class</th>\n",
              "    </tr>\n",
              "  </thead>\n",
              "  <tbody>\n",
              "    <tr>\n",
              "      <th>0</th>\n",
              "      <td>59848</td>\n",
              "      <td>0.000000</td>\n",
              "      <td>This is so cool. It's like, 'would you want yo...</td>\n",
              "      <td>0.000000</td>\n",
              "      <td>0.000000</td>\n",
              "      <td>0.000000</td>\n",
              "      <td>0.000000</td>\n",
              "      <td>0.0</td>\n",
              "      <td>NaN</td>\n",
              "      <td>NaN</td>\n",
              "      <td>...</td>\n",
              "      <td>0</td>\n",
              "      <td>0</td>\n",
              "      <td>0</td>\n",
              "      <td>0</td>\n",
              "      <td>0</td>\n",
              "      <td>0.0</td>\n",
              "      <td>0</td>\n",
              "      <td>4</td>\n",
              "      <td>cool like want mother read really great idea w...</td>\n",
              "      <td>non-toxic</td>\n",
              "    </tr>\n",
              "    <tr>\n",
              "      <th>1</th>\n",
              "      <td>59849</td>\n",
              "      <td>0.000000</td>\n",
              "      <td>Thank you!! This would make my life a lot less...</td>\n",
              "      <td>0.000000</td>\n",
              "      <td>0.000000</td>\n",
              "      <td>0.000000</td>\n",
              "      <td>0.000000</td>\n",
              "      <td>0.0</td>\n",
              "      <td>NaN</td>\n",
              "      <td>NaN</td>\n",
              "      <td>...</td>\n",
              "      <td>0</td>\n",
              "      <td>0</td>\n",
              "      <td>0</td>\n",
              "      <td>0</td>\n",
              "      <td>0</td>\n",
              "      <td>0.0</td>\n",
              "      <td>0</td>\n",
              "      <td>4</td>\n",
              "      <td>thank would make life lot less keep not let an...</td>\n",
              "      <td>non-toxic</td>\n",
              "    </tr>\n",
              "    <tr>\n",
              "      <th>2</th>\n",
              "      <td>59852</td>\n",
              "      <td>0.000000</td>\n",
              "      <td>This is such an urgent design problem; kudos t...</td>\n",
              "      <td>0.000000</td>\n",
              "      <td>0.000000</td>\n",
              "      <td>0.000000</td>\n",
              "      <td>0.000000</td>\n",
              "      <td>0.0</td>\n",
              "      <td>NaN</td>\n",
              "      <td>NaN</td>\n",
              "      <td>...</td>\n",
              "      <td>0</td>\n",
              "      <td>0</td>\n",
              "      <td>0</td>\n",
              "      <td>0</td>\n",
              "      <td>0</td>\n",
              "      <td>0.0</td>\n",
              "      <td>0</td>\n",
              "      <td>4</td>\n",
              "      <td>urgent design problem taking impressive</td>\n",
              "      <td>non-toxic</td>\n",
              "    </tr>\n",
              "    <tr>\n",
              "      <th>3</th>\n",
              "      <td>59855</td>\n",
              "      <td>0.000000</td>\n",
              "      <td>Is this something I'll be able to install on m...</td>\n",
              "      <td>0.000000</td>\n",
              "      <td>0.000000</td>\n",
              "      <td>0.000000</td>\n",
              "      <td>0.000000</td>\n",
              "      <td>0.0</td>\n",
              "      <td>NaN</td>\n",
              "      <td>NaN</td>\n",
              "      <td>...</td>\n",
              "      <td>0</td>\n",
              "      <td>0</td>\n",
              "      <td>0</td>\n",
              "      <td>0</td>\n",
              "      <td>0</td>\n",
              "      <td>0.0</td>\n",
              "      <td>0</td>\n",
              "      <td>4</td>\n",
              "      <td>something able install site releasing</td>\n",
              "      <td>non-toxic</td>\n",
              "    </tr>\n",
              "    <tr>\n",
              "      <th>4</th>\n",
              "      <td>59856</td>\n",
              "      <td>0.893617</td>\n",
              "      <td>haha you guys are a bunch of losers.</td>\n",
              "      <td>0.021277</td>\n",
              "      <td>0.000000</td>\n",
              "      <td>0.021277</td>\n",
              "      <td>0.872340</td>\n",
              "      <td>0.0</td>\n",
              "      <td>0.0</td>\n",
              "      <td>0.0</td>\n",
              "      <td>...</td>\n",
              "      <td>0</td>\n",
              "      <td>0</td>\n",
              "      <td>0</td>\n",
              "      <td>1</td>\n",
              "      <td>0</td>\n",
              "      <td>0.0</td>\n",
              "      <td>4</td>\n",
              "      <td>47</td>\n",
              "      <td>guys bunch losers</td>\n",
              "      <td>toxic</td>\n",
              "    </tr>\n",
              "    <tr>\n",
              "      <th>...</th>\n",
              "      <td>...</td>\n",
              "      <td>...</td>\n",
              "      <td>...</td>\n",
              "      <td>...</td>\n",
              "      <td>...</td>\n",
              "      <td>...</td>\n",
              "      <td>...</td>\n",
              "      <td>...</td>\n",
              "      <td>...</td>\n",
              "      <td>...</td>\n",
              "      <td>...</td>\n",
              "      <td>...</td>\n",
              "      <td>...</td>\n",
              "      <td>...</td>\n",
              "      <td>...</td>\n",
              "      <td>...</td>\n",
              "      <td>...</td>\n",
              "      <td>...</td>\n",
              "      <td>...</td>\n",
              "      <td>...</td>\n",
              "      <td>...</td>\n",
              "    </tr>\n",
              "    <tr>\n",
              "      <th>1804869</th>\n",
              "      <td>6333967</td>\n",
              "      <td>0.000000</td>\n",
              "      <td>Maybe the tax on \"things\" would be collected w...</td>\n",
              "      <td>0.000000</td>\n",
              "      <td>0.000000</td>\n",
              "      <td>0.000000</td>\n",
              "      <td>0.000000</td>\n",
              "      <td>0.0</td>\n",
              "      <td>NaN</td>\n",
              "      <td>NaN</td>\n",
              "      <td>...</td>\n",
              "      <td>0</td>\n",
              "      <td>0</td>\n",
              "      <td>0</td>\n",
              "      <td>0</td>\n",
              "      <td>0</td>\n",
              "      <td>0.0</td>\n",
              "      <td>0</td>\n",
              "      <td>4</td>\n",
              "      <td>maybe tax things would collected product impor...</td>\n",
              "      <td>non-toxic</td>\n",
              "    </tr>\n",
              "    <tr>\n",
              "      <th>1804870</th>\n",
              "      <td>6333969</td>\n",
              "      <td>0.000000</td>\n",
              "      <td>What do you call people who STILL think the di...</td>\n",
              "      <td>0.000000</td>\n",
              "      <td>0.000000</td>\n",
              "      <td>0.000000</td>\n",
              "      <td>0.000000</td>\n",
              "      <td>0.0</td>\n",
              "      <td>NaN</td>\n",
              "      <td>NaN</td>\n",
              "      <td>...</td>\n",
              "      <td>0</td>\n",
              "      <td>0</td>\n",
              "      <td>0</td>\n",
              "      <td>0</td>\n",
              "      <td>0</td>\n",
              "      <td>0.0</td>\n",
              "      <td>0</td>\n",
              "      <td>4</td>\n",
              "      <td>call people still think divine role creation</td>\n",
              "      <td>non-toxic</td>\n",
              "    </tr>\n",
              "    <tr>\n",
              "      <th>1804871</th>\n",
              "      <td>6333982</td>\n",
              "      <td>0.000000</td>\n",
              "      <td>thank you ,,,right or wrong,,, i am following ...</td>\n",
              "      <td>0.000000</td>\n",
              "      <td>0.000000</td>\n",
              "      <td>0.000000</td>\n",
              "      <td>0.000000</td>\n",
              "      <td>0.0</td>\n",
              "      <td>NaN</td>\n",
              "      <td>NaN</td>\n",
              "      <td>...</td>\n",
              "      <td>0</td>\n",
              "      <td>0</td>\n",
              "      <td>0</td>\n",
              "      <td>0</td>\n",
              "      <td>0</td>\n",
              "      <td>0.0</td>\n",
              "      <td>0</td>\n",
              "      <td>4</td>\n",
              "      <td>thank right wrong following advice</td>\n",
              "      <td>non-toxic</td>\n",
              "    </tr>\n",
              "    <tr>\n",
              "      <th>1804872</th>\n",
              "      <td>6334009</td>\n",
              "      <td>0.621212</td>\n",
              "      <td>Anyone who is quoted as having the following e...</td>\n",
              "      <td>0.030303</td>\n",
              "      <td>0.030303</td>\n",
              "      <td>0.045455</td>\n",
              "      <td>0.621212</td>\n",
              "      <td>0.0</td>\n",
              "      <td>NaN</td>\n",
              "      <td>NaN</td>\n",
              "      <td>...</td>\n",
              "      <td>0</td>\n",
              "      <td>0</td>\n",
              "      <td>0</td>\n",
              "      <td>0</td>\n",
              "      <td>0</td>\n",
              "      <td>0.0</td>\n",
              "      <td>0</td>\n",
              "      <td>66</td>\n",
              "      <td>anyone quoted following exchange even would re...</td>\n",
              "      <td>toxic</td>\n",
              "    </tr>\n",
              "    <tr>\n",
              "      <th>1804873</th>\n",
              "      <td>6334010</td>\n",
              "      <td>0.000000</td>\n",
              "      <td>Students defined as EBD are legally just as di...</td>\n",
              "      <td>0.000000</td>\n",
              "      <td>0.000000</td>\n",
              "      <td>0.000000</td>\n",
              "      <td>0.000000</td>\n",
              "      <td>0.0</td>\n",
              "      <td>NaN</td>\n",
              "      <td>NaN</td>\n",
              "      <td>...</td>\n",
              "      <td>0</td>\n",
              "      <td>0</td>\n",
              "      <td>0</td>\n",
              "      <td>0</td>\n",
              "      <td>0</td>\n",
              "      <td>0.0</td>\n",
              "      <td>0</td>\n",
              "      <td>4</td>\n",
              "      <td>students defined legally disabled eligible spe...</td>\n",
              "      <td>non-toxic</td>\n",
              "    </tr>\n",
              "  </tbody>\n",
              "</table>\n",
              "<p>1804874 rows × 47 columns</p>\n",
              "</div>\n",
              "      <button class=\"colab-df-convert\" onclick=\"convertToInteractive('df-c53a9968-6cde-485a-b746-f2ea2c240099')\"\n",
              "              title=\"Convert this dataframe to an interactive table.\"\n",
              "              style=\"display:none;\">\n",
              "        \n",
              "  <svg xmlns=\"http://www.w3.org/2000/svg\" height=\"24px\"viewBox=\"0 0 24 24\"\n",
              "       width=\"24px\">\n",
              "    <path d=\"M0 0h24v24H0V0z\" fill=\"none\"/>\n",
              "    <path d=\"M18.56 5.44l.94 2.06.94-2.06 2.06-.94-2.06-.94-.94-2.06-.94 2.06-2.06.94zm-11 1L8.5 8.5l.94-2.06 2.06-.94-2.06-.94L8.5 2.5l-.94 2.06-2.06.94zm10 10l.94 2.06.94-2.06 2.06-.94-2.06-.94-.94-2.06-.94 2.06-2.06.94z\"/><path d=\"M17.41 7.96l-1.37-1.37c-.4-.4-.92-.59-1.43-.59-.52 0-1.04.2-1.43.59L10.3 9.45l-7.72 7.72c-.78.78-.78 2.05 0 2.83L4 21.41c.39.39.9.59 1.41.59.51 0 1.02-.2 1.41-.59l7.78-7.78 2.81-2.81c.8-.78.8-2.07 0-2.86zM5.41 20L4 18.59l7.72-7.72 1.47 1.35L5.41 20z\"/>\n",
              "  </svg>\n",
              "      </button>\n",
              "      \n",
              "  <style>\n",
              "    .colab-df-container {\n",
              "      display:flex;\n",
              "      flex-wrap:wrap;\n",
              "      gap: 12px;\n",
              "    }\n",
              "\n",
              "    .colab-df-convert {\n",
              "      background-color: #E8F0FE;\n",
              "      border: none;\n",
              "      border-radius: 50%;\n",
              "      cursor: pointer;\n",
              "      display: none;\n",
              "      fill: #1967D2;\n",
              "      height: 32px;\n",
              "      padding: 0 0 0 0;\n",
              "      width: 32px;\n",
              "    }\n",
              "\n",
              "    .colab-df-convert:hover {\n",
              "      background-color: #E2EBFA;\n",
              "      box-shadow: 0px 1px 2px rgba(60, 64, 67, 0.3), 0px 1px 3px 1px rgba(60, 64, 67, 0.15);\n",
              "      fill: #174EA6;\n",
              "    }\n",
              "\n",
              "    [theme=dark] .colab-df-convert {\n",
              "      background-color: #3B4455;\n",
              "      fill: #D2E3FC;\n",
              "    }\n",
              "\n",
              "    [theme=dark] .colab-df-convert:hover {\n",
              "      background-color: #434B5C;\n",
              "      box-shadow: 0px 1px 3px 1px rgba(0, 0, 0, 0.15);\n",
              "      filter: drop-shadow(0px 1px 2px rgba(0, 0, 0, 0.3));\n",
              "      fill: #FFFFFF;\n",
              "    }\n",
              "  </style>\n",
              "\n",
              "      <script>\n",
              "        const buttonEl =\n",
              "          document.querySelector('#df-c53a9968-6cde-485a-b746-f2ea2c240099 button.colab-df-convert');\n",
              "        buttonEl.style.display =\n",
              "          google.colab.kernel.accessAllowed ? 'block' : 'none';\n",
              "\n",
              "        async function convertToInteractive(key) {\n",
              "          const element = document.querySelector('#df-c53a9968-6cde-485a-b746-f2ea2c240099');\n",
              "          const dataTable =\n",
              "            await google.colab.kernel.invokeFunction('convertToInteractive',\n",
              "                                                     [key], {});\n",
              "          if (!dataTable) return;\n",
              "\n",
              "          const docLinkHtml = 'Like what you see? Visit the ' +\n",
              "            '<a target=\"_blank\" href=https://colab.research.google.com/notebooks/data_table.ipynb>data table notebook</a>'\n",
              "            + ' to learn more about interactive tables.';\n",
              "          element.innerHTML = '';\n",
              "          dataTable['output_type'] = 'display_data';\n",
              "          await google.colab.output.renderOutput(dataTable, element);\n",
              "          const docLink = document.createElement('div');\n",
              "          docLink.innerHTML = docLinkHtml;\n",
              "          element.appendChild(docLink);\n",
              "        }\n",
              "      </script>\n",
              "    </div>\n",
              "  </div>\n",
              "  "
            ]
          },
          "metadata": {},
          "execution_count": 88
        }
      ]
    },
    {
      "cell_type": "code",
      "source": [
        "Train_Final_pre_text_data_DL['comment_text_pre'] = Train_Final_pre_text_data_DL['comment_text_pre'].astype('string')"
      ],
      "metadata": {
        "id": "Tvgq-uXdom3e"
      },
      "execution_count": null,
      "outputs": []
    },
    {
      "cell_type": "code",
      "source": [
        "Train_Final_pre_text_data_DL.info()"
      ],
      "metadata": {
        "colab": {
          "base_uri": "https://localhost:8080/"
        },
        "id": "Vz6UCAG8oy8i",
        "outputId": "dea06b4b-0efd-468b-9c13-3a4655f3f0f3"
      },
      "execution_count": null,
      "outputs": [
        {
          "output_type": "stream",
          "name": "stdout",
          "text": [
            "<class 'pandas.core.frame.DataFrame'>\n",
            "RangeIndex: 1804874 entries, 0 to 1804873\n",
            "Data columns (total 47 columns):\n",
            " #   Column                               Dtype  \n",
            "---  ------                               -----  \n",
            " 0   id                                   int64  \n",
            " 1   target                               float64\n",
            " 2   comment_text                         object \n",
            " 3   severe_toxicity                      float64\n",
            " 4   obscene                              float64\n",
            " 5   identity_attack                      float64\n",
            " 6   insult                               float64\n",
            " 7   threat                               float64\n",
            " 8   asian                                float64\n",
            " 9   atheist                              float64\n",
            " 10  bisexual                             float64\n",
            " 11  black                                float64\n",
            " 12  buddhist                             float64\n",
            " 13  christian                            float64\n",
            " 14  female                               float64\n",
            " 15  heterosexual                         float64\n",
            " 16  hindu                                float64\n",
            " 17  homosexual_gay_or_lesbian            float64\n",
            " 18  intellectual_or_learning_disability  float64\n",
            " 19  jewish                               float64\n",
            " 20  latino                               float64\n",
            " 21  male                                 float64\n",
            " 22  muslim                               float64\n",
            " 23  other_disability                     float64\n",
            " 24  other_gender                         float64\n",
            " 25  other_race_or_ethnicity              float64\n",
            " 26  other_religion                       float64\n",
            " 27  other_sexual_orientation             float64\n",
            " 28  physical_disability                  float64\n",
            " 29  psychiatric_or_mental_illness        float64\n",
            " 30  transgender                          float64\n",
            " 31  white                                float64\n",
            " 32  created_date                         object \n",
            " 33  publication_id                       int64  \n",
            " 34  parent_id                            float64\n",
            " 35  article_id                           int64  \n",
            " 36  rating                               object \n",
            " 37  funny                                int64  \n",
            " 38  wow                                  int64  \n",
            " 39  sad                                  int64  \n",
            " 40  likes                                int64  \n",
            " 41  disagree                             int64  \n",
            " 42  sexual_explicit                      float64\n",
            " 43  identity_annotator_count             int64  \n",
            " 44  toxicity_annotator_count             int64  \n",
            " 45  comment_text_pre                     string \n",
            " 46  class                                object \n",
            "dtypes: float64(32), int64(10), object(4), string(1)\n",
            "memory usage: 647.2+ MB\n"
          ]
        }
      ]
    },
    {
      "cell_type": "code",
      "source": [
        "Test_data =  pd.read_csv(\"/content/test.csv\")"
      ],
      "metadata": {
        "id": "ij_aVd1Xo2_U"
      },
      "execution_count": null,
      "outputs": []
    },
    {
      "cell_type": "code",
      "source": [
        "Test_Final_pre_text_data_DL = preprocessing_DL(Test_data,submission_data=True)"
      ],
      "metadata": {
        "colab": {
          "base_uri": "https://localhost:8080/"
        },
        "id": "1lmcL_ahpqNk",
        "outputId": "a38f53ab-d4a5-45b1-8a87-665309db0b3a"
      },
      "execution_count": null,
      "outputs": [
        {
          "output_type": "stream",
          "name": "stderr",
          "text": [
            "100%|██████████| 97320/97320 [00:07<00:00, 12383.92it/s]\n",
            "100%|██████████| 97320/97320 [00:13<00:00, 7073.83it/s]\n",
            "100%|██████████| 97320/97320 [00:00<00:00, 130388.54it/s]\n",
            "100%|██████████| 97320/97320 [00:00<00:00, 402141.06it/s]\n",
            "100%|██████████| 97320/97320 [00:18<00:00, 5199.07it/s]\n",
            "100%|██████████| 97320/97320 [00:00<00:00, 130401.91it/s]\n",
            "100%|██████████| 97320/97320 [00:02<00:00, 33848.99it/s]\n",
            "100%|██████████| 97320/97320 [00:00<00:00, 110860.07it/s]\n"
          ]
        }
      ]
    },
    {
      "cell_type": "code",
      "source": [
        "Test_Final_pre_text_data_DL.info()"
      ],
      "metadata": {
        "colab": {
          "base_uri": "https://localhost:8080/"
        },
        "id": "DNdr9wxApudn",
        "outputId": "9a70de0d-7a3e-4b8c-94b0-79c1e8ad078c"
      },
      "execution_count": null,
      "outputs": [
        {
          "output_type": "stream",
          "name": "stdout",
          "text": [
            "<class 'pandas.core.frame.DataFrame'>\n",
            "RangeIndex: 97320 entries, 0 to 97319\n",
            "Data columns (total 3 columns):\n",
            " #   Column            Non-Null Count  Dtype \n",
            "---  ------            --------------  ----- \n",
            " 0   id                97320 non-null  int64 \n",
            " 1   comment_text      97320 non-null  object\n",
            " 2   comment_text_pre  97320 non-null  object\n",
            "dtypes: int64(1), object(2)\n",
            "memory usage: 2.2+ MB\n"
          ]
        }
      ]
    },
    {
      "cell_type": "code",
      "source": [
        "#Saving File\n",
        "Test_Final_pre_text_data_DL.to_csv('Test_Final_pre_text_data_DL_1.csv',index=False)"
      ],
      "metadata": {
        "id": "gSecIaQCpzYe"
      },
      "execution_count": null,
      "outputs": []
    },
    {
      "cell_type": "code",
      "source": [
        "#Loding File\n",
        "Test_Final_pre_text_data_DL = pd.read_csv(r'Test_Final_pre_text_data_DL_1.csv')"
      ],
      "metadata": {
        "id": "Mz9QFszhp7qr"
      },
      "execution_count": null,
      "outputs": []
    },
    {
      "cell_type": "code",
      "source": [
        "Test_Final_pre_text_data_DL.info()"
      ],
      "metadata": {
        "colab": {
          "base_uri": "https://localhost:8080/"
        },
        "id": "MSXKrf-yp9bW",
        "outputId": "6e881365-79c0-4573-8091-928d2ce633b4"
      },
      "execution_count": null,
      "outputs": [
        {
          "output_type": "stream",
          "name": "stdout",
          "text": [
            "<class 'pandas.core.frame.DataFrame'>\n",
            "RangeIndex: 97320 entries, 0 to 97319\n",
            "Data columns (total 3 columns):\n",
            " #   Column            Non-Null Count  Dtype \n",
            "---  ------            --------------  ----- \n",
            " 0   id                97320 non-null  int64 \n",
            " 1   comment_text      97320 non-null  object\n",
            " 2   comment_text_pre  96681 non-null  object\n",
            "dtypes: int64(1), object(2)\n",
            "memory usage: 2.2+ MB\n"
          ]
        }
      ]
    },
    {
      "cell_type": "code",
      "source": [
        "Test_Final_pre_text_data_DL['comment_text_pre'] = Test_Final_pre_text_data_DL['comment_text_pre'].astype('string')"
      ],
      "metadata": {
        "id": "NUoJmqwFp-2-"
      },
      "execution_count": null,
      "outputs": []
    },
    {
      "cell_type": "code",
      "source": [
        "Test_Final_pre_text_data_DL.info()"
      ],
      "metadata": {
        "colab": {
          "base_uri": "https://localhost:8080/"
        },
        "id": "rSFrK7_2qRzq",
        "outputId": "952249b2-8771-4aad-c962-3f5a22907dd6"
      },
      "execution_count": null,
      "outputs": [
        {
          "output_type": "stream",
          "name": "stdout",
          "text": [
            "<class 'pandas.core.frame.DataFrame'>\n",
            "RangeIndex: 97320 entries, 0 to 97319\n",
            "Data columns (total 3 columns):\n",
            " #   Column            Non-Null Count  Dtype \n",
            "---  ------            --------------  ----- \n",
            " 0   id                97320 non-null  int64 \n",
            " 1   comment_text      97320 non-null  object\n",
            " 2   comment_text_pre  96681 non-null  string\n",
            "dtypes: int64(1), object(1), string(1)\n",
            "memory usage: 2.2+ MB\n"
          ]
        }
      ]
    },
    {
      "cell_type": "code",
      "source": [
        "#Feature Engineering"
      ],
      "metadata": {
        "id": "MtThop9JqX9P"
      },
      "execution_count": null,
      "outputs": []
    },
    {
      "cell_type": "markdown",
      "source": [
        "##Feature Engineering"
      ],
      "metadata": {
        "id": "Wf5u59v4qcgH"
      }
    },
    {
      "cell_type": "markdown",
      "source": [
        "All about Data : There are Two data set train.csv and Test.csv\n",
        "train.csv : we have to break train.csv into 3 part.(do it for all vectorizers)\n",
        "Train\n",
        "Test\n",
        "CV"
      ],
      "metadata": {
        "id": "JWtRBQ47qioL"
      }
    },
    {
      "cell_type": "code",
      "source": [
        "Train_Final_pre_text_data_DL['comment_text_pre'].isnull().sum().sum()"
      ],
      "metadata": {
        "colab": {
          "base_uri": "https://localhost:8080/"
        },
        "id": "i1nXXTQdqkrX",
        "outputId": "3f41f544-285b-401f-eef6-db7f96028d9f"
      },
      "execution_count": null,
      "outputs": [
        {
          "output_type": "execute_result",
          "data": {
            "text/plain": [
              "12164"
            ]
          },
          "metadata": {},
          "execution_count": 99
        }
      ]
    },
    {
      "cell_type": "code",
      "source": [
        "Train_Final_pre_text_data_ML['comment_text_pre'].isnull().sum().sum()"
      ],
      "metadata": {
        "colab": {
          "base_uri": "https://localhost:8080/"
        },
        "id": "dgIKPSCPqsPG",
        "outputId": "3cb6510a-9d32-4d98-d3cd-c507ee4cd87d"
      },
      "execution_count": null,
      "outputs": [
        {
          "output_type": "execute_result",
          "data": {
            "text/plain": [
              "12195"
            ]
          },
          "metadata": {},
          "execution_count": 100
        }
      ]
    },
    {
      "cell_type": "code",
      "source": [
        "#Drop nan values"
      ],
      "metadata": {
        "id": "1aG-ThjWqv1z"
      },
      "execution_count": null,
      "outputs": []
    },
    {
      "cell_type": "code",
      "source": [
        "Train_Final_pre_text_data_ML.dropna(subset = [\"comment_text_pre\"],inplace=True)"
      ],
      "metadata": {
        "id": "zymXhoHkq1L0"
      },
      "execution_count": null,
      "outputs": []
    },
    {
      "cell_type": "code",
      "source": [
        "Train_Final_pre_text_data_ML.info()"
      ],
      "metadata": {
        "colab": {
          "base_uri": "https://localhost:8080/"
        },
        "id": "XfohucvFq2gu",
        "outputId": "d4c3a9c4-4370-4601-a380-4d8455aeb862"
      },
      "execution_count": null,
      "outputs": [
        {
          "output_type": "stream",
          "name": "stdout",
          "text": [
            "<class 'pandas.core.frame.DataFrame'>\n",
            "Int64Index: 1792679 entries, 0 to 1804873\n",
            "Data columns (total 47 columns):\n",
            " #   Column                               Dtype  \n",
            "---  ------                               -----  \n",
            " 0   id                                   int64  \n",
            " 1   target                               float64\n",
            " 2   comment_text                         object \n",
            " 3   severe_toxicity                      float64\n",
            " 4   obscene                              float64\n",
            " 5   identity_attack                      float64\n",
            " 6   insult                               float64\n",
            " 7   threat                               float64\n",
            " 8   asian                                float64\n",
            " 9   atheist                              float64\n",
            " 10  bisexual                             float64\n",
            " 11  black                                float64\n",
            " 12  buddhist                             float64\n",
            " 13  christian                            float64\n",
            " 14  female                               float64\n",
            " 15  heterosexual                         float64\n",
            " 16  hindu                                float64\n",
            " 17  homosexual_gay_or_lesbian            float64\n",
            " 18  intellectual_or_learning_disability  float64\n",
            " 19  jewish                               float64\n",
            " 20  latino                               float64\n",
            " 21  male                                 float64\n",
            " 22  muslim                               float64\n",
            " 23  other_disability                     float64\n",
            " 24  other_gender                         float64\n",
            " 25  other_race_or_ethnicity              float64\n",
            " 26  other_religion                       float64\n",
            " 27  other_sexual_orientation             float64\n",
            " 28  physical_disability                  float64\n",
            " 29  psychiatric_or_mental_illness        float64\n",
            " 30  transgender                          float64\n",
            " 31  white                                float64\n",
            " 32  created_date                         object \n",
            " 33  publication_id                       int64  \n",
            " 34  parent_id                            float64\n",
            " 35  article_id                           int64  \n",
            " 36  rating                               object \n",
            " 37  funny                                int64  \n",
            " 38  wow                                  int64  \n",
            " 39  sad                                  int64  \n",
            " 40  likes                                int64  \n",
            " 41  disagree                             int64  \n",
            " 42  sexual_explicit                      float64\n",
            " 43  identity_annotator_count             int64  \n",
            " 44  toxicity_annotator_count             int64  \n",
            " 45  comment_text_pre                     string \n",
            " 46  class                                object \n",
            "dtypes: float64(32), int64(10), object(4), string(1)\n",
            "memory usage: 656.5+ MB\n"
          ]
        }
      ]
    },
    {
      "cell_type": "code",
      "source": [
        "import numpy as np\n",
        "from sklearn.model_selection import train_test_split"
      ],
      "metadata": {
        "id": "4JcOB3rlq4Bb"
      },
      "execution_count": null,
      "outputs": []
    },
    {
      "cell_type": "code",
      "source": [
        "x_train, x_test, y_train, y_test = train_test_split(Train_Final_pre_text_data_ML['comment_text_pre'].values, Train_Final_pre_text_data_ML['class'].values, test_size=0.15,stratify=Train_Final_pre_text_data_ML['class'].values ,random_state=42)\n"
      ],
      "metadata": {
        "id": "HuhyEjvbq8EQ"
      },
      "execution_count": null,
      "outputs": []
    },
    {
      "cell_type": "code",
      "source": [
        "x_train, x_cv, y_train, y_cv = train_test_split(x_train,y_train,stratify=y_train, test_size=0.15, random_state=42)\n"
      ],
      "metadata": {
        "id": "bOBNXF0Oq_yR"
      },
      "execution_count": null,
      "outputs": []
    },
    {
      "cell_type": "code",
      "source": [
        "import pickle\n",
        "with open('data_train_test_cv_csv.pkl', 'wb') as file:\n",
        "    pickle.dump([x_train, x_cv , x_test, y_train, y_cv, y_test], file)"
      ],
      "metadata": {
        "id": "a2NMemDgrFtU"
      },
      "execution_count": null,
      "outputs": []
    },
    {
      "cell_type": "code",
      "source": [
        "import pickle\n",
        "  \n",
        "# Open the file in binary mode\n",
        "with open('data_train_test_cv_csv.pkl', 'rb') as file:\n",
        "      \n",
        "    # Call load method to deserialze\n",
        "    x_train, x_cv , x_test, y_train, y_cv, y_test = pickle.load(file)\n",
        " "
      ],
      "metadata": {
        "id": "X8zcUWa-rS2I"
      },
      "execution_count": null,
      "outputs": []
    },
    {
      "cell_type": "markdown",
      "source": [
        "#BOW"
      ],
      "metadata": {
        "id": "GV-9P-W_rlJT"
      }
    },
    {
      "cell_type": "code",
      "source": [
        "from sklearn.feature_extraction.text import CountVectorizer\n",
        "vectorizer_BOW= CountVectorizer(min_df=10, max_features=10000)\n",
        "vectorizer_BOW.fit(x_train)\n",
        "\n",
        "x_train_BOW = vectorizer_BOW.transform(x_train)\n",
        "x_cv_BOW = vectorizer_BOW.transform(x_cv)\n",
        "x_test_BOW = vectorizer_BOW.transform(x_test)"
      ],
      "metadata": {
        "id": "yTcHRjs-rmpE"
      },
      "execution_count": null,
      "outputs": []
    },
    {
      "cell_type": "code",
      "source": [
        "len(vectorizer_BOW.get_feature_names())"
      ],
      "metadata": {
        "colab": {
          "base_uri": "https://localhost:8080/"
        },
        "id": "760-rbVHroTA",
        "outputId": "906f6efd-8533-4939-ef09-4ad94d5a4aea"
      },
      "execution_count": null,
      "outputs": [
        {
          "output_type": "execute_result",
          "data": {
            "text/plain": [
              "10000"
            ]
          },
          "metadata": {},
          "execution_count": 112
        }
      ]
    },
    {
      "cell_type": "code",
      "source": [
        "print('x_train_BOW:',x_train_BOW.shape)\n",
        "print('x_cv_BOW:',x_cv_BOW.shape)\n",
        "print('x_test_BOW:',x_test_BOW.shape)"
      ],
      "metadata": {
        "colab": {
          "base_uri": "https://localhost:8080/"
        },
        "id": "pPrurtJfr3VJ",
        "outputId": "6898975d-e029-4e85-c88d-c71de38cd763"
      },
      "execution_count": null,
      "outputs": [
        {
          "output_type": "stream",
          "name": "stdout",
          "text": [
            "x_train_BOW: (1295210, 10000)\n",
            "x_cv_BOW: (228567, 10000)\n",
            "x_test_BOW: (268902, 10000)\n"
          ]
        }
      ]
    },
    {
      "cell_type": "code",
      "source": [
        "Test_Final_pre_text_data_ML = pd.read_csv(r'Test_Final_pre_text_data_ML_1.csv')\n",
        "Test_Final_pre_text_data_ML['comment_text_pre'] = Test_Final_pre_text_data_ML['comment_text_pre'].astype('string')\n",
        "## Droping NAN values\n",
        "Test_Final_pre_text_data_ML.dropna(subset = [\"comment_text_pre\"],inplace=True)\n",
        "Test_Final_pre_text_data_ML.info()"
      ],
      "metadata": {
        "colab": {
          "base_uri": "https://localhost:8080/"
        },
        "id": "vCQyxbQ5r-oR",
        "outputId": "99b82b14-702f-4ac5-c0fc-b42596b8b295"
      },
      "execution_count": null,
      "outputs": [
        {
          "output_type": "stream",
          "name": "stdout",
          "text": [
            "<class 'pandas.core.frame.DataFrame'>\n",
            "Int64Index: 96678 entries, 0 to 97319\n",
            "Data columns (total 3 columns):\n",
            " #   Column            Non-Null Count  Dtype \n",
            "---  ------            --------------  ----- \n",
            " 0   id                96678 non-null  int64 \n",
            " 1   comment_text      96678 non-null  object\n",
            " 2   comment_text_pre  96678 non-null  string\n",
            "dtypes: int64(1), object(1), string(1)\n",
            "memory usage: 3.0+ MB\n"
          ]
        }
      ]
    },
    {
      "cell_type": "code",
      "source": [
        "Test_Final_pre_text_data_ML_BOW = vectorizer_BOW.transform(Test_Final_pre_text_data_ML['comment_text_pre'])"
      ],
      "metadata": {
        "id": "AjCgCxzZsObE"
      },
      "execution_count": null,
      "outputs": []
    },
    {
      "cell_type": "code",
      "source": [
        "print('Test_Final_pre_text_data_ML_BOW:',Test_Final_pre_text_data_ML_BOW.shape)"
      ],
      "metadata": {
        "id": "cBkB3zdvuPNd"
      },
      "execution_count": null,
      "outputs": []
    },
    {
      "cell_type": "code",
      "source": [
        "import pickle\n",
        "with open('data_BOW.pkl', 'wb') as file:\n",
        "    pickle.dump([x_train_BOW , x_cv_BOW , x_test_BOW, y_train, y_cv, y_test,Test_Final_pre_text_data_ML_BOW], file)\n"
      ],
      "metadata": {
        "id": "LJ59feGUuSg7"
      },
      "execution_count": null,
      "outputs": []
    },
    {
      "cell_type": "code",
      "source": [
        "import pickle\n",
        "  \n",
        "# Open the file in binary mode\n",
        "with open('data_BOW.pkl', 'rb') as file:\n",
        "      \n",
        "    # Call load method to deserialze\n",
        "    x_train_BOW , x_cv_BOW , x_test_BOW, y_train, y_cv, y_test,Test_Final_pre_text_data_ML_BOW = pickle.load(file)\n",
        " "
      ],
      "metadata": {
        "id": "0hhuHEA-uY9J"
      },
      "execution_count": null,
      "outputs": []
    }
  ]
}