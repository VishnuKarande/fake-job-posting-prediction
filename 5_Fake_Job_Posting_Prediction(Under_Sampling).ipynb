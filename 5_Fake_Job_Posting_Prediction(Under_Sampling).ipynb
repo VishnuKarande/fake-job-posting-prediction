{
  "nbformat": 4,
  "nbformat_minor": 0,
  "metadata": {
    "colab": {
      "provenance": [],
      "collapsed_sections": []
    },
    "kernelspec": {
      "name": "python3",
      "display_name": "Python 3"
    },
    "language_info": {
      "name": "python"
    }
  },
  "cells": [
    {
      "cell_type": "markdown",
      "source": [
        "# Improvement\n",
        "\n",
        "The dataset that is used in this project is very unbalanced. Most jobs are real, and few are fraudulent. Due to this, real jobs are being identified quite well. Certain techniques, like SMOTE, can be used to generate synthetic minority class samples. A balanced dataset should be able to generate better results"
      ],
      "metadata": {
        "id": "YyY4huSiuk7f"
      }
    },
    {
      "cell_type": "markdown",
      "source": [
        "\n",
        "## Import **LIBRARIES**"
      ],
      "metadata": {
        "id": "dBnOYzJwYfuU"
      }
    },
    {
      "cell_type": "code",
      "source": [
        "import pandas as pd\n",
        "import os\n",
        "import matplotlib.pyplot as plt\n",
        "import numpy as np\n",
        "import seaborn as sns\n",
        "import nltk\n",
        "from nltk.corpus import stopwords\n",
        "from sklearn.metrics import *\n",
        "from sklearn import preprocessing\n",
        "from sklearn import metrics\n",
        "from sklearn.linear_model import LogisticRegression\n",
        "from sklearn.svm import SVC\n",
        "from sklearn.neighbors import KNeighborsClassifier\n",
        "from sklearn.tree import DecisionTreeClassifier\n",
        "from sklearn.naive_bayes import GaussianNB\n",
        "from sklearn.ensemble import RandomForestClassifier \n",
        "from sklearn.model_selection import train_test_split\n",
        "import re #do regex operations\n",
        "from wordcloud import WordCloud,STOPWORDS \n",
        "from sklearn.preprocessing import LabelEncoder\n",
        "\n",
        "#Visualize\n",
        "import seaborn as sns\n",
        "import matplotlib.pyplot as plt\n",
        "from wordcloud import WordCloud,STOPWORDS\n",
        "#\n",
        "# metrics\n",
        "from sklearn.metrics import accuracy_score, confusion_matrix, classification_report\n",
        "from sklearn.metrics import f1_score, precision_score, recall_score\n",
        "\n",
        "# models\n",
        "from sklearn.svm import SVC\n",
        "import time"
      ],
      "metadata": {
        "id": "eGtzZ8hX75Qw"
      },
      "execution_count": null,
      "outputs": []
    },
    {
      "cell_type": "markdown",
      "source": [
        "### loading The Dataset"
      ],
      "metadata": {
        "id": "Mw4ALngrYpWr"
      }
    },
    {
      "cell_type": "code",
      "source": [
        "#LOADING THE DATASET\n",
        "df1 = pd.read_csv(\"/content/fake_job_postings.csv\")\n",
        "df1.head()"
      ],
      "metadata": {
        "colab": {
          "base_uri": "https://localhost:8080/",
          "height": 600
        },
        "id": "Vflwi_gb9o6h",
        "outputId": "2c779729-7333-48d3-d6f0-3b4e537ac74e"
      },
      "execution_count": null,
      "outputs": [
        {
          "output_type": "execute_result",
          "data": {
            "text/plain": [
              "   job_id                                      title            location  \\\n",
              "0       1                           Marketing Intern    US, NY, New York   \n",
              "1       2  Customer Service - Cloud Video Production      NZ, , Auckland   \n",
              "2       3    Commissioning Machinery Assistant (CMA)       US, IA, Wever   \n",
              "3       4          Account Executive - Washington DC  US, DC, Washington   \n",
              "4       5                        Bill Review Manager  US, FL, Fort Worth   \n",
              "\n",
              "  department salary_range                                    company_profile  \\\n",
              "0  Marketing          NaN  We're Food52, and we've created a groundbreaki...   \n",
              "1    Success          NaN  90 Seconds, the worlds Cloud Video Production ...   \n",
              "2        NaN          NaN  Valor Services provides Workforce Solutions th...   \n",
              "3      Sales          NaN  Our passion for improving quality of life thro...   \n",
              "4        NaN          NaN  SpotSource Solutions LLC is a Global Human Cap...   \n",
              "\n",
              "                                         description  \\\n",
              "0  Food52, a fast-growing, James Beard Award-winn...   \n",
              "1  Organised - Focused - Vibrant - Awesome!Do you...   \n",
              "2  Our client, located in Houston, is actively se...   \n",
              "3  THE COMPANY: ESRI – Environmental Systems Rese...   \n",
              "4  JOB TITLE: Itemization Review ManagerLOCATION:...   \n",
              "\n",
              "                                        requirements  \\\n",
              "0  Experience with content management systems a m...   \n",
              "1  What we expect from you:Your key responsibilit...   \n",
              "2  Implement pre-commissioning and commissioning ...   \n",
              "3  EDUCATION: Bachelor’s or Master’s in GIS, busi...   \n",
              "4  QUALIFICATIONS:RN license in the State of Texa...   \n",
              "\n",
              "                                            benefits  telecommuting  \\\n",
              "0                                                NaN              0   \n",
              "1  What you will get from usThrough being part of...              0   \n",
              "2                                                NaN              0   \n",
              "3  Our culture is anything but corporate—we have ...              0   \n",
              "4                              Full Benefits Offered              0   \n",
              "\n",
              "   has_company_logo  has_questions employment_type required_experience  \\\n",
              "0                 1              0           Other          Internship   \n",
              "1                 1              0       Full-time      Not Applicable   \n",
              "2                 1              0             NaN                 NaN   \n",
              "3                 1              0       Full-time    Mid-Senior level   \n",
              "4                 1              1       Full-time    Mid-Senior level   \n",
              "\n",
              "  required_education                   industry              function  \\\n",
              "0                NaN                        NaN             Marketing   \n",
              "1                NaN  Marketing and Advertising      Customer Service   \n",
              "2                NaN                        NaN                   NaN   \n",
              "3  Bachelor's Degree          Computer Software                 Sales   \n",
              "4  Bachelor's Degree     Hospital & Health Care  Health Care Provider   \n",
              "\n",
              "   fraudulent  \n",
              "0           0  \n",
              "1           0  \n",
              "2           0  \n",
              "3           0  \n",
              "4           0  "
            ],
            "text/html": [
              "\n",
              "  <div id=\"df-f00d98a2-049b-45c4-bafa-b18f6ab3fd9e\">\n",
              "    <div class=\"colab-df-container\">\n",
              "      <div>\n",
              "<style scoped>\n",
              "    .dataframe tbody tr th:only-of-type {\n",
              "        vertical-align: middle;\n",
              "    }\n",
              "\n",
              "    .dataframe tbody tr th {\n",
              "        vertical-align: top;\n",
              "    }\n",
              "\n",
              "    .dataframe thead th {\n",
              "        text-align: right;\n",
              "    }\n",
              "</style>\n",
              "<table border=\"1\" class=\"dataframe\">\n",
              "  <thead>\n",
              "    <tr style=\"text-align: right;\">\n",
              "      <th></th>\n",
              "      <th>job_id</th>\n",
              "      <th>title</th>\n",
              "      <th>location</th>\n",
              "      <th>department</th>\n",
              "      <th>salary_range</th>\n",
              "      <th>company_profile</th>\n",
              "      <th>description</th>\n",
              "      <th>requirements</th>\n",
              "      <th>benefits</th>\n",
              "      <th>telecommuting</th>\n",
              "      <th>has_company_logo</th>\n",
              "      <th>has_questions</th>\n",
              "      <th>employment_type</th>\n",
              "      <th>required_experience</th>\n",
              "      <th>required_education</th>\n",
              "      <th>industry</th>\n",
              "      <th>function</th>\n",
              "      <th>fraudulent</th>\n",
              "    </tr>\n",
              "  </thead>\n",
              "  <tbody>\n",
              "    <tr>\n",
              "      <th>0</th>\n",
              "      <td>1</td>\n",
              "      <td>Marketing Intern</td>\n",
              "      <td>US, NY, New York</td>\n",
              "      <td>Marketing</td>\n",
              "      <td>NaN</td>\n",
              "      <td>We're Food52, and we've created a groundbreaki...</td>\n",
              "      <td>Food52, a fast-growing, James Beard Award-winn...</td>\n",
              "      <td>Experience with content management systems a m...</td>\n",
              "      <td>NaN</td>\n",
              "      <td>0</td>\n",
              "      <td>1</td>\n",
              "      <td>0</td>\n",
              "      <td>Other</td>\n",
              "      <td>Internship</td>\n",
              "      <td>NaN</td>\n",
              "      <td>NaN</td>\n",
              "      <td>Marketing</td>\n",
              "      <td>0</td>\n",
              "    </tr>\n",
              "    <tr>\n",
              "      <th>1</th>\n",
              "      <td>2</td>\n",
              "      <td>Customer Service - Cloud Video Production</td>\n",
              "      <td>NZ, , Auckland</td>\n",
              "      <td>Success</td>\n",
              "      <td>NaN</td>\n",
              "      <td>90 Seconds, the worlds Cloud Video Production ...</td>\n",
              "      <td>Organised - Focused - Vibrant - Awesome!Do you...</td>\n",
              "      <td>What we expect from you:Your key responsibilit...</td>\n",
              "      <td>What you will get from usThrough being part of...</td>\n",
              "      <td>0</td>\n",
              "      <td>1</td>\n",
              "      <td>0</td>\n",
              "      <td>Full-time</td>\n",
              "      <td>Not Applicable</td>\n",
              "      <td>NaN</td>\n",
              "      <td>Marketing and Advertising</td>\n",
              "      <td>Customer Service</td>\n",
              "      <td>0</td>\n",
              "    </tr>\n",
              "    <tr>\n",
              "      <th>2</th>\n",
              "      <td>3</td>\n",
              "      <td>Commissioning Machinery Assistant (CMA)</td>\n",
              "      <td>US, IA, Wever</td>\n",
              "      <td>NaN</td>\n",
              "      <td>NaN</td>\n",
              "      <td>Valor Services provides Workforce Solutions th...</td>\n",
              "      <td>Our client, located in Houston, is actively se...</td>\n",
              "      <td>Implement pre-commissioning and commissioning ...</td>\n",
              "      <td>NaN</td>\n",
              "      <td>0</td>\n",
              "      <td>1</td>\n",
              "      <td>0</td>\n",
              "      <td>NaN</td>\n",
              "      <td>NaN</td>\n",
              "      <td>NaN</td>\n",
              "      <td>NaN</td>\n",
              "      <td>NaN</td>\n",
              "      <td>0</td>\n",
              "    </tr>\n",
              "    <tr>\n",
              "      <th>3</th>\n",
              "      <td>4</td>\n",
              "      <td>Account Executive - Washington DC</td>\n",
              "      <td>US, DC, Washington</td>\n",
              "      <td>Sales</td>\n",
              "      <td>NaN</td>\n",
              "      <td>Our passion for improving quality of life thro...</td>\n",
              "      <td>THE COMPANY: ESRI – Environmental Systems Rese...</td>\n",
              "      <td>EDUCATION: Bachelor’s or Master’s in GIS, busi...</td>\n",
              "      <td>Our culture is anything but corporate—we have ...</td>\n",
              "      <td>0</td>\n",
              "      <td>1</td>\n",
              "      <td>0</td>\n",
              "      <td>Full-time</td>\n",
              "      <td>Mid-Senior level</td>\n",
              "      <td>Bachelor's Degree</td>\n",
              "      <td>Computer Software</td>\n",
              "      <td>Sales</td>\n",
              "      <td>0</td>\n",
              "    </tr>\n",
              "    <tr>\n",
              "      <th>4</th>\n",
              "      <td>5</td>\n",
              "      <td>Bill Review Manager</td>\n",
              "      <td>US, FL, Fort Worth</td>\n",
              "      <td>NaN</td>\n",
              "      <td>NaN</td>\n",
              "      <td>SpotSource Solutions LLC is a Global Human Cap...</td>\n",
              "      <td>JOB TITLE: Itemization Review ManagerLOCATION:...</td>\n",
              "      <td>QUALIFICATIONS:RN license in the State of Texa...</td>\n",
              "      <td>Full Benefits Offered</td>\n",
              "      <td>0</td>\n",
              "      <td>1</td>\n",
              "      <td>1</td>\n",
              "      <td>Full-time</td>\n",
              "      <td>Mid-Senior level</td>\n",
              "      <td>Bachelor's Degree</td>\n",
              "      <td>Hospital &amp; Health Care</td>\n",
              "      <td>Health Care Provider</td>\n",
              "      <td>0</td>\n",
              "    </tr>\n",
              "  </tbody>\n",
              "</table>\n",
              "</div>\n",
              "      <button class=\"colab-df-convert\" onclick=\"convertToInteractive('df-f00d98a2-049b-45c4-bafa-b18f6ab3fd9e')\"\n",
              "              title=\"Convert this dataframe to an interactive table.\"\n",
              "              style=\"display:none;\">\n",
              "        \n",
              "  <svg xmlns=\"http://www.w3.org/2000/svg\" height=\"24px\"viewBox=\"0 0 24 24\"\n",
              "       width=\"24px\">\n",
              "    <path d=\"M0 0h24v24H0V0z\" fill=\"none\"/>\n",
              "    <path d=\"M18.56 5.44l.94 2.06.94-2.06 2.06-.94-2.06-.94-.94-2.06-.94 2.06-2.06.94zm-11 1L8.5 8.5l.94-2.06 2.06-.94-2.06-.94L8.5 2.5l-.94 2.06-2.06.94zm10 10l.94 2.06.94-2.06 2.06-.94-2.06-.94-.94-2.06-.94 2.06-2.06.94z\"/><path d=\"M17.41 7.96l-1.37-1.37c-.4-.4-.92-.59-1.43-.59-.52 0-1.04.2-1.43.59L10.3 9.45l-7.72 7.72c-.78.78-.78 2.05 0 2.83L4 21.41c.39.39.9.59 1.41.59.51 0 1.02-.2 1.41-.59l7.78-7.78 2.81-2.81c.8-.78.8-2.07 0-2.86zM5.41 20L4 18.59l7.72-7.72 1.47 1.35L5.41 20z\"/>\n",
              "  </svg>\n",
              "      </button>\n",
              "      \n",
              "  <style>\n",
              "    .colab-df-container {\n",
              "      display:flex;\n",
              "      flex-wrap:wrap;\n",
              "      gap: 12px;\n",
              "    }\n",
              "\n",
              "    .colab-df-convert {\n",
              "      background-color: #E8F0FE;\n",
              "      border: none;\n",
              "      border-radius: 50%;\n",
              "      cursor: pointer;\n",
              "      display: none;\n",
              "      fill: #1967D2;\n",
              "      height: 32px;\n",
              "      padding: 0 0 0 0;\n",
              "      width: 32px;\n",
              "    }\n",
              "\n",
              "    .colab-df-convert:hover {\n",
              "      background-color: #E2EBFA;\n",
              "      box-shadow: 0px 1px 2px rgba(60, 64, 67, 0.3), 0px 1px 3px 1px rgba(60, 64, 67, 0.15);\n",
              "      fill: #174EA6;\n",
              "    }\n",
              "\n",
              "    [theme=dark] .colab-df-convert {\n",
              "      background-color: #3B4455;\n",
              "      fill: #D2E3FC;\n",
              "    }\n",
              "\n",
              "    [theme=dark] .colab-df-convert:hover {\n",
              "      background-color: #434B5C;\n",
              "      box-shadow: 0px 1px 3px 1px rgba(0, 0, 0, 0.15);\n",
              "      filter: drop-shadow(0px 1px 2px rgba(0, 0, 0, 0.3));\n",
              "      fill: #FFFFFF;\n",
              "    }\n",
              "  </style>\n",
              "\n",
              "      <script>\n",
              "        const buttonEl =\n",
              "          document.querySelector('#df-f00d98a2-049b-45c4-bafa-b18f6ab3fd9e button.colab-df-convert');\n",
              "        buttonEl.style.display =\n",
              "          google.colab.kernel.accessAllowed ? 'block' : 'none';\n",
              "\n",
              "        async function convertToInteractive(key) {\n",
              "          const element = document.querySelector('#df-f00d98a2-049b-45c4-bafa-b18f6ab3fd9e');\n",
              "          const dataTable =\n",
              "            await google.colab.kernel.invokeFunction('convertToInteractive',\n",
              "                                                     [key], {});\n",
              "          if (!dataTable) return;\n",
              "\n",
              "          const docLinkHtml = 'Like what you see? Visit the ' +\n",
              "            '<a target=\"_blank\" href=https://colab.research.google.com/notebooks/data_table.ipynb>data table notebook</a>'\n",
              "            + ' to learn more about interactive tables.';\n",
              "          element.innerHTML = '';\n",
              "          dataTable['output_type'] = 'display_data';\n",
              "          await google.colab.output.renderOutput(dataTable, element);\n",
              "          const docLink = document.createElement('div');\n",
              "          docLink.innerHTML = docLinkHtml;\n",
              "          element.appendChild(docLink);\n",
              "        }\n",
              "      </script>\n",
              "    </div>\n",
              "  </div>\n",
              "  "
            ]
          },
          "metadata": {},
          "execution_count": 7
        }
      ]
    },
    {
      "cell_type": "markdown",
      "source": [
        "##Check All informetion about Dataset"
      ],
      "metadata": {
        "id": "0H4hZEsgY2P7"
      }
    },
    {
      "cell_type": "code",
      "source": [
        "df1.dtypes"
      ],
      "metadata": {
        "colab": {
          "base_uri": "https://localhost:8080/"
        },
        "id": "I7o_kguQAvzE",
        "outputId": "319b12e4-b704-47cf-a2c2-17e5a3386fb2"
      },
      "execution_count": null,
      "outputs": [
        {
          "output_type": "execute_result",
          "data": {
            "text/plain": [
              "job_id                  int64\n",
              "title                  object\n",
              "location               object\n",
              "department             object\n",
              "salary_range           object\n",
              "company_profile        object\n",
              "description            object\n",
              "requirements           object\n",
              "benefits               object\n",
              "telecommuting           int64\n",
              "has_company_logo        int64\n",
              "has_questions           int64\n",
              "employment_type        object\n",
              "required_experience    object\n",
              "required_education     object\n",
              "industry               object\n",
              "function               object\n",
              "fraudulent              int64\n",
              "dtype: object"
            ]
          },
          "metadata": {},
          "execution_count": 8
        }
      ]
    },
    {
      "cell_type": "code",
      "source": [
        "df1.shape"
      ],
      "metadata": {
        "colab": {
          "base_uri": "https://localhost:8080/"
        },
        "id": "osNAOcKuITxc",
        "outputId": "4374d5e5-a4d3-4dbe-c011-2f8b2cb55486"
      },
      "execution_count": null,
      "outputs": [
        {
          "output_type": "execute_result",
          "data": {
            "text/plain": [
              "(17880, 18)"
            ]
          },
          "metadata": {},
          "execution_count": 9
        }
      ]
    },
    {
      "cell_type": "code",
      "source": [
        "# Check for NaN values in the data\n",
        "df1.isnull().sum().sort_values(ascending = False).loc[df1.dtypes == 'object']\n"
      ],
      "metadata": {
        "colab": {
          "base_uri": "https://localhost:8080/"
        },
        "id": "bMbIlzWwIZ3P",
        "outputId": "5f6036f4-2031-45f3-f025-b2e404ef0d51"
      },
      "execution_count": null,
      "outputs": [
        {
          "output_type": "execute_result",
          "data": {
            "text/plain": [
              "salary_range           15012\n",
              "department             11547\n",
              "required_education      8105\n",
              "benefits                7210\n",
              "required_experience     7050\n",
              "function                6455\n",
              "industry                4903\n",
              "employment_type         3471\n",
              "company_profile         3308\n",
              "requirements            2695\n",
              "location                 346\n",
              "description                1\n",
              "title                      0\n",
              "dtype: int64"
            ]
          },
          "metadata": {},
          "execution_count": 10
        }
      ]
    },
    {
      "cell_type": "code",
      "source": [
        "columns = df1.columns.tolist()\n",
        "columns = [c for c in columns if c not in [\"fraudulent\"]]\n",
        "target = \"fraudulent\"\n",
        "state = np.random.RandomState(42)\n",
        "X =df1[columns]\n",
        "Y = df1[\"fraudulent\"]\n",
        "\n",
        "from imblearn.under_sampling import RandomUnderSampler  \n",
        "\n",
        "under_sampler = RandomUnderSampler()\n",
        "X_rus, y_rus = under_sampler.fit_resample(X, Y)\n",
        "\n",
        "df1 = pd.DataFrame(X_rus) \n",
        "df2 = pd.DataFrame(y_rus)\n",
        "\n",
        "result = pd.concat([df1, df2], axis=1, join='inner')\n",
        "display(result)\n",
        "df1=result;"
      ],
      "metadata": {
        "colab": {
          "base_uri": "https://localhost:8080/",
          "height": 1000
        },
        "id": "7xy1p0LFsJzm",
        "outputId": "4e495d87-cb75-4cbe-9c51-630200dc3d96"
      },
      "execution_count": null,
      "outputs": [
        {
          "output_type": "display_data",
          "data": {
            "text/plain": [
              "      job_id                                       title             location  \\\n",
              "0       8398                    Senior Network Engineer        BE, , Brussels   \n",
              "1       4103                              Product Intern         GB, , London   \n",
              "2       4685                Freelance Danish speaker (m)       DE, BE, Berlin   \n",
              "3       8008                   Web Designer - Birmingham            GB, BIR,    \n",
              "4       2880                  Sr. .NET / Azure Developer    US, CA, San Diego   \n",
              "...      ...                                         ...                  ...   \n",
              "1727   17828  Student Positions Part-Time and Full-Time.  US, CA, Los Angeles   \n",
              "1728   17829                             Sales Associate      AU, NSW, Sydney   \n",
              "1729   17830                           Android Developer       PL, MZ, Warsaw   \n",
              "1730   17831                              Payroll Clerk      US, NY, New York   \n",
              "1731   17832                             Furniture mover      US, IL, Chicago   \n",
              "\n",
              "               department salary_range  \\\n",
              "0                     NaN          NaN   \n",
              "1                 Product          NaN   \n",
              "2               Didactics          NaN   \n",
              "3             Development          NaN   \n",
              "4                     NaN          NaN   \n",
              "...                   ...          ...   \n",
              "1727                  NaN          NaN   \n",
              "1728  Sales and Marketing          NaN   \n",
              "1729                  NaN          NaN   \n",
              "1730                  NaN          NaN   \n",
              "1731                  NaN          NaN   \n",
              "\n",
              "                                        company_profile  \\\n",
              "0     EUROPEAN DYNAMICS (#URL_c66532ffa1ce76ab447da6...   \n",
              "1     Want to build a 21st century financial service...   \n",
              "2     Babbel enables anyone to learn languages in an...   \n",
              "3     The Beans Group is a media company that exists...   \n",
              "4     Embarke is increasing email opens and clicks f...   \n",
              "...                                                 ...   \n",
              "1727                                                NaN   \n",
              "1728                                                NaN   \n",
              "1729                                                NaN   \n",
              "1730                                                NaN   \n",
              "1731  Anthony Warren is a Marketing and Advertising ...   \n",
              "\n",
              "                                            description  \\\n",
              "0     We currently have a vacancy for a Senior Netwo...   \n",
              "1     TransferWise is a fast growing startup helping...   \n",
              "2     We are looking for a male speaker for Danish s...   \n",
              "3     Award-Winning Technology Media Company Seek a ...   \n",
              "4     ABOUT EMBARKEEmbarke performs behavioral analy...   \n",
              "...                                                 ...   \n",
              "1727  Student Positions Part-Time and Full-Time.You ...   \n",
              "1728  LEARN TO EARN AN EXECUTIVE LEVEL INCOMEFULL TR...   \n",
              "1729  inFullMobile Sp. z o.o. is a mobile software d...   \n",
              "1730  JOB DESCRIPTIONWe are seeking a full time payr...   \n",
              "1731  earn $500 to $1000 a week as a mover.  Must ha...   \n",
              "\n",
              "                                           requirements  \\\n",
              "0     Your skills:University degree in information t...   \n",
              "1     Do you?- Enjoy problem solving - Find meaning ...   \n",
              "2     Previous experience as a speaker, actor or sin...   \n",
              "3     Be comfortable taking a data-led approach to d...   \n",
              "4     10+ years of experience, or equivalentEntrepre...   \n",
              "...                                                 ...   \n",
              "1727                                                NaN   \n",
              "1728  What You Can Do. • Have the potential to earn ...   \n",
              "1729  • A proven track record in Android / JAVA proj...   \n",
              "1730  JOB REQUIREMENTS•    High school diploma or eq...   \n",
              "1731           Good liftflexibile schedulegeat attitude   \n",
              "\n",
              "                                               benefits  telecommuting  \\\n",
              "0     Our offer: If you are seeking a career in an e...              0   \n",
              "1     This internship is paid minimum wage, but we s...              0   \n",
              "2     A flexible working scheduleWork from home or i...              0   \n",
              "3     Life at The Beans GroupThere are many things t...              0   \n",
              "4     Learn more about us here.Values – Our culture ...              0   \n",
              "...                                                 ...            ...   \n",
              "1727                                                NaN              0   \n",
              "1728  Who We Are We are a Global Leadership Developm...              0   \n",
              "1729  attractive salary (adequate to the candidate s...              0   \n",
              "1730  We offer a competitive salary and benefits pac...              0   \n",
              "1731                                                NaN              0   \n",
              "\n",
              "      has_company_logo  has_questions employment_type required_experience  \\\n",
              "0                    1              0       Full-time           Associate   \n",
              "1                    1              1       Full-time          Internship   \n",
              "2                    1              1           Other                 NaN   \n",
              "3                    1              0       Full-time           Associate   \n",
              "4                    1              1             NaN                 NaN   \n",
              "...                ...            ...             ...                 ...   \n",
              "1727                 0              0       Part-time                 NaN   \n",
              "1728                 0              1             NaN                 NaN   \n",
              "1729                 0              0             NaN                 NaN   \n",
              "1730                 0              0       Full-time                 NaN   \n",
              "1731                 1              0             NaN                 NaN   \n",
              "\n",
              "             required_education                   industry  \\\n",
              "0             Bachelor's Degree          Computer Software   \n",
              "1                           NaN                   Internet   \n",
              "2                           NaN                 E-Learning   \n",
              "3     High School or equivalent  Marketing and Advertising   \n",
              "4                           NaN                        NaN   \n",
              "...                         ...                        ...   \n",
              "1727                        NaN                        NaN   \n",
              "1728                        NaN                        NaN   \n",
              "1729                        NaN                        NaN   \n",
              "1730                        NaN          Apparel & Fashion   \n",
              "1731                        NaN                        NaN   \n",
              "\n",
              "                    function  fraudulent  \n",
              "0     Information Technology           0  \n",
              "1         Product Management           0  \n",
              "2                      Other           0  \n",
              "3                 Production           0  \n",
              "4                        NaN           0  \n",
              "...                      ...         ...  \n",
              "1727                     NaN           1  \n",
              "1728                     NaN           1  \n",
              "1729                     NaN           1  \n",
              "1730     Accounting/Auditing           1  \n",
              "1731                     NaN           1  \n",
              "\n",
              "[1732 rows x 18 columns]"
            ],
            "text/html": [
              "\n",
              "  <div id=\"df-1d5bcf05-ee3d-4339-9e94-2a497644da0a\">\n",
              "    <div class=\"colab-df-container\">\n",
              "      <div>\n",
              "<style scoped>\n",
              "    .dataframe tbody tr th:only-of-type {\n",
              "        vertical-align: middle;\n",
              "    }\n",
              "\n",
              "    .dataframe tbody tr th {\n",
              "        vertical-align: top;\n",
              "    }\n",
              "\n",
              "    .dataframe thead th {\n",
              "        text-align: right;\n",
              "    }\n",
              "</style>\n",
              "<table border=\"1\" class=\"dataframe\">\n",
              "  <thead>\n",
              "    <tr style=\"text-align: right;\">\n",
              "      <th></th>\n",
              "      <th>job_id</th>\n",
              "      <th>title</th>\n",
              "      <th>location</th>\n",
              "      <th>department</th>\n",
              "      <th>salary_range</th>\n",
              "      <th>company_profile</th>\n",
              "      <th>description</th>\n",
              "      <th>requirements</th>\n",
              "      <th>benefits</th>\n",
              "      <th>telecommuting</th>\n",
              "      <th>has_company_logo</th>\n",
              "      <th>has_questions</th>\n",
              "      <th>employment_type</th>\n",
              "      <th>required_experience</th>\n",
              "      <th>required_education</th>\n",
              "      <th>industry</th>\n",
              "      <th>function</th>\n",
              "      <th>fraudulent</th>\n",
              "    </tr>\n",
              "  </thead>\n",
              "  <tbody>\n",
              "    <tr>\n",
              "      <th>0</th>\n",
              "      <td>8398</td>\n",
              "      <td>Senior Network Engineer</td>\n",
              "      <td>BE, , Brussels</td>\n",
              "      <td>NaN</td>\n",
              "      <td>NaN</td>\n",
              "      <td>EUROPEAN DYNAMICS (#URL_c66532ffa1ce76ab447da6...</td>\n",
              "      <td>We currently have a vacancy for a Senior Netwo...</td>\n",
              "      <td>Your skills:University degree in information t...</td>\n",
              "      <td>Our offer: If you are seeking a career in an e...</td>\n",
              "      <td>0</td>\n",
              "      <td>1</td>\n",
              "      <td>0</td>\n",
              "      <td>Full-time</td>\n",
              "      <td>Associate</td>\n",
              "      <td>Bachelor's Degree</td>\n",
              "      <td>Computer Software</td>\n",
              "      <td>Information Technology</td>\n",
              "      <td>0</td>\n",
              "    </tr>\n",
              "    <tr>\n",
              "      <th>1</th>\n",
              "      <td>4103</td>\n",
              "      <td>Product Intern</td>\n",
              "      <td>GB, , London</td>\n",
              "      <td>Product</td>\n",
              "      <td>NaN</td>\n",
              "      <td>Want to build a 21st century financial service...</td>\n",
              "      <td>TransferWise is a fast growing startup helping...</td>\n",
              "      <td>Do you?- Enjoy problem solving - Find meaning ...</td>\n",
              "      <td>This internship is paid minimum wage, but we s...</td>\n",
              "      <td>0</td>\n",
              "      <td>1</td>\n",
              "      <td>1</td>\n",
              "      <td>Full-time</td>\n",
              "      <td>Internship</td>\n",
              "      <td>NaN</td>\n",
              "      <td>Internet</td>\n",
              "      <td>Product Management</td>\n",
              "      <td>0</td>\n",
              "    </tr>\n",
              "    <tr>\n",
              "      <th>2</th>\n",
              "      <td>4685</td>\n",
              "      <td>Freelance Danish speaker (m)</td>\n",
              "      <td>DE, BE, Berlin</td>\n",
              "      <td>Didactics</td>\n",
              "      <td>NaN</td>\n",
              "      <td>Babbel enables anyone to learn languages in an...</td>\n",
              "      <td>We are looking for a male speaker for Danish s...</td>\n",
              "      <td>Previous experience as a speaker, actor or sin...</td>\n",
              "      <td>A flexible working scheduleWork from home or i...</td>\n",
              "      <td>0</td>\n",
              "      <td>1</td>\n",
              "      <td>1</td>\n",
              "      <td>Other</td>\n",
              "      <td>NaN</td>\n",
              "      <td>NaN</td>\n",
              "      <td>E-Learning</td>\n",
              "      <td>Other</td>\n",
              "      <td>0</td>\n",
              "    </tr>\n",
              "    <tr>\n",
              "      <th>3</th>\n",
              "      <td>8008</td>\n",
              "      <td>Web Designer - Birmingham</td>\n",
              "      <td>GB, BIR,</td>\n",
              "      <td>Development</td>\n",
              "      <td>NaN</td>\n",
              "      <td>The Beans Group is a media company that exists...</td>\n",
              "      <td>Award-Winning Technology Media Company Seek a ...</td>\n",
              "      <td>Be comfortable taking a data-led approach to d...</td>\n",
              "      <td>Life at The Beans GroupThere are many things t...</td>\n",
              "      <td>0</td>\n",
              "      <td>1</td>\n",
              "      <td>0</td>\n",
              "      <td>Full-time</td>\n",
              "      <td>Associate</td>\n",
              "      <td>High School or equivalent</td>\n",
              "      <td>Marketing and Advertising</td>\n",
              "      <td>Production</td>\n",
              "      <td>0</td>\n",
              "    </tr>\n",
              "    <tr>\n",
              "      <th>4</th>\n",
              "      <td>2880</td>\n",
              "      <td>Sr. .NET / Azure Developer</td>\n",
              "      <td>US, CA, San Diego</td>\n",
              "      <td>NaN</td>\n",
              "      <td>NaN</td>\n",
              "      <td>Embarke is increasing email opens and clicks f...</td>\n",
              "      <td>ABOUT EMBARKEEmbarke performs behavioral analy...</td>\n",
              "      <td>10+ years of experience, or equivalentEntrepre...</td>\n",
              "      <td>Learn more about us here.Values – Our culture ...</td>\n",
              "      <td>0</td>\n",
              "      <td>1</td>\n",
              "      <td>1</td>\n",
              "      <td>NaN</td>\n",
              "      <td>NaN</td>\n",
              "      <td>NaN</td>\n",
              "      <td>NaN</td>\n",
              "      <td>NaN</td>\n",
              "      <td>0</td>\n",
              "    </tr>\n",
              "    <tr>\n",
              "      <th>...</th>\n",
              "      <td>...</td>\n",
              "      <td>...</td>\n",
              "      <td>...</td>\n",
              "      <td>...</td>\n",
              "      <td>...</td>\n",
              "      <td>...</td>\n",
              "      <td>...</td>\n",
              "      <td>...</td>\n",
              "      <td>...</td>\n",
              "      <td>...</td>\n",
              "      <td>...</td>\n",
              "      <td>...</td>\n",
              "      <td>...</td>\n",
              "      <td>...</td>\n",
              "      <td>...</td>\n",
              "      <td>...</td>\n",
              "      <td>...</td>\n",
              "      <td>...</td>\n",
              "    </tr>\n",
              "    <tr>\n",
              "      <th>1727</th>\n",
              "      <td>17828</td>\n",
              "      <td>Student Positions Part-Time and Full-Time.</td>\n",
              "      <td>US, CA, Los Angeles</td>\n",
              "      <td>NaN</td>\n",
              "      <td>NaN</td>\n",
              "      <td>NaN</td>\n",
              "      <td>Student Positions Part-Time and Full-Time.You ...</td>\n",
              "      <td>NaN</td>\n",
              "      <td>NaN</td>\n",
              "      <td>0</td>\n",
              "      <td>0</td>\n",
              "      <td>0</td>\n",
              "      <td>Part-time</td>\n",
              "      <td>NaN</td>\n",
              "      <td>NaN</td>\n",
              "      <td>NaN</td>\n",
              "      <td>NaN</td>\n",
              "      <td>1</td>\n",
              "    </tr>\n",
              "    <tr>\n",
              "      <th>1728</th>\n",
              "      <td>17829</td>\n",
              "      <td>Sales Associate</td>\n",
              "      <td>AU, NSW, Sydney</td>\n",
              "      <td>Sales and Marketing</td>\n",
              "      <td>NaN</td>\n",
              "      <td>NaN</td>\n",
              "      <td>LEARN TO EARN AN EXECUTIVE LEVEL INCOMEFULL TR...</td>\n",
              "      <td>What You Can Do. • Have the potential to earn ...</td>\n",
              "      <td>Who We Are We are a Global Leadership Developm...</td>\n",
              "      <td>0</td>\n",
              "      <td>0</td>\n",
              "      <td>1</td>\n",
              "      <td>NaN</td>\n",
              "      <td>NaN</td>\n",
              "      <td>NaN</td>\n",
              "      <td>NaN</td>\n",
              "      <td>NaN</td>\n",
              "      <td>1</td>\n",
              "    </tr>\n",
              "    <tr>\n",
              "      <th>1729</th>\n",
              "      <td>17830</td>\n",
              "      <td>Android Developer</td>\n",
              "      <td>PL, MZ, Warsaw</td>\n",
              "      <td>NaN</td>\n",
              "      <td>NaN</td>\n",
              "      <td>NaN</td>\n",
              "      <td>inFullMobile Sp. z o.o. is a mobile software d...</td>\n",
              "      <td>• A proven track record in Android / JAVA proj...</td>\n",
              "      <td>attractive salary (adequate to the candidate s...</td>\n",
              "      <td>0</td>\n",
              "      <td>0</td>\n",
              "      <td>0</td>\n",
              "      <td>NaN</td>\n",
              "      <td>NaN</td>\n",
              "      <td>NaN</td>\n",
              "      <td>NaN</td>\n",
              "      <td>NaN</td>\n",
              "      <td>1</td>\n",
              "    </tr>\n",
              "    <tr>\n",
              "      <th>1730</th>\n",
              "      <td>17831</td>\n",
              "      <td>Payroll Clerk</td>\n",
              "      <td>US, NY, New York</td>\n",
              "      <td>NaN</td>\n",
              "      <td>NaN</td>\n",
              "      <td>NaN</td>\n",
              "      <td>JOB DESCRIPTIONWe are seeking a full time payr...</td>\n",
              "      <td>JOB REQUIREMENTS•    High school diploma or eq...</td>\n",
              "      <td>We offer a competitive salary and benefits pac...</td>\n",
              "      <td>0</td>\n",
              "      <td>0</td>\n",
              "      <td>0</td>\n",
              "      <td>Full-time</td>\n",
              "      <td>NaN</td>\n",
              "      <td>NaN</td>\n",
              "      <td>Apparel &amp; Fashion</td>\n",
              "      <td>Accounting/Auditing</td>\n",
              "      <td>1</td>\n",
              "    </tr>\n",
              "    <tr>\n",
              "      <th>1731</th>\n",
              "      <td>17832</td>\n",
              "      <td>Furniture mover</td>\n",
              "      <td>US, IL, Chicago</td>\n",
              "      <td>NaN</td>\n",
              "      <td>NaN</td>\n",
              "      <td>Anthony Warren is a Marketing and Advertising ...</td>\n",
              "      <td>earn $500 to $1000 a week as a mover.  Must ha...</td>\n",
              "      <td>Good liftflexibile schedulegeat attitude</td>\n",
              "      <td>NaN</td>\n",
              "      <td>0</td>\n",
              "      <td>1</td>\n",
              "      <td>0</td>\n",
              "      <td>NaN</td>\n",
              "      <td>NaN</td>\n",
              "      <td>NaN</td>\n",
              "      <td>NaN</td>\n",
              "      <td>NaN</td>\n",
              "      <td>1</td>\n",
              "    </tr>\n",
              "  </tbody>\n",
              "</table>\n",
              "<p>1732 rows × 18 columns</p>\n",
              "</div>\n",
              "      <button class=\"colab-df-convert\" onclick=\"convertToInteractive('df-1d5bcf05-ee3d-4339-9e94-2a497644da0a')\"\n",
              "              title=\"Convert this dataframe to an interactive table.\"\n",
              "              style=\"display:none;\">\n",
              "        \n",
              "  <svg xmlns=\"http://www.w3.org/2000/svg\" height=\"24px\"viewBox=\"0 0 24 24\"\n",
              "       width=\"24px\">\n",
              "    <path d=\"M0 0h24v24H0V0z\" fill=\"none\"/>\n",
              "    <path d=\"M18.56 5.44l.94 2.06.94-2.06 2.06-.94-2.06-.94-.94-2.06-.94 2.06-2.06.94zm-11 1L8.5 8.5l.94-2.06 2.06-.94-2.06-.94L8.5 2.5l-.94 2.06-2.06.94zm10 10l.94 2.06.94-2.06 2.06-.94-2.06-.94-.94-2.06-.94 2.06-2.06.94z\"/><path d=\"M17.41 7.96l-1.37-1.37c-.4-.4-.92-.59-1.43-.59-.52 0-1.04.2-1.43.59L10.3 9.45l-7.72 7.72c-.78.78-.78 2.05 0 2.83L4 21.41c.39.39.9.59 1.41.59.51 0 1.02-.2 1.41-.59l7.78-7.78 2.81-2.81c.8-.78.8-2.07 0-2.86zM5.41 20L4 18.59l7.72-7.72 1.47 1.35L5.41 20z\"/>\n",
              "  </svg>\n",
              "      </button>\n",
              "      \n",
              "  <style>\n",
              "    .colab-df-container {\n",
              "      display:flex;\n",
              "      flex-wrap:wrap;\n",
              "      gap: 12px;\n",
              "    }\n",
              "\n",
              "    .colab-df-convert {\n",
              "      background-color: #E8F0FE;\n",
              "      border: none;\n",
              "      border-radius: 50%;\n",
              "      cursor: pointer;\n",
              "      display: none;\n",
              "      fill: #1967D2;\n",
              "      height: 32px;\n",
              "      padding: 0 0 0 0;\n",
              "      width: 32px;\n",
              "    }\n",
              "\n",
              "    .colab-df-convert:hover {\n",
              "      background-color: #E2EBFA;\n",
              "      box-shadow: 0px 1px 2px rgba(60, 64, 67, 0.3), 0px 1px 3px 1px rgba(60, 64, 67, 0.15);\n",
              "      fill: #174EA6;\n",
              "    }\n",
              "\n",
              "    [theme=dark] .colab-df-convert {\n",
              "      background-color: #3B4455;\n",
              "      fill: #D2E3FC;\n",
              "    }\n",
              "\n",
              "    [theme=dark] .colab-df-convert:hover {\n",
              "      background-color: #434B5C;\n",
              "      box-shadow: 0px 1px 3px 1px rgba(0, 0, 0, 0.15);\n",
              "      filter: drop-shadow(0px 1px 2px rgba(0, 0, 0, 0.3));\n",
              "      fill: #FFFFFF;\n",
              "    }\n",
              "  </style>\n",
              "\n",
              "      <script>\n",
              "        const buttonEl =\n",
              "          document.querySelector('#df-1d5bcf05-ee3d-4339-9e94-2a497644da0a button.colab-df-convert');\n",
              "        buttonEl.style.display =\n",
              "          google.colab.kernel.accessAllowed ? 'block' : 'none';\n",
              "\n",
              "        async function convertToInteractive(key) {\n",
              "          const element = document.querySelector('#df-1d5bcf05-ee3d-4339-9e94-2a497644da0a');\n",
              "          const dataTable =\n",
              "            await google.colab.kernel.invokeFunction('convertToInteractive',\n",
              "                                                     [key], {});\n",
              "          if (!dataTable) return;\n",
              "\n",
              "          const docLinkHtml = 'Like what you see? Visit the ' +\n",
              "            '<a target=\"_blank\" href=https://colab.research.google.com/notebooks/data_table.ipynb>data table notebook</a>'\n",
              "            + ' to learn more about interactive tables.';\n",
              "          element.innerHTML = '';\n",
              "          dataTable['output_type'] = 'display_data';\n",
              "          await google.colab.output.renderOutput(dataTable, element);\n",
              "          const docLink = document.createElement('div');\n",
              "          docLink.innerHTML = docLinkHtml;\n",
              "          element.appendChild(docLink);\n",
              "        }\n",
              "      </script>\n",
              "    </div>\n",
              "  </div>\n",
              "  "
            ]
          },
          "metadata": {}
        }
      ]
    },
    {
      "cell_type": "markdown",
      "source": [
        "## Under Sampling to balance Data"
      ],
      "metadata": {
        "id": "yk0G5QOouzop"
      }
    },
    {
      "cell_type": "code",
      "source": [
        "labels = 'Real', 'Fake'\n",
        "sizes = [df1.fraudulent[df1['fraudulent']== 0].count(), df1.fraudulent[df1['fraudulent']== 1].count()]\n",
        "explode = (0, 0.1)\n",
        "fig1, ax1 = plt.subplots(figsize=(12, 10))\n",
        "ax1.pie(sizes, explode=explode, labels=labels, autopct='%1.1f%%',\n",
        "        shadow=True, startangle=180)\n",
        "ax1.axis('equal')\n",
        "plt.title(\"Proportion of Fraudulent\", size = 7)\n",
        "plt.show()"
      ],
      "metadata": {
        "colab": {
          "base_uri": "https://localhost:8080/",
          "height": 589
        },
        "id": "DwwgHDWWsKwi",
        "outputId": "b0cf7d00-023b-4fa7-95e0-2436947fb8bc"
      },
      "execution_count": null,
      "outputs": [
        {
          "output_type": "display_data",
          "data": {
            "text/plain": [
              "<Figure size 864x720 with 1 Axes>"
            ],
            "image/png": "[encoded data removed]"
          },
          "metadata": {}
        }
      ]
    },
    {
      "cell_type": "code",
      "source": [
        "# Replace NaN values with a blank entry\n",
        "df1.fillna('', inplace = True)"
      ],
      "metadata": {
        "id": "_COu-guWIhaM"
      },
      "execution_count": null,
      "outputs": []
    },
    {
      "cell_type": "markdown",
      "source": [
        "# Check null Values"
      ],
      "metadata": {
        "id": "JUoW_rrqZA2A"
      }
    },
    {
      "cell_type": "code",
      "source": [
        "# Check for NaN values in the data\n",
        "df1.isnull().sum().sort_values(ascending = False).loc[df1.dtypes == 'object']\n"
      ],
      "metadata": {
        "colab": {
          "base_uri": "https://localhost:8080/"
        },
        "id": "RCpYsyTwIp9u",
        "outputId": "bb4f0d45-952f-4dec-b5a4-056112dada3e"
      },
      "execution_count": null,
      "outputs": [
        {
          "output_type": "execute_result",
          "data": {
            "text/plain": [
              "title                  0\n",
              "function               0\n",
              "industry               0\n",
              "required_education     0\n",
              "required_experience    0\n",
              "employment_type        0\n",
              "benefits               0\n",
              "requirements           0\n",
              "description            0\n",
              "company_profile        0\n",
              "salary_range           0\n",
              "department             0\n",
              "location               0\n",
              "dtype: int64"
            ]
          },
          "metadata": {},
          "execution_count": 15
        }
      ]
    },
    {
      "cell_type": "markdown",
      "source": [
        "##### Demo"
      ],
      "metadata": {
        "id": "ogvGO75LZJSc"
      }
    },
    {
      "cell_type": "code",
      "source": [
        "A=df1['description'][0]"
      ],
      "metadata": {
        "id": "IC6UBzIcIveH"
      },
      "execution_count": null,
      "outputs": []
    },
    {
      "cell_type": "code",
      "source": [
        "B=df1['requirements'][0]"
      ],
      "metadata": {
        "id": "JPgT3XfFJL9i"
      },
      "execution_count": null,
      "outputs": []
    },
    {
      "cell_type": "code",
      "source": [
        "A+''+str(print(\"---\"))+B"
      ],
      "metadata": {
        "colab": {
          "base_uri": "https://localhost:8080/",
          "height": 209
        },
        "id": "z3sIZUrnJRqk",
        "outputId": "1aff3a3c-74a3-488f-905b-790fe57d1eac"
      },
      "execution_count": null,
      "outputs": [
        {
          "output_type": "stream",
          "name": "stdout",
          "text": [
            "---\n"
          ]
        },
        {
          "output_type": "execute_result",
          "data": {
            "text/plain": [
              "'Food52, a fast-growing, James Beard Award-winning online food community and crowd-sourced and curated recipe hub, is currently interviewing full- and part-time unpaid interns to work in a small team of editors, executives, and developers in its New York City headquarters.Reproducing and/or repackaging existing Food52 content for a number of partner sites, such as Huffington Post, Yahoo, Buzzfeed, and more in their various content management systemsResearching blogs and websites for the Provisions by Food52 Affiliate ProgramAssisting in day-to-day affiliate program support, such as screening affiliates and assisting in any affiliate inquiriesSupporting with PR &amp; Events when neededHelping with office administrative work, such as filing, mailing, and preparing for meetingsWorking with developers to document bugs and suggest improvements to the siteSupporting the marketing and executive staffNoneExperience with content management systems a major plus (any blogging counts!)Familiar with the Food52 editorial voice and aestheticLoves food, appreciates the importance of home cooking and cooking with the seasonsMeticulous editor, perfectionist, obsessive attention to detail, maddened by typos and broken links, delighted by finding and fixing themCheerful under pressureExcellent communication skillsA+ multi-tasker and juggler of responsibilities big and smallInterested in and engaged with social media like Twitter, Facebook, and PinterestLoves problem-solving and collaborating to drive Food52 forwardThinks big picture but pitches in on the nitty gritty of running a small company (dishes, shopping, administrative support)Comfortable with the realities of working for a startup: being on call on evenings and weekends, and working long hours'"
            ],
            "application/vnd.google.colaboratory.intrinsic+json": {
              "type": "string"
            }
          },
          "metadata": {},
          "execution_count": 44
        }
      ]
    },
    {
      "cell_type": "code",
      "source": [
        "JobPostDF_Final = df1.copy()\n",
        "JobPostDF_Final.head()"
      ],
      "metadata": {
        "colab": {
          "base_uri": "https://localhost:8080/",
          "height": 600
        },
        "id": "GAdJY-TRJguG",
        "outputId": "fd9010c9-4e87-4b65-adad-04e938408a0d"
      },
      "execution_count": null,
      "outputs": [
        {
          "output_type": "execute_result",
          "data": {
            "text/plain": [
              "   job_id                         title           location   department  \\\n",
              "0    8398      Senior Network Engineer      BE, , Brussels                \n",
              "1    4103                Product Intern       GB, , London      Product   \n",
              "2    4685  Freelance Danish speaker (m)     DE, BE, Berlin    Didactics   \n",
              "3    8008     Web Designer - Birmingham          GB, BIR,   Development   \n",
              "4    2880    Sr. .NET / Azure Developer  US, CA, San Diego                \n",
              "\n",
              "  salary_range                                    company_profile  \\\n",
              "0               EUROPEAN DYNAMICS (#URL_c66532ffa1ce76ab447da6...   \n",
              "1               Want to build a 21st century financial service...   \n",
              "2               Babbel enables anyone to learn languages in an...   \n",
              "3               The Beans Group is a media company that exists...   \n",
              "4               Embarke is increasing email opens and clicks f...   \n",
              "\n",
              "                                         description  \\\n",
              "0  We currently have a vacancy for a Senior Netwo...   \n",
              "1  TransferWise is a fast growing startup helping...   \n",
              "2  We are looking for a male speaker for Danish s...   \n",
              "3  Award-Winning Technology Media Company Seek a ...   \n",
              "4  ABOUT EMBARKEEmbarke performs behavioral analy...   \n",
              "\n",
              "                                        requirements  \\\n",
              "0  Your skills:University degree in information t...   \n",
              "1  Do you?- Enjoy problem solving - Find meaning ...   \n",
              "2  Previous experience as a speaker, actor or sin...   \n",
              "3  Be comfortable taking a data-led approach to d...   \n",
              "4  10+ years of experience, or equivalentEntrepre...   \n",
              "\n",
              "                                            benefits  telecommuting  \\\n",
              "0  Our offer: If you are seeking a career in an e...              0   \n",
              "1  This internship is paid minimum wage, but we s...              0   \n",
              "2  A flexible working scheduleWork from home or i...              0   \n",
              "3  Life at The Beans GroupThere are many things t...              0   \n",
              "4  Learn more about us here.Values – Our culture ...              0   \n",
              "\n",
              "   has_company_logo  has_questions employment_type required_experience  \\\n",
              "0                 1              0       Full-time           Associate   \n",
              "1                 1              1       Full-time          Internship   \n",
              "2                 1              1           Other                       \n",
              "3                 1              0       Full-time           Associate   \n",
              "4                 1              1                                       \n",
              "\n",
              "          required_education                   industry  \\\n",
              "0          Bachelor's Degree          Computer Software   \n",
              "1                                              Internet   \n",
              "2                                            E-Learning   \n",
              "3  High School or equivalent  Marketing and Advertising   \n",
              "4                                                         \n",
              "\n",
              "                 function  fraudulent  \n",
              "0  Information Technology           0  \n",
              "1      Product Management           0  \n",
              "2                   Other           0  \n",
              "3              Production           0  \n",
              "4                                   0  "
            ],
            "text/html": [
              "\n",
              "  <div id=\"df-893255bc-009a-44a8-a0d8-e7a304b63027\">\n",
              "    <div class=\"colab-df-container\">\n",
              "      <div>\n",
              "<style scoped>\n",
              "    .dataframe tbody tr th:only-of-type {\n",
              "        vertical-align: middle;\n",
              "    }\n",
              "\n",
              "    .dataframe tbody tr th {\n",
              "        vertical-align: top;\n",
              "    }\n",
              "\n",
              "    .dataframe thead th {\n",
              "        text-align: right;\n",
              "    }\n",
              "</style>\n",
              "<table border=\"1\" class=\"dataframe\">\n",
              "  <thead>\n",
              "    <tr style=\"text-align: right;\">\n",
              "      <th></th>\n",
              "      <th>job_id</th>\n",
              "      <th>title</th>\n",
              "      <th>location</th>\n",
              "      <th>department</th>\n",
              "      <th>salary_range</th>\n",
              "      <th>company_profile</th>\n",
              "      <th>description</th>\n",
              "      <th>requirements</th>\n",
              "      <th>benefits</th>\n",
              "      <th>telecommuting</th>\n",
              "      <th>has_company_logo</th>\n",
              "      <th>has_questions</th>\n",
              "      <th>employment_type</th>\n",
              "      <th>required_experience</th>\n",
              "      <th>required_education</th>\n",
              "      <th>industry</th>\n",
              "      <th>function</th>\n",
              "      <th>fraudulent</th>\n",
              "    </tr>\n",
              "  </thead>\n",
              "  <tbody>\n",
              "    <tr>\n",
              "      <th>0</th>\n",
              "      <td>8398</td>\n",
              "      <td>Senior Network Engineer</td>\n",
              "      <td>BE, , Brussels</td>\n",
              "      <td></td>\n",
              "      <td></td>\n",
              "      <td>EUROPEAN DYNAMICS (#URL_c66532ffa1ce76ab447da6...</td>\n",
              "      <td>We currently have a vacancy for a Senior Netwo...</td>\n",
              "      <td>Your skills:University degree in information t...</td>\n",
              "      <td>Our offer: If you are seeking a career in an e...</td>\n",
              "      <td>0</td>\n",
              "      <td>1</td>\n",
              "      <td>0</td>\n",
              "      <td>Full-time</td>\n",
              "      <td>Associate</td>\n",
              "      <td>Bachelor's Degree</td>\n",
              "      <td>Computer Software</td>\n",
              "      <td>Information Technology</td>\n",
              "      <td>0</td>\n",
              "    </tr>\n",
              "    <tr>\n",
              "      <th>1</th>\n",
              "      <td>4103</td>\n",
              "      <td>Product Intern</td>\n",
              "      <td>GB, , London</td>\n",
              "      <td>Product</td>\n",
              "      <td></td>\n",
              "      <td>Want to build a 21st century financial service...</td>\n",
              "      <td>TransferWise is a fast growing startup helping...</td>\n",
              "      <td>Do you?- Enjoy problem solving - Find meaning ...</td>\n",
              "      <td>This internship is paid minimum wage, but we s...</td>\n",
              "      <td>0</td>\n",
              "      <td>1</td>\n",
              "      <td>1</td>\n",
              "      <td>Full-time</td>\n",
              "      <td>Internship</td>\n",
              "      <td></td>\n",
              "      <td>Internet</td>\n",
              "      <td>Product Management</td>\n",
              "      <td>0</td>\n",
              "    </tr>\n",
              "    <tr>\n",
              "      <th>2</th>\n",
              "      <td>4685</td>\n",
              "      <td>Freelance Danish speaker (m)</td>\n",
              "      <td>DE, BE, Berlin</td>\n",
              "      <td>Didactics</td>\n",
              "      <td></td>\n",
              "      <td>Babbel enables anyone to learn languages in an...</td>\n",
              "      <td>We are looking for a male speaker for Danish s...</td>\n",
              "      <td>Previous experience as a speaker, actor or sin...</td>\n",
              "      <td>A flexible working scheduleWork from home or i...</td>\n",
              "      <td>0</td>\n",
              "      <td>1</td>\n",
              "      <td>1</td>\n",
              "      <td>Other</td>\n",
              "      <td></td>\n",
              "      <td></td>\n",
              "      <td>E-Learning</td>\n",
              "      <td>Other</td>\n",
              "      <td>0</td>\n",
              "    </tr>\n",
              "    <tr>\n",
              "      <th>3</th>\n",
              "      <td>8008</td>\n",
              "      <td>Web Designer - Birmingham</td>\n",
              "      <td>GB, BIR,</td>\n",
              "      <td>Development</td>\n",
              "      <td></td>\n",
              "      <td>The Beans Group is a media company that exists...</td>\n",
              "      <td>Award-Winning Technology Media Company Seek a ...</td>\n",
              "      <td>Be comfortable taking a data-led approach to d...</td>\n",
              "      <td>Life at The Beans GroupThere are many things t...</td>\n",
              "      <td>0</td>\n",
              "      <td>1</td>\n",
              "      <td>0</td>\n",
              "      <td>Full-time</td>\n",
              "      <td>Associate</td>\n",
              "      <td>High School or equivalent</td>\n",
              "      <td>Marketing and Advertising</td>\n",
              "      <td>Production</td>\n",
              "      <td>0</td>\n",
              "    </tr>\n",
              "    <tr>\n",
              "      <th>4</th>\n",
              "      <td>2880</td>\n",
              "      <td>Sr. .NET / Azure Developer</td>\n",
              "      <td>US, CA, San Diego</td>\n",
              "      <td></td>\n",
              "      <td></td>\n",
              "      <td>Embarke is increasing email opens and clicks f...</td>\n",
              "      <td>ABOUT EMBARKEEmbarke performs behavioral analy...</td>\n",
              "      <td>10+ years of experience, or equivalentEntrepre...</td>\n",
              "      <td>Learn more about us here.Values – Our culture ...</td>\n",
              "      <td>0</td>\n",
              "      <td>1</td>\n",
              "      <td>1</td>\n",
              "      <td></td>\n",
              "      <td></td>\n",
              "      <td></td>\n",
              "      <td></td>\n",
              "      <td></td>\n",
              "      <td>0</td>\n",
              "    </tr>\n",
              "  </tbody>\n",
              "</table>\n",
              "</div>\n",
              "      <button class=\"colab-df-convert\" onclick=\"convertToInteractive('df-893255bc-009a-44a8-a0d8-e7a304b63027')\"\n",
              "              title=\"Convert this dataframe to an interactive table.\"\n",
              "              style=\"display:none;\">\n",
              "        \n",
              "  <svg xmlns=\"http://www.w3.org/2000/svg\" height=\"24px\"viewBox=\"0 0 24 24\"\n",
              "       width=\"24px\">\n",
              "    <path d=\"M0 0h24v24H0V0z\" fill=\"none\"/>\n",
              "    <path d=\"M18.56 5.44l.94 2.06.94-2.06 2.06-.94-2.06-.94-.94-2.06-.94 2.06-2.06.94zm-11 1L8.5 8.5l.94-2.06 2.06-.94-2.06-.94L8.5 2.5l-.94 2.06-2.06.94zm10 10l.94 2.06.94-2.06 2.06-.94-2.06-.94-.94-2.06-.94 2.06-2.06.94z\"/><path d=\"M17.41 7.96l-1.37-1.37c-.4-.4-.92-.59-1.43-.59-.52 0-1.04.2-1.43.59L10.3 9.45l-7.72 7.72c-.78.78-.78 2.05 0 2.83L4 21.41c.39.39.9.59 1.41.59.51 0 1.02-.2 1.41-.59l7.78-7.78 2.81-2.81c.8-.78.8-2.07 0-2.86zM5.41 20L4 18.59l7.72-7.72 1.47 1.35L5.41 20z\"/>\n",
              "  </svg>\n",
              "      </button>\n",
              "      \n",
              "  <style>\n",
              "    .colab-df-container {\n",
              "      display:flex;\n",
              "      flex-wrap:wrap;\n",
              "      gap: 12px;\n",
              "    }\n",
              "\n",
              "    .colab-df-convert {\n",
              "      background-color: #E8F0FE;\n",
              "      border: none;\n",
              "      border-radius: 50%;\n",
              "      cursor: pointer;\n",
              "      display: none;\n",
              "      fill: #1967D2;\n",
              "      height: 32px;\n",
              "      padding: 0 0 0 0;\n",
              "      width: 32px;\n",
              "    }\n",
              "\n",
              "    .colab-df-convert:hover {\n",
              "      background-color: #E2EBFA;\n",
              "      box-shadow: 0px 1px 2px rgba(60, 64, 67, 0.3), 0px 1px 3px 1px rgba(60, 64, 67, 0.15);\n",
              "      fill: #174EA6;\n",
              "    }\n",
              "\n",
              "    [theme=dark] .colab-df-convert {\n",
              "      background-color: #3B4455;\n",
              "      fill: #D2E3FC;\n",
              "    }\n",
              "\n",
              "    [theme=dark] .colab-df-convert:hover {\n",
              "      background-color: #434B5C;\n",
              "      box-shadow: 0px 1px 3px 1px rgba(0, 0, 0, 0.15);\n",
              "      filter: drop-shadow(0px 1px 2px rgba(0, 0, 0, 0.3));\n",
              "      fill: #FFFFFF;\n",
              "    }\n",
              "  </style>\n",
              "\n",
              "      <script>\n",
              "        const buttonEl =\n",
              "          document.querySelector('#df-893255bc-009a-44a8-a0d8-e7a304b63027 button.colab-df-convert');\n",
              "        buttonEl.style.display =\n",
              "          google.colab.kernel.accessAllowed ? 'block' : 'none';\n",
              "\n",
              "        async function convertToInteractive(key) {\n",
              "          const element = document.querySelector('#df-893255bc-009a-44a8-a0d8-e7a304b63027');\n",
              "          const dataTable =\n",
              "            await google.colab.kernel.invokeFunction('convertToInteractive',\n",
              "                                                     [key], {});\n",
              "          if (!dataTable) return;\n",
              "\n",
              "          const docLinkHtml = 'Like what you see? Visit the ' +\n",
              "            '<a target=\"_blank\" href=https://colab.research.google.com/notebooks/data_table.ipynb>data table notebook</a>'\n",
              "            + ' to learn more about interactive tables.';\n",
              "          element.innerHTML = '';\n",
              "          dataTable['output_type'] = 'display_data';\n",
              "          await google.colab.output.renderOutput(dataTable, element);\n",
              "          const docLink = document.createElement('div');\n",
              "          docLink.innerHTML = docLinkHtml;\n",
              "          element.appendChild(docLink);\n",
              "        }\n",
              "      </script>\n",
              "    </div>\n",
              "  </div>\n",
              "  "
            ]
          },
          "metadata": {},
          "execution_count": 16
        }
      ]
    },
    {
      "cell_type": "code",
      "source": [
        "JobPostDF_Final['text-corpus'] = JobPostDF_Final['description'] + ' ' + JobPostDF_Final['requirements']\n",
        "JobPostDF_Final.head()"
      ],
      "metadata": {
        "colab": {
          "base_uri": "https://localhost:8080/",
          "height": 600
        },
        "id": "Ob9Lan-XKSbP",
        "outputId": "1c2763b6-a900-4433-ca4d-a47e11fa0377"
      },
      "execution_count": null,
      "outputs": [
        {
          "output_type": "execute_result",
          "data": {
            "text/plain": [
              "   job_id                         title           location   department  \\\n",
              "0    8398      Senior Network Engineer      BE, , Brussels                \n",
              "1    4103                Product Intern       GB, , London      Product   \n",
              "2    4685  Freelance Danish speaker (m)     DE, BE, Berlin    Didactics   \n",
              "3    8008     Web Designer - Birmingham          GB, BIR,   Development   \n",
              "4    2880    Sr. .NET / Azure Developer  US, CA, San Diego                \n",
              "\n",
              "  salary_range                                    company_profile  \\\n",
              "0               EUROPEAN DYNAMICS (#URL_c66532ffa1ce76ab447da6...   \n",
              "1               Want to build a 21st century financial service...   \n",
              "2               Babbel enables anyone to learn languages in an...   \n",
              "3               The Beans Group is a media company that exists...   \n",
              "4               Embarke is increasing email opens and clicks f...   \n",
              "\n",
              "                                         description  \\\n",
              "0  We currently have a vacancy for a Senior Netwo...   \n",
              "1  TransferWise is a fast growing startup helping...   \n",
              "2  We are looking for a male speaker for Danish s...   \n",
              "3  Award-Winning Technology Media Company Seek a ...   \n",
              "4  ABOUT EMBARKEEmbarke performs behavioral analy...   \n",
              "\n",
              "                                        requirements  \\\n",
              "0  Your skills:University degree in information t...   \n",
              "1  Do you?- Enjoy problem solving - Find meaning ...   \n",
              "2  Previous experience as a speaker, actor or sin...   \n",
              "3  Be comfortable taking a data-led approach to d...   \n",
              "4  10+ years of experience, or equivalentEntrepre...   \n",
              "\n",
              "                                            benefits  telecommuting  \\\n",
              "0  Our offer: If you are seeking a career in an e...              0   \n",
              "1  This internship is paid minimum wage, but we s...              0   \n",
              "2  A flexible working scheduleWork from home or i...              0   \n",
              "3  Life at The Beans GroupThere are many things t...              0   \n",
              "4  Learn more about us here.Values – Our culture ...              0   \n",
              "\n",
              "   has_company_logo  has_questions employment_type required_experience  \\\n",
              "0                 1              0       Full-time           Associate   \n",
              "1                 1              1       Full-time          Internship   \n",
              "2                 1              1           Other                       \n",
              "3                 1              0       Full-time           Associate   \n",
              "4                 1              1                                       \n",
              "\n",
              "          required_education                   industry  \\\n",
              "0          Bachelor's Degree          Computer Software   \n",
              "1                                              Internet   \n",
              "2                                            E-Learning   \n",
              "3  High School or equivalent  Marketing and Advertising   \n",
              "4                                                         \n",
              "\n",
              "                 function  fraudulent  \\\n",
              "0  Information Technology           0   \n",
              "1      Product Management           0   \n",
              "2                   Other           0   \n",
              "3              Production           0   \n",
              "4                                   0   \n",
              "\n",
              "                                         text-corpus  \n",
              "0  We currently have a vacancy for a Senior Netwo...  \n",
              "1  TransferWise is a fast growing startup helping...  \n",
              "2  We are looking for a male speaker for Danish s...  \n",
              "3  Award-Winning Technology Media Company Seek a ...  \n",
              "4  ABOUT EMBARKEEmbarke performs behavioral analy...  "
            ],
            "text/html": [
              "\n",
              "  <div id=\"df-3f2b1e9b-b4a4-4f2f-94a7-0914467ecffa\">\n",
              "    <div class=\"colab-df-container\">\n",
              "      <div>\n",
              "<style scoped>\n",
              "    .dataframe tbody tr th:only-of-type {\n",
              "        vertical-align: middle;\n",
              "    }\n",
              "\n",
              "    .dataframe tbody tr th {\n",
              "        vertical-align: top;\n",
              "    }\n",
              "\n",
              "    .dataframe thead th {\n",
              "        text-align: right;\n",
              "    }\n",
              "</style>\n",
              "<table border=\"1\" class=\"dataframe\">\n",
              "  <thead>\n",
              "    <tr style=\"text-align: right;\">\n",
              "      <th></th>\n",
              "      <th>job_id</th>\n",
              "      <th>title</th>\n",
              "      <th>location</th>\n",
              "      <th>department</th>\n",
              "      <th>salary_range</th>\n",
              "      <th>company_profile</th>\n",
              "      <th>description</th>\n",
              "      <th>requirements</th>\n",
              "      <th>benefits</th>\n",
              "      <th>telecommuting</th>\n",
              "      <th>has_company_logo</th>\n",
              "      <th>has_questions</th>\n",
              "      <th>employment_type</th>\n",
              "      <th>required_experience</th>\n",
              "      <th>required_education</th>\n",
              "      <th>industry</th>\n",
              "      <th>function</th>\n",
              "      <th>fraudulent</th>\n",
              "      <th>text-corpus</th>\n",
              "    </tr>\n",
              "  </thead>\n",
              "  <tbody>\n",
              "    <tr>\n",
              "      <th>0</th>\n",
              "      <td>8398</td>\n",
              "      <td>Senior Network Engineer</td>\n",
              "      <td>BE, , Brussels</td>\n",
              "      <td></td>\n",
              "      <td></td>\n",
              "      <td>EUROPEAN DYNAMICS (#URL_c66532ffa1ce76ab447da6...</td>\n",
              "      <td>We currently have a vacancy for a Senior Netwo...</td>\n",
              "      <td>Your skills:University degree in information t...</td>\n",
              "      <td>Our offer: If you are seeking a career in an e...</td>\n",
              "      <td>0</td>\n",
              "      <td>1</td>\n",
              "      <td>0</td>\n",
              "      <td>Full-time</td>\n",
              "      <td>Associate</td>\n",
              "      <td>Bachelor's Degree</td>\n",
              "      <td>Computer Software</td>\n",
              "      <td>Information Technology</td>\n",
              "      <td>0</td>\n",
              "      <td>We currently have a vacancy for a Senior Netwo...</td>\n",
              "    </tr>\n",
              "    <tr>\n",
              "      <th>1</th>\n",
              "      <td>4103</td>\n",
              "      <td>Product Intern</td>\n",
              "      <td>GB, , London</td>\n",
              "      <td>Product</td>\n",
              "      <td></td>\n",
              "      <td>Want to build a 21st century financial service...</td>\n",
              "      <td>TransferWise is a fast growing startup helping...</td>\n",
              "      <td>Do you?- Enjoy problem solving - Find meaning ...</td>\n",
              "      <td>This internship is paid minimum wage, but we s...</td>\n",
              "      <td>0</td>\n",
              "      <td>1</td>\n",
              "      <td>1</td>\n",
              "      <td>Full-time</td>\n",
              "      <td>Internship</td>\n",
              "      <td></td>\n",
              "      <td>Internet</td>\n",
              "      <td>Product Management</td>\n",
              "      <td>0</td>\n",
              "      <td>TransferWise is a fast growing startup helping...</td>\n",
              "    </tr>\n",
              "    <tr>\n",
              "      <th>2</th>\n",
              "      <td>4685</td>\n",
              "      <td>Freelance Danish speaker (m)</td>\n",
              "      <td>DE, BE, Berlin</td>\n",
              "      <td>Didactics</td>\n",
              "      <td></td>\n",
              "      <td>Babbel enables anyone to learn languages in an...</td>\n",
              "      <td>We are looking for a male speaker for Danish s...</td>\n",
              "      <td>Previous experience as a speaker, actor or sin...</td>\n",
              "      <td>A flexible working scheduleWork from home or i...</td>\n",
              "      <td>0</td>\n",
              "      <td>1</td>\n",
              "      <td>1</td>\n",
              "      <td>Other</td>\n",
              "      <td></td>\n",
              "      <td></td>\n",
              "      <td>E-Learning</td>\n",
              "      <td>Other</td>\n",
              "      <td>0</td>\n",
              "      <td>We are looking for a male speaker for Danish s...</td>\n",
              "    </tr>\n",
              "    <tr>\n",
              "      <th>3</th>\n",
              "      <td>8008</td>\n",
              "      <td>Web Designer - Birmingham</td>\n",
              "      <td>GB, BIR,</td>\n",
              "      <td>Development</td>\n",
              "      <td></td>\n",
              "      <td>The Beans Group is a media company that exists...</td>\n",
              "      <td>Award-Winning Technology Media Company Seek a ...</td>\n",
              "      <td>Be comfortable taking a data-led approach to d...</td>\n",
              "      <td>Life at The Beans GroupThere are many things t...</td>\n",
              "      <td>0</td>\n",
              "      <td>1</td>\n",
              "      <td>0</td>\n",
              "      <td>Full-time</td>\n",
              "      <td>Associate</td>\n",
              "      <td>High School or equivalent</td>\n",
              "      <td>Marketing and Advertising</td>\n",
              "      <td>Production</td>\n",
              "      <td>0</td>\n",
              "      <td>Award-Winning Technology Media Company Seek a ...</td>\n",
              "    </tr>\n",
              "    <tr>\n",
              "      <th>4</th>\n",
              "      <td>2880</td>\n",
              "      <td>Sr. .NET / Azure Developer</td>\n",
              "      <td>US, CA, San Diego</td>\n",
              "      <td></td>\n",
              "      <td></td>\n",
              "      <td>Embarke is increasing email opens and clicks f...</td>\n",
              "      <td>ABOUT EMBARKEEmbarke performs behavioral analy...</td>\n",
              "      <td>10+ years of experience, or equivalentEntrepre...</td>\n",
              "      <td>Learn more about us here.Values – Our culture ...</td>\n",
              "      <td>0</td>\n",
              "      <td>1</td>\n",
              "      <td>1</td>\n",
              "      <td></td>\n",
              "      <td></td>\n",
              "      <td></td>\n",
              "      <td></td>\n",
              "      <td></td>\n",
              "      <td>0</td>\n",
              "      <td>ABOUT EMBARKEEmbarke performs behavioral analy...</td>\n",
              "    </tr>\n",
              "  </tbody>\n",
              "</table>\n",
              "</div>\n",
              "      <button class=\"colab-df-convert\" onclick=\"convertToInteractive('df-3f2b1e9b-b4a4-4f2f-94a7-0914467ecffa')\"\n",
              "              title=\"Convert this dataframe to an interactive table.\"\n",
              "              style=\"display:none;\">\n",
              "        \n",
              "  <svg xmlns=\"http://www.w3.org/2000/svg\" height=\"24px\"viewBox=\"0 0 24 24\"\n",
              "       width=\"24px\">\n",
              "    <path d=\"M0 0h24v24H0V0z\" fill=\"none\"/>\n",
              "    <path d=\"M18.56 5.44l.94 2.06.94-2.06 2.06-.94-2.06-.94-.94-2.06-.94 2.06-2.06.94zm-11 1L8.5 8.5l.94-2.06 2.06-.94-2.06-.94L8.5 2.5l-.94 2.06-2.06.94zm10 10l.94 2.06.94-2.06 2.06-.94-2.06-.94-.94-2.06-.94 2.06-2.06.94z\"/><path d=\"M17.41 7.96l-1.37-1.37c-.4-.4-.92-.59-1.43-.59-.52 0-1.04.2-1.43.59L10.3 9.45l-7.72 7.72c-.78.78-.78 2.05 0 2.83L4 21.41c.39.39.9.59 1.41.59.51 0 1.02-.2 1.41-.59l7.78-7.78 2.81-2.81c.8-.78.8-2.07 0-2.86zM5.41 20L4 18.59l7.72-7.72 1.47 1.35L5.41 20z\"/>\n",
              "  </svg>\n",
              "      </button>\n",
              "      \n",
              "  <style>\n",
              "    .colab-df-container {\n",
              "      display:flex;\n",
              "      flex-wrap:wrap;\n",
              "      gap: 12px;\n",
              "    }\n",
              "\n",
              "    .colab-df-convert {\n",
              "      background-color: #E8F0FE;\n",
              "      border: none;\n",
              "      border-radius: 50%;\n",
              "      cursor: pointer;\n",
              "      display: none;\n",
              "      fill: #1967D2;\n",
              "      height: 32px;\n",
              "      padding: 0 0 0 0;\n",
              "      width: 32px;\n",
              "    }\n",
              "\n",
              "    .colab-df-convert:hover {\n",
              "      background-color: #E2EBFA;\n",
              "      box-shadow: 0px 1px 2px rgba(60, 64, 67, 0.3), 0px 1px 3px 1px rgba(60, 64, 67, 0.15);\n",
              "      fill: #174EA6;\n",
              "    }\n",
              "\n",
              "    [theme=dark] .colab-df-convert {\n",
              "      background-color: #3B4455;\n",
              "      fill: #D2E3FC;\n",
              "    }\n",
              "\n",
              "    [theme=dark] .colab-df-convert:hover {\n",
              "      background-color: #434B5C;\n",
              "      box-shadow: 0px 1px 3px 1px rgba(0, 0, 0, 0.15);\n",
              "      filter: drop-shadow(0px 1px 2px rgba(0, 0, 0, 0.3));\n",
              "      fill: #FFFFFF;\n",
              "    }\n",
              "  </style>\n",
              "\n",
              "      <script>\n",
              "        const buttonEl =\n",
              "          document.querySelector('#df-3f2b1e9b-b4a4-4f2f-94a7-0914467ecffa button.colab-df-convert');\n",
              "        buttonEl.style.display =\n",
              "          google.colab.kernel.accessAllowed ? 'block' : 'none';\n",
              "\n",
              "        async function convertToInteractive(key) {\n",
              "          const element = document.querySelector('#df-3f2b1e9b-b4a4-4f2f-94a7-0914467ecffa');\n",
              "          const dataTable =\n",
              "            await google.colab.kernel.invokeFunction('convertToInteractive',\n",
              "                                                     [key], {});\n",
              "          if (!dataTable) return;\n",
              "\n",
              "          const docLinkHtml = 'Like what you see? Visit the ' +\n",
              "            '<a target=\"_blank\" href=https://colab.research.google.com/notebooks/data_table.ipynb>data table notebook</a>'\n",
              "            + ' to learn more about interactive tables.';\n",
              "          element.innerHTML = '';\n",
              "          dataTable['output_type'] = 'display_data';\n",
              "          await google.colab.output.renderOutput(dataTable, element);\n",
              "          const docLink = document.createElement('div');\n",
              "          docLink.innerHTML = docLinkHtml;\n",
              "          element.appendChild(docLink);\n",
              "        }\n",
              "      </script>\n",
              "    </div>\n",
              "  </div>\n",
              "  "
            ]
          },
          "metadata": {},
          "execution_count": 17
        }
      ]
    },
    {
      "cell_type": "code",
      "source": [
        "for col in JobPostDF_Final.select_dtypes(include=['object']).drop(columns=['text-corpus']):\n",
        "    JobPostDF_Final.drop(columns=[col], inplace = True)"
      ],
      "metadata": {
        "id": "vd6YhrTuKXct"
      },
      "execution_count": null,
      "outputs": []
    },
    {
      "cell_type": "code",
      "source": [
        "JobPostDF_Final.head()"
      ],
      "metadata": {
        "colab": {
          "base_uri": "https://localhost:8080/",
          "height": 206
        },
        "id": "zISEIL8BKeDq",
        "outputId": "22f8b23e-0313-49a0-bfde-e0a9c682c82b"
      },
      "execution_count": null,
      "outputs": [
        {
          "output_type": "execute_result",
          "data": {
            "text/plain": [
              "   job_id  telecommuting  has_company_logo  has_questions  fraudulent  \\\n",
              "0    8398              0                 1              0           0   \n",
              "1    4103              0                 1              1           0   \n",
              "2    4685              0                 1              1           0   \n",
              "3    8008              0                 1              0           0   \n",
              "4    2880              0                 1              1           0   \n",
              "\n",
              "                                         text-corpus  \n",
              "0  We currently have a vacancy for a Senior Netwo...  \n",
              "1  TransferWise is a fast growing startup helping...  \n",
              "2  We are looking for a male speaker for Danish s...  \n",
              "3  Award-Winning Technology Media Company Seek a ...  \n",
              "4  ABOUT EMBARKEEmbarke performs behavioral analy...  "
            ],
            "text/html": [
              "\n",
              "  <div id=\"df-38f0a5e5-1ce5-4fc1-b451-83d0d6b3ba8d\">\n",
              "    <div class=\"colab-df-container\">\n",
              "      <div>\n",
              "<style scoped>\n",
              "    .dataframe tbody tr th:only-of-type {\n",
              "        vertical-align: middle;\n",
              "    }\n",
              "\n",
              "    .dataframe tbody tr th {\n",
              "        vertical-align: top;\n",
              "    }\n",
              "\n",
              "    .dataframe thead th {\n",
              "        text-align: right;\n",
              "    }\n",
              "</style>\n",
              "<table border=\"1\" class=\"dataframe\">\n",
              "  <thead>\n",
              "    <tr style=\"text-align: right;\">\n",
              "      <th></th>\n",
              "      <th>job_id</th>\n",
              "      <th>telecommuting</th>\n",
              "      <th>has_company_logo</th>\n",
              "      <th>has_questions</th>\n",
              "      <th>fraudulent</th>\n",
              "      <th>text-corpus</th>\n",
              "    </tr>\n",
              "  </thead>\n",
              "  <tbody>\n",
              "    <tr>\n",
              "      <th>0</th>\n",
              "      <td>8398</td>\n",
              "      <td>0</td>\n",
              "      <td>1</td>\n",
              "      <td>0</td>\n",
              "      <td>0</td>\n",
              "      <td>We currently have a vacancy for a Senior Netwo...</td>\n",
              "    </tr>\n",
              "    <tr>\n",
              "      <th>1</th>\n",
              "      <td>4103</td>\n",
              "      <td>0</td>\n",
              "      <td>1</td>\n",
              "      <td>1</td>\n",
              "      <td>0</td>\n",
              "      <td>TransferWise is a fast growing startup helping...</td>\n",
              "    </tr>\n",
              "    <tr>\n",
              "      <th>2</th>\n",
              "      <td>4685</td>\n",
              "      <td>0</td>\n",
              "      <td>1</td>\n",
              "      <td>1</td>\n",
              "      <td>0</td>\n",
              "      <td>We are looking for a male speaker for Danish s...</td>\n",
              "    </tr>\n",
              "    <tr>\n",
              "      <th>3</th>\n",
              "      <td>8008</td>\n",
              "      <td>0</td>\n",
              "      <td>1</td>\n",
              "      <td>0</td>\n",
              "      <td>0</td>\n",
              "      <td>Award-Winning Technology Media Company Seek a ...</td>\n",
              "    </tr>\n",
              "    <tr>\n",
              "      <th>4</th>\n",
              "      <td>2880</td>\n",
              "      <td>0</td>\n",
              "      <td>1</td>\n",
              "      <td>1</td>\n",
              "      <td>0</td>\n",
              "      <td>ABOUT EMBARKEEmbarke performs behavioral analy...</td>\n",
              "    </tr>\n",
              "  </tbody>\n",
              "</table>\n",
              "</div>\n",
              "      <button class=\"colab-df-convert\" onclick=\"convertToInteractive('df-38f0a5e5-1ce5-4fc1-b451-83d0d6b3ba8d')\"\n",
              "              title=\"Convert this dataframe to an interactive table.\"\n",
              "              style=\"display:none;\">\n",
              "        \n",
              "  <svg xmlns=\"http://www.w3.org/2000/svg\" height=\"24px\"viewBox=\"0 0 24 24\"\n",
              "       width=\"24px\">\n",
              "    <path d=\"M0 0h24v24H0V0z\" fill=\"none\"/>\n",
              "    <path d=\"M18.56 5.44l.94 2.06.94-2.06 2.06-.94-2.06-.94-.94-2.06-.94 2.06-2.06.94zm-11 1L8.5 8.5l.94-2.06 2.06-.94-2.06-.94L8.5 2.5l-.94 2.06-2.06.94zm10 10l.94 2.06.94-2.06 2.06-.94-2.06-.94-.94-2.06-.94 2.06-2.06.94z\"/><path d=\"M17.41 7.96l-1.37-1.37c-.4-.4-.92-.59-1.43-.59-.52 0-1.04.2-1.43.59L10.3 9.45l-7.72 7.72c-.78.78-.78 2.05 0 2.83L4 21.41c.39.39.9.59 1.41.59.51 0 1.02-.2 1.41-.59l7.78-7.78 2.81-2.81c.8-.78.8-2.07 0-2.86zM5.41 20L4 18.59l7.72-7.72 1.47 1.35L5.41 20z\"/>\n",
              "  </svg>\n",
              "      </button>\n",
              "      \n",
              "  <style>\n",
              "    .colab-df-container {\n",
              "      display:flex;\n",
              "      flex-wrap:wrap;\n",
              "      gap: 12px;\n",
              "    }\n",
              "\n",
              "    .colab-df-convert {\n",
              "      background-color: #E8F0FE;\n",
              "      border: none;\n",
              "      border-radius: 50%;\n",
              "      cursor: pointer;\n",
              "      display: none;\n",
              "      fill: #1967D2;\n",
              "      height: 32px;\n",
              "      padding: 0 0 0 0;\n",
              "      width: 32px;\n",
              "    }\n",
              "\n",
              "    .colab-df-convert:hover {\n",
              "      background-color: #E2EBFA;\n",
              "      box-shadow: 0px 1px 2px rgba(60, 64, 67, 0.3), 0px 1px 3px 1px rgba(60, 64, 67, 0.15);\n",
              "      fill: #174EA6;\n",
              "    }\n",
              "\n",
              "    [theme=dark] .colab-df-convert {\n",
              "      background-color: #3B4455;\n",
              "      fill: #D2E3FC;\n",
              "    }\n",
              "\n",
              "    [theme=dark] .colab-df-convert:hover {\n",
              "      background-color: #434B5C;\n",
              "      box-shadow: 0px 1px 3px 1px rgba(0, 0, 0, 0.15);\n",
              "      filter: drop-shadow(0px 1px 2px rgba(0, 0, 0, 0.3));\n",
              "      fill: #FFFFFF;\n",
              "    }\n",
              "  </style>\n",
              "\n",
              "      <script>\n",
              "        const buttonEl =\n",
              "          document.querySelector('#df-38f0a5e5-1ce5-4fc1-b451-83d0d6b3ba8d button.colab-df-convert');\n",
              "        buttonEl.style.display =\n",
              "          google.colab.kernel.accessAllowed ? 'block' : 'none';\n",
              "\n",
              "        async function convertToInteractive(key) {\n",
              "          const element = document.querySelector('#df-38f0a5e5-1ce5-4fc1-b451-83d0d6b3ba8d');\n",
              "          const dataTable =\n",
              "            await google.colab.kernel.invokeFunction('convertToInteractive',\n",
              "                                                     [key], {});\n",
              "          if (!dataTable) return;\n",
              "\n",
              "          const docLinkHtml = 'Like what you see? Visit the ' +\n",
              "            '<a target=\"_blank\" href=https://colab.research.google.com/notebooks/data_table.ipynb>data table notebook</a>'\n",
              "            + ' to learn more about interactive tables.';\n",
              "          element.innerHTML = '';\n",
              "          dataTable['output_type'] = 'display_data';\n",
              "          await google.colab.output.renderOutput(dataTable, element);\n",
              "          const docLink = document.createElement('div');\n",
              "          docLink.innerHTML = docLinkHtml;\n",
              "          element.appendChild(docLink);\n",
              "        }\n",
              "      </script>\n",
              "    </div>\n",
              "  </div>\n",
              "  "
            ]
          },
          "metadata": {},
          "execution_count": 19
        }
      ]
    },
    {
      "cell_type": "code",
      "source": [
        "JobPostDF_Final = JobPostDF_Final.drop(columns=['job_id','telecommuting', 'has_company_logo', 'has_questions'])\n",
        "JobPostDF_Final.head()"
      ],
      "metadata": {
        "colab": {
          "base_uri": "https://localhost:8080/",
          "height": 206
        },
        "id": "eBNaH4SHKf-R",
        "outputId": "07faa4a3-d86d-488b-8364-c4addcaeb202"
      },
      "execution_count": null,
      "outputs": [
        {
          "output_type": "execute_result",
          "data": {
            "text/plain": [
              "   fraudulent                                        text-corpus\n",
              "0           0  We currently have a vacancy for a Senior Netwo...\n",
              "1           0  TransferWise is a fast growing startup helping...\n",
              "2           0  We are looking for a male speaker for Danish s...\n",
              "3           0  Award-Winning Technology Media Company Seek a ...\n",
              "4           0  ABOUT EMBARKEEmbarke performs behavioral analy..."
            ],
            "text/html": [
              "\n",
              "  <div id=\"df-a81ba4c9-7dfb-4fc0-a7fe-9e87fa92bb2c\">\n",
              "    <div class=\"colab-df-container\">\n",
              "      <div>\n",
              "<style scoped>\n",
              "    .dataframe tbody tr th:only-of-type {\n",
              "        vertical-align: middle;\n",
              "    }\n",
              "\n",
              "    .dataframe tbody tr th {\n",
              "        vertical-align: top;\n",
              "    }\n",
              "\n",
              "    .dataframe thead th {\n",
              "        text-align: right;\n",
              "    }\n",
              "</style>\n",
              "<table border=\"1\" class=\"dataframe\">\n",
              "  <thead>\n",
              "    <tr style=\"text-align: right;\">\n",
              "      <th></th>\n",
              "      <th>fraudulent</th>\n",
              "      <th>text-corpus</th>\n",
              "    </tr>\n",
              "  </thead>\n",
              "  <tbody>\n",
              "    <tr>\n",
              "      <th>0</th>\n",
              "      <td>0</td>\n",
              "      <td>We currently have a vacancy for a Senior Netwo...</td>\n",
              "    </tr>\n",
              "    <tr>\n",
              "      <th>1</th>\n",
              "      <td>0</td>\n",
              "      <td>TransferWise is a fast growing startup helping...</td>\n",
              "    </tr>\n",
              "    <tr>\n",
              "      <th>2</th>\n",
              "      <td>0</td>\n",
              "      <td>We are looking for a male speaker for Danish s...</td>\n",
              "    </tr>\n",
              "    <tr>\n",
              "      <th>3</th>\n",
              "      <td>0</td>\n",
              "      <td>Award-Winning Technology Media Company Seek a ...</td>\n",
              "    </tr>\n",
              "    <tr>\n",
              "      <th>4</th>\n",
              "      <td>0</td>\n",
              "      <td>ABOUT EMBARKEEmbarke performs behavioral analy...</td>\n",
              "    </tr>\n",
              "  </tbody>\n",
              "</table>\n",
              "</div>\n",
              "      <button class=\"colab-df-convert\" onclick=\"convertToInteractive('df-a81ba4c9-7dfb-4fc0-a7fe-9e87fa92bb2c')\"\n",
              "              title=\"Convert this dataframe to an interactive table.\"\n",
              "              style=\"display:none;\">\n",
              "        \n",
              "  <svg xmlns=\"http://www.w3.org/2000/svg\" height=\"24px\"viewBox=\"0 0 24 24\"\n",
              "       width=\"24px\">\n",
              "    <path d=\"M0 0h24v24H0V0z\" fill=\"none\"/>\n",
              "    <path d=\"M18.56 5.44l.94 2.06.94-2.06 2.06-.94-2.06-.94-.94-2.06-.94 2.06-2.06.94zm-11 1L8.5 8.5l.94-2.06 2.06-.94-2.06-.94L8.5 2.5l-.94 2.06-2.06.94zm10 10l.94 2.06.94-2.06 2.06-.94-2.06-.94-.94-2.06-.94 2.06-2.06.94z\"/><path d=\"M17.41 7.96l-1.37-1.37c-.4-.4-.92-.59-1.43-.59-.52 0-1.04.2-1.43.59L10.3 9.45l-7.72 7.72c-.78.78-.78 2.05 0 2.83L4 21.41c.39.39.9.59 1.41.59.51 0 1.02-.2 1.41-.59l7.78-7.78 2.81-2.81c.8-.78.8-2.07 0-2.86zM5.41 20L4 18.59l7.72-7.72 1.47 1.35L5.41 20z\"/>\n",
              "  </svg>\n",
              "      </button>\n",
              "      \n",
              "  <style>\n",
              "    .colab-df-container {\n",
              "      display:flex;\n",
              "      flex-wrap:wrap;\n",
              "      gap: 12px;\n",
              "    }\n",
              "\n",
              "    .colab-df-convert {\n",
              "      background-color: #E8F0FE;\n",
              "      border: none;\n",
              "      border-radius: 50%;\n",
              "      cursor: pointer;\n",
              "      display: none;\n",
              "      fill: #1967D2;\n",
              "      height: 32px;\n",
              "      padding: 0 0 0 0;\n",
              "      width: 32px;\n",
              "    }\n",
              "\n",
              "    .colab-df-convert:hover {\n",
              "      background-color: #E2EBFA;\n",
              "      box-shadow: 0px 1px 2px rgba(60, 64, 67, 0.3), 0px 1px 3px 1px rgba(60, 64, 67, 0.15);\n",
              "      fill: #174EA6;\n",
              "    }\n",
              "\n",
              "    [theme=dark] .colab-df-convert {\n",
              "      background-color: #3B4455;\n",
              "      fill: #D2E3FC;\n",
              "    }\n",
              "\n",
              "    [theme=dark] .colab-df-convert:hover {\n",
              "      background-color: #434B5C;\n",
              "      box-shadow: 0px 1px 3px 1px rgba(0, 0, 0, 0.15);\n",
              "      filter: drop-shadow(0px 1px 2px rgba(0, 0, 0, 0.3));\n",
              "      fill: #FFFFFF;\n",
              "    }\n",
              "  </style>\n",
              "\n",
              "      <script>\n",
              "        const buttonEl =\n",
              "          document.querySelector('#df-a81ba4c9-7dfb-4fc0-a7fe-9e87fa92bb2c button.colab-df-convert');\n",
              "        buttonEl.style.display =\n",
              "          google.colab.kernel.accessAllowed ? 'block' : 'none';\n",
              "\n",
              "        async function convertToInteractive(key) {\n",
              "          const element = document.querySelector('#df-a81ba4c9-7dfb-4fc0-a7fe-9e87fa92bb2c');\n",
              "          const dataTable =\n",
              "            await google.colab.kernel.invokeFunction('convertToInteractive',\n",
              "                                                     [key], {});\n",
              "          if (!dataTable) return;\n",
              "\n",
              "          const docLinkHtml = 'Like what you see? Visit the ' +\n",
              "            '<a target=\"_blank\" href=https://colab.research.google.com/notebooks/data_table.ipynb>data table notebook</a>'\n",
              "            + ' to learn more about interactive tables.';\n",
              "          element.innerHTML = '';\n",
              "          dataTable['output_type'] = 'display_data';\n",
              "          await google.colab.output.renderOutput(dataTable, element);\n",
              "          const docLink = document.createElement('div');\n",
              "          docLink.innerHTML = docLinkHtml;\n",
              "          element.appendChild(docLink);\n",
              "        }\n",
              "      </script>\n",
              "    </div>\n",
              "  </div>\n",
              "  "
            ]
          },
          "metadata": {},
          "execution_count": 20
        }
      ]
    },
    {
      "cell_type": "code",
      "source": [
        "JobPostDF_Final['text-corpus'][0]"
      ],
      "metadata": {
        "colab": {
          "base_uri": "https://localhost:8080/",
          "height": 122
        },
        "id": "TB9qkzeEKi6b",
        "outputId": "68594fad-d055-428e-9cc1-c5d8d0088bb8"
      },
      "execution_count": null,
      "outputs": [
        {
          "output_type": "execute_result",
          "data": {
            "text/plain": [
              "'We currently have a vacancy for a Senior Network Engineer, fluent in English, to offer his/her services as an expert in various projects of the company across Europe (mainly in Belgium, France and Germany – the expert may decide to undertake missions to the locations of the clients from any location or even be based in the same city as the client).\\xa0Your tasks:Construct and maintain configurations for data networks;Design, test and install network software and hardware;Perform troubleshooting of network problems using network analysers and/or sniffers and other troubleshooting tools;Deal with network related documentation (develop/update/review) and technical specifications;Configure and implement network monitoring and management systems;Implement and monitor network security;Plan network capacity/estimate network utilisation;Analyse current network software and propose modifications and new software according to best practice standards and procedures;Engage with vendors offering network related services and equipment. Your skills:University degree in information technology;9 years of relevant professional experience;Advanced knowledge of networks (LAN, WAN);Advanced knowledge of firewall, VPN and load balancer configuration and troubleshooting;Very good knowledge of network encryption and security protocols;Very good knowledge of network design, network capacity planning, network evolution, network monitoring;CCNP certification;ITIL v3 certification will be considered a plus;Excellent command of English, both written and oral.'"
            ],
            "application/vnd.google.colaboratory.intrinsic+json": {
              "type": "string"
            }
          },
          "metadata": {},
          "execution_count": 21
        }
      ]
    },
    {
      "cell_type": "markdown",
      "source": [
        "Data Cleaning"
      ],
      "metadata": {
        "id": "VQv-JiYBKm73"
      }
    },
    {
      "cell_type": "code",
      "source": [
        "import nltk\n",
        "from nltk.tokenize import word_tokenize, RegexpTokenizer\n",
        "from nltk.corpus import stopwords\n",
        "from nltk.stem import PorterStemmer\n",
        "from nltk import tokenize\n",
        "from nltk.stem import WordNetLemmatizer"
      ],
      "metadata": {
        "id": "ltaftsV2KrnD"
      },
      "execution_count": null,
      "outputs": []
    },
    {
      "cell_type": "code",
      "source": [
        "def remove(text):\n",
        "    words = nltk.RegexpTokenizer(r\"\\w+\").tokenize(text)\n",
        "    \n",
        "    return words"
      ],
      "metadata": {
        "id": "mYYjwXfSKtgB"
      },
      "execution_count": null,
      "outputs": []
    },
    {
      "cell_type": "code",
      "source": [
        "import nltk\n",
        "nltk.download('stopwords')"
      ],
      "metadata": {
        "colab": {
          "base_uri": "https://localhost:8080/"
        },
        "id": "bGJKixSkKzLv",
        "outputId": "00076874-7e0a-4ca3-e817-89a37beeb424"
      },
      "execution_count": null,
      "outputs": [
        {
          "output_type": "stream",
          "name": "stderr",
          "text": [
            "[nltk_data] Downloading package stopwords to /root/nltk_data...\n",
            "[nltk_data]   Unzipping corpora/stopwords.zip.\n"
          ]
        },
        {
          "output_type": "execute_result",
          "data": {
            "text/plain": [
              "True"
            ]
          },
          "metadata": {},
          "execution_count": 24
        }
      ]
    },
    {
      "cell_type": "code",
      "source": [
        "# remove stopwords function\n",
        "stop = set(stopwords.words('english'))\n",
        "def test(text):\n",
        "    words = remove(text)\n",
        "    stripped_phrase = []\n",
        "    for word in words:\n",
        "        if word not in stop:\n",
        "            stripped_phrase.append(word)\n",
        "\n",
        "    return \" \".join(stripped_phrase)"
      ],
      "metadata": {
        "id": "akvTHAwqK7HH"
      },
      "execution_count": null,
      "outputs": []
    },
    {
      "cell_type": "markdown",
      "source": [
        "# perform stemming function\n",
        "\n"
      ],
      "metadata": {
        "id": "E3JL9HP4ZUxt"
      }
    },
    {
      "cell_type": "code",
      "source": [
        "def stem(text):\n",
        "    stemmer = PorterStemmer()\n",
        "    stemmed_phrase = []\n",
        "    words = remove(text)\n",
        "    for word in words:\n",
        "        stemmed_phrase.append(stemmer.stem(word))\n",
        "    \n",
        "    return \" \".join(stemmed_phrase)"
      ],
      "metadata": {
        "id": "t_J4aUe3K9mz"
      },
      "execution_count": null,
      "outputs": []
    },
    {
      "cell_type": "markdown",
      "source": [
        "# remove stopwords"
      ],
      "metadata": {
        "id": "Z1QmIu5dZZsT"
      }
    },
    {
      "cell_type": "code",
      "source": [
        "JobPostDF_Final['text-corpus'] = JobPostDF_Final['text-corpus'].apply(test)\n",
        "JobPostDF_Final['text-corpus'][0]"
      ],
      "metadata": {
        "colab": {
          "base_uri": "https://localhost:8080/",
          "height": 122
        },
        "id": "TWGoC-9VLO-M",
        "outputId": "1c8fcc49-bd86-44cb-dc6b-c7e0c469e01c"
      },
      "execution_count": null,
      "outputs": [
        {
          "output_type": "execute_result",
          "data": {
            "text/plain": [
              "'We currently vacancy Senior Network Engineer fluent English offer services expert various projects company across Europe mainly Belgium France Germany expert may decide undertake missions locations clients location even based city client Your tasks Construct maintain configurations data networks Design test install network software hardware Perform troubleshooting network problems using network analysers sniffers troubleshooting tools Deal network related documentation develop update review technical specifications Configure implement network monitoring management systems Implement monitor network security Plan network capacity estimate network utilisation Analyse current network software propose modifications new software according best practice standards procedures Engage vendors offering network related services equipment Your skills University degree information technology 9 years relevant professional experience Advanced knowledge networks LAN WAN Advanced knowledge firewall VPN load balancer configuration troubleshooting Very good knowledge network encryption security protocols Very good knowledge network design network capacity planning network evolution network monitoring CCNP certification ITIL v3 certification considered plus Excellent command English written oral'"
            ],
            "application/vnd.google.colaboratory.intrinsic+json": {
              "type": "string"
            }
          },
          "metadata": {},
          "execution_count": 27
        }
      ]
    },
    {
      "cell_type": "code",
      "source": [
        "# Perform stemming\n",
        "JobPostDF_Final['text-corpus'] = JobPostDF_Final['text-corpus'].apply(stem)\n",
        "JobPostDF_Final['text-corpus'][0]"
      ],
      "metadata": {
        "colab": {
          "base_uri": "https://localhost:8080/",
          "height": 122
        },
        "id": "jraFdLf9LRhi",
        "outputId": "a5c07664-bd61-4e40-edd0-9471380d06f5"
      },
      "execution_count": null,
      "outputs": [
        {
          "output_type": "execute_result",
          "data": {
            "text/plain": [
              "'we current vacanc senior network engin fluent english offer servic expert variou project compani across europ mainli belgium franc germani expert may decid undertak mission locat client locat even base citi client your task construct maintain configur data network design test instal network softwar hardwar perform troubleshoot network problem use network analys sniffer troubleshoot tool deal network relat document develop updat review technic specif configur implement network monitor manag system implement monitor network secur plan network capac estim network utilis analys current network softwar propos modif new softwar accord best practic standard procedur engag vendor offer network relat servic equip your skill univers degre inform technolog 9 year relev profession experi advanc knowledg network lan wan advanc knowledg firewal vpn load balanc configur troubleshoot veri good knowledg network encrypt secur protocol veri good knowledg network design network capac plan network evolut network monitor ccnp certif itil v3 certif consid plu excel command english written oral'"
            ],
            "application/vnd.google.colaboratory.intrinsic+json": {
              "type": "string"
            }
          },
          "metadata": {},
          "execution_count": 28
        }
      ]
    },
    {
      "cell_type": "markdown",
      "source": [
        "#Extract features"
      ],
      "metadata": {
        "id": "JC5DESDlZdjV"
      }
    },
    {
      "cell_type": "code",
      "source": [
        "X = JobPostDF_Final['text-corpus']\n",
        "X.shape"
      ],
      "metadata": {
        "colab": {
          "base_uri": "https://localhost:8080/"
        },
        "id": "o_ZKvI0qMf6x",
        "outputId": "1ad402a6-ad5e-4d6b-dfe7-4a016d92b6b5"
      },
      "execution_count": null,
      "outputs": [
        {
          "output_type": "execute_result",
          "data": {
            "text/plain": [
              "(1732,)"
            ]
          },
          "metadata": {},
          "execution_count": 29
        }
      ]
    },
    {
      "cell_type": "code",
      "source": [
        "X.head()"
      ],
      "metadata": {
        "colab": {
          "base_uri": "https://localhost:8080/"
        },
        "id": "nUjSuTRtMhTN",
        "outputId": "9fbe0795-8210-4ba8-d587-d78437fc6e0f"
      },
      "execution_count": null,
      "outputs": [
        {
          "output_type": "execute_result",
          "data": {
            "text/plain": [
              "0    we current vacanc senior network engin fluent ...\n",
              "1    transferwis fast grow startup help peopl trans...\n",
              "2    we look male speaker danish sound record respo...\n",
              "3    award win technolog media compani seek talent ...\n",
              "4    about embarkeembark perform behavior analysi u...\n",
              "Name: text-corpus, dtype: object"
            ]
          },
          "metadata": {},
          "execution_count": 30
        }
      ]
    },
    {
      "cell_type": "code",
      "source": [
        "Y = JobPostDF_Final['fraudulent']\n",
        "Y.shape"
      ],
      "metadata": {
        "colab": {
          "base_uri": "https://localhost:8080/"
        },
        "id": "_E6In6KzMjbX",
        "outputId": "e00726c3-5637-4ec9-f6b8-d61e0ec8ca69"
      },
      "execution_count": null,
      "outputs": [
        {
          "output_type": "execute_result",
          "data": {
            "text/plain": [
              "(1732,)"
            ]
          },
          "metadata": {},
          "execution_count": 31
        }
      ]
    },
    {
      "cell_type": "code",
      "source": [
        "from sklearn.model_selection import train_test_split\n",
        "\n",
        "train_X, test_X, train_y, test_y = train_test_split(X, Y, test_size = 0.2, random_state = 0)"
      ],
      "metadata": {
        "id": "jy_sXHNxMlmB"
      },
      "execution_count": null,
      "outputs": []
    },
    {
      "cell_type": "code",
      "source": [
        "encoder = LabelEncoder()\n",
        "train_y = encoder.fit_transform(train_y)\n",
        "test_y = encoder.fit_transform(test_y)"
      ],
      "metadata": {
        "id": "CBOkcJbbMoFj"
      },
      "execution_count": null,
      "outputs": []
    },
    {
      "cell_type": "code",
      "source": [
        "train_y"
      ],
      "metadata": {
        "colab": {
          "base_uri": "https://localhost:8080/"
        },
        "id": "jCWmVjYQMqix",
        "outputId": "db394c99-95f6-4042-c2af-f444760a816f"
      },
      "execution_count": null,
      "outputs": [
        {
          "output_type": "execute_result",
          "data": {
            "text/plain": [
              "array([0, 1, 1, ..., 1, 0, 0])"
            ]
          },
          "metadata": {},
          "execution_count": 34
        }
      ]
    },
    {
      "cell_type": "markdown",
      "source": [
        "# Transform data to count matrix"
      ],
      "metadata": {
        "id": "5sHjx2REMypD"
      }
    },
    {
      "cell_type": "code",
      "source": [
        "MAX = 3000"
      ],
      "metadata": {
        "id": "sJnbW_sdMsl8"
      },
      "execution_count": null,
      "outputs": []
    },
    {
      "cell_type": "markdown",
      "source": [
        "*feature_extraction*:\n",
        "\n",
        "1-CountVectorizer \n",
        "\n",
        "2-TfidfVectorizer"
      ],
      "metadata": {
        "id": "NjzVi-c3ZiG7"
      }
    },
    {
      "cell_type": "code",
      "source": [
        "from sklearn.feature_extraction.text import CountVectorizer, TfidfVectorizer\n",
        "# tfid = TfidfVectorizer(min_df=0, max_df=1, ngram_range=(1,3))\n",
        "tfid = TfidfVectorizer(max_features = MAX,use_idf=True)"
      ],
      "metadata": {
        "id": "mlx7Nn08M09_"
      },
      "execution_count": null,
      "outputs": []
    },
    {
      "cell_type": "code",
      "source": [
        "# Transform train set\n",
        "tfid_train = tfid.fit_transform(train_X)\n",
        "# cv_train = cv.fit_transform(train_X)\n",
        "\n",
        "# Transform test set\n",
        "tfid_test = tfid.fit_transform(test_X)\n",
        "# cv_test = cv.fit_transform(test_X)\n",
        "\n",
        "print('Tfidf_train : ', tfid_train.shape)\n",
        "# print('cv_train : ', cv_train.shape)\n",
        "\n",
        "print('Tfidf_test : ', tfid_test.shape)"
      ],
      "metadata": {
        "colab": {
          "base_uri": "https://localhost:8080/"
        },
        "id": "bAN5_97XM59l",
        "outputId": "bb4a525a-7206-425c-8e74-b2e4191c016d"
      },
      "execution_count": null,
      "outputs": [
        {
          "output_type": "stream",
          "name": "stdout",
          "text": [
            "Tfidf_train :  (1385, 3000)\n",
            "Tfidf_test :  (347, 3000)\n"
          ]
        }
      ]
    },
    {
      "cell_type": "markdown",
      "source": [
        "#Modelling\n",
        "\n",
        "Naive Bayes"
      ],
      "metadata": {
        "id": "B7K-i8HWNEkj"
      }
    },
    {
      "cell_type": "code",
      "source": [
        "from sklearn.naive_bayes import GaussianNB, MultinomialNB\n",
        "# set the model\n",
        "nb_model = MultinomialNB()\n",
        "# nb_model = GaussianNB()\n",
        "\n",
        "# fit the dataset\n",
        "nb_tfidf = nb_model.fit(tfid_train, train_y)\n",
        "print(nb_tfidf)"
      ],
      "metadata": {
        "colab": {
          "base_uri": "https://localhost:8080/"
        },
        "id": "d7xtvjJVM83U",
        "outputId": "c3e2d6bc-24cb-406f-e0b6-7b5bce269d70"
      },
      "execution_count": null,
      "outputs": [
        {
          "output_type": "stream",
          "name": "stdout",
          "text": [
            "MultinomialNB()\n"
          ]
        }
      ]
    },
    {
      "cell_type": "code",
      "source": [
        "nb_tfidf_predict = nb_model.predict(tfid_test)"
      ],
      "metadata": {
        "id": "7_q6joWoNPeD"
      },
      "execution_count": null,
      "outputs": []
    },
    {
      "cell_type": "code",
      "source": [
        "nb_tfidf_predict"
      ],
      "metadata": {
        "colab": {
          "base_uri": "https://localhost:8080/"
        },
        "id": "Et2w_YhcNSEW",
        "outputId": "a14fc252-7f9b-4d9b-a4a0-3651eb38e146"
      },
      "execution_count": null,
      "outputs": [
        {
          "output_type": "execute_result",
          "data": {
            "text/plain": [
              "array([1, 0, 0, 1, 0, 1, 1, 1, 1, 0, 0, 0, 0, 0, 0, 1, 0, 1, 0, 1, 1, 0,\n",
              "       0, 0, 0, 1, 0, 0, 0, 0, 1, 0, 0, 1, 1, 1, 0, 1, 0, 1, 0, 0, 0, 0,\n",
              "       0, 0, 0, 0, 0, 0, 0, 1, 0, 0, 0, 0, 1, 0, 0, 1, 0, 1, 0, 0, 1, 0,\n",
              "       0, 0, 1, 0, 1, 1, 0, 1, 0, 1, 0, 0, 1, 1, 1, 0, 0, 1, 1, 1, 0, 0,\n",
              "       1, 1, 0, 1, 1, 0, 0, 0, 0, 0, 0, 0, 0, 0, 0, 1, 1, 1, 1, 0, 0, 0,\n",
              "       1, 0, 0, 0, 0, 1, 0, 0, 0, 0, 0, 1, 0, 0, 0, 0, 1, 1, 0, 1, 0, 0,\n",
              "       0, 1, 1, 0, 1, 1, 0, 0, 0, 0, 0, 1, 0, 0, 1, 0, 0, 1, 0, 1, 1, 0,\n",
              "       0, 1, 0, 0, 0, 1, 1, 0, 0, 0, 0, 1, 0, 0, 0, 0, 0, 0, 0, 0, 0, 1,\n",
              "       0, 1, 0, 0, 1, 0, 1, 0, 0, 0, 0, 0, 0, 0, 0, 0, 1, 0, 0, 0, 0, 0,\n",
              "       0, 1, 0, 0, 1, 0, 1, 0, 0, 0, 1, 0, 0, 1, 0, 1, 1, 0, 0, 0, 0, 1,\n",
              "       1, 0, 0, 0, 0, 0, 0, 0, 0, 0, 0, 1, 0, 1, 1, 0, 0, 1, 1, 0, 1, 1,\n",
              "       1, 0, 0, 0, 1, 0, 0, 0, 1, 0, 1, 0, 1, 0, 0, 0, 1, 1, 0, 0, 0, 1,\n",
              "       1, 0, 0, 0, 1, 1, 0, 1, 0, 0, 0, 1, 1, 0, 0, 0, 1, 0, 1, 0, 0, 0,\n",
              "       0, 1, 1, 0, 1, 0, 0, 1, 1, 0, 0, 0, 0, 0, 0, 1, 0, 0, 0, 0, 1, 0,\n",
              "       0, 1, 1, 0, 0, 0, 0, 1, 0, 0, 0, 1, 1, 0, 0, 1, 0, 0, 1, 0, 1, 1,\n",
              "       1, 1, 0, 0, 0, 1, 0, 0, 0, 0, 1, 0, 1, 1, 1, 0, 0])"
            ]
          },
          "metadata": {},
          "execution_count": 42
        }
      ]
    },
    {
      "cell_type": "code",
      "source": [
        "nb_tfidf_score=accuracy_score(test_y, nb_tfidf_predict)\n",
        "print(\"Accuracy  {:.3} %\".format(accuracy_score(test_y, nb_tfidf_predict)*100))"
      ],
      "metadata": {
        "colab": {
          "base_uri": "https://localhost:8080/"
        },
        "id": "_FxwH5SnNT2d",
        "outputId": "3e266c49-f735-4b27-9158-a0fa6c24311a"
      },
      "execution_count": null,
      "outputs": [
        {
          "output_type": "stream",
          "name": "stdout",
          "text": [
            "Accuracy  50.1 %\n"
          ]
        }
      ]
    },
    {
      "cell_type": "code",
      "source": [
        "report = classification_report(test_y, nb_tfidf_predict, target_names = ['0', '1'])\n",
        "print(report)"
      ],
      "metadata": {
        "colab": {
          "base_uri": "https://localhost:8080/"
        },
        "id": "c_k47tawNVTX",
        "outputId": "671efd11-6281-4f01-b802-f5fd7799acb4"
      },
      "execution_count": null,
      "outputs": [
        {
          "output_type": "stream",
          "name": "stdout",
          "text": [
            "              precision    recall  f1-score   support\n",
            "\n",
            "           0       0.48      0.66      0.56       166\n",
            "           1       0.53      0.35      0.43       181\n",
            "\n",
            "    accuracy                           0.50       347\n",
            "   macro avg       0.51      0.51      0.49       347\n",
            "weighted avg       0.51      0.50      0.49       347\n",
            "\n"
          ]
        }
      ]
    },
    {
      "cell_type": "code",
      "source": [],
      "metadata": {
        "id": "ct7tBVkaNXuO"
      },
      "execution_count": null,
      "outputs": []
    },
    {
      "cell_type": "markdown",
      "source": [
        "## SVM "
      ],
      "metadata": {
        "id": "z3q9wWXhNcUT"
      }
    },
    {
      "cell_type": "code",
      "source": [
        "svc = SVC(kernel='rbf')\n",
        "svc.fit(tfid_train, train_y)"
      ],
      "metadata": {
        "colab": {
          "base_uri": "https://localhost:8080/"
        },
        "id": "5wtUB5oxNeNr",
        "outputId": "5ab792d3-4012-4f35-efbb-b2d28b66654e"
      },
      "execution_count": null,
      "outputs": [
        {
          "output_type": "execute_result",
          "data": {
            "text/plain": [
              "SVC()"
            ]
          },
          "metadata": {},
          "execution_count": 45
        }
      ]
    },
    {
      "cell_type": "code",
      "source": [
        "predicted = svc.predict(tfid_test)"
      ],
      "metadata": {
        "id": "ut_crCiMNg4G"
      },
      "execution_count": null,
      "outputs": []
    },
    {
      "cell_type": "code",
      "source": [
        "print(\"accuracy score of Support Vector Machine:\", accuracy_score(predicted, test_y), \"\\n\")"
      ],
      "metadata": {
        "colab": {
          "base_uri": "https://localhost:8080/"
        },
        "id": "P3qo3wx4OktG",
        "outputId": "272141fc-a800-4661-9b9e-fb6a0dba8ac3"
      },
      "execution_count": null,
      "outputs": [
        {
          "output_type": "stream",
          "name": "stdout",
          "text": [
            "accuracy score of Support Vector Machine: 0.5100864553314121 \n",
            "\n"
          ]
        }
      ]
    },
    {
      "cell_type": "code",
      "source": [
        "# creating a confusion matrix \n",
        "cm = confusion_matrix(test_y, predicted)\n",
        "print(\"confusion matrix of SVM:\\n\", cm, \"\\n\")\n"
      ],
      "metadata": {
        "colab": {
          "base_uri": "https://localhost:8080/"
        },
        "id": "l-FAouBjOscc",
        "outputId": "4b12d880-7dfb-48aa-c1ba-fdfa5f9e94cd"
      },
      "execution_count": null,
      "outputs": [
        {
          "output_type": "stream",
          "name": "stdout",
          "text": [
            "confusion matrix of SVM:\n",
            " [[158   8]\n",
            " [162  19]] \n",
            "\n"
          ]
        }
      ]
    },
    {
      "cell_type": "code",
      "source": [
        "print(\"classification report:\\n\", classification_report(test_y, predicted), \"\\n\")"
      ],
      "metadata": {
        "colab": {
          "base_uri": "https://localhost:8080/"
        },
        "id": "L7JhKOiAOu4M",
        "outputId": "c18fd3eb-9a54-40ae-a31d-603ef5715c20"
      },
      "execution_count": null,
      "outputs": [
        {
          "output_type": "stream",
          "name": "stdout",
          "text": [
            "classification report:\n",
            "               precision    recall  f1-score   support\n",
            "\n",
            "           0       0.49      0.95      0.65       166\n",
            "           1       0.70      0.10      0.18       181\n",
            "\n",
            "    accuracy                           0.51       347\n",
            "   macro avg       0.60      0.53      0.42       347\n",
            "weighted avg       0.60      0.51      0.41       347\n",
            " \n",
            "\n"
          ]
        }
      ]
    },
    {
      "cell_type": "markdown",
      "source": [
        "Using Deep learing "
      ],
      "metadata": {
        "id": "0zpRwlBcPI1S"
      }
    },
    {
      "cell_type": "code",
      "source": [
        "import tensorflow\n",
        "from tensorflow.keras.layers import Embedding\n",
        "from tensorflow.keras.preprocessing.sequence import pad_sequences\n",
        "from tensorflow.keras.models import Sequential\n",
        "from tensorflow.keras.preprocessing.text import one_hot\n",
        "from tensorflow.keras.layers import LSTM\n",
        "from tensorflow.keras.layers import Dense\n",
        "from tensorflow.keras.layers import Bidirectional\n",
        "from tensorflow.keras.layers import Dropout"
      ],
      "metadata": {
        "id": "j2U7-hQ-O3sO"
      },
      "execution_count": null,
      "outputs": []
    },
    {
      "cell_type": "code",
      "source": [
        "df =df1[['description','requirements','fraudulent']]\n",
        "df.head()"
      ],
      "metadata": {
        "colab": {
          "base_uri": "https://localhost:8080/",
          "height": 206
        },
        "id": "5NOdu-kdPGow",
        "outputId": "8938a867-0e1d-4ead-eb06-c7831f7e137b"
      },
      "execution_count": null,
      "outputs": [
        {
          "output_type": "execute_result",
          "data": {
            "text/plain": [
              "                                         description  \\\n",
              "0  We currently have a vacancy for a Senior Netwo...   \n",
              "1  TransferWise is a fast growing startup helping...   \n",
              "2  We are looking for a male speaker for Danish s...   \n",
              "3  Award-Winning Technology Media Company Seek a ...   \n",
              "4  ABOUT EMBARKEEmbarke performs behavioral analy...   \n",
              "\n",
              "                                        requirements  fraudulent  \n",
              "0  Your skills:University degree in information t...           0  \n",
              "1  Do you?- Enjoy problem solving - Find meaning ...           0  \n",
              "2  Previous experience as a speaker, actor or sin...           0  \n",
              "3  Be comfortable taking a data-led approach to d...           0  \n",
              "4  10+ years of experience, or equivalentEntrepre...           0  "
            ],
            "text/html": [
              "\n",
              "  <div id=\"df-0e2d8389-aafa-4d96-bd58-7e5bfdc596cb\">\n",
              "    <div class=\"colab-df-container\">\n",
              "      <div>\n",
              "<style scoped>\n",
              "    .dataframe tbody tr th:only-of-type {\n",
              "        vertical-align: middle;\n",
              "    }\n",
              "\n",
              "    .dataframe tbody tr th {\n",
              "        vertical-align: top;\n",
              "    }\n",
              "\n",
              "    .dataframe thead th {\n",
              "        text-align: right;\n",
              "    }\n",
              "</style>\n",
              "<table border=\"1\" class=\"dataframe\">\n",
              "  <thead>\n",
              "    <tr style=\"text-align: right;\">\n",
              "      <th></th>\n",
              "      <th>description</th>\n",
              "      <th>requirements</th>\n",
              "      <th>fraudulent</th>\n",
              "    </tr>\n",
              "  </thead>\n",
              "  <tbody>\n",
              "    <tr>\n",
              "      <th>0</th>\n",
              "      <td>We currently have a vacancy for a Senior Netwo...</td>\n",
              "      <td>Your skills:University degree in information t...</td>\n",
              "      <td>0</td>\n",
              "    </tr>\n",
              "    <tr>\n",
              "      <th>1</th>\n",
              "      <td>TransferWise is a fast growing startup helping...</td>\n",
              "      <td>Do you?- Enjoy problem solving - Find meaning ...</td>\n",
              "      <td>0</td>\n",
              "    </tr>\n",
              "    <tr>\n",
              "      <th>2</th>\n",
              "      <td>We are looking for a male speaker for Danish s...</td>\n",
              "      <td>Previous experience as a speaker, actor or sin...</td>\n",
              "      <td>0</td>\n",
              "    </tr>\n",
              "    <tr>\n",
              "      <th>3</th>\n",
              "      <td>Award-Winning Technology Media Company Seek a ...</td>\n",
              "      <td>Be comfortable taking a data-led approach to d...</td>\n",
              "      <td>0</td>\n",
              "    </tr>\n",
              "    <tr>\n",
              "      <th>4</th>\n",
              "      <td>ABOUT EMBARKEEmbarke performs behavioral analy...</td>\n",
              "      <td>10+ years of experience, or equivalentEntrepre...</td>\n",
              "      <td>0</td>\n",
              "    </tr>\n",
              "  </tbody>\n",
              "</table>\n",
              "</div>\n",
              "      <button class=\"colab-df-convert\" onclick=\"convertToInteractive('df-0e2d8389-aafa-4d96-bd58-7e5bfdc596cb')\"\n",
              "              title=\"Convert this dataframe to an interactive table.\"\n",
              "              style=\"display:none;\">\n",
              "        \n",
              "  <svg xmlns=\"http://www.w3.org/2000/svg\" height=\"24px\"viewBox=\"0 0 24 24\"\n",
              "       width=\"24px\">\n",
              "    <path d=\"M0 0h24v24H0V0z\" fill=\"none\"/>\n",
              "    <path d=\"M18.56 5.44l.94 2.06.94-2.06 2.06-.94-2.06-.94-.94-2.06-.94 2.06-2.06.94zm-11 1L8.5 8.5l.94-2.06 2.06-.94-2.06-.94L8.5 2.5l-.94 2.06-2.06.94zm10 10l.94 2.06.94-2.06 2.06-.94-2.06-.94-.94-2.06-.94 2.06-2.06.94z\"/><path d=\"M17.41 7.96l-1.37-1.37c-.4-.4-.92-.59-1.43-.59-.52 0-1.04.2-1.43.59L10.3 9.45l-7.72 7.72c-.78.78-.78 2.05 0 2.83L4 21.41c.39.39.9.59 1.41.59.51 0 1.02-.2 1.41-.59l7.78-7.78 2.81-2.81c.8-.78.8-2.07 0-2.86zM5.41 20L4 18.59l7.72-7.72 1.47 1.35L5.41 20z\"/>\n",
              "  </svg>\n",
              "      </button>\n",
              "      \n",
              "  <style>\n",
              "    .colab-df-container {\n",
              "      display:flex;\n",
              "      flex-wrap:wrap;\n",
              "      gap: 12px;\n",
              "    }\n",
              "\n",
              "    .colab-df-convert {\n",
              "      background-color: #E8F0FE;\n",
              "      border: none;\n",
              "      border-radius: 50%;\n",
              "      cursor: pointer;\n",
              "      display: none;\n",
              "      fill: #1967D2;\n",
              "      height: 32px;\n",
              "      padding: 0 0 0 0;\n",
              "      width: 32px;\n",
              "    }\n",
              "\n",
              "    .colab-df-convert:hover {\n",
              "      background-color: #E2EBFA;\n",
              "      box-shadow: 0px 1px 2px rgba(60, 64, 67, 0.3), 0px 1px 3px 1px rgba(60, 64, 67, 0.15);\n",
              "      fill: #174EA6;\n",
              "    }\n",
              "\n",
              "    [theme=dark] .colab-df-convert {\n",
              "      background-color: #3B4455;\n",
              "      fill: #D2E3FC;\n",
              "    }\n",
              "\n",
              "    [theme=dark] .colab-df-convert:hover {\n",
              "      background-color: #434B5C;\n",
              "      box-shadow: 0px 1px 3px 1px rgba(0, 0, 0, 0.15);\n",
              "      filter: drop-shadow(0px 1px 2px rgba(0, 0, 0, 0.3));\n",
              "      fill: #FFFFFF;\n",
              "    }\n",
              "  </style>\n",
              "\n",
              "      <script>\n",
              "        const buttonEl =\n",
              "          document.querySelector('#df-0e2d8389-aafa-4d96-bd58-7e5bfdc596cb button.colab-df-convert');\n",
              "        buttonEl.style.display =\n",
              "          google.colab.kernel.accessAllowed ? 'block' : 'none';\n",
              "\n",
              "        async function convertToInteractive(key) {\n",
              "          const element = document.querySelector('#df-0e2d8389-aafa-4d96-bd58-7e5bfdc596cb');\n",
              "          const dataTable =\n",
              "            await google.colab.kernel.invokeFunction('convertToInteractive',\n",
              "                                                     [key], {});\n",
              "          if (!dataTable) return;\n",
              "\n",
              "          const docLinkHtml = 'Like what you see? Visit the ' +\n",
              "            '<a target=\"_blank\" href=https://colab.research.google.com/notebooks/data_table.ipynb>data table notebook</a>'\n",
              "            + ' to learn more about interactive tables.';\n",
              "          element.innerHTML = '';\n",
              "          dataTable['output_type'] = 'display_data';\n",
              "          await google.colab.output.renderOutput(dataTable, element);\n",
              "          const docLink = document.createElement('div');\n",
              "          docLink.innerHTML = docLinkHtml;\n",
              "          element.appendChild(docLink);\n",
              "        }\n",
              "      </script>\n",
              "    </div>\n",
              "  </div>\n",
              "  "
            ]
          },
          "metadata": {},
          "execution_count": 51
        }
      ]
    },
    {
      "cell_type": "code",
      "source": [
        "df.shape"
      ],
      "metadata": {
        "colab": {
          "base_uri": "https://localhost:8080/"
        },
        "id": "Uk4Tr0IAPQeH",
        "outputId": "c0f5f958-8bbf-4a98-ceb6-8e2085706cb8"
      },
      "execution_count": null,
      "outputs": [
        {
          "output_type": "execute_result",
          "data": {
            "text/plain": [
              "(1732, 3)"
            ]
          },
          "metadata": {},
          "execution_count": 52
        }
      ]
    },
    {
      "cell_type": "code",
      "source": [
        "###Drop Nan Values\n",
        "df=df.dropna()"
      ],
      "metadata": {
        "id": "6uvtCr1wPww0"
      },
      "execution_count": null,
      "outputs": []
    },
    {
      "cell_type": "code",
      "source": [
        "df.shape"
      ],
      "metadata": {
        "colab": {
          "base_uri": "https://localhost:8080/"
        },
        "id": "nErDhNtYPymk",
        "outputId": "08598fa2-16be-4576-c0bd-36420761eab4"
      },
      "execution_count": null,
      "outputs": [
        {
          "output_type": "execute_result",
          "data": {
            "text/plain": [
              "(1732, 3)"
            ]
          },
          "metadata": {},
          "execution_count": 54
        }
      ]
    },
    {
      "cell_type": "code",
      "source": [
        "#Dependent feacture\n",
        "new_X=df.drop('fraudulent',axis=1)\n",
        "new_X.head()"
      ],
      "metadata": {
        "colab": {
          "base_uri": "https://localhost:8080/",
          "height": 206
        },
        "id": "hGc73SGJP0KB",
        "outputId": "2c7d1166-3e70-4a5c-870e-fbfb2f0993e3"
      },
      "execution_count": null,
      "outputs": [
        {
          "output_type": "execute_result",
          "data": {
            "text/plain": [
              "                                         description  \\\n",
              "0  We currently have a vacancy for a Senior Netwo...   \n",
              "1  TransferWise is a fast growing startup helping...   \n",
              "2  We are looking for a male speaker for Danish s...   \n",
              "3  Award-Winning Technology Media Company Seek a ...   \n",
              "4  ABOUT EMBARKEEmbarke performs behavioral analy...   \n",
              "\n",
              "                                        requirements  \n",
              "0  Your skills:University degree in information t...  \n",
              "1  Do you?- Enjoy problem solving - Find meaning ...  \n",
              "2  Previous experience as a speaker, actor or sin...  \n",
              "3  Be comfortable taking a data-led approach to d...  \n",
              "4  10+ years of experience, or equivalentEntrepre...  "
            ],
            "text/html": [
              "\n",
              "  <div id=\"df-707a3c13-67ca-4704-a83e-3c41d0332a3b\">\n",
              "    <div class=\"colab-df-container\">\n",
              "      <div>\n",
              "<style scoped>\n",
              "    .dataframe tbody tr th:only-of-type {\n",
              "        vertical-align: middle;\n",
              "    }\n",
              "\n",
              "    .dataframe tbody tr th {\n",
              "        vertical-align: top;\n",
              "    }\n",
              "\n",
              "    .dataframe thead th {\n",
              "        text-align: right;\n",
              "    }\n",
              "</style>\n",
              "<table border=\"1\" class=\"dataframe\">\n",
              "  <thead>\n",
              "    <tr style=\"text-align: right;\">\n",
              "      <th></th>\n",
              "      <th>description</th>\n",
              "      <th>requirements</th>\n",
              "    </tr>\n",
              "  </thead>\n",
              "  <tbody>\n",
              "    <tr>\n",
              "      <th>0</th>\n",
              "      <td>We currently have a vacancy for a Senior Netwo...</td>\n",
              "      <td>Your skills:University degree in information t...</td>\n",
              "    </tr>\n",
              "    <tr>\n",
              "      <th>1</th>\n",
              "      <td>TransferWise is a fast growing startup helping...</td>\n",
              "      <td>Do you?- Enjoy problem solving - Find meaning ...</td>\n",
              "    </tr>\n",
              "    <tr>\n",
              "      <th>2</th>\n",
              "      <td>We are looking for a male speaker for Danish s...</td>\n",
              "      <td>Previous experience as a speaker, actor or sin...</td>\n",
              "    </tr>\n",
              "    <tr>\n",
              "      <th>3</th>\n",
              "      <td>Award-Winning Technology Media Company Seek a ...</td>\n",
              "      <td>Be comfortable taking a data-led approach to d...</td>\n",
              "    </tr>\n",
              "    <tr>\n",
              "      <th>4</th>\n",
              "      <td>ABOUT EMBARKEEmbarke performs behavioral analy...</td>\n",
              "      <td>10+ years of experience, or equivalentEntrepre...</td>\n",
              "    </tr>\n",
              "  </tbody>\n",
              "</table>\n",
              "</div>\n",
              "      <button class=\"colab-df-convert\" onclick=\"convertToInteractive('df-707a3c13-67ca-4704-a83e-3c41d0332a3b')\"\n",
              "              title=\"Convert this dataframe to an interactive table.\"\n",
              "              style=\"display:none;\">\n",
              "        \n",
              "  <svg xmlns=\"http://www.w3.org/2000/svg\" height=\"24px\"viewBox=\"0 0 24 24\"\n",
              "       width=\"24px\">\n",
              "    <path d=\"M0 0h24v24H0V0z\" fill=\"none\"/>\n",
              "    <path d=\"M18.56 5.44l.94 2.06.94-2.06 2.06-.94-2.06-.94-.94-2.06-.94 2.06-2.06.94zm-11 1L8.5 8.5l.94-2.06 2.06-.94-2.06-.94L8.5 2.5l-.94 2.06-2.06.94zm10 10l.94 2.06.94-2.06 2.06-.94-2.06-.94-.94-2.06-.94 2.06-2.06.94z\"/><path d=\"M17.41 7.96l-1.37-1.37c-.4-.4-.92-.59-1.43-.59-.52 0-1.04.2-1.43.59L10.3 9.45l-7.72 7.72c-.78.78-.78 2.05 0 2.83L4 21.41c.39.39.9.59 1.41.59.51 0 1.02-.2 1.41-.59l7.78-7.78 2.81-2.81c.8-.78.8-2.07 0-2.86zM5.41 20L4 18.59l7.72-7.72 1.47 1.35L5.41 20z\"/>\n",
              "  </svg>\n",
              "      </button>\n",
              "      \n",
              "  <style>\n",
              "    .colab-df-container {\n",
              "      display:flex;\n",
              "      flex-wrap:wrap;\n",
              "      gap: 12px;\n",
              "    }\n",
              "\n",
              "    .colab-df-convert {\n",
              "      background-color: #E8F0FE;\n",
              "      border: none;\n",
              "      border-radius: 50%;\n",
              "      cursor: pointer;\n",
              "      display: none;\n",
              "      fill: #1967D2;\n",
              "      height: 32px;\n",
              "      padding: 0 0 0 0;\n",
              "      width: 32px;\n",
              "    }\n",
              "\n",
              "    .colab-df-convert:hover {\n",
              "      background-color: #E2EBFA;\n",
              "      box-shadow: 0px 1px 2px rgba(60, 64, 67, 0.3), 0px 1px 3px 1px rgba(60, 64, 67, 0.15);\n",
              "      fill: #174EA6;\n",
              "    }\n",
              "\n",
              "    [theme=dark] .colab-df-convert {\n",
              "      background-color: #3B4455;\n",
              "      fill: #D2E3FC;\n",
              "    }\n",
              "\n",
              "    [theme=dark] .colab-df-convert:hover {\n",
              "      background-color: #434B5C;\n",
              "      box-shadow: 0px 1px 3px 1px rgba(0, 0, 0, 0.15);\n",
              "      filter: drop-shadow(0px 1px 2px rgba(0, 0, 0, 0.3));\n",
              "      fill: #FFFFFF;\n",
              "    }\n",
              "  </style>\n",
              "\n",
              "      <script>\n",
              "        const buttonEl =\n",
              "          document.querySelector('#df-707a3c13-67ca-4704-a83e-3c41d0332a3b button.colab-df-convert');\n",
              "        buttonEl.style.display =\n",
              "          google.colab.kernel.accessAllowed ? 'block' : 'none';\n",
              "\n",
              "        async function convertToInteractive(key) {\n",
              "          const element = document.querySelector('#df-707a3c13-67ca-4704-a83e-3c41d0332a3b');\n",
              "          const dataTable =\n",
              "            await google.colab.kernel.invokeFunction('convertToInteractive',\n",
              "                                                     [key], {});\n",
              "          if (!dataTable) return;\n",
              "\n",
              "          const docLinkHtml = 'Like what you see? Visit the ' +\n",
              "            '<a target=\"_blank\" href=https://colab.research.google.com/notebooks/data_table.ipynb>data table notebook</a>'\n",
              "            + ' to learn more about interactive tables.';\n",
              "          element.innerHTML = '';\n",
              "          dataTable['output_type'] = 'display_data';\n",
              "          await google.colab.output.renderOutput(dataTable, element);\n",
              "          const docLink = document.createElement('div');\n",
              "          docLink.innerHTML = docLinkHtml;\n",
              "          element.appendChild(docLink);\n",
              "        }\n",
              "      </script>\n",
              "    </div>\n",
              "  </div>\n",
              "  "
            ]
          },
          "metadata": {},
          "execution_count": 55
        }
      ]
    },
    {
      "cell_type": "code",
      "source": [
        "## Get the Dependent features\n",
        "new_y=df['fraudulent']\n",
        "new_y.head()"
      ],
      "metadata": {
        "colab": {
          "base_uri": "https://localhost:8080/"
        },
        "id": "t-HzN8WaP15q",
        "outputId": "4d32a2a9-21c4-4401-e065-f9538bd43ac3"
      },
      "execution_count": null,
      "outputs": [
        {
          "output_type": "execute_result",
          "data": {
            "text/plain": [
              "0    0\n",
              "1    0\n",
              "2    0\n",
              "3    0\n",
              "4    0\n",
              "Name: fraudulent, dtype: int64"
            ]
          },
          "metadata": {},
          "execution_count": 56
        }
      ]
    },
    {
      "cell_type": "code",
      "source": [
        "new_y.value_counts()"
      ],
      "metadata": {
        "colab": {
          "base_uri": "https://localhost:8080/"
        },
        "id": "MI4JmEVGP4R7",
        "outputId": "7acf6830-bd88-432b-fa8d-5250156b0464"
      },
      "execution_count": null,
      "outputs": [
        {
          "output_type": "execute_result",
          "data": {
            "text/plain": [
              "0    866\n",
              "1    866\n",
              "Name: fraudulent, dtype: int64"
            ]
          },
          "metadata": {},
          "execution_count": 57
        }
      ]
    },
    {
      "cell_type": "code",
      "source": [
        "voc_size=5000"
      ],
      "metadata": {
        "id": "BQT-MEP8QBvI"
      },
      "execution_count": null,
      "outputs": []
    },
    {
      "cell_type": "code",
      "source": [
        "message = new_X.copy()"
      ],
      "metadata": {
        "id": "l4dMbi7KQDOV"
      },
      "execution_count": null,
      "outputs": []
    },
    {
      "cell_type": "code",
      "source": [
        "message['description'][1]"
      ],
      "metadata": {
        "colab": {
          "base_uri": "https://localhost:8080/",
          "height": 105
        },
        "id": "ww3NTpk1QHKa",
        "outputId": "ae4184c2-f751-47b3-9c54-aecc3d13806f"
      },
      "execution_count": null,
      "outputs": [
        {
          "output_type": "execute_result",
          "data": {
            "text/plain": [
              "\"TransferWise is a fast growing startup helping people transfer money. Co-founded by Skype’s first employee and backed by some of planet's most experienced innovators, including PayPal founder &amp; Facebook's first investor Peter Thiel, we're disrupting the world of currency &amp; international money transfer. Our product team works on everything from implementing payment methods, designing features and identifying opportunities. To help our product managers through a period of high growth we're now offering a 3 month paid internship for the right boy or girl. As our first ever product intern we envision you a soon-to-be or\\xa0recent graduate, ready to take in a huge amount of knowledge in short time period, without very much supervision. In return, you'll get the crash course of your life within a small world-class team.\""
            ],
            "application/vnd.google.colaboratory.intrinsic+json": {
              "type": "string"
            }
          },
          "metadata": {},
          "execution_count": 60
        }
      ]
    },
    {
      "cell_type": "code",
      "source": [
        "message.reset_index(inplace=True)"
      ],
      "metadata": {
        "id": "uUMRZPfdQI3T"
      },
      "execution_count": null,
      "outputs": []
    },
    {
      "cell_type": "code",
      "source": [
        "from nltk.stem.porter import PorterStemmer\n",
        "ps = PorterStemmer()\n",
        "corpus = []\n",
        "for i in range(0, len(message)):\n",
        "    review = re.sub('[^a-zA-Z]', ' ', message['description'][i])\n",
        "    review = review.lower()\n",
        "    review = review.split()\n",
        "    \n",
        "    review = [ps.stem(word) for word in review if not word in stopwords.words('english')]\n",
        "    review = ' '.join(review)\n",
        "    corpus.append(review)"
      ],
      "metadata": {
        "id": "8jlKw11cQKh8"
      },
      "execution_count": null,
      "outputs": []
    },
    {
      "cell_type": "code",
      "source": [
        "corpus[1]"
      ],
      "metadata": {
        "colab": {
          "base_uri": "https://localhost:8080/",
          "height": 70
        },
        "id": "4cYQLfDxQMYL",
        "outputId": "d79e477f-83bc-4a6f-d6b6-2d05acf5e50f"
      },
      "execution_count": null,
      "outputs": [
        {
          "output_type": "execute_result",
          "data": {
            "text/plain": [
              "'transferwis fast grow startup help peopl transfer money co found skype first employe back planet experienc innov includ paypal founder amp facebook first investor peter thiel disrupt world currenc amp intern money transfer product team work everyth implement payment method design featur identifi opportun help product manag period high growth offer month paid internship right boy girl first ever product intern envis soon recent graduat readi take huge amount knowledg short time period without much supervis return get crash cours life within small world class team'"
            ],
            "application/vnd.google.colaboratory.intrinsic+json": {
              "type": "string"
            }
          },
          "metadata": {},
          "execution_count": 63
        }
      ]
    },
    {
      "cell_type": "code",
      "source": [
        "onehot_repr=[one_hot(words,voc_size)for words in corpus] \n",
        "onehot_repr[1]"
      ],
      "metadata": {
        "colab": {
          "base_uri": "https://localhost:8080/"
        },
        "id": "nKowqLDVSa2i",
        "outputId": "7e2dc316-7d5d-4f8d-adc6-70c40391d60f"
      },
      "execution_count": null,
      "outputs": [
        {
          "output_type": "execute_result",
          "data": {
            "text/plain": [
              "[2883,\n",
              " 2724,\n",
              " 1157,\n",
              " 4141,\n",
              " 2321,\n",
              " 3708,\n",
              " 1843,\n",
              " 2642,\n",
              " 2389,\n",
              " 4853,\n",
              " 565,\n",
              " 2393,\n",
              " 4467,\n",
              " 2746,\n",
              " 3671,\n",
              " 3436,\n",
              " 4215,\n",
              " 3627,\n",
              " 2742,\n",
              " 2906,\n",
              " 635,\n",
              " 2974,\n",
              " 2393,\n",
              " 1995,\n",
              " 3922,\n",
              " 1719,\n",
              " 286,\n",
              " 1925,\n",
              " 3905,\n",
              " 635,\n",
              " 3220,\n",
              " 2642,\n",
              " 1843,\n",
              " 559,\n",
              " 1550,\n",
              " 4728,\n",
              " 1580,\n",
              " 244,\n",
              " 3084,\n",
              " 4856,\n",
              " 3292,\n",
              " 902,\n",
              " 1948,\n",
              " 2082,\n",
              " 2321,\n",
              " 559,\n",
              " 1094,\n",
              " 1820,\n",
              " 3371,\n",
              " 2578,\n",
              " 2996,\n",
              " 3506,\n",
              " 301,\n",
              " 4362,\n",
              " 4496,\n",
              " 1869,\n",
              " 2391,\n",
              " 2393,\n",
              " 558,\n",
              " 559,\n",
              " 3220,\n",
              " 860,\n",
              " 2492,\n",
              " 4513,\n",
              " 2747,\n",
              " 2135,\n",
              " 741,\n",
              " 2923,\n",
              " 521,\n",
              " 549,\n",
              " 1358,\n",
              " 1660,\n",
              " 1820,\n",
              " 971,\n",
              " 2232,\n",
              " 982,\n",
              " 4543,\n",
              " 1716,\n",
              " 453,\n",
              " 874,\n",
              " 3672,\n",
              " 2891,\n",
              " 3411,\n",
              " 1925,\n",
              " 1843,\n",
              " 1550]"
            ]
          },
          "metadata": {},
          "execution_count": 64
        }
      ]
    },
    {
      "cell_type": "code",
      "source": [
        "sent_length=40\n",
        "embedded_docs=pad_sequences(onehot_repr,padding='pre',maxlen=sent_length)\n",
        "print(embedded_docs)"
      ],
      "metadata": {
        "colab": {
          "base_uri": "https://localhost:8080/"
        },
        "id": "8UB8f_1dSolN",
        "outputId": "883a8fe2-2dff-4f43-8b24-9c45d77e6bbc"
      },
      "execution_count": null,
      "outputs": [
        {
          "output_type": "stream",
          "name": "stdout",
          "text": [
            "[[ 901 4729   82 ...  977 2727 3527]\n",
            " [1094 1820 3371 ... 1925 1843 1550]\n",
            " [   0    0    0 ...  170   57 4274]\n",
            " ...\n",
            " [   0    0 3288 ... 4950 3324 4618]\n",
            " [   0    0    0 ...  104  624   54]\n",
            " [   0    0    0 ... 4103 4560 1236]]\n"
          ]
        }
      ]
    },
    {
      "cell_type": "code",
      "source": [
        "a=embedded_docs[0]\n",
        "len(a)"
      ],
      "metadata": {
        "colab": {
          "base_uri": "https://localhost:8080/"
        },
        "id": "3RfadOUtSsSh",
        "outputId": "88eb87f7-ca98-4076-bf2e-f7483c6a8a76"
      },
      "execution_count": null,
      "outputs": [
        {
          "output_type": "execute_result",
          "data": {
            "text/plain": [
              "40"
            ]
          },
          "metadata": {},
          "execution_count": 66
        }
      ]
    },
    {
      "cell_type": "code",
      "source": [
        "## Creating model\n",
        "embedding_vector_features=50\n",
        "model1=Sequential()\n",
        "model1.add(Embedding(voc_size,embedding_vector_features,input_length=sent_length))\n",
        "model1.add(Bidirectional(LSTM(100))) ##Just add bidirectional!!, except it would just behave as normal LSTM Model\n",
        "model1.add(Dropout(0.3))\n",
        "model1.add(Dense(1,activation='sigmoid'))\n",
        "model1.compile(loss='binary_crossentropy',optimizer='adam',metrics=['accuracy'])\n",
        "print(model1.summary())"
      ],
      "metadata": {
        "colab": {
          "base_uri": "https://localhost:8080/"
        },
        "id": "4iDtIlcbSzIa",
        "outputId": "2100db77-1dc5-4ac7-e267-f6e9e2863117"
      },
      "execution_count": null,
      "outputs": [
        {
          "output_type": "stream",
          "name": "stdout",
          "text": [
            "Model: \"sequential\"\n",
            "_________________________________________________________________\n",
            " Layer (type)                Output Shape              Param #   \n",
            "=================================================================\n",
            " embedding (Embedding)       (None, 40, 50)            250000    \n",
            "                                                                 \n",
            " bidirectional (Bidirectiona  (None, 200)              120800    \n",
            " l)                                                              \n",
            "                                                                 \n",
            " dropout (Dropout)           (None, 200)               0         \n",
            "                                                                 \n",
            " dense (Dense)               (None, 1)                 201       \n",
            "                                                                 \n",
            "=================================================================\n",
            "Total params: 371,001\n",
            "Trainable params: 371,001\n",
            "Non-trainable params: 0\n",
            "_________________________________________________________________\n",
            "None\n"
          ]
        }
      ]
    },
    {
      "cell_type": "code",
      "source": [
        "len(embedded_docs),new_y.shape"
      ],
      "metadata": {
        "colab": {
          "base_uri": "https://localhost:8080/"
        },
        "id": "pmk0YuVTS76-",
        "outputId": "5be62969-9267-46b0-9f42-0c74455e15b5"
      },
      "execution_count": null,
      "outputs": [
        {
          "output_type": "execute_result",
          "data": {
            "text/plain": [
              "(1732, (1732,))"
            ]
          },
          "metadata": {},
          "execution_count": 68
        }
      ]
    },
    {
      "cell_type": "code",
      "source": [
        "X_final=np.array(embedded_docs)\n",
        "y_final=np.array(new_y)"
      ],
      "metadata": {
        "id": "b-5Zch2lS_R9"
      },
      "execution_count": null,
      "outputs": []
    },
    {
      "cell_type": "code",
      "source": [
        "from sklearn.model_selection import train_test_split\n",
        "X_train, X_test, y_train, y_test = train_test_split(X_final, y_final, test_size=0.25, random_state=32)"
      ],
      "metadata": {
        "id": "w-mQ4hpGTBIq"
      },
      "execution_count": null,
      "outputs": []
    },
    {
      "cell_type": "code",
      "source": [
        "model1.fit(X_train,y_train,validation_data=(X_test,y_test),epochs=12,batch_size=64)"
      ],
      "metadata": {
        "colab": {
          "base_uri": "https://localhost:8080/"
        },
        "id": "66ehPynhTCyG",
        "outputId": "712b043b-bf65-4917-827c-a0b274e2f8bf"
      },
      "execution_count": null,
      "outputs": [
        {
          "output_type": "stream",
          "name": "stdout",
          "text": [
            "Epoch 1/12\n",
            "21/21 [==============================] - 8s 172ms/step - loss: 0.6879 - accuracy: 0.5620 - val_loss: 0.6669 - val_accuracy: 0.5681\n",
            "Epoch 2/12\n",
            "21/21 [==============================] - 2s 118ms/step - loss: 0.5101 - accuracy: 0.7644 - val_loss: 0.5295 - val_accuracy: 0.7206\n",
            "Epoch 3/12\n",
            "21/21 [==============================] - 2s 118ms/step - loss: 0.2943 - accuracy: 0.8930 - val_loss: 0.4658 - val_accuracy: 0.8129\n",
            "Epoch 4/12\n",
            "21/21 [==============================] - 2s 116ms/step - loss: 0.1379 - accuracy: 0.9538 - val_loss: 0.5218 - val_accuracy: 0.8037\n",
            "Epoch 5/12\n",
            "21/21 [==============================] - 2s 116ms/step - loss: 0.0550 - accuracy: 0.9823 - val_loss: 0.6495 - val_accuracy: 0.8083\n",
            "Epoch 6/12\n",
            "21/21 [==============================] - 2s 119ms/step - loss: 0.0479 - accuracy: 0.9877 - val_loss: 0.7010 - val_accuracy: 0.7783\n",
            "Epoch 7/12\n",
            "21/21 [==============================] - 2s 118ms/step - loss: 0.0115 - accuracy: 0.9977 - val_loss: 0.9112 - val_accuracy: 0.7621\n",
            "Epoch 8/12\n",
            "21/21 [==============================] - 2s 117ms/step - loss: 0.0052 - accuracy: 0.9992 - val_loss: 0.9608 - val_accuracy: 0.7714\n",
            "Epoch 9/12\n",
            "21/21 [==============================] - 2s 117ms/step - loss: 0.0026 - accuracy: 1.0000 - val_loss: 1.0178 - val_accuracy: 0.7667\n",
            "Epoch 10/12\n",
            "21/21 [==============================] - 2s 117ms/step - loss: 0.0016 - accuracy: 1.0000 - val_loss: 1.0278 - val_accuracy: 0.7737\n",
            "Epoch 11/12\n",
            "21/21 [==============================] - 3s 121ms/step - loss: 0.0014 - accuracy: 1.0000 - val_loss: 1.0879 - val_accuracy: 0.7667\n",
            "Epoch 12/12\n",
            "21/21 [==============================] - 2s 117ms/step - loss: 0.0011 - accuracy: 1.0000 - val_loss: 1.1389 - val_accuracy: 0.7691\n"
          ]
        },
        {
          "output_type": "execute_result",
          "data": {
            "text/plain": [
              "<keras.callbacks.History at 0x7fcccbf61510>"
            ]
          },
          "metadata": {},
          "execution_count": 71
        }
      ]
    },
    {
      "cell_type": "code",
      "source": [
        "y_pred=model1.predict(X_test)\n",
        "y_pred"
      ],
      "metadata": {
        "colab": {
          "base_uri": "https://localhost:8080/"
        },
        "id": "3ZRCL3ssTEcZ",
        "outputId": "0120b384-1b2b-491d-ae09-d6020c19c7e9"
      },
      "execution_count": null,
      "outputs": [
        {
          "output_type": "stream",
          "name": "stdout",
          "text": [
            "14/14 [==============================] - 1s 15ms/step\n"
          ]
        },
        {
          "output_type": "execute_result",
          "data": {
            "text/plain": [
              "array([[9.9936640e-01],\n",
              "       [3.3300850e-04],\n",
              "       [9.9999571e-01],\n",
              "       [9.4336897e-01],\n",
              "       [2.4188342e-04],\n",
              "       [2.2973462e-04],\n",
              "       [3.0181187e-04],\n",
              "       [9.9830341e-04],\n",
              "       [9.9893749e-01],\n",
              "       [1.4577127e-01],\n",
              "       [4.1886512e-03],\n",
              "       [4.8413352e-04],\n",
              "       [9.9993145e-01],\n",
              "       [3.2269390e-04],\n",
              "       [7.0642820e-04],\n",
              "       [9.9865931e-01],\n",
              "       [3.5059950e-04],\n",
              "       [9.9742734e-01],\n",
              "       [9.8599386e-01],\n",
              "       [1.3626135e-02],\n",
              "       [9.9999446e-01],\n",
              "       [9.9993527e-01],\n",
              "       [2.6642557e-03],\n",
              "       [1.1225560e-02],\n",
              "       [3.0080448e-03],\n",
              "       [9.9999279e-01],\n",
              "       [9.8438472e-01],\n",
              "       [9.9995404e-01],\n",
              "       [9.6727622e-01],\n",
              "       [9.9999386e-01],\n",
              "       [2.4499500e-04],\n",
              "       [9.9996322e-01],\n",
              "       [9.9999410e-01],\n",
              "       [9.6513724e-01],\n",
              "       [2.4188919e-02],\n",
              "       [7.1046856e-04],\n",
              "       [1.3694785e-02],\n",
              "       [9.9999386e-01],\n",
              "       [3.7769481e-04],\n",
              "       [4.3186301e-04],\n",
              "       [5.8381882e-04],\n",
              "       [9.9999499e-01],\n",
              "       [9.9999034e-01],\n",
              "       [9.9987614e-01],\n",
              "       [2.5842569e-04],\n",
              "       [4.0989849e-03],\n",
              "       [3.5847928e-03],\n",
              "       [6.1802438e-04],\n",
              "       [9.9994606e-01],\n",
              "       [9.4979668e-01],\n",
              "       [9.9988806e-01],\n",
              "       [9.9999446e-01],\n",
              "       [9.9996322e-01],\n",
              "       [9.9996322e-01],\n",
              "       [2.5358105e-01],\n",
              "       [2.6574821e-04],\n",
              "       [9.9999368e-01],\n",
              "       [9.7142369e-01],\n",
              "       [2.7415235e-04],\n",
              "       [5.2016391e-03],\n",
              "       [9.9998266e-01],\n",
              "       [1.5202856e-03],\n",
              "       [2.8877379e-04],\n",
              "       [2.9417707e-03],\n",
              "       [9.9999386e-01],\n",
              "       [7.0653320e-04],\n",
              "       [1.9148581e-01],\n",
              "       [2.7133044e-04],\n",
              "       [2.7510623e-04],\n",
              "       [9.7951937e-01],\n",
              "       [3.2334018e-03],\n",
              "       [9.9882728e-01],\n",
              "       [9.9997777e-01],\n",
              "       [9.9998534e-01],\n",
              "       [1.2793342e-03],\n",
              "       [9.8292623e-03],\n",
              "       [2.7133044e-04],\n",
              "       [9.9934083e-01],\n",
              "       [9.9999446e-01],\n",
              "       [9.9939072e-01],\n",
              "       [9.9998182e-01],\n",
              "       [5.6550174e-04],\n",
              "       [2.6506189e-01],\n",
              "       [9.9999368e-01],\n",
              "       [9.9999261e-01],\n",
              "       [6.0873409e-03],\n",
              "       [3.4786112e-04],\n",
              "       [2.9013786e-04],\n",
              "       [9.9991292e-01],\n",
              "       [4.0852392e-01],\n",
              "       [9.9782568e-01],\n",
              "       [9.9996322e-01],\n",
              "       [8.4713352e-01],\n",
              "       [9.9999368e-01],\n",
              "       [9.9996322e-01],\n",
              "       [9.4446355e-01],\n",
              "       [9.9997956e-01],\n",
              "       [9.9527603e-01],\n",
              "       [9.9801689e-01],\n",
              "       [9.9999076e-01],\n",
              "       [1.1683232e-02],\n",
              "       [3.9248212e-04],\n",
              "       [9.3106121e-01],\n",
              "       [9.9999374e-01],\n",
              "       [9.9998635e-01],\n",
              "       [9.9999571e-01],\n",
              "       [4.4969298e-04],\n",
              "       [9.9995410e-01],\n",
              "       [5.1998502e-01],\n",
              "       [9.9999237e-01],\n",
              "       [9.5742315e-01],\n",
              "       [9.9999362e-01],\n",
              "       [9.9999446e-01],\n",
              "       [2.6574821e-04],\n",
              "       [9.9023533e-01],\n",
              "       [9.9984264e-01],\n",
              "       [9.9999225e-01],\n",
              "       [1.2908269e-01],\n",
              "       [9.9981320e-01],\n",
              "       [9.9999386e-01],\n",
              "       [9.9988806e-01],\n",
              "       [8.8170964e-01],\n",
              "       [3.6215756e-04],\n",
              "       [9.9780518e-01],\n",
              "       [9.9992603e-01],\n",
              "       [5.7325099e-04],\n",
              "       [2.7133070e-04],\n",
              "       [9.9999213e-01],\n",
              "       [4.5457715e-04],\n",
              "       [4.8909816e-03],\n",
              "       [2.4092649e-03],\n",
              "       [7.1560370e-04],\n",
              "       [9.9999499e-01],\n",
              "       [2.7106069e-03],\n",
              "       [9.9998349e-01],\n",
              "       [9.9999571e-01],\n",
              "       [3.5898192e-04],\n",
              "       [9.9828094e-01],\n",
              "       [9.6203732e-01],\n",
              "       [3.6988378e-04],\n",
              "       [9.9999386e-01],\n",
              "       [9.6332175e-01],\n",
              "       [5.2518997e-04],\n",
              "       [9.4338192e-04],\n",
              "       [5.9439445e-01],\n",
              "       [9.9999499e-01],\n",
              "       [9.5272887e-01],\n",
              "       [9.9997526e-01],\n",
              "       [9.9999094e-01],\n",
              "       [1.1321694e-02],\n",
              "       [1.4438761e-03],\n",
              "       [1.7763419e-01],\n",
              "       [9.9615586e-01],\n",
              "       [2.7133044e-04],\n",
              "       [2.8294047e-02],\n",
              "       [4.5855916e-03],\n",
              "       [7.0964824e-03],\n",
              "       [7.8489521e-04],\n",
              "       [6.8861365e-01],\n",
              "       [1.7052770e-01],\n",
              "       [5.1238365e-03],\n",
              "       [9.9844140e-01],\n",
              "       [2.5434187e-04],\n",
              "       [9.9987972e-01],\n",
              "       [5.2744750e-04],\n",
              "       [2.6574821e-04],\n",
              "       [9.9999505e-01],\n",
              "       [9.9999464e-01],\n",
              "       [9.6754078e-04],\n",
              "       [9.9999416e-01],\n",
              "       [8.5106672e-04],\n",
              "       [9.9796689e-01],\n",
              "       [9.9998897e-01],\n",
              "       [1.9710814e-03],\n",
              "       [1.1630744e-03],\n",
              "       [5.0394121e-03],\n",
              "       [9.5328617e-01],\n",
              "       [9.7090524e-01],\n",
              "       [9.9999183e-01],\n",
              "       [5.4185564e-04],\n",
              "       [1.0058259e-03],\n",
              "       [2.7133044e-04],\n",
              "       [1.6066682e-02],\n",
              "       [9.9991697e-01],\n",
              "       [7.2664954e-04],\n",
              "       [1.9628776e-03],\n",
              "       [1.4315532e-02],\n",
              "       [5.8355136e-03],\n",
              "       [3.7851646e-03],\n",
              "       [3.3347553e-04],\n",
              "       [9.7947788e-01],\n",
              "       [9.8231065e-01],\n",
              "       [9.9991697e-01],\n",
              "       [2.7133044e-04],\n",
              "       [9.9999386e-01],\n",
              "       [9.9997753e-01],\n",
              "       [9.5117307e-01],\n",
              "       [8.8255215e-01],\n",
              "       [9.9699950e-01],\n",
              "       [5.0379586e-01],\n",
              "       [9.3196994e-01],\n",
              "       [9.9999297e-01],\n",
              "       [9.9998462e-01],\n",
              "       [3.0080448e-03],\n",
              "       [9.9999386e-01],\n",
              "       [9.5728493e-01],\n",
              "       [9.9999297e-01],\n",
              "       [1.3838889e-03],\n",
              "       [4.6868608e-04],\n",
              "       [9.8764390e-01],\n",
              "       [3.4269391e-04],\n",
              "       [1.3620647e-03],\n",
              "       [1.8151748e-03],\n",
              "       [4.2405914e-04],\n",
              "       [9.4418275e-01],\n",
              "       [5.6115562e-01],\n",
              "       [9.9315667e-01],\n",
              "       [2.9696587e-01],\n",
              "       [9.9999237e-01],\n",
              "       [9.9999416e-01],\n",
              "       [9.9999189e-01],\n",
              "       [9.8273510e-01],\n",
              "       [9.9999446e-01],\n",
              "       [9.7146368e-01],\n",
              "       [2.1504967e-03],\n",
              "       [9.9998552e-01],\n",
              "       [9.9999338e-01],\n",
              "       [5.9168035e-01],\n",
              "       [3.1770822e-01],\n",
              "       [1.3212598e-02],\n",
              "       [3.1759538e-04],\n",
              "       [9.9990398e-01],\n",
              "       [9.9999338e-01],\n",
              "       [3.5387354e-03],\n",
              "       [3.6302765e-04],\n",
              "       [6.1140937e-04],\n",
              "       [9.9996197e-01],\n",
              "       [1.1166050e-03],\n",
              "       [3.1454142e-04],\n",
              "       [7.6186180e-04],\n",
              "       [4.3928940e-04],\n",
              "       [9.9998057e-01],\n",
              "       [9.9999136e-01],\n",
              "       [9.9999446e-01],\n",
              "       [2.0993745e-03],\n",
              "       [9.9999458e-01],\n",
              "       [8.6005119e-04],\n",
              "       [9.6103311e-01],\n",
              "       [1.0988116e-03],\n",
              "       [9.9919641e-01],\n",
              "       [9.9672973e-01],\n",
              "       [9.9999136e-01],\n",
              "       [7.2309315e-01],\n",
              "       [2.0381196e-03],\n",
              "       [9.9999446e-01],\n",
              "       [7.1543385e-04],\n",
              "       [3.8848180e-04],\n",
              "       [9.6594656e-01],\n",
              "       [9.9090022e-01],\n",
              "       [9.8290032e-01],\n",
              "       [9.8806524e-01],\n",
              "       [4.5343926e-03],\n",
              "       [5.1013415e-04],\n",
              "       [9.9973398e-01],\n",
              "       [9.9999398e-01],\n",
              "       [9.9823546e-01],\n",
              "       [8.2732862e-01],\n",
              "       [8.7202966e-01],\n",
              "       [9.9994338e-01],\n",
              "       [8.1678882e-02],\n",
              "       [8.7719941e-01],\n",
              "       [9.1246063e-01],\n",
              "       [9.2563206e-01],\n",
              "       [9.9979228e-01],\n",
              "       [9.6803200e-01],\n",
              "       [9.9762380e-01],\n",
              "       [2.7510623e-04],\n",
              "       [9.6430868e-01],\n",
              "       [9.9742734e-01],\n",
              "       [9.8763913e-01],\n",
              "       [9.8721516e-01],\n",
              "       [1.1315963e-03],\n",
              "       [8.7575775e-01],\n",
              "       [9.8662913e-01],\n",
              "       [9.9978340e-01],\n",
              "       [3.1140035e-01],\n",
              "       [9.9997842e-01],\n",
              "       [2.0013114e-03],\n",
              "       [9.9119663e-01],\n",
              "       [5.0517996e-03],\n",
              "       [9.9999446e-01],\n",
              "       [2.0917580e-02],\n",
              "       [9.9995762e-01],\n",
              "       [5.2922091e-04],\n",
              "       [9.9092162e-01],\n",
              "       [1.9010387e-03],\n",
              "       [5.1378455e-02],\n",
              "       [2.1751331e-04],\n",
              "       [9.9995553e-01],\n",
              "       [2.1555123e-01],\n",
              "       [2.7339568e-03],\n",
              "       [2.3928022e-03],\n",
              "       [1.0686828e-01],\n",
              "       [8.6429840e-01],\n",
              "       [9.9998897e-01],\n",
              "       [2.7133044e-04],\n",
              "       [2.4583451e-03],\n",
              "       [9.5617509e-01],\n",
              "       [9.9989772e-01],\n",
              "       [5.9356368e-03],\n",
              "       [9.9995553e-01],\n",
              "       [4.8409405e-04],\n",
              "       [9.6907878e-01],\n",
              "       [1.5350350e-03],\n",
              "       [3.1250948e-04],\n",
              "       [3.4095149e-04],\n",
              "       [5.1187083e-02],\n",
              "       [1.1321694e-02],\n",
              "       [9.4006083e-04],\n",
              "       [9.9866778e-01],\n",
              "       [9.9998039e-01],\n",
              "       [4.2259350e-04],\n",
              "       [9.9991822e-01],\n",
              "       [9.9928969e-01],\n",
              "       [6.8700540e-01],\n",
              "       [9.9999446e-01],\n",
              "       [9.9999368e-01],\n",
              "       [9.9999368e-01],\n",
              "       [9.2144173e-01],\n",
              "       [9.8673600e-01],\n",
              "       [1.7521364e-03],\n",
              "       [6.6278516e-03],\n",
              "       [1.0331201e-03],\n",
              "       [9.6749467e-01],\n",
              "       [7.0785079e-04],\n",
              "       [9.9980527e-01],\n",
              "       [9.9998587e-01],\n",
              "       [9.9999321e-01],\n",
              "       [9.9999517e-01],\n",
              "       [2.5140867e-04],\n",
              "       [9.9995404e-01],\n",
              "       [8.0143684e-01],\n",
              "       [9.2283076e-01],\n",
              "       [9.9999219e-01],\n",
              "       [9.9999338e-01],\n",
              "       [8.7991238e-01],\n",
              "       [9.9996227e-01],\n",
              "       [9.9999517e-01],\n",
              "       [9.9999344e-01],\n",
              "       [9.9937832e-01],\n",
              "       [9.9999183e-01],\n",
              "       [9.9999487e-01],\n",
              "       [7.1497925e-04],\n",
              "       [9.8092359e-01],\n",
              "       [5.7325453e-02],\n",
              "       [9.9054217e-01],\n",
              "       [9.9998057e-01],\n",
              "       [1.8006476e-03],\n",
              "       [8.7991238e-01],\n",
              "       [9.9987406e-01],\n",
              "       [4.0989849e-03],\n",
              "       [4.4436827e-02],\n",
              "       [3.5434801e-04],\n",
              "       [9.9999368e-01],\n",
              "       [1.2136276e-02],\n",
              "       [4.1533378e-04],\n",
              "       [1.6029477e-02],\n",
              "       [9.9998057e-01],\n",
              "       [2.1280433e-04],\n",
              "       [9.9999213e-01],\n",
              "       [1.5991529e-03],\n",
              "       [2.3686200e-02],\n",
              "       [9.9998915e-01],\n",
              "       [4.4197656e-04],\n",
              "       [4.2431341e-03],\n",
              "       [3.4911776e-04],\n",
              "       [1.3898724e-01],\n",
              "       [1.8713102e-03],\n",
              "       [8.7296534e-01],\n",
              "       [9.9999410e-01],\n",
              "       [4.2544596e-04],\n",
              "       [9.9998057e-01],\n",
              "       [2.8149861e-01],\n",
              "       [3.7288078e-04],\n",
              "       [3.6653556e-04],\n",
              "       [4.7002059e-01],\n",
              "       [9.9999297e-01],\n",
              "       [9.9999022e-01],\n",
              "       [5.1998502e-01],\n",
              "       [4.7683638e-01],\n",
              "       [9.9999571e-01],\n",
              "       [9.7275573e-01],\n",
              "       [9.9999291e-01],\n",
              "       [9.9999350e-01],\n",
              "       [9.9999279e-01],\n",
              "       [8.2361871e-01],\n",
              "       [9.9820584e-01],\n",
              "       [8.6366528e-01],\n",
              "       [7.8813150e-04],\n",
              "       [9.9999446e-01],\n",
              "       [2.0512899e-03],\n",
              "       [4.9587840e-01],\n",
              "       [9.8268878e-01],\n",
              "       [9.9999315e-01],\n",
              "       [9.9965870e-01],\n",
              "       [6.5303367e-04],\n",
              "       [9.9998987e-01],\n",
              "       [1.7062055e-02],\n",
              "       [5.4834086e-01],\n",
              "       [9.9995977e-01],\n",
              "       [7.8080195e-01],\n",
              "       [9.9448502e-01],\n",
              "       [9.9998897e-01],\n",
              "       [3.9350223e-03],\n",
              "       [9.9984342e-01],\n",
              "       [9.8468423e-01],\n",
              "       [9.9965233e-01],\n",
              "       [4.6734721e-04],\n",
              "       [9.5375556e-01],\n",
              "       [4.3735301e-04],\n",
              "       [4.5724513e-04],\n",
              "       [9.9999225e-01],\n",
              "       [9.9999386e-01],\n",
              "       [9.8102856e-01],\n",
              "       [9.9990064e-01],\n",
              "       [1.0736301e-03],\n",
              "       [5.2405396e-03],\n",
              "       [4.9215299e-04],\n",
              "       [9.9991018e-01],\n",
              "       [9.9995404e-01],\n",
              "       [5.8910722e-01],\n",
              "       [3.5511906e-04],\n",
              "       [3.6371408e-03]], dtype=float32)"
            ]
          },
          "metadata": {},
          "execution_count": 72
        }
      ]
    },
    {
      "cell_type": "code",
      "source": [
        "y_pred = [1 if x >=0.5 else 0 for x in y_pred]\n",
        "y_pred[5:20]"
      ],
      "metadata": {
        "colab": {
          "base_uri": "https://localhost:8080/"
        },
        "id": "NMZXYaFbW5N6",
        "outputId": "1a9afadb-a7ae-4efe-8c7c-bbcfb1163391"
      },
      "execution_count": null,
      "outputs": [
        {
          "output_type": "execute_result",
          "data": {
            "text/plain": [
              "[0, 0, 0, 1, 0, 0, 0, 1, 0, 0, 1, 0, 1, 1, 0]"
            ]
          },
          "metadata": {},
          "execution_count": 73
        }
      ]
    },
    {
      "cell_type": "code",
      "source": [
        "confusion_matrix(y_test,y_pred)"
      ],
      "metadata": {
        "colab": {
          "base_uri": "https://localhost:8080/"
        },
        "id": "tXnYZ_7gW81k",
        "outputId": "693923a8-b414-4a04-9ca1-f84f74417b03"
      },
      "execution_count": null,
      "outputs": [
        {
          "output_type": "execute_result",
          "data": {
            "text/plain": [
              "array([[158,  70],\n",
              "       [ 30, 175]])"
            ]
          },
          "metadata": {},
          "execution_count": 74
        }
      ]
    },
    {
      "cell_type": "code",
      "source": [
        "accuracy_score(y_test,y_pred)\n",
        "print(\"Accuracy  {:.3} %\".format(accuracy_score(y_test, y_pred)*100))"
      ],
      "metadata": {
        "colab": {
          "base_uri": "https://localhost:8080/"
        },
        "id": "ifogN4pWW-sL",
        "outputId": "4b017c06-9d04-49cb-bfa9-4b875f0e16ee"
      },
      "execution_count": null,
      "outputs": [
        {
          "output_type": "stream",
          "name": "stdout",
          "text": [
            "Accuracy  76.9 %\n"
          ]
        }
      ]
    },
    {
      "cell_type": "code",
      "source": [
        "print(classification_report(y_test,y_pred))"
      ],
      "metadata": {
        "colab": {
          "base_uri": "https://localhost:8080/"
        },
        "id": "FXmU7Fp2XBC4",
        "outputId": "f850d221-b754-4ebd-c5ae-573eac041207"
      },
      "execution_count": null,
      "outputs": [
        {
          "output_type": "stream",
          "name": "stdout",
          "text": [
            "              precision    recall  f1-score   support\n",
            "\n",
            "           0       0.84      0.69      0.76       228\n",
            "           1       0.71      0.85      0.78       205\n",
            "\n",
            "    accuracy                           0.77       433\n",
            "   macro avg       0.78      0.77      0.77       433\n",
            "weighted avg       0.78      0.77      0.77       433\n",
            "\n"
          ]
        }
      ]
    },
    {
      "cell_type": "code",
      "source": [
        "#Accuracy score for Naive Bayes features\n",
        "\n",
        "nb_tfidf_score=accuracy_score(test_y, nb_tfidf_predict)\n",
        "print(\"Naive Bayes Accuracy  {:.3} %\".format(accuracy_score(test_y, nb_tfidf_predict)*100))"
      ],
      "metadata": {
        "colab": {
          "base_uri": "https://localhost:8080/"
        },
        "id": "51K90yT_XC3n",
        "outputId": "9af286ba-a9e2-428f-c175-0caf1a8b02c6"
      },
      "execution_count": null,
      "outputs": [
        {
          "output_type": "stream",
          "name": "stdout",
          "text": [
            "Naive Bayes Accuracy  50.1 %\n"
          ]
        }
      ]
    },
    {
      "cell_type": "code",
      "source": [
        "print(\"Support Vector Machine Accuracy  {:.4} %\".format(accuracy_score(predicted, test_y)*100))"
      ],
      "metadata": {
        "colab": {
          "base_uri": "https://localhost:8080/"
        },
        "id": "kVQGpgf_XFr9",
        "outputId": "5850e96a-5f52-4b0e-cb8d-49d2387bf3cd"
      },
      "execution_count": null,
      "outputs": [
        {
          "output_type": "stream",
          "name": "stdout",
          "text": [
            "Support Vector Machine Accuracy  51.01 %\n"
          ]
        }
      ]
    },
    {
      "cell_type": "code",
      "source": [
        "print(\"BiLSTM Accuracy  {:.3} %\".format(accuracy_score(y_test, y_pred)*100))\n",
        "print(classification_report(y_test,y_pred))"
      ],
      "metadata": {
        "colab": {
          "base_uri": "https://localhost:8080/"
        },
        "id": "DbI3J9TFXH1G",
        "outputId": "b13a2035-b18e-49ba-ff6b-c56cd8db4722"
      },
      "execution_count": null,
      "outputs": [
        {
          "output_type": "stream",
          "name": "stdout",
          "text": [
            "BiLSTM Accuracy  76.9 %\n",
            "              precision    recall  f1-score   support\n",
            "\n",
            "           0       0.84      0.69      0.76       228\n",
            "           1       0.71      0.85      0.78       205\n",
            "\n",
            "    accuracy                           0.77       433\n",
            "   macro avg       0.78      0.77      0.77       433\n",
            "weighted avg       0.78      0.77      0.77       433\n",
            "\n"
          ]
        }
      ]
    },
    {
      "cell_type": "markdown",
      "source": [
        "## Conclusion\n",
        "\n",
        "After using Under Sampling to balance Data (Balanced dataset) accuracy is dropout. That's mean need To generate more Data for client.\n",
        "\n",
        "Data is not sufficient the accuracy is getting Down.\n",
        "\n",
        "BiLSTM Accuracy  76.9 %\n",
        "              precision    recall  f1-score   support\n",
        "\n",
        "           0       0.84      0.69      0.76       228\n",
        "           1       0.71      0.85      0.78       205\n",
        "\n",
        "    accuracy                           0.77       433\n",
        "   macro avg       0.78      0.77      0.77       433\n",
        "weighted avg       0.78      0.77      0.77       433\n",
        "\n"
      ],
      "metadata": {
        "id": "YgyjLE6ktwGK"
      }
    },
    {
      "cell_type": "code",
      "source": [],
      "metadata": {
        "id": "BZnUt5Viuqf2"
      },
      "execution_count": null,
      "outputs": []
    }
  ]
}